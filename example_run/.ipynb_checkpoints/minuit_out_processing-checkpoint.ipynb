{
 "cells": [
  {
   "cell_type": "code",
   "execution_count": 21,
   "id": "4b656d4f-7b06-4f20-947d-3a56655cae6c",
   "metadata": {},
   "outputs": [
    {
     "name": "stdout",
     "output_type": "stream",
     "text": [
      "the number of lines is 242\n",
      "Prameters block: ['    NO.   NAME         VALUE      STEP SIZE      LIMITS\\n', \"     2 'Bg        '  -0.61953E-01  0.27133E-01     no limits\\n\", \"     3 'Cg        '    5.5624      0.31846         no limits\\n\", \"     7 'Aprig     '   0.16612      0.28009E-01     no limits\\n\", \"     8 'Bprig     '  -0.38310      0.97840E-02     no limits\\n\", \"     9 'Cprig     '    25.000      constant\\n\", \"    12 'Buv       '   0.81048      0.16017E-01     no limits\\n\", \"    13 'Cuv       '    4.8235      0.63844E-01     no limits\\n\", \"    15 'Euv       '    9.9214      0.83589         no limits\\n\", \"    22 'Bdv       '    1.0300      0.61123E-01     no limits\\n\", \"    23 'Cdv       '    4.8463      0.29544         no limits\\n\", \"    33 'CUbar     '    7.0597      0.80914         no limits\\n\", \"    34 'DUbar     '    1.5481       1.0965         no limits\\n\", \"    41 'ADbar     '   0.26880      0.80200E-02     no limits\\n\", \"    42 'BDbar     '  -0.12730      0.36280E-02     no limits\\n\", \"    43 'CDbar     '    9.5862       1.4489         no limits\\n\"]\n",
      "\n",
      " \n",
      "\n",
      "[\"['\", 'NO.', 'NAME', 'VALUE', 'STEP', 'SIZE', \"LIMITS\\\\n',\", '\"', '2', \"'Bg\", \"'\", '-0.61953E-01', '0.27133E-01', 'no', 'limits\\\\n\",', '\"', '3', \"'Cg\", \"'\", '5.5624', '0.31846', 'no', 'limits\\\\n\",', '\"', '7', \"'Aprig\", \"'\", '0.16612', '0.28009E-01', 'no', 'limits\\\\n\",', '\"', '8', \"'Bprig\", \"'\", '-0.38310', '0.97840E-02', 'no', 'limits\\\\n\",', '\"', '9', \"'Cprig\", \"'\", '25.000', 'constant\\\\n\",', '\"', '12', \"'Buv\", \"'\", '0.81048', '0.16017E-01', 'no', 'limits\\\\n\",', '\"', '13', \"'Cuv\", \"'\", '4.8235', '0.63844E-01', 'no', 'limits\\\\n\",', '\"', '15', \"'Euv\", \"'\", '9.9214', '0.83589', 'no', 'limits\\\\n\",', '\"', '22', \"'Bdv\", \"'\", '1.0300', '0.61123E-01', 'no', 'limits\\\\n\",', '\"', '23', \"'Cdv\", \"'\", '4.8463', '0.29544', 'no', 'limits\\\\n\",', '\"', '33', \"'CUbar\", \"'\", '7.0597', '0.80914', 'no', 'limits\\\\n\",', '\"', '34', \"'DUbar\", \"'\", '1.5481', '1.0965', 'no', 'limits\\\\n\",', '\"', '41', \"'ADbar\", \"'\", '0.26880', '0.80200E-02', 'no', 'limits\\\\n\",', '\"', '42', \"'BDbar\", \"'\", '-0.12730', '0.36280E-02', 'no', 'limits\\\\n\",', '\"', '43', \"'CDbar\", \"'\", '9.5862', '1.4489', 'no', 'limits\\\\n\"]']\n"
     ]
    }
   ],
   "source": [
    "file_lines = []\n",
    "for line in open('minuit.out.txt', 'r'):\n",
    "    file_lines.append(line)\n",
    "print('the number of lines is', len(file_lines) )\n",
    "n=25\n",
    "print('Prameters block:', file_lines[9:n])\n",
    "parameter_lines = str(file_lines[9:n])\n",
    "print('\\n \\n')\n",
    "print(parameter_lines.split())"
   ]
  },
  {
   "cell_type": "code",
   "execution_count": 9,
   "id": "81040e88-ec2d-4331-bed6-0dd632ce0e56",
   "metadata": {},
   "outputs": [
    {
     "ename": "AttributeError",
     "evalue": "'list' object has no attribute 'strip'",
     "output_type": "error",
     "traceback": [
      "\u001b[0;31m---------------------------------------------------------------------------\u001b[0m",
      "\u001b[0;31mAttributeError\u001b[0m                            Traceback (most recent call last)",
      "\u001b[0;32m<ipython-input-9-833ee5faa9e9>\u001b[0m in \u001b[0;36m<module>\u001b[0;34m\u001b[0m\n\u001b[1;32m      7\u001b[0m     \u001b[0mfile\u001b[0m\u001b[0;34m.\u001b[0m\u001b[0mclose\u001b[0m\u001b[0;34m(\u001b[0m\u001b[0;34m)\u001b[0m\u001b[0;34m\u001b[0m\u001b[0;34m\u001b[0m\u001b[0m\n\u001b[1;32m      8\u001b[0m     \u001b[0mprint\u001b[0m\u001b[0;34m(\u001b[0m\u001b[0mdata_dict\u001b[0m\u001b[0;34m)\u001b[0m\u001b[0;34m\u001b[0m\u001b[0;34m\u001b[0m\u001b[0m\n\u001b[0;32m----> 9\u001b[0;31m \u001b[0mmain\u001b[0m\u001b[0;34m(\u001b[0m\u001b[0;34m)\u001b[0m\u001b[0;34m\u001b[0m\u001b[0;34m\u001b[0m\u001b[0m\n\u001b[0m",
      "\u001b[0;32m<ipython-input-9-833ee5faa9e9>\u001b[0m in \u001b[0;36mmain\u001b[0;34m()\u001b[0m\n\u001b[1;32m      2\u001b[0m     \u001b[0mfile\u001b[0m \u001b[0;34m=\u001b[0m\u001b[0mopen\u001b[0m\u001b[0;34m(\u001b[0m\u001b[0;34m'minuit.out.txt'\u001b[0m\u001b[0;34m,\u001b[0m \u001b[0;34m'r'\u001b[0m\u001b[0;34m)\u001b[0m\u001b[0;34m\u001b[0m\u001b[0;34m\u001b[0m\u001b[0m\n\u001b[1;32m      3\u001b[0m     \u001b[0mlines\u001b[0m \u001b[0;34m=\u001b[0m \u001b[0mfile\u001b[0m\u001b[0;34m.\u001b[0m\u001b[0mreadlines\u001b[0m\u001b[0;34m(\u001b[0m\u001b[0;34m)\u001b[0m\u001b[0;34m\u001b[0m\u001b[0;34m\u001b[0m\u001b[0m\n\u001b[0;32m----> 4\u001b[0;31m     \u001b[0mstr_lines\u001b[0m \u001b[0;34m=\u001b[0m \u001b[0mlines\u001b[0m\u001b[0;34m.\u001b[0m\u001b[0mstrip\u001b[0m\u001b[0;34m(\u001b[0m\u001b[0;34m)\u001b[0m\u001b[0;34m.\u001b[0m\u001b[0msplit\u001b[0m\u001b[0;34m(\u001b[0m\u001b[0;34m)\u001b[0m\u001b[0;34m\u001b[0m\u001b[0;34m\u001b[0m\u001b[0m\n\u001b[0m\u001b[1;32m      5\u001b[0m     \u001b[0mheader\u001b[0m\u001b[0;34m,\u001b[0m \u001b[0mvalues\u001b[0m \u001b[0;34m=\u001b[0m \u001b[0mlines\u001b[0m\u001b[0;34m[\u001b[0m\u001b[0;36m104\u001b[0m\u001b[0;34m]\u001b[0m\u001b[0;34m,\u001b[0m \u001b[0mlines\u001b[0m\u001b[0;34m[\u001b[0m\u001b[0;36m106\u001b[0m\u001b[0;34m:\u001b[0m\u001b[0;36m124\u001b[0m\u001b[0;34m]\u001b[0m\u001b[0;34m\u001b[0m\u001b[0;34m\u001b[0m\u001b[0m\n\u001b[1;32m      6\u001b[0m     \u001b[0mdata_dict\u001b[0m \u001b[0;34m=\u001b[0m \u001b[0;34m{\u001b[0m\u001b[0mh\u001b[0m\u001b[0;34m:\u001b[0m \u001b[0mv\u001b[0m \u001b[0;32mfor\u001b[0m \u001b[0mh\u001b[0m\u001b[0;34m,\u001b[0m \u001b[0mv\u001b[0m \u001b[0;32min\u001b[0m \u001b[0mzip\u001b[0m\u001b[0;34m(\u001b[0m\u001b[0mheader\u001b[0m\u001b[0;34m,\u001b[0m \u001b[0mzip\u001b[0m\u001b[0;34m(\u001b[0m\u001b[0;34m*\u001b[0m\u001b[0mvalues\u001b[0m\u001b[0;34m)\u001b[0m\u001b[0;34m)\u001b[0m\u001b[0;34m}\u001b[0m\u001b[0;34m\u001b[0m\u001b[0;34m\u001b[0m\u001b[0m\n",
      "\u001b[0;31mAttributeError\u001b[0m: 'list' object has no attribute 'strip'"
     ]
    }
   ],
   "source": [
    "def main():\n",
    "    file =open('minuit.out.txt', 'r')\n",
    "    lines = file.readlines()\n",
    "    str_lines = lines.strip().split()\n",
    "    header, values = lines[104], lines[106:124]\n",
    "    data_dict = {h: v for h, v in zip(header, zip(*values))}\n",
    "    file.close()\n",
    "    print(data_dict)\n",
    "main()\n"
   ]
  },
  {
   "cell_type": "code",
   "execution_count": 3,
   "id": "5a69b174-aa3b-4cda-91d2-e1279b890d1b",
   "metadata": {},
   "outputs": [
    {
     "name": "stdout",
     "output_type": "stream",
     "text": [
      "  EXT PARAMETER                APPROXIMATE        STEP         FIRST   \n",
      "\n"
     ]
    },
    {
     "ename": "IndexError",
     "evalue": "list index out of range",
     "output_type": "error",
     "traceback": [
      "\u001b[0;31m---------------------------------------------------------------------------\u001b[0m",
      "\u001b[0;31mIndexError\u001b[0m                                Traceback (most recent call last)",
      "\u001b[0;32m<ipython-input-3-3ec663e40b51>\u001b[0m in \u001b[0;36m<module>\u001b[0;34m\u001b[0m\n\u001b[1;32m     13\u001b[0m     \u001b[0;31m#print(words[0])\u001b[0m\u001b[0;34m\u001b[0m\u001b[0;34m\u001b[0m\u001b[0;34m\u001b[0m\u001b[0m\n\u001b[1;32m     14\u001b[0m     \u001b[0;31m#print(words[2].split())\u001b[0m\u001b[0;34m\u001b[0m\u001b[0;34m\u001b[0m\u001b[0;34m\u001b[0m\u001b[0m\n\u001b[0;32m---> 15\u001b[0;31m     \u001b[0mvalues\u001b[0m\u001b[0;34m=\u001b[0m \u001b[0mwords\u001b[0m\u001b[0;34m[\u001b[0m\u001b[0;36m2\u001b[0m\u001b[0;34m]\u001b[0m\u001b[0;34m.\u001b[0m\u001b[0msplit\u001b[0m\u001b[0;34m(\u001b[0m\u001b[0;34m)\u001b[0m\u001b[0;34m\u001b[0m\u001b[0;34m\u001b[0m\u001b[0m\n\u001b[0m\u001b[1;32m     16\u001b[0m     \u001b[0mprint\u001b[0m\u001b[0;34m(\u001b[0m\u001b[0mvalues\u001b[0m\u001b[0;34m)\u001b[0m\u001b[0;34m\u001b[0m\u001b[0;34m\u001b[0m\u001b[0m\n\u001b[1;32m     17\u001b[0m     \u001b[0;31m#for ind, word in enumerate(split_line):\u001b[0m\u001b[0;34m\u001b[0m\u001b[0;34m\u001b[0m\u001b[0;34m\u001b[0m\u001b[0m\n",
      "\u001b[0;31mIndexError\u001b[0m: list index out of range"
     ]
    }
   ],
   "source": [
    "import os\n",
    "import re\n",
    "filename = 'minuit.out.txt'\n",
    "infile = open(filename, 'r')\n",
    "lines = infile.readlines()\n",
    "print(lines[104])\n",
    "for line in lines[106:124]:\n",
    "    #print(line)\n",
    "    #words = line.strip().split('      ')#the delimeter is 6 spaces to separate the columns\n",
    "    words = re.split(r\"(?: '\\s+)\\s*\", line.strip())\n",
    "    #use re noncapture group, defined as (?:...)since we dont want the separators in our \n",
    "    #result.\n",
    "    #print(words[0])\n",
    "    #print(words[2].split())\n",
    "    values= words[2].split()\n",
    "    print(values)\n",
    "    #for ind, word in enumerate(split_line):\n",
    "    #print(split_line)\n",
    "        #print(word)\n",
    "#     with open('minuit.oin.txt', 'r') as second:\n",
    "#         split_line\n",
    "#         second.write()\n",
    "    \n",
    "    \n",
    "infile.close()\n",
    "#line.split(0)\n"
   ]
  },
  {
   "cell_type": "markdown",
   "id": "79ca0dc5-3697-40c0-9eab-5c64e361a0e8",
   "metadata": {},
   "source": [
    "Explanation of the minuit.in.txt format:\n",
    "\n",
    "set title new 13p HERAPDF parameters 1 'Ag' 0.0000 0. 2 'Bg' -0.226958 1.126400e-03 .....\n",
    "\n",
    "The first 3 lines set title and announces MINUIT the list of parameters\n",
    "The index of parameters is the first column and it is hardwired to the source code.\n",
    "1 -10 gluon parameters\n",
    "11-20 uval parameters 21-30 dval parameters 31-40 Ubar parameters 41-50 Dbar parameters 51-60 U parameters 61-70 D parameters 71-80 Sea parameters 81-90 Delta parameters 91-100 other parameters: alphas (95), fs=Dbar/str (96), fc=Ubar/ch (97)\n",
    "\n",
    "second column represents just user defined names\n",
    "third column: input value for the parameter\n",
    "forth column: step size (usually chosen of the same order as of the error) IMPORTANT: -> if step size value is 0. then this parameter is FIXED\n",
    "fifth colum: lower boundary of the fit parameter\n",
    "sixth column: upper boundary of the fit parameter -> if boundaries are not mentioned then there are no boundaries!"
   ]
  },
  {
   "cell_type": "markdown",
   "id": "d9b0e052-de5a-4fe0-8e1c-d6fc22fcf465",
   "metadata": {},
   "source": [
    "## Workflow\n",
    "\n",
    "go to example_run directory. mkdir run. cp example_run/* run. cd run. xfitter. cd output. python generate_datasets.py.\n",
    "\n",
    "See how \n",
    "#! /bin/bash\n",
    "\n",
    "for ((i=0; i=100; i++))\n",
    "    do cp example_run/input/steerings.txt dataset_{}.format(i)\n",
    "    do cp example_run/input/ewparaparams.txt\n",
    "    cp example_run/input/minuit.in_{}.txt.format(i) dataset_{}/minuit.txt.format(i)\n",
    "    cd dataset_{i}\n",
    "    mkdir run\n",
    "    cp input/* run\n",
    "    cd run\n",
    "    xfitter\n",
    "    "
   ]
  },
  {
   "cell_type": "code",
   "execution_count": 72,
   "id": "f78d3188-7d5c-4760-88db-b1acdab77098",
   "metadata": {},
   "outputs": [
    {
     "name": "stdout",
     "output_type": "stream",
     "text": [
      "[-0.061856  5.5593    0.16618  -0.383    25.        0.81056   4.8239\n",
      "  9.9226    1.0301    4.8456    7.0603    1.5439    0.26877  -0.12732\n",
      "  9.581   ] [-0.0842340613728739, 5.529697673752157, 0.13842461004582488, -0.37579955532228787, 25.0, 0.8058599022674593, 4.81898755831388, 9.709957094897144, 1.0119363155119232, 4.937203165029702, 7.077450095037866, 1.855451516214415, 0.2725911372882104, -0.1265561800140813, 9.835162114772] \n",
      "\n",
      " 15 15\n"
     ]
    }
   ],
   "source": [
    "import os\n",
    "import re; import pandas as pd\n",
    "params=[]\n",
    "generated_params = []\n",
    "error_list=[]\n",
    "filename = 'minuit.out.txt'\n",
    "infile = open(filename, 'r')\n",
    "lines = infile.readlines()\n",
    "#print(lines[104])\n",
    "# for line in lines[106:109, 111:120]:\n",
    "from itertools import *\n",
    "#make a chain iterator of our wanted lines from the output file, we want to exclude\n",
    "#those lines that have \"constant\" for the error, since these are not the PDF parameters and we can't use them\n",
    "chain = chain(islice(lines, 106, 111), islice(lines, 111, 121))\n",
    "#for line in lines[106:121]:\n",
    "for line in chain:\n",
    "    #print(line)\n",
    "    #words = line.strip().split('\\s+')#the delimeter is 6 spaces to separate the columns\n",
    "    words = line.strip().split()\n",
    "    \n",
    "    #words = re.split(r\"(?: '\\s*)\\s*\", line.strip())\n",
    "    #df = pd.read_table(words)\n",
    "    #use re noncapture group, defined as (?:...)since we dont want the separators in our \n",
    "    #result.\n",
    "    #print(words[2])\n",
    "    values= words[2]\n",
    "    errors=words[3]\n",
    "    #print(errors)\n",
    "    for value in values.split():\n",
    "#         #print(i)\n",
    "         params.append(float(value))\n",
    "    for error in errors.split():\n",
    "        if error =='constant':\n",
    "            error_list.append(0.0)\n",
    "        else:\n",
    "            error_list.append(float(error))\n",
    "    \n",
    "#         sampled_param = np.random.uniform(low = j-error, high=j+error)\n",
    "# means=np.array(means).astype(float)\n",
    "        \n",
    "#print(means)\n",
    "    #print(values)\n",
    "    #print(words[2].split())\n",
    "    #values= words[2].split()[0]\n",
    "    #print(values)4\n",
    "    #for ind, word in enumerate(split_line):\n",
    "    #print(split_line)\n",
    "        #print(word)\n",
    "#     with open('minuit.oin.txt', 'r') as second:\n",
    "#         split_line\n",
    "#         second.write()\n",
    "    \n",
    "    \n",
    "infile.close()\n",
    "params = np.asarray(params); error_list =np.asarray(error_list)\n",
    "\n",
    "#############GENERATE PARAMETERS\n",
    "generated_params=[]\n",
    "for i in range(len(params)):\n",
    "    param, error = params[i], error_list[i]\n",
    "    generated_param = np.random.uniform(low = param-error, high=param+error)\n",
    "    generated_params.append(generated_param)\n",
    "\n",
    "\n",
    "\n",
    "    \n",
    "    \n",
    "    \n",
    "print( params, generated_params, '\\n\\n', len(params), len(generated_params))"
   ]
  },
  {
   "cell_type": "markdown",
   "id": "6083eac4-793e-422b-a20f-8a1989759046",
   "metadata": {},
   "source": [
    "Now that we have the fit parameters extracted from minuit.out.txt, and we have generated new parameters given the uncertainties in these new parameters, we write those new generated parameters to new minuit.in.txt files, to do new fits with those new generated parameters. Below we write new minuit.in.txt files given those new generated parameter values"
   ]
  },
  {
   "cell_type": "code",
   "execution_count": 71,
   "id": "18e2c361-8e05-4e8f-bf3c-09f991a21446",
   "metadata": {},
   "outputs": [],
   "source": [
    "############WRITE GENERATED PARAMETERS INTO NEW MINUIT.IN FILE\n",
    "with open('minuit_ex.in.txt', 'w') as second:\n",
    "    second.write('set title\\n')\n",
    "    second.write('new  14p HERAPDF\\n')\n",
    "    second.write('parameters\\n')\n",
    "    #lets put 0 for the fourth column, meaning that this parameter is fixed\n",
    "    second.write('    '+ '2'+ '    ' + \"'Bg'\"+'    '+str(generated_params[0])+ '    '+'0.\\n')\n",
    "    second.write('    '+ '3'+ '    ' + \"'Cg'\"+'    '+str(generated_params[1])+ '    '+'0.\\n')\n",
    "    second.write('    '+ '7'+ '    ' + \"'Aprig'\"+'    '+str(generated_params[2])+ '    '+'0.\\n')\n",
    "    second.write('    '+ '8'+ '    ' + \"'Bprig'\"+'    '+str(generated_params[3])+ '    '+'0.\\n')\n",
    "    second.write('    '+ '9'+ '    ' + \"'Cprig'\"+'    '+str(generated_params[4])+ '    '+'0.\\n')\n",
    "    second.write('    '+ '12'+ '    ' + \"'Buv'\"+'    '+str(generated_params[5])+ '    '+'0.\\n')\n",
    "    second.write('    '+ '13'+ '    ' + \"'Cuv'\"+'    '+str(generated_params[6])+ '    '+'0.\\n')\n",
    "    second.write('    '+ '15'+ '    ' + \"'Euv'\"+'    '+str(generated_params[7])+ '    '+'0.\\n')\n",
    "    second.write('    '+ '22'+ '    ' + \"'Bdv'\"+'    '+str(generated_params[8])+ '    '+'0.\\n')\n",
    "    second.write('    '+ '23'+ '    ' + \"'Cdv'\"+'    '+str(generated_params[9])+ '    '+'0.\\n')\n",
    "    second.write('    '+ '33'+ '    ' + \"'CUbar'\"+'    '+str(generated_params[10])+ '    '+'0.\\n')\n",
    "    second.write('    '+ '34'+ '    ' + \"'DUbar'\"+'    '+str(generated_params[11])+ '    '+'0.\\n')\n",
    "    second.write('    '+ '41'+ '    ' + \"'ADbar'\"+'    '+str(generated_params[12])+ '    '+'0.\\n')\n",
    "    second.write('    '+ '42'+ '    ' + \"'BDbar'\"+'    '+str(generated_params[13])+ '    '+'0.\\n')\n",
    "    second.write('    '+ '43'+ '    ' + \"'CDbar'\"+'    '+str(generated_params[14])+ '    '+'0.\\n')\n",
    "    second.write('\\n\\n\\n')\n",
    "    second.write('migrad 200000\\n')\n",
    "    second.write('hesse\\n')\n",
    "    second.write('hesse\\n')\n",
    "    second.write('set print 3\\n\\n')\n",
    "    second.write('return')\n",
    "#we dont have to close it since we are using a context manager \"with open()\""
   ]
  },
  {
   "cell_type": "markdown",
   "id": "b792d031-d5a0-49f4-94cb-df77805d23f3",
   "metadata": {},
   "source": [
    "### To do: \n",
    "Automate everything with class and formatting. We can also do it with formatting options of course, using .format(...).\n",
    "This is just a proof of concept experiment\n",
    "\n",
    "\n",
    "\n",
    "### Using numpy"
   ]
  },
  {
   "cell_type": "code",
   "execution_count": 1,
   "id": "5a076ab1-3317-45ad-9211-589c8f25de1a",
   "metadata": {},
   "outputs": [],
   "source": [
    "import itertools as IT\n",
    "with open(filename, 'r') as f:\n",
    "    lines = IT.chain(IT.islice(f, 0, 4), IT.islice(f, 5, 14) )\n",
    "arr = np.genfromtxt(lines)"
   ]
  },
  {
   "cell_type": "code",
   "execution_count": 25,
   "id": "e278bb31-8308-43b4-91db-df17e350e14c",
   "metadata": {},
   "outputs": [
    {
     "data": {
      "text/plain": [
       "array([-0.061856,  5.5593  ,  0.16618 , -0.383   ], dtype=float32)"
      ]
     },
     "execution_count": 25,
     "metadata": {},
     "output_type": "execute_result"
    }
   ],
   "source": [
    "import numpy as np\n",
    "#make a list of dtypes for each of the columns that we want\n",
    "\n",
    "dtype1 = np.dtype([('NO.', 'int'), ('NAME', 'str'), ('VALUE', 'float32'), ('ERROR', 'float32')])\n",
    "a = np.loadtxt(filename, dtype=dtype1, skiprows=106,  max_rows=4, usecols=(0, 1, 2, 3))\n",
    "#np.loadtxt(filename, dtype)\n",
    "a['VALUE']"
   ]
  },
  {
   "cell_type": "code",
   "execution_count": 6,
   "id": "7dabe08b-badd-44ef-9506-bd86db4cbbf3",
   "metadata": {},
   "outputs": [
    {
     "data": {
      "text/plain": [
       "['43', 'CDbar', '9.5810', '0.60834', '0.53648E-02', '0.24546E-02']"
      ]
     },
     "execution_count": 6,
     "metadata": {},
     "output_type": "execute_result"
    }
   ],
   "source": [
    "words"
   ]
  },
  {
   "cell_type": "markdown",
   "id": "344784d1-34b8-4fee-9a03-b9d545dc6834",
   "metadata": {},
   "source": [
    "### Using Pandas"
   ]
  },
  {
   "cell_type": "code",
   "execution_count": 27,
   "id": "8d8182f0-3153-4de0-87d7-734efd60a7d8",
   "metadata": {},
   "outputs": [
    {
     "data": {
      "text/html": [
       "<div>\n",
       "<style scoped>\n",
       "    .dataframe tbody tr th:only-of-type {\n",
       "        vertical-align: middle;\n",
       "    }\n",
       "\n",
       "    .dataframe tbody tr th {\n",
       "        vertical-align: top;\n",
       "    }\n",
       "\n",
       "    .dataframe thead th {\n",
       "        text-align: right;\n",
       "    }\n",
       "</style>\n",
       "<table border=\"1\" class=\"dataframe\">\n",
       "  <thead>\n",
       "    <tr style=\"text-align: right;\">\n",
       "      <th></th>\n",
       "      <th>0</th>\n",
       "    </tr>\n",
       "  </thead>\n",
       "  <tbody>\n",
       "    <tr>\n",
       "      <th>95</th>\n",
       "      <td>2    Bg        -0.61856E-01   0.25134E-01  ...</td>\n",
       "    </tr>\n",
       "    <tr>\n",
       "      <th>96</th>\n",
       "      <td>3    Cg          5.5593       0.10838      ...</td>\n",
       "    </tr>\n",
       "    <tr>\n",
       "      <th>97</th>\n",
       "      <td>7    Aprig      0.16618       0.34574E-01  ...</td>\n",
       "    </tr>\n",
       "    <tr>\n",
       "      <th>98</th>\n",
       "      <td>8    Bprig     -0.38300       0.76253E-02  ...</td>\n",
       "    </tr>\n",
       "    <tr>\n",
       "      <th>99</th>\n",
       "      <td>9    Cprig       25.000       constant</td>\n",
       "    </tr>\n",
       "    <tr>\n",
       "      <th>100</th>\n",
       "      <td>12    Buv        0.81056       0.53604E-02  ...</td>\n",
       "    </tr>\n",
       "    <tr>\n",
       "      <th>101</th>\n",
       "      <td>13    Cuv         4.8239       0.29342E-01  ...</td>\n",
       "    </tr>\n",
       "    <tr>\n",
       "      <th>102</th>\n",
       "      <td>15    Euv         9.9226       0.27481      ...</td>\n",
       "    </tr>\n",
       "    <tr>\n",
       "      <th>103</th>\n",
       "      <td>22    Bdv         1.0301       0.23240E-01  ...</td>\n",
       "    </tr>\n",
       "    <tr>\n",
       "      <th>104</th>\n",
       "      <td>23    Cdv         4.8456       0.12584      ...</td>\n",
       "    </tr>\n",
       "    <tr>\n",
       "      <th>105</th>\n",
       "      <td>33    CUbar       7.0603       0.22306      ...</td>\n",
       "    </tr>\n",
       "    <tr>\n",
       "      <th>106</th>\n",
       "      <td>34    DUbar       1.5439       0.31340      ...</td>\n",
       "    </tr>\n",
       "    <tr>\n",
       "      <th>107</th>\n",
       "      <td>41    ADbar      0.26877       0.39536E-02  ...</td>\n",
       "    </tr>\n",
       "    <tr>\n",
       "      <th>108</th>\n",
       "      <td>42    BDbar     -0.12732       0.17428E-02  ...</td>\n",
       "    </tr>\n",
       "    <tr>\n",
       "      <th>109</th>\n",
       "      <td>43    CDbar       9.5810       0.60834      ...</td>\n",
       "    </tr>\n",
       "    <tr>\n",
       "      <th>110</th>\n",
       "      <td>101    alphas     0.11800       constant</td>\n",
       "    </tr>\n",
       "    <tr>\n",
       "      <th>111</th>\n",
       "      <td>102    fs         0.40000       constant</td>\n",
       "    </tr>\n",
       "  </tbody>\n",
       "</table>\n",
       "</div>"
      ],
      "text/plain": [
       "                                                     0\n",
       "95      2    Bg        -0.61856E-01   0.25134E-01  ...\n",
       "96      3    Cg          5.5593       0.10838      ...\n",
       "97      7    Aprig      0.16618       0.34574E-01  ...\n",
       "98      8    Bprig     -0.38300       0.76253E-02  ...\n",
       "99           9    Cprig       25.000       constant   \n",
       "100    12    Buv        0.81056       0.53604E-02  ...\n",
       "101    13    Cuv         4.8239       0.29342E-01  ...\n",
       "102    15    Euv         9.9226       0.27481      ...\n",
       "103    22    Bdv         1.0301       0.23240E-01  ...\n",
       "104    23    Cdv         4.8456       0.12584      ...\n",
       "105    33    CUbar       7.0603       0.22306      ...\n",
       "106    34    DUbar       1.5439       0.31340      ...\n",
       "107    41    ADbar      0.26877       0.39536E-02  ...\n",
       "108    42    BDbar     -0.12732       0.17428E-02  ...\n",
       "109    43    CDbar       9.5810       0.60834      ...\n",
       "110        101    alphas     0.11800       constant   \n",
       "111        102    fs         0.40000       constant   "
      ]
     },
     "execution_count": 27,
     "metadata": {},
     "output_type": "execute_result"
    }
   ],
   "source": [
    "import pandas as pd\n",
    "df = pd.read_csv(filename, names=['NO','NAME','VALUE','ERROR'])[95:112]\n",
    "#pd.read_csv(filename)ERROR\n",
    "df.NO.apply(lambda x: pd.Series(str(x).split(\"\\s+\")))\n",
    "#df.columns=['NO','NAME','VALUE','ERROR']"
   ]
  },
  {
   "cell_type": "code",
   "execution_count": 138,
   "id": "d81dc064-4ef6-4d71-b1c5-d9a5edd58d2c",
   "metadata": {},
   "outputs": [
    {
     "name": "stderr",
     "output_type": "stream",
     "text": [
      "/home/ali/anaconda3/lib/python3.7/site-packages/ipykernel_launcher.py:2: DeprecationWarning: `np.float` is a deprecated alias for the builtin `float`. To silence this warning, use `float` by itself. Doing this will not modify any behavior and is safe. If you specifically wanted the numpy scalar type, use `np.float64` here.\n",
      "Deprecated in NumPy 1.20; for more details and guidance: https://numpy.org/devdocs/release/1.20.0-notes.html#deprecations\n",
      "  \n"
     ]
    },
    {
     "data": {
      "text/plain": [
       "array([-0.061856,  5.5593  ,  0.16618 , -0.383   , 25.      ,  0.81056 ,\n",
       "        4.8239  ,  9.9226  ,  1.0301  ,  4.8456  ,  7.0603  ,  1.5439  ,\n",
       "        0.26877 , -0.12732 ,  9.581   ,  0.118   ,  0.4     ,  0.      ])"
      ]
     },
     "execution_count": 138,
     "metadata": {},
     "output_type": "execute_result"
    }
   ],
   "source": [
    "len(np.array(means))\n",
    "means=np.array(means).astype(np.float)\n",
    "means"
   ]
  },
  {
   "cell_type": "code",
   "execution_count": 131,
   "id": "9370cd62-8772-49e4-bf6f-b32697dd6351",
   "metadata": {},
   "outputs": [
    {
     "data": {
      "text/plain": [
       "array(36.26220508)"
      ]
     },
     "execution_count": 131,
     "metadata": {},
     "output_type": "execute_result"
    }
   ],
   "source": [
    "\n",
    "def covariance_matrix(X):\n",
    "    m = len(X) \n",
    "    mean = np.mean(X)\n",
    "    cov_matrix = (X - mean).T.dot((X - mean)) / m-1\n",
    "    np.random.seed(2020)\n",
    "    return cov_matrix + 0.00001 \n",
    "cov_mat_sig = np.array(covariance_matrix(means))\n",
    "cov_mat_sig"
   ]
  },
  {
   "cell_type": "code",
   "execution_count": 50,
   "id": "ba15778f-4754-44f8-a770-d33c25eecbd7",
   "metadata": {},
   "outputs": [],
   "source": [
    "filename = 'minuit.out.txt'\n",
    "infile = open(filename, 'r')\n",
    "lines = infile.readlines()\n",
    "with open('minuit.in.txt', 'w') as second:\n",
    "    for line in lines[9:n]:\n",
    "        split_line = line.strip().split('      ')#the delimeter is 6 spaces to separate the columns\n",
    "        for i in split_line:\n",
    "            second.write(i)\n",
    "infile.close()\n",
    "second.close()"
   ]
  }
 ],
 "metadata": {
  "kernelspec": {
   "display_name": "Python 3",
   "language": "python",
   "name": "python3"
  },
  "language_info": {
   "codemirror_mode": {
    "name": "ipython",
    "version": 3
   },
   "file_extension": ".py",
   "mimetype": "text/x-python",
   "name": "python",
   "nbconvert_exporter": "python",
   "pygments_lexer": "ipython3",
   "version": "3.7.7"
  }
 },
 "nbformat": 4,
 "nbformat_minor": 5
}
