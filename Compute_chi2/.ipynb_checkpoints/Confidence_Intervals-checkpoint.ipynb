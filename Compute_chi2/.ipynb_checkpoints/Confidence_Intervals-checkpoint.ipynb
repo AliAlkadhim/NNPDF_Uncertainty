{
 "cells": [
  {
   "cell_type": "code",
   "execution_count": 9,
   "id": "99a13850-3704-4ecd-b758-8a75fe02174d",
   "metadata": {},
   "outputs": [],
   "source": [
    "import os\n",
    "import re\n",
    "import numpy as np\n",
    "import matplotlib.pyplot as plt"
   ]
  },
  {
   "cell_type": "code",
   "execution_count": 4,
   "id": "6ed1f233-d293-4d9a-acc4-8e66b0e31cd1",
   "metadata": {},
   "outputs": [
    {
     "data": {
      "text/plain": [
       "array([[ 6.32e-04,  8.72e-04, -8.44e-04, -1.22e-04,  9.37e-06,  4.60e-05,\n",
       "         1.65e-04,  5.10e-05,  2.46e-04,  9.35e-04, -1.91e-03, -7.74e-06,\n",
       "        -5.58e-06,  3.49e-03],\n",
       "       [ 8.72e-04,  1.17e-02, -8.93e-04, -1.50e-04,  2.23e-05, -8.29e-05,\n",
       "         2.98e-05,  8.55e-05, -5.93e-04, -2.14e-03,  4.29e-03,  1.39e-05,\n",
       "        -5.82e-07, -1.35e-02],\n",
       "       [-8.44e-04, -8.93e-04,  1.20e-03,  1.97e-04, -8.33e-06, -5.65e-05,\n",
       "        -2.74e-04, -6.44e-05, -2.90e-04, -1.36e-03,  2.64e-03,  4.97e-06,\n",
       "         4.25e-06, -4.37e-03],\n",
       "       [-1.22e-04, -1.50e-04,  1.97e-04,  5.81e-05, -1.98e-06, -9.14e-06,\n",
       "        -1.98e-05, -1.01e-05, -4.91e-05, -1.73e-04,  3.35e-04,  2.32e-06,\n",
       "         1.55e-06, -5.89e-04],\n",
       "       [ 9.37e-06,  2.23e-05, -8.33e-06, -1.98e-06,  2.87e-05,  4.03e-05,\n",
       "        -5.74e-04, -1.11e-05,  1.40e-05,  2.42e-04, -2.21e-04,  3.27e-06,\n",
       "         7.68e-07,  2.15e-04],\n",
       "       [ 4.60e-05, -8.29e-05, -5.65e-05, -9.14e-06,  4.03e-05,  8.61e-04,\n",
       "         4.21e-03, -9.75e-06, -3.98e-04,  4.73e-04, -6.61e-04, -3.18e-07,\n",
       "        -3.88e-08,  1.31e-05],\n",
       "       [ 1.65e-04,  2.98e-05, -2.74e-04, -1.98e-05, -5.74e-04,  4.21e-03,\n",
       "         7.55e-02, -4.46e-04,  2.96e-03,  1.94e-04,  6.38e-03,  4.36e-05,\n",
       "         5.80e-06, -6.52e-03],\n",
       "       [ 5.10e-05,  8.55e-05, -6.44e-05, -1.01e-05, -1.11e-05, -9.75e-06,\n",
       "        -4.46e-04,  5.40e-04,  1.70e-03,  6.62e-04, -4.87e-04,  5.70e-06,\n",
       "         1.93e-06,  2.40e-03],\n",
       "       [ 2.46e-04, -5.93e-04, -2.90e-04, -4.91e-05,  1.40e-05, -3.98e-04,\n",
       "         2.96e-03,  1.70e-03,  1.58e-02,  1.20e-04, -1.70e-03,  2.43e-07,\n",
       "        -3.15e-06,  1.88e-03],\n",
       "       [ 9.35e-04, -2.14e-03, -1.36e-03, -1.73e-04,  2.42e-04,  4.73e-04,\n",
       "         1.94e-04,  6.62e-04,  1.20e-04,  4.98e-02,  2.53e-02,  1.68e-05,\n",
       "         1.82e-05, -2.18e-02],\n",
       "       [-1.91e-03,  4.29e-03,  2.64e-03,  3.35e-04, -2.21e-04, -6.61e-04,\n",
       "         6.38e-03, -4.87e-04, -1.70e-03,  2.53e-02,  9.82e-02, -7.39e-05,\n",
       "        -3.88e-05,  3.63e-02],\n",
       "       [-7.74e-06,  1.39e-05,  4.97e-06,  2.32e-06,  3.27e-06, -3.18e-07,\n",
       "         4.36e-05,  5.70e-06,  2.43e-07,  1.68e-05, -7.39e-05,  1.56e-05,\n",
       "         5.18e-06,  1.10e-04],\n",
       "       [-5.58e-06, -5.82e-07,  4.25e-06,  1.55e-06,  7.68e-07, -3.88e-08,\n",
       "         5.80e-06,  1.93e-06, -3.15e-06,  1.82e-05, -3.88e-05,  5.18e-06,\n",
       "         3.04e-06,  1.82e-05],\n",
       "       [ 3.49e-03, -1.35e-02, -4.37e-03, -5.89e-04,  2.15e-04,  1.31e-05,\n",
       "        -6.52e-03,  2.40e-03,  1.88e-03, -2.18e-02,  3.63e-02,  1.10e-04,\n",
       "         1.82e-05,  3.70e-01]])"
      ]
     },
     "execution_count": 4,
     "metadata": {},
     "output_type": "execute_result"
    }
   ],
   "source": [
    "COV = np.load('../output_example_run/MVN_4000_COV.npy')\n",
    "COV"
   ]
  },
  {
   "cell_type": "code",
   "execution_count": 5,
   "id": "e203a934-92a8-43f6-ab78-d0ace570a016",
   "metadata": {},
   "outputs": [
    {
     "data": {
      "text/plain": [
       "array([-0.061856,  5.5593  ,  0.16618 , -0.383   ,  0.81056 ,  4.8239  ,\n",
       "        9.9226  ,  1.0301  ,  4.8456  ,  7.0603  ,  1.5439  ,  0.26877 ,\n",
       "       -0.12732 ,  9.581   ])"
      ]
     },
     "execution_count": 5,
     "metadata": {},
     "output_type": "execute_result"
    }
   ],
   "source": [
    "params = np.load('../output_example_run/params_means.npy')\n",
    "params"
   ]
  },
  {
   "cell_type": "code",
   "execution_count": 6,
   "id": "74a5cf6c-8929-4dc6-95f6-4a13dd58d459",
   "metadata": {},
   "outputs": [],
   "source": [
    "cov_diag = COV.diagonal()\n",
    "sigmas = np.sqrt(cov_diag)"
   ]
  },
  {
   "cell_type": "markdown",
   "id": "4e84a935-ce56-415c-82ef-d328425fce50",
   "metadata": {},
   "source": [
    "The 68% confidence intervals for the Gaussian is just \n",
    "\n",
    "$$\\hat{\\theta}_L = \\bar{x} - z_{\\alpha/2} \\frac{\\sigma}{\\sqrt{n}}$$\n",
    "$$\\hat{\\theta}_U = \\bar{x} + z_{\\alpha/2} \\frac{\\sigma}{\\sqrt{n}}$$"
   ]
  },
  {
   "cell_type": "markdown",
   "id": "dbb2663f-0e47-4f2a-b31b-33a43cb5cd1d",
   "metadata": {},
   "source": [
    "Where $\\bar{x}$ is known since it is the sample mean, for example, for the first parameter, $B_g$, "
   ]
  },
  {
   "cell_type": "code",
   "execution_count": 7,
   "id": "343ddc13-95b4-4068-aefb-176882e1d7ec",
   "metadata": {},
   "outputs": [
    {
     "data": {
      "text/plain": [
       "array([[-7.24632213e-02,  5.66197739e+00,  1.76875954e-01, ...,\n",
       "         2.65876663e-01, -1.28876475e-01,  9.07067348e+00],\n",
       "       [-5.22289893e-02,  5.50999310e+00,  1.43404867e-01, ...,\n",
       "         2.64091808e-01, -1.30332202e-01,  9.62976793e+00],\n",
       "       [-4.67922976e-03,  5.74426884e+00,  9.06892056e-02, ...,\n",
       "         2.71553062e-01, -1.25496479e-01,  9.80405484e+00],\n",
       "       ...,\n",
       "       [-3.43899359e-02,  5.66910704e+00,  1.41483630e-01, ...,\n",
       "         2.64882316e-01, -1.28503740e-01,  8.76938617e+00],\n",
       "       [-5.54350694e-02,  5.61307909e+00,  1.54915724e-01, ...,\n",
       "         2.63185684e-01, -1.28604129e-01,  8.70285932e+00],\n",
       "       [-6.46123286e-02,  5.63191877e+00,  1.73474996e-01, ...,\n",
       "         2.67948023e-01, -1.25864060e-01,  9.50888489e+00]])"
      ]
     },
     "execution_count": 7,
     "metadata": {},
     "output_type": "execute_result"
    }
   ],
   "source": [
    "MVN_4000 = np.load('MVN_samples/MVN_4000.npy'); MVN_4000"
   ]
  },
  {
   "cell_type": "code",
   "execution_count": 14,
   "id": "824b115c-d295-4d42-8cb9-3be128113b62",
   "metadata": {},
   "outputs": [
    {
     "name": "stdout",
     "output_type": "stream",
     "text": [
      "The sample size= 4000\n",
      "$\\bar{x}_{B_g}$ -0.0618666335543069\n"
     ]
    },
    {
     "data": {
      "image/png": "[encoded data removed]",
      "text/plain": [
       "<Figure size 432x288 with 1 Axes>"
      ]
     },
     "metadata": {
      "needs_background": "light"
     },
     "output_type": "display_data"
    }
   ],
   "source": [
    "Bg = MVN_4000[:,0]\n",
    "print('The sample size=', len(Bg))\n",
    "plt.hist(Bg.flatten(), bins=100); plt.title(r'$Bg$ unweighted distribtution')\n",
    "xbar_Bg = Bg.mean()\n",
    "print(r'$\\bar{x}_{B_g}$' , xbar_Bg)"
   ]
  },
  {
   "cell_type": "markdown",
   "id": "d8e51a79-44ad-4be4-ba3f-ebe243b8f09a",
   "metadata": {},
   "source": [
    "and the standard deviation is the true standard deviation, which comes from the covariance matrix, so $\\sigma_{B_g}=\\sigma_{11}$"
   ]
  },
  {
   "cell_type": "code",
   "execution_count": 16,
   "id": "80c8e080-d726-4ead-9881-7d5dbab21f0d",
   "metadata": {},
   "outputs": [
    {
     "data": {
      "text/plain": [
       "0.02513961017995307"
      ]
     },
     "execution_count": 16,
     "metadata": {},
     "output_type": "execute_result"
    }
   ],
   "source": [
    "sigma_Bg = sigmas[0]; sigma_Bg"
   ]
  },
  {
   "cell_type": "markdown",
   "id": "a7bac8c1-285b-4616-b4c7-e6d4b9d88276",
   "metadata": {},
   "source": [
    "### Hence the 68% confidence interval for the $B_g$ parameter is $\\hat{\\theta_{B_g}} \\pm z_{\\alpha/2} \\frac{\\sigma_{B_g}}{\\sqrt{n}}$: $\\alpha=0.32 \\rightarrow z_{\\alpha/2}=z_{0.16}=0.7995$\n",
    "$$\\hat{\\theta}_L^{Gauss, B_g} = \\bar{x}_{B_g} - z_{\\alpha/2} \\frac{\\sigma_{B_g}}{\\sqrt{4000}} = -0.06186 - 0.7995 (0.02513/\\sqrt{4000})$$\n"
   ]
  },
  {
   "cell_type": "code",
   "execution_count": 18,
   "id": "46e86219-0a1d-40c1-a447-f478d8ca60ec",
   "metadata": {},
   "outputs": [
    {
     "data": {
      "text/plain": [
       "-0.062184428518867386"
      ]
     },
     "execution_count": 18,
     "metadata": {},
     "output_type": "execute_result"
    }
   ],
   "source": [
    "z_68, n = 0.7995, 4000\n",
    "theta_hat_l_gauss_Bg = xbar_Bg - z_68*(sigma_Bg/np.sqrt(n))\n",
    "theta_hat_l_gauss_Bg"
   ]
  },
  {
   "cell_type": "code",
   "execution_count": 19,
   "id": "a3f5bd2b-111f-4e5e-85aa-0ee3f3ab665b",
   "metadata": {},
   "outputs": [
    {
     "data": {
      "text/plain": [
       "-0.06154883858974642"
      ]
     },
     "execution_count": 19,
     "metadata": {},
     "output_type": "execute_result"
    }
   ],
   "source": [
    "theta_hat_u_gauss_Bg = xbar_Bg + z_68*(sigma_Bg/np.sqrt(n))\n",
    "theta_hat_u_gauss_Bg"
   ]
  },
  {
   "cell_type": "markdown",
   "id": "6e141891-cf83-47f7-b92a-7c950d8f2298",
   "metadata": {},
   "source": []
  },
  {
   "cell_type": "code",
   "execution_count": null,
   "id": "74ad5bea-0e0a-4763-b6d0-6ce17f3ba792",
   "metadata": {},
   "outputs": [],
   "source": []
  },
  {
   "cell_type": "code",
   "execution_count": null,
   "id": "07ca2a24-3955-488a-b91e-a31cd689747d",
   "metadata": {},
   "outputs": [],
   "source": []
  },
  {
   "cell_type": "markdown",
   "id": "c5dc0df5-0f44-4650-b5c1-c1716a7ecc26",
   "metadata": {},
   "source": [
    "## Print a table: parameter, theta_hat_l^Gauss, theta_hat_u^Gauss,  theta_hat_l^Reweighted,  theta_hat_u^Reweighted"
   ]
  },
  {
   "cell_type": "code",
   "execution_count": null,
   "id": "45797882-6861-4ec1-a828-f07c8bb59b91",
   "metadata": {},
   "outputs": [],
   "source": []
  }
 ],
 "metadata": {
  "kernelspec": {
   "display_name": "Python 3",
   "language": "python",
   "name": "python3"
  },
  "language_info": {
   "codemirror_mode": {
    "name": "ipython",
    "version": 3
   },
   "file_extension": ".py",
   "mimetype": "text/x-python",
   "name": "python",
   "nbconvert_exporter": "python",
   "pygments_lexer": "ipython3",
   "version": "3.7.7"
  }
 },
 "nbformat": 4,
 "nbformat_minor": 5
}
