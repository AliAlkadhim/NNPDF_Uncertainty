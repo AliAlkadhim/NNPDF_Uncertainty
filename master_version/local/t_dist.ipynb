{
 "cells": [
  {
   "cell_type": "code",
   "execution_count": 14,
   "id": "c1ca643f-4635-4ef7-8452-4eef1136eae6",
   "metadata": {},
   "outputs": [],
   "source": [
    "import math\n",
    "import scipy.stats as st\n",
    "from math import gamma\n",
    "import numpy as np"
   ]
  },
  {
   "cell_type": "markdown",
   "id": "b60c4dfe-a207-413a-b059-82d2c7d66b97",
   "metadata": {},
   "source": [
    "The t-distribution for a t-score $t=\\frac{\\bar{X}-\\mu}{s / \\sqrt{n}}$ where $\\bar{X}$ is the sample mean and $s$ is the sample standard deviation, is given by\n",
    "$$f(t)=\\frac{\\Gamma\\left(\\frac{\\nu+1}{2}\\right)}{\\sqrt{\\nu \\pi} \\Gamma\\left(\\frac{\\nu}{2}\\right)}\\left(1+\\frac{t^{2}}{\\nu}\\right)^{-\\frac{\\nu+1}{2}}$$\n",
    "Where $\\nu$ is the degrees of freedom $\\nu=N-1$ where $N$ is the sample size, so the input for the pdf is $t$ and $\\nu$"
   ]
  },
  {
   "cell_type": "code",
   "execution_count": 11,
   "id": "bbd67016-2304-4356-aac7-6b1f29e43dd0",
   "metadata": {},
   "outputs": [
    {
     "data": {
      "text/plain": [
       "[-6, -5.99, -5.98]"
      ]
     },
     "execution_count": 11,
     "metadata": {},
     "output_type": "execute_result"
    }
   ],
   "source": [
    "t = []\n",
    "i = -6\n",
    "while i < 6:\n",
    "    t.append(round(i,3))\n",
    "    i+=0.01\n",
    "#t is our sampling space, we are choosing t to go from -6 to 6 in 0.01 increments\n",
    "t[:3]"
   ]
  },
  {
   "cell_type": "code",
   "execution_count": 15,
   "id": "ef32186f-7adb-471f-85db-f15fb636f354",
   "metadata": {},
   "outputs": [],
   "source": [
    "def numerator(df):\n",
    "    n = (dof+1)/2\n",
    "    num = gamma(n)\n",
    "    return num\n",
    "# def denomenator(df):\n",
    "#     n = df/2\n",
    "    "
   ]
  },
  {
   "cell_type": "code",
   "execution_count": null,
   "id": "39d611d2-490b-4f7d-ad17-951e5d764124",
   "metadata": {},
   "outputs": [],
   "source": []
  }
 ],
 "metadata": {
  "kernelspec": {
   "display_name": "Python 3 (ipykernel)",
   "language": "python",
   "name": "python3"
  },
  "language_info": {
   "codemirror_mode": {
    "name": "ipython",
    "version": 3
   },
   "file_extension": ".py",
   "mimetype": "text/x-python",
   "name": "python",
   "nbconvert_exporter": "python",
   "pygments_lexer": "ipython3",
   "version": "3.7.7"
  }
 },
 "nbformat": 4,
 "nbformat_minor": 5
}
