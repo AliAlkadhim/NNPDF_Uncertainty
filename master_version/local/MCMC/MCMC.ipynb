{
 "cells": [
  {
   "cell_type": "markdown",
   "id": "673ef6a4-2146-4d6d-94a4-6e86ede82b6b",
   "metadata": {},
   "source": [
    "At a very high level, MCMC tries to sample from an unknown target distribution $p(x)$ using a known function $f(x)$ where \n",
    "$$ p(x) = \\frac{f(x)}{Z}$$\n",
    "This is done in a Markov chain. One way is using the Metropolis Hastings algorithm. Essentially the algorithm samples the samples $x$ from a distribution $g(x)$ eg $g(x) = \\mathcal{N}(x|\\mu,\\sigma)$, then samples the next sample depending on the previous sample $g(x_{t+1}|x_t)$. The sample generated in this step is accepted with probability of acceptance $A(x_t \\rightarrow x_{t+1})$. \n",
    "\n",
    "If we can show that the probablity of going from any one state $x_t$ to another state $x_{t+1}$ follows the detail balance condition then we know that we have reached a stationary condition, and the Markov chain will be sampling from $p(x)$ for the next steps. The detail balance equation is simple $p(a) T(a \\rightarrow b)=p(b) T(b \\rightarrow q)$ where $T(a\\rightarrow b)$ is the transition probablity for going from state a to state b. Since we don't know $p(a)$, we know $f(a)\\approx p(a)$ with some proposed distribution $g(a|b)$ (eg a gaussian) to go from state $a$ to state $b$. \n",
    "\n",
    "$$\\frac{f(a)}{Z} g(b / a) A(a \\rightarrow b)=\\frac{f(b)}{Z} g(a \\mid b) A(b \\rightarrow a)$$\n",
    "\n",
    "From above we have \n",
    "$$\\frac{A(a \\rightarrow b)}{A(b \\rightarrow a)}=\\frac{f(b)}{f(a)} \\times \\frac{g(a \\mid b)}{g(b \\mid a)}$$\n",
    "\n",
    "If $\\frac{f(b)}{f(a)} \\times \\frac{g(a \\mid b)}{g(b \\mid a)} \\lt 1$:\n",
    "\n",
    "$A(a \\rightarrow b)=\\frac{f(b)}{f(a)} \\times \\frac{g(a \\mid b)}{g(b \\mid a)}$\n",
    "$A(b \\rightarrow a)=1$\n",
    "\n",
    "If If $\\frac{f(b)}{f(a)} \\times \\frac{g(a \\mid b)}{g(b \\mid a)} \\ge 1$:\n",
    "\n",
    "\n",
    "$A(a \\rightarrow b)=1$\n",
    "$A(b \\rightarrow a)=\\frac{f(a)}{f(b)} \\times \\frac{g(b \\mid a)}{g(a \\mid b)}$\n",
    "\n",
    "If $g$ is symmetric (like a gaussian), then\n",
    "$A(a \\rightarrow b)=MIN \\left(1, \\frac{f(b)}{f(a)}\\right.$\n",
    "$=MIN \\left(1, \\frac{\\rho(b)}{p(a)}\\right)$\n",
    "\n",
    "\n",
    "Questions: Can we use something like accept-reject algorithm, or minimization or other methods?"
   ]
  },
  {
   "cell_type": "code",
   "execution_count": 5,
   "id": "e5a67a90-940e-4ea5-9a5c-4d517cce20f2",
   "metadata": {},
   "outputs": [],
   "source": [
    "import numpy as np\n",
    "import matplotlib.pyplot as plt\n",
    "import matplotlib as mp\n",
    "from scipy.stats import multivariate_normal\n",
    "import seaborn as sns\n",
    "import pymc3 as pm\n",
    "import arviz as az\n",
    "import subprocess as sb \n",
    "import emcee\n",
    "\n",
    "\n",
    "plt.style.use('bmh')\n",
    "colors = ['#348ABD', '#A60628', '#7A68A6', '#467821', '#D55E00', \n",
    "          '#CC79A7', '#56B4E9', '#009E73', '#F0E442', '#0072B2']\n",
    "mp.rc('text', usetex=True)\n",
    "RANDOM_SEED = 8927\n",
    "np.random.seed(RANDOM_SEED)\n",
    "az.style.use(\"arviz-darkgrid\")\n",
    "\n",
    "%matplotlib inline"
   ]
  },
  {
   "cell_type": "code",
   "execution_count": 16,
   "id": "204fb373-aead-4c6b-9dfe-c039f27a515a",
   "metadata": {},
   "outputs": [
    {
     "data": {
      "text/plain": [
       "(14,)"
      ]
     },
     "execution_count": 16,
     "metadata": {},
     "output_type": "execute_result"
    }
   ],
   "source": [
    "#LOAD DATA\n",
    "chi2_array_ALL_DATA_25k = np.load('/home/ali/Desktop/Pulled_Github_Repositories/NNPDF_Uncertainty/master_version/local/ALL_DATA_25k/chi2_array_ALL_DATA_25k.npy')\n",
    "MVN_25k_MASTER = np.load('/home/ali/Desktop/Pulled_Github_Repositories/NNPDF_Uncertainty/master_version/samples/MVN_25k_MASTER.npy')\n",
    "COV_MASTER= np.load('/home/ali/Desktop/Pulled_Github_Repositories/NNPDF_Uncertainty/master_version/samples/COV_MASTER.npy')\n",
    "params_MASTER= np.load('/home/ali/Desktop/Pulled_Github_Repositories/NNPDF_Uncertainty/master_version/samples/params_MASTER.npy')\n",
    "params_MASTER.shape"
   ]
  },
  {
   "cell_type": "code",
   "execution_count": 20,
   "id": "66215e19-265a-4bd8-b6ac-91fbef9542a6",
   "metadata": {},
   "outputs": [
    {
     "ename": "IndexError",
     "evalue": "index 1 is out of bounds for axis 0 with size 1",
     "output_type": "error",
     "traceback": [
      "\u001b[0;31m---------------------------------------------------------------------------\u001b[0m",
      "\u001b[0;31mIndexError\u001b[0m                                Traceback (most recent call last)",
      "\u001b[0;32m/tmp/ipykernel_18947/1132237304.py\u001b[0m in \u001b[0;36m<module>\u001b[0;34m\u001b[0m\n\u001b[1;32m      1\u001b[0m \u001b[0mk\u001b[0m\u001b[0;34m=\u001b[0m\u001b[0mparams_MASTER\u001b[0m\u001b[0;34m.\u001b[0m\u001b[0mreshape\u001b[0m\u001b[0;34m(\u001b[0m\u001b[0;34m(\u001b[0m\u001b[0;36m1\u001b[0m\u001b[0;34m,\u001b[0m\u001b[0;36m14\u001b[0m\u001b[0;34m)\u001b[0m\u001b[0;34m)\u001b[0m\u001b[0;34m\u001b[0m\u001b[0;34m\u001b[0m\u001b[0m\n\u001b[0;32m----> 2\u001b[0;31m \u001b[0mk\u001b[0m\u001b[0;34m[\u001b[0m\u001b[0;36m1\u001b[0m\u001b[0;34m]\u001b[0m\u001b[0;34m\u001b[0m\u001b[0;34m\u001b[0m\u001b[0m\n\u001b[0m",
      "\u001b[0;31mIndexError\u001b[0m: index 1 is out of bounds for axis 0 with size 1"
     ]
    }
   ],
   "source": [
    "k=params_MASTER.reshape((1,14))\n",
    "k[1]"
   ]
  },
  {
   "cell_type": "markdown",
   "id": "5e903710-4ab6-4810-af89-6661f55553bc",
   "metadata": {},
   "source": [
    "in our case, $f(x) = e^{-0.5\\chi^2}$, $p(x) = L(\\theta)$ the true likelihood of the parameters. Toy example"
   ]
  },
  {
   "cell_type": "code",
   "execution_count": 8,
   "id": "904bd6f1-c6a9-4a3d-861f-869c9572c102",
   "metadata": {},
   "outputs": [
    {
     "data": {
      "text/plain": [
       "array([[ 4.45e-06,  3.44e-06,  2.25e-06,  2.27e-06, -5.33e-06,  1.28e-06,\n",
       "         1.23e-06,  3.32e-05, -2.41e-06, -2.81e-06,  5.41e-06, -9.82e-07,\n",
       "        -2.68e-05,  2.50e-05],\n",
       "       [ 3.44e-06,  2.09e-04,  2.02e-06, -8.84e-06, -2.75e-04,  5.14e-05,\n",
       "        -3.97e-06, -1.59e-03, -9.26e-05, -7.11e-04, -1.85e-04, -1.42e-05,\n",
       "         4.77e-04, -1.93e-05],\n",
       "       [ 2.25e-06,  2.02e-06,  2.33e-06,  1.28e-06, -3.87e-06,  1.07e-06,\n",
       "         3.89e-07,  1.25e-05, -3.32e-06, -5.05e-06,  1.64e-05, -2.39e-07,\n",
       "        -3.22e-05,  5.76e-06],\n",
       "       [ 2.27e-06, -8.84e-06,  1.28e-06,  4.30e-04,  1.51e-05, -2.65e-06,\n",
       "        -9.05e-06,  1.76e-03,  1.25e-03,  9.56e-05,  4.52e-04,  1.49e-06,\n",
       "        -3.11e-04, -3.76e-04],\n",
       "       [-5.33e-06, -2.75e-04, -3.87e-06,  1.51e-05,  3.76e-04, -5.76e-05,\n",
       "         6.79e-06,  2.24e-03,  1.37e-04,  1.02e-03,  2.55e-04,  2.10e-05,\n",
       "        -6.84e-04,  2.35e-05],\n",
       "       [ 1.28e-06,  5.14e-05,  1.07e-06, -2.65e-06, -5.76e-05,  3.33e-05,\n",
       "        -1.47e-06, -3.01e-04, -2.34e-05, -1.61e-04, -2.66e-05, -3.69e-06,\n",
       "         8.23e-05,  7.08e-06],\n",
       "       [ 1.23e-06, -3.97e-06,  3.89e-07, -9.05e-06,  6.79e-06, -1.47e-06,\n",
       "         2.17e-05,  1.83e-04,  2.04e-05,  3.37e-05,  1.59e-04,  3.12e-05,\n",
       "        -1.43e-04, -3.98e-04],\n",
       "       [ 3.32e-05, -1.59e-03,  1.25e-05,  1.76e-03,  2.24e-03, -3.01e-04,\n",
       "         1.83e-04,  3.20e-01,  4.88e-04, -1.19e-02, -2.05e-02,  4.41e-05,\n",
       "         3.32e-02, -4.88e-03],\n",
       "       [-2.41e-06, -9.26e-05, -3.32e-06,  1.25e-03,  1.37e-04, -2.34e-05,\n",
       "         2.04e-05,  4.88e-04,  1.31e-02, -4.57e-04, -2.70e-04, -3.26e-04,\n",
       "        -8.19e-04,  2.56e-03],\n",
       "       [-2.81e-06, -7.11e-04, -5.05e-06,  9.56e-05,  1.02e-03, -1.61e-04,\n",
       "         3.37e-05, -1.19e-02, -4.57e-04,  1.35e-02, -2.75e-03, -6.04e-05,\n",
       "         4.79e-03, -6.29e-05],\n",
       "       [ 5.41e-06, -1.85e-04,  1.64e-05,  4.52e-04,  2.55e-04, -2.66e-05,\n",
       "         1.59e-04, -2.05e-02, -2.70e-04, -2.75e-03,  3.79e-02,  2.62e-04,\n",
       "         1.91e-02,  2.03e-04],\n",
       "       [-9.82e-07, -1.42e-05, -2.39e-07,  1.49e-06,  2.10e-05, -3.69e-06,\n",
       "         3.12e-05,  4.41e-05, -3.26e-04, -6.04e-05,  2.62e-04,  6.75e-04,\n",
       "        -4.39e-04,  3.02e-03],\n",
       "       [-2.68e-05,  4.77e-04, -3.22e-05, -3.11e-04, -6.84e-04,  8.23e-05,\n",
       "        -1.43e-04,  3.32e-02, -8.19e-04,  4.79e-03,  1.91e-02, -4.39e-04,\n",
       "         7.42e-02,  4.39e-03],\n",
       "       [ 2.50e-05, -1.93e-05,  5.76e-06, -3.76e-04,  2.35e-05,  7.08e-06,\n",
       "        -3.98e-04, -4.88e-03,  2.56e-03, -6.29e-05,  2.03e-04,  3.02e-03,\n",
       "         4.39e-03,  5.68e-02]])"
      ]
     },
     "execution_count": 8,
     "metadata": {},
     "output_type": "execute_result"
    }
   ],
   "source": [
    "COV_MASTER"
   ]
  },
  {
   "cell_type": "code",
   "execution_count": 7,
   "id": "164dd153-3e76-4981-a2e8-9f7f45971131",
   "metadata": {},
   "outputs": [
    {
     "name": "stderr",
     "output_type": "stream",
     "text": [
      "/bin/sh: 1: source: not found\n"
     ]
    },
    {
     "data": {
      "text/plain": [
       "CompletedProcess(args='source /home/ali/Desktop/Research/xfitter/xfitter_master_version/setup.sh', returncode=127)"
      ]
     },
     "execution_count": 7,
     "metadata": {},
     "output_type": "execute_result"
    }
   ],
   "source": [
    "init_params = params_MASTER\n",
    "sb.run(\"source /home/ali/Desktop/Research/xfitter/xfitter_master_version/setup.sh\", shell =True)\n"
   ]
  },
  {
   "cell_type": "code",
   "execution_count": null,
   "id": "6012520d-8a26-464a-83ad-08de42e15679",
   "metadata": {},
   "outputs": [],
   "source": [
    "init_params = params_MASTER\n",
    "sb.run(\"source /home/ali/Desktop/Research/xfitter/xfitter_master_version/setup.sh\", shell =True)\n",
    "\n",
    "def ll(params):\n",
    "\n",
    "    minuit_in_path = os.path.join(path, 'parameters.yaml')\n",
    "    with open(minuit_in_path, 'w') as second:\n",
    "        second.write('Minimizer: MINUIT # CERES \\n')\n",
    "        second.write('MINUIT:\\n')\n",
    "        second.write('  Commands: | \\n')\n",
    "        second.write('    call fcn 1\\n')\n",
    "        second.write('    set str 2\\n')\n",
    "        second.write('    call fcn 3\\n')\n",
    "        second.write('\\n')\n",
    "        second.write('Parameters:\\n')\n",
    "        second.write('  Ag   :  DEPENDENT\\n')\n",
    "        second.write('  Adbar   : [ ' + str(float(params[0])) + ', 0. ]\\n')\n",
    "        second.write('  Agp   : [ ' + str(format(float(params[1]), '.6f')) + ', 0. ]\\n')\n",
    "        second.write('  Bdbar   : [ ' + str(format(float(params[2]), '.6f')) + ', 0. ]\\n')\n",
    "        second.write('  Bdv   : [ ' + str(format(float(params[3]), '.6f')) + ', 0. ]\\n')\n",
    "        second.write('  Cgp   : [ ' + str(25.000) + ', 0. ]\\n')\n",
    "        #note that Cprig is a constant, not a parameter value!\n",
    "        second.write('  Auv  :  DEPENDENT\\n')\n",
    "        second.write('  Bg   : [ ' + str(format(float(params[4]), '.6f')) + ', 0. ]\\n')\n",
    "        second.write('  Bgp   : [ ' + str(format(float(params[5]), '.6f')) + ', 0. ]\\n')\n",
    "        second.write('  Duv  : [    0     ]\\n')\n",
    "        second.write('  Buv   : [ ' + str(format(float(params[6]), '.6f')) + ', 0. ]\\n')\n",
    "        second.write('  Adv  :  DEPENDENT\\n')\n",
    "        second.write('  Cdbar   : [ ' + str(format(float(params[7]), '.6f')) + ', 0. ]\\n')\n",
    "        second.write('  Cdv   : [ ' + str(format(float(params[8]), '.6f')) + ', 0. ]\\n')\n",
    "        second.write('  Aubar: [ 0.0, 0.0 ]\\n')\n",
    "        second.write('  Bubar: [ 0.0, 0.0  ]\\n')\n",
    "        second.write('  Cg   : [ ' + str(format(float(params[9]), '.6f')) + ', 0. ]\\n')\n",
    "        second.write('  Cubar   : [ ' + str(format(float(params[10]), '.6f')) + ', 0. ]\\n')\n",
    "        second.write('  Cuv   : [ ' + str(format(float(params[11]), '.6f')) + ', 0. ]\\n')\n",
    "        second.write('  Dubar   : [ ' + str(format(float(params[12]), '.6f')) + ', 0. ]\\n')\n",
    "        second.write('  Euv   : [ ' + str(format(float(params[13]), '.6f')) + ', 0. ]\\n')\n",
    "        second.write('\\n')\n",
    "\n",
    "        second.write('  ZERO : [ 0. ]\\n')        \n",
    "        second.write('  fs   :   [ 0.4, 0.0 ]\\n')\n",
    "        #second.write('  DbarToS: \\\"=fs/(1-fs)\\\"\\n')\n",
    "\n",
    "        second.write('Parameterisations:\\n')\n",
    "        second.write('  par_uv:\\n')\n",
    "        second.write('    class: HERAPDF\\n')\n",
    "        second.write('    parameters: [Auv,Buv,Cuv,Duv,Euv]\\n')\n",
    "        second.write('  par_dv:\\n')\n",
    "        second.write('    class: HERAPDF\\n')\n",
    "        second.write('    parameters: [Adv,Bdv,Cdv]\\n')\n",
    "        second.write('  par_ubar:\\n')\n",
    "        second.write('    class: HERAPDF\\n')\n",
    "        second.write('    parameters: [Adbar,Bdbar,Cubar,Dubar]\\n')\n",
    "        second.write('  par_dbar:\\n')\n",
    "        second.write('    class: HERAPDF\\n')        \n",
    "        second.write('    parameters: [Adbar,Bdbar,Cdbar]\\n')\n",
    "        second.write('  par_s:\\n')\n",
    "        second.write('    class: Expression\\n')\n",
    "        second.write('    expression: \\\"Adbar*fs/(1-fs)*(x^Bdbar*(1-x)^Cdbar)\\\"\\n')\n",
    "        # second.write('    input: par_dbar\\n')\n",
    "        second.write('\\n')\n",
    "        second.write('  par_g:\\n')\n",
    "        second.write('    class: NegativeGluon\\n')\n",
    "        second.write('    parameters: [Ag,Bg,Cg,ZERO,ZERO,Agp,Bgp,Cgp]\\n')\n",
    "        second.write('\\n\\n')\n",
    "        second.write('DefaultDecomposition: proton\\n')\n",
    "        second.write('Decompositions:\\n')\n",
    "        second.write('  proton:\\n')\n",
    "        second.write('    class: UvDvUbarDbarS\\n')\n",
    "        second.write('    xuv: par_uv\\n')\n",
    "        second.write('    xdv: par_dv\\n')\n",
    "        second.write('    xubar: par_ubar\\n')\n",
    "        second.write('    xdbar: par_dbar\\n')\n",
    "        second.write('    xs: par_s\\n')\n",
    "        second.write('    xg: par_g\\n')\n",
    "        second.write('\\n')\n",
    "        second.write('DefaultEvolution: proton-QCDNUM\\n')\n",
    "        second.write('\\n\\n')\n",
    "        second.write('Evolutions:\\n')\n",
    "        # second.write('  proton-APFELff:\\n')\n",
    "        # second.write('    ? !include evolutions/APFEL.yaml\\n')\n",
    "        # second.write('    decomposition: proton\\n')\n",
    "\n",
    "        second.write('  proton-QCDNUM:\\n')\n",
    "        second.write('    ? !include evolutions/QCDNUM.yaml\\n')\n",
    "        second.write('    decomposition: proton\\n')\n",
    "\n",
    "        # second.write('  antiproton:\\n')\n",
    "        # second.write('    class: FlipCharge\\n')\n",
    "        # second.write('  neutron:\\n')\n",
    "        # second.write('    class: FlipUD\\n')   \n",
    "\n",
    "        # second.write('  proton-LHAPDF:\\n')\n",
    "        # second.write('    class: LHAPDF\\n')\n",
    "        # second.write('    set: \\\"NNPDF30_nlo_as_0118\\\"\\n')\n",
    "        # second.write('    member: 0\\n')\n",
    "        second.write('\\n')\n",
    "\n",
    "        second.write('Q0 : 1.378404875209\\n')\n",
    "        second.write('\\n')\n",
    "        second.write('? !include constants.yaml\\n')\n",
    "        second.write('\\n')\n",
    "        second.write('alphas : 0.118\\n')\n",
    "        second.write('\\n')\n",
    "        second.write('byReaction:\\n')\n",
    "        second.write('\\n')        \n",
    "        second.write('  RT_DISNC:\\n')\n",
    "        second.write('    ? !include reactions/RT_DISNC.yaml\\n')\n",
    "        second.write('  FONLL_DISNC:\\n')\n",
    "        second.write('    ? !include reactions/FONLL_DISNC.yaml\\n')\n",
    "        second.write('  FONLL_DISCC:\\n')\n",
    "        second.write('    ? !include reactions/FONLL_DISCC.yaml\\n')\n",
    "        second.write('  FFABM_DISNC:\\n')\n",
    "        second.write('    ? !include reactions/FFABM_DISNC.yaml\\n')\n",
    "        second.write('  FFABM_DISCC:\\n')\n",
    "        second.write('    ? !include reactions/FFABM_DISCC.yaml\\n')\n",
    "        # second.write('  AFB:\\n')\n",
    "        # second.write('    ? !include reactions/AFB.yaml \\n')\n",
    "        second.write('  APPLgrid:\\n')\n",
    "        second.write('    ? !include reactions/APPLgrid.yaml\\n')\n",
    "        second.write('  Fractal_DISNC:\\n')\n",
    "        second.write('    ? !include reactions/Fractal_DISNC.yaml\\n')\n",
    "        second.write('\\n\\n')\n",
    "        second.write('hf_scheme_DISNC :\\n')\n",
    "        second.write('  defaultValue : \\'RT_DISNC\\' \\n')\n",
    "        second.write('\\n')\n",
    "        second.write('hf_scheme_DISCC :\\n')\n",
    "        second.write('  defaultValue : \\'BaseDISCC\\' \\n')\n",
    "        second.write('\\n')\n",
    "\n",
    "\n",
    "    #this should still work because we are not minimizing the chi2, we are just inputting the fixed parameter values in the minuit.in.txt format\n",
    "    #RUN XFITTER AND PIPE ITS OUTPUT TO S\n",
    "    s = os.popen(\"xfitter\").read()\n",
    "    #this executes the command xfitter, and the command that will go to the screen will be captured here\n",
    "\n",
    "    #THIS IS THE EXPRESSION FORM: \n",
    "    # @chi2out__   503.08321706305105     \n",
    "\n",
    "    #pattern = re.compile('[@chi2out].[0-9]+[.][0-9]+')\n",
    "    pattern = re.compile('[@chi2out].[\\d+]+[.][\\d+]+'); regex=r'@chi2out__...\\d+\\.\\d+'\n",
    "    #matches = pattern.finditer(s)\n",
    "    matches = re.findall(regex, s, re.MULTILINE)\n",
    "    #print(matches)\n",
    "\n",
    "    chi2 = matches[0].split()[1]\n",
    "\n",
    "    return np.exp(-0.5 * float(chi2))  \n",
    "\n",
    "ndim=14\n",
    "nwalkers = 4\n",
    "p0 = np.random.rand(nwalkers, ndim)\n",
    "\n",
    "sampler = emcee.EnsembleSampler(nwalkers, ndim, log, args=init_params)\n",
    "\n",
    "state = sampler.run_mcmc(p0, 100)\n",
    "sampler.reset()\n",
    "#100 is the burn in \n",
    "sampler.run_mcmc(state, 10000)\n",
    "#10000 steps\n",
    "\n",
    "samples = sampler.get_chain(flat=True)\n",
    "print(samples)"
   ]
  },
  {
   "cell_type": "code",
   "execution_count": 14,
   "id": "bec766cc-8544-458e-8414-6efdabd36162",
   "metadata": {},
   "outputs": [
    {
     "data": {
      "text/plain": [
       "array([1., 1., 1., 1., 1., 1., 1., 1., 1., 1., 1., 1., 1., 1.])"
      ]
     },
     "execution_count": 14,
     "metadata": {},
     "output_type": "execute_result"
    }
   ],
   "source": [
    "added = np.ones((1,14))\n",
    "m = np.vstack((MVN_25k_MASTER, added))\n",
    "m[-1]"
   ]
  },
  {
   "cell_type": "code",
   "execution_count": null,
   "id": "266e4091-56c1-4128-9ee5-7997a1286c68",
   "metadata": {},
   "outputs": [],
   "source": []
  }
 ],
 "metadata": {
  "kernelspec": {
   "display_name": "Python 3 (ipykernel)",
   "language": "python",
   "name": "python3"
  },
  "language_info": {
   "codemirror_mode": {
    "name": "ipython",
    "version": 3
   },
   "file_extension": ".py",
   "mimetype": "text/x-python",
   "name": "python",
   "nbconvert_exporter": "python",
   "pygments_lexer": "ipython3",
   "version": "3.7.7"
  },
  "toc-autonumbering": true
 },
 "nbformat": 4,
 "nbformat_minor": 5
}
