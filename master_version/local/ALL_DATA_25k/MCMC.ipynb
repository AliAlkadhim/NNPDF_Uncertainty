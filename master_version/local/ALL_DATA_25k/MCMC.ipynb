{
 "cells": [
  {
   "cell_type": "markdown",
   "id": "673ef6a4-2146-4d6d-94a4-6e86ede82b6b",
   "metadata": {},
   "source": [
    "At a very high level, MCMC tries to sample from an unknown target distribution $p(x)$ using a known function $f(x)$ where \n",
    "$$ p(x) = \\frac{f(x)}{Z}$$\n",
    "This is done in a Markov chain. One way is using the Metropolis Hastings algorithm. Essentially the algorithm samples the samples $x$ from a distribution $g(x)$ eg $g(x) = \\mathcal{N}(x|\\mu,\\sigma)$, then samples the next sample depending on the previous sample $g(x_{t+1}|x_t)$. The sample generated in this step is accepted with probability of acceptance $A(x_t \\rightarrow x_{t+1})$. \n",
    "\n",
    "If we can show that the probablity of going from any one state $x_t$ to another state $x_{t+1}$ follows the detail balance condition then we know that we have reached a stationary condition, and the Markov chain will be sampling from $p(x)$ for the next steps. The detail balance equation is simple $p(a) T(a \\rightarrow b)=p(b) T(b \\rightarrow q)$ where $T(a\\rightarrow b)$ is the transition probablity for going from state a to state b. Since we don't know $p(a)$, we know $f(a)\\approx p(a)$ with some proposed distribution $g(a|b)$ (eg a gaussian) to go from state $a$ to state $b$. \n",
    "\n",
    "$$\\frac{f(a)}{Z} g(b / a) A(a \\rightarrow b)=\\frac{f(b)}{Z} g(a \\mid b) A(b \\rightarrow a)$$\n",
    "\n",
    "From above we have \n",
    "$$\\frac{A(a \\rightarrow b)}{A(b \\rightarrow a)}=\\frac{f(b)}{f(a)} \\times \\frac{g(a \\mid b)}{g(b \\mid a)}$$\n",
    "\n",
    "If $\\frac{f(b)}{f(a)} \\times \\frac{g(a \\mid b)}{g(b \\mid a)} \\lt 1$:\n",
    "\n",
    "$A(a \\rightarrow b)=\\frac{f(b)}{f(a)} \\times \\frac{g(a \\mid b)}{g(b \\mid a)}$\n",
    "$A(b \\rightarrow a)=1$\n",
    "\n",
    "If If $\\frac{f(b)}{f(a)} \\times \\frac{g(a \\mid b)}{g(b \\mid a)} \\ge 1$:\n",
    "\n",
    "\n",
    "$A(a \\rightarrow b)=1$\n",
    "$A(b \\rightarrow a)=\\frac{f(a)}{f(b)} \\times \\frac{g(b \\mid a)}{g(a \\mid b)}$\n",
    "\n",
    "If $g$ is symmetric (like a gaussian), then\n",
    "$A(a \\rightarrow b)=MIN \\left(1, \\frac{f(b)}{f(a)}\\right.$\n",
    "$=MIN \\left(1, \\frac{\\rho(b)}{p(a)}\\right)$\n",
    "\n",
    "\n",
    "Questions: Can we use something like accept-reject algorithm, or minimization or other methods?"
   ]
  },
  {
   "cell_type": "code",
   "execution_count": 42,
   "id": "e5a67a90-940e-4ea5-9a5c-4d517cce20f2",
   "metadata": {},
   "outputs": [],
   "source": [
    "import numpy as np\n",
    "import matplotlib.pyplot as plt\n",
    "import matplotlib as mp\n",
    "from scipy.stats import multivariate_normal\n",
    "import seaborn as sns\n",
    "import pymc3 as pm\n",
    "import arviz as az\n",
    "\n",
    "plt.style.use('bmh')\n",
    "colors = ['#348ABD', '#A60628', '#7A68A6', '#467821', '#D55E00', \n",
    "          '#CC79A7', '#56B4E9', '#009E73', '#F0E442', '#0072B2']\n",
    "mp.rc('text', usetex=True)\n",
    "RANDOM_SEED = 8927\n",
    "np.random.seed(RANDOM_SEED)\n",
    "az.style.use(\"arviz-darkgrid\")\n",
    "\n",
    "%matplotlib inline"
   ]
  },
  {
   "cell_type": "code",
   "execution_count": 7,
   "id": "204fb373-aead-4c6b-9dfe-c039f27a515a",
   "metadata": {},
   "outputs": [],
   "source": [
    "#LOAD DATA\n",
    "chi2_array_ALL_DATA_25k = np.load('/home/ali/Desktop/Pulled_Github_Repositories/NNPDF_Uncertainty/master_version/local/ALL_DATA_25k/chi2_array_ALL_DATA_25k.npy')\n",
    "MVN_25k_MASTER = np.load('/home/ali/Desktop/Pulled_Github_Repositories/NNPDF_Uncertainty/master_version/samples/MVN_25k_MASTER.npy')\n",
    "COV_MASTER= np.load('/home/ali/Desktop/Pulled_Github_Repositories/NNPDF_Uncertainty/master_version/samples/COV_MASTER.npy')\n",
    "params_MASTER= np.load('/home/ali/Desktop/Pulled_Github_Repositories/NNPDF_Uncertainty/master_version/samples/params_MASTER.npy')"
   ]
  },
  {
   "cell_type": "markdown",
   "id": "5e903710-4ab6-4810-af89-6661f55553bc",
   "metadata": {},
   "source": [
    "in our case, $f(x) = e^{-0.5\\chi^2}$, $p(x) = L(\\theta)$ the true likelihood of the parameters. Toy example"
   ]
  },
  {
   "cell_type": "code",
   "execution_count": 8,
   "id": "904bd6f1-c6a9-4a3d-861f-869c9572c102",
   "metadata": {},
   "outputs": [
    {
     "data": {
      "text/plain": [
       "array([[ 4.45e-06,  3.44e-06,  2.25e-06,  2.27e-06, -5.33e-06,  1.28e-06,\n",
       "         1.23e-06,  3.32e-05, -2.41e-06, -2.81e-06,  5.41e-06, -9.82e-07,\n",
       "        -2.68e-05,  2.50e-05],\n",
       "       [ 3.44e-06,  2.09e-04,  2.02e-06, -8.84e-06, -2.75e-04,  5.14e-05,\n",
       "        -3.97e-06, -1.59e-03, -9.26e-05, -7.11e-04, -1.85e-04, -1.42e-05,\n",
       "         4.77e-04, -1.93e-05],\n",
       "       [ 2.25e-06,  2.02e-06,  2.33e-06,  1.28e-06, -3.87e-06,  1.07e-06,\n",
       "         3.89e-07,  1.25e-05, -3.32e-06, -5.05e-06,  1.64e-05, -2.39e-07,\n",
       "        -3.22e-05,  5.76e-06],\n",
       "       [ 2.27e-06, -8.84e-06,  1.28e-06,  4.30e-04,  1.51e-05, -2.65e-06,\n",
       "        -9.05e-06,  1.76e-03,  1.25e-03,  9.56e-05,  4.52e-04,  1.49e-06,\n",
       "        -3.11e-04, -3.76e-04],\n",
       "       [-5.33e-06, -2.75e-04, -3.87e-06,  1.51e-05,  3.76e-04, -5.76e-05,\n",
       "         6.79e-06,  2.24e-03,  1.37e-04,  1.02e-03,  2.55e-04,  2.10e-05,\n",
       "        -6.84e-04,  2.35e-05],\n",
       "       [ 1.28e-06,  5.14e-05,  1.07e-06, -2.65e-06, -5.76e-05,  3.33e-05,\n",
       "        -1.47e-06, -3.01e-04, -2.34e-05, -1.61e-04, -2.66e-05, -3.69e-06,\n",
       "         8.23e-05,  7.08e-06],\n",
       "       [ 1.23e-06, -3.97e-06,  3.89e-07, -9.05e-06,  6.79e-06, -1.47e-06,\n",
       "         2.17e-05,  1.83e-04,  2.04e-05,  3.37e-05,  1.59e-04,  3.12e-05,\n",
       "        -1.43e-04, -3.98e-04],\n",
       "       [ 3.32e-05, -1.59e-03,  1.25e-05,  1.76e-03,  2.24e-03, -3.01e-04,\n",
       "         1.83e-04,  3.20e-01,  4.88e-04, -1.19e-02, -2.05e-02,  4.41e-05,\n",
       "         3.32e-02, -4.88e-03],\n",
       "       [-2.41e-06, -9.26e-05, -3.32e-06,  1.25e-03,  1.37e-04, -2.34e-05,\n",
       "         2.04e-05,  4.88e-04,  1.31e-02, -4.57e-04, -2.70e-04, -3.26e-04,\n",
       "        -8.19e-04,  2.56e-03],\n",
       "       [-2.81e-06, -7.11e-04, -5.05e-06,  9.56e-05,  1.02e-03, -1.61e-04,\n",
       "         3.37e-05, -1.19e-02, -4.57e-04,  1.35e-02, -2.75e-03, -6.04e-05,\n",
       "         4.79e-03, -6.29e-05],\n",
       "       [ 5.41e-06, -1.85e-04,  1.64e-05,  4.52e-04,  2.55e-04, -2.66e-05,\n",
       "         1.59e-04, -2.05e-02, -2.70e-04, -2.75e-03,  3.79e-02,  2.62e-04,\n",
       "         1.91e-02,  2.03e-04],\n",
       "       [-9.82e-07, -1.42e-05, -2.39e-07,  1.49e-06,  2.10e-05, -3.69e-06,\n",
       "         3.12e-05,  4.41e-05, -3.26e-04, -6.04e-05,  2.62e-04,  6.75e-04,\n",
       "        -4.39e-04,  3.02e-03],\n",
       "       [-2.68e-05,  4.77e-04, -3.22e-05, -3.11e-04, -6.84e-04,  8.23e-05,\n",
       "        -1.43e-04,  3.32e-02, -8.19e-04,  4.79e-03,  1.91e-02, -4.39e-04,\n",
       "         7.42e-02,  4.39e-03],\n",
       "       [ 2.50e-05, -1.93e-05,  5.76e-06, -3.76e-04,  2.35e-05,  7.08e-06,\n",
       "        -3.98e-04, -4.88e-03,  2.56e-03, -6.29e-05,  2.03e-04,  3.02e-03,\n",
       "         4.39e-03,  5.68e-02]])"
      ]
     },
     "execution_count": 8,
     "metadata": {},
     "output_type": "execute_result"
    }
   ],
   "source": [
    "COV_MASTER"
   ]
  },
  {
   "cell_type": "code",
   "execution_count": 9,
   "id": "164dd153-3e76-4981-a2e8-9f7f45971131",
   "metadata": {},
   "outputs": [
    {
     "data": {
      "text/plain": [
       "(25000, 14)"
      ]
     },
     "execution_count": 9,
     "metadata": {},
     "output_type": "execute_result"
    }
   ],
   "source": [
    "MVN_25k_MASTER.shape"
   ]
  },
  {
   "cell_type": "code",
   "execution_count": 14,
   "id": "bec766cc-8544-458e-8414-6efdabd36162",
   "metadata": {},
   "outputs": [
    {
     "data": {
      "text/plain": [
       "array([1., 1., 1., 1., 1., 1., 1., 1., 1., 1., 1., 1., 1., 1.])"
      ]
     },
     "execution_count": 14,
     "metadata": {},
     "output_type": "execute_result"
    }
   ],
   "source": [
    "added = np.ones((1,14))\n",
    "m = np.vstack((MVN_25k_MASTER, added))\n",
    "m[-1]"
   ]
  },
  {
   "cell_type": "code",
   "execution_count": 17,
   "id": "266e4091-56c1-4128-9ee5-7997a1286c68",
   "metadata": {},
   "outputs": [
    {
     "data": {
      "text/plain": [
       "array([[ 0.16139944,  0.0692491 , -0.12706395,  1.01073336, -0.05723465,\n",
       "        -0.38216576,  0.80993938,  9.53986047,  4.83670809,  5.57800148,\n",
       "         6.9421623 ,  4.81040456,  1.56024152,  9.99673951]])"
      ]
     },
     "execution_count": 17,
     "metadata": {},
     "output_type": "execute_result"
    }
   ],
   "source": [
    "g = np.random.multivariate_normal(params_MASTER, COV_MASTER, 1)\n",
    "g"
   ]
  },
  {
   "cell_type": "code",
   "execution_count": 26,
   "id": "29721280-da2f-4d84-a8d6-473600a56d03",
   "metadata": {},
   "outputs": [
    {
     "data": {
      "text/plain": [
       "-0.12706395197763173"
      ]
     },
     "execution_count": 26,
     "metadata": {},
     "output_type": "execute_result"
    }
   ],
   "source": [
    "float(g[:,2])"
   ]
  },
  {
   "cell_type": "code",
   "execution_count": 43,
   "id": "33503cf3-916f-41d3-a141-7817a7df4cbf",
   "metadata": {},
   "outputs": [
    {
     "data": {
      "text/plain": [
       "'1.061671172211172e-153'"
      ]
     },
     "execution_count": 43,
     "metadata": {},
     "output_type": "execute_result"
    }
   ],
   "source": [
    "samples = np.empty((3,14))\n",
    "s1=samples[1]\n",
    "str(float(s1[2]))"
   ]
  },
  {
   "cell_type": "code",
   "execution_count": 46,
   "id": "b771478f-ec1b-4d06-bc2d-49f47c0ebb98",
   "metadata": {},
   "outputs": [
    {
     "data": {
      "text/plain": [
       "4.677353985613e-310"
      ]
     },
     "execution_count": 46,
     "metadata": {},
     "output_type": "execute_result"
    }
   ],
   "source": [
    "samples[0][0]"
   ]
  },
  {
   "cell_type": "code",
   "execution_count": null,
   "id": "c94c95e6-8ff6-45d2-8b40-0ec5fc3c3c44",
   "metadata": {},
   "outputs": [],
   "source": []
  }
 ],
 "metadata": {
  "kernelspec": {
   "display_name": "Python 3 (ipykernel)",
   "language": "python",
   "name": "python3"
  },
  "language_info": {
   "codemirror_mode": {
    "name": "ipython",
    "version": 3
   },
   "file_extension": ".py",
   "mimetype": "text/x-python",
   "name": "python",
   "nbconvert_exporter": "python",
   "pygments_lexer": "ipython3",
   "version": "3.7.7"
  },
  "toc-autonumbering": true
 },
 "nbformat": 4,
 "nbformat_minor": 5
}
