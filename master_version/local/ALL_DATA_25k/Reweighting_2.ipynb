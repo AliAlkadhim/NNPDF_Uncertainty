{
 "cells": [
  {
   "cell_type": "code",
   "execution_count": 1,
   "id": "6a286911-96b9-43ed-b105-b596a6a91486",
   "metadata": {},
   "outputs": [],
   "source": [
    "import numpy as np\n",
    "import matplotlib.pyplot as plt"
   ]
  },
  {
   "cell_type": "code",
   "execution_count": 2,
   "id": "8cabeb8e-4f52-4869-8472-387ebbbed92d",
   "metadata": {},
   "outputs": [
    {
     "data": {
      "text/plain": [
       "(array([[ 0.16080536,  0.08426761, -0.12904368, ...,  4.79523643,\n",
       "          1.92292986,  9.96338941],\n",
       "        [ 0.16272652,  0.09032648, -0.12885639, ...,  4.76822093,\n",
       "          1.62300266,  9.62932675],\n",
       "        [ 0.1606133 ,  0.0901863 , -0.1286685 , ...,  4.79419151,\n",
       "          1.4766966 ,  9.71338997],\n",
       "        ...,\n",
       "        [ 0.16362296,  0.05545325, -0.12706176, ...,  4.82775024,\n",
       "          1.55781506, 10.05586116],\n",
       "        [ 0.16351884,  0.08132231, -0.12650478, ...,  4.77694772,\n",
       "          1.61214273,  9.4916122 ],\n",
       "        [ 0.15934977,  0.06089304, -0.12663557, ...,  4.78704589,\n",
       "          1.38782882,  9.70478093]]),\n",
       " (4000, 14))"
      ]
     },
     "execution_count": 2,
     "metadata": {},
     "output_type": "execute_result"
    }
   ],
   "source": [
    "MVN_4000_MASTER = np.load('/home/ali/Desktop/Pulled_Github_Repositories/NNPDF_Uncertainty/master_version/samples/MVN_4000_MASTER.npy')\n",
    "MVN_4000_MASTER, MVN_4000_MASTER.shape"
   ]
  },
  {
   "cell_type": "code",
   "execution_count": 3,
   "id": "94f42390-d2d3-4af9-bc7c-f6e881d8cc1e",
   "metadata": {},
   "outputs": [
    {
     "name": "stdout",
     "output_type": "stream",
     "text": [
      "first point [ 0.16080536  0.08426761 -0.12904368  1.02620895 -0.07815834 -0.38075752\n",
      "  0.80798823 10.13182949  4.9098054   5.40227428  7.07814101  4.79523643\n",
      "  1.92292986  9.96338941]\n"
     ]
    }
   ],
   "source": [
    "for i in range(MVN_4000_MASTER.shape[0]):\n",
    "    print('first point', MVN_4000_MASTER[i,:])\n",
    "    break"
   ]
  },
  {
   "cell_type": "markdown",
   "id": "db4ed5b2-7a44-4e5a-892a-c3236151190f",
   "metadata": {},
   "source": [
    "We see that this multivariate normal is a 2d array of size $N_{samples}\\times N_{parameters}$ where above $N_{samples}=4,000, \\ N_{parameters}=14$. But we want the multivariate gaussinan as a single number for each parameter set (for each point), since for a vector $z$, the multivariate normal is \n",
    "$$f(z ; \\mu, \\Sigma)=(2 \\pi)^{-\\left(\\frac{N}{2}\\right)} \\operatorname{det}(\\Sigma)^{-\\frac{1}{2}} \\exp \\left(-.5(z-\\mu)^{T} \\Sigma^{-1}(z-\\mu)\\right)$$"
   ]
  },
  {
   "cell_type": "code",
   "execution_count": 4,
   "id": "68c8fdda-f1a9-4f6d-85d1-59b4844f3151",
   "metadata": {},
   "outputs": [
    {
     "data": {
      "text/plain": [
       "(array([ 4.45e-06,  3.44e-06,  2.25e-06,  2.27e-06, -5.33e-06,  1.28e-06,\n",
       "         1.23e-06,  3.32e-05, -2.41e-06, -2.81e-06,  5.41e-06, -9.82e-07,\n",
       "        -2.68e-05,  2.50e-05]),\n",
       " 0.16126)"
      ]
     },
     "execution_count": 4,
     "metadata": {},
     "output_type": "execute_result"
    }
   ],
   "source": [
    "COV_MASTER= np.load('/home/ali/Desktop/Pulled_Github_Repositories/NNPDF_Uncertainty/master_version/samples/COV_MASTER.npy')\n",
    "params_MASTER= np.load('/home/ali/Desktop/Pulled_Github_Repositories/NNPDF_Uncertainty/master_version/samples/params_MASTER.npy')\n",
    "COV_MASTER[0], params_MASTER[0]"
   ]
  },
  {
   "cell_type": "code",
   "execution_count": 5,
   "id": "ef4ce2dd-5144-47e7-9c50-b0953a2c379c",
   "metadata": {},
   "outputs": [],
   "source": [
    "def f(MVN, mu, sigma):\n",
    "    \"\"\"\n",
    "    The density function of multivariate normal distribution.\n",
    "    N = size of the mean vector, or number of parameter points (14)\n",
    "    MVN = the 2D MV Gaussian function\n",
    "    sigma = the covariance matrix from our best-fit values\n",
    "    \"\"\"\n",
    "\n",
    "    MVN_per_point_l=[]\n",
    "    for i in range(MVN.shape[0]):\n",
    "        #z = np.atleast_2d(z)\n",
    "        z = MVN[i,:]\n",
    "\n",
    "\n",
    "        N = z.size\n",
    "\n",
    "        temp1 = np.linalg.det(sigma) ** (-1/2)\n",
    "        temp2 = np.exp(-.5 * (z - mu).T @ np.linalg.inv(sigma) @ (z - mu))\n",
    "        MVN_per_point = (2 * np.pi) ** (-N/2) * temp1 * temp2\n",
    "        MVN_per_point_l.append(MVN_per_point)\n",
    "    return np.array(MVN_per_point_l)"
   ]
  },
  {
   "cell_type": "code",
   "execution_count": 6,
   "id": "46557ebf-62e3-477a-9d4a-9786a1cc972b",
   "metadata": {},
   "outputs": [
    {
     "data": {
      "text/plain": [
       "array([2.18574405e+15, 1.95225780e+14, 1.79273040e+14, ...,\n",
       "       1.40217180e+15, 2.61533561e+13, 2.05068388e+12])"
      ]
     },
     "execution_count": 6,
     "metadata": {},
     "output_type": "execute_result"
    }
   ],
   "source": [
    "MVN_per_point_l = f(MVN_4000_MASTER, params_MASTER, COV_MASTER); MVN_per_point_l"
   ]
  },
  {
   "cell_type": "code",
   "execution_count": 7,
   "id": "b23d495f-798a-4046-9957-e031f020fc46",
   "metadata": {},
   "outputs": [
    {
     "data": {
      "text/plain": [
       "(4000,)"
      ]
     },
     "execution_count": 7,
     "metadata": {},
     "output_type": "execute_result"
    }
   ],
   "source": [
    "MVN_per_point_l.shape"
   ]
  },
  {
   "cell_type": "code",
   "execution_count": 76,
   "id": "93b4628b-7ad4-4606-ad71-4c16c13760aa",
   "metadata": {},
   "outputs": [
    {
     "data": {
      "text/plain": [
       "(array([3.829e+03, 1.180e+02, 3.300e+01, 1.300e+01, 3.000e+00, 0.000e+00,\n",
       "        2.000e+00, 1.000e+00, 0.000e+00, 1.000e+00]),\n",
       " array([3.60365139e+08, 6.63951622e+15, 1.32790321e+16, 1.99185479e+16,\n",
       "        2.65580638e+16, 3.31975796e+16, 3.98370955e+16, 4.64766114e+16,\n",
       "        5.31161272e+16, 5.97556431e+16, 6.63951589e+16]),\n",
       " <BarContainer object of 10 artists>)"
      ]
     },
     "execution_count": 76,
     "metadata": {},
     "output_type": "execute_result"
    },
    {
     "data": {
      "image/png": "[encoded data removed]",
      "text/plain": [
       "<Figure size 432x288 with 1 Axes>"
      ]
     },
     "metadata": {
      "needs_background": "light"
     },
     "output_type": "display_data"
    }
   ],
   "source": [
    "plt.hist(MVN_per_point_l)"
   ]
  },
  {
   "cell_type": "markdown",
   "id": "9d0925c6-b548-4a46-ab98-9cce66eb7050",
   "metadata": {},
   "source": [
    "### load $\\chi^2$ array"
   ]
  },
  {
   "cell_type": "code",
   "execution_count": 8,
   "id": "84b6986c-3267-4376-bcec-109d91233220",
   "metadata": {},
   "outputs": [
    {
     "data": {
      "text/plain": [
       "(array([ 4106.6131685 ,  4159.59946762,  4092.91292611, ...,\n",
       "        11334.20576305,  4006.2238563 , 50915.37039728]),\n",
       " (4000,))"
      ]
     },
     "execution_count": 8,
     "metadata": {},
     "output_type": "execute_result"
    }
   ],
   "source": [
    "chi2_array_ALL_DATA_4k = np.load('/home/ali/Desktop/Pulled_Github_Repositories/NNPDF_Uncertainty/master_version/local/ALL_DATA_5k/chi2_array_ALL_DATA_4k.npy')\n",
    "chi2_array_ALL_DATA_4k, chi2_array_ALL_DATA_4k.shape"
   ]
  },
  {
   "cell_type": "code",
   "execution_count": 11,
   "id": "031fd50a-bbec-404c-8e85-05b3e1f56710",
   "metadata": {},
   "outputs": [
    {
     "data": {
      "text/plain": [
       "(array([ 4106.6131685 ,  4159.59946762,  4092.91292611, ...,\n",
       "        11334.20576305,  4006.2238563 , 50915.37039728], dtype=float128),\n",
       " 52249.640608373186385,\n",
       " 2743239.3165318313138)"
      ]
     },
     "execution_count": 11,
     "metadata": {},
     "output_type": "execute_result"
    },
    {
     "data": {
      "image/png": "[encoded data removed]",
      "text/plain": [
       "<Figure size 432x288 with 1 Axes>"
      ]
     },
     "metadata": {
      "needs_background": "light"
     },
     "output_type": "display_data"
    }
   ],
   "source": [
    "#to avoid overflow take data type as float 128 to handle exponentiation\n",
    "chi2_array_ALL_DATA_4k = chi2_array_ALL_DATA_4k.astype(np.float128)\n",
    "MVN_4000_MASTER = MVN_4000_MASTER.astype(np.float128)\n",
    "plt.hist(chi2_array_ALL_DATA_4k, bins=100)\n",
    "plt.title('$\\chi^2$ for All data', fontsize=20)\n",
    "chi2_array_ALL_DATA_4k, np.mean(chi2_array_ALL_DATA_4k), np.std(chi2_array_ALL_DATA_4k)"
   ]
  },
  {
   "cell_type": "code",
   "execution_count": 12,
   "id": "78d13773-d897-4583-9ca5-480c23cf649b",
   "metadata": {},
   "outputs": [
    {
     "data": {
      "text/plain": [
       "(52249.640608373186385, 2743239.3165318313138)"
      ]
     },
     "execution_count": 12,
     "metadata": {},
     "output_type": "execute_result"
    }
   ],
   "source": [
    "chi2_array_ALL_DATA_4k.mean(), chi2_array_ALL_DATA_4k.std()"
   ]
  },
  {
   "cell_type": "code",
   "execution_count": 15,
   "id": "9d948fee-53fb-4740-8284-27a03204860a",
   "metadata": {
    "collapsed": {
     "outputs_hidden": true,
     "source_hidden": true
    },
    "jupyter": {
     "outputs_hidden": {
      "outputs_hidden": true,
      "source_hidden": true
     },
     "source_hidden": true
    },
    "tags": []
   },
   "outputs": [
    {
     "data": {
      "text/plain": [
       "(2730.4583091523440999, 173515359.48727497458, 63548.071364305823156)"
      ]
     },
     "execution_count": 15,
     "metadata": {},
     "output_type": "execute_result"
    }
   ],
   "source": [
    "chi2_array_ALL_DATA_4k.min(), chi2_array_ALL_DATA_4k.max(), chi2_array_ALL_DATA_4k.max()/chi2_array_ALL_DATA_4k.min()"
   ]
  },
  {
   "cell_type": "markdown",
   "id": "6f206635-9e2f-427f-93a6-6a6964d5749d",
   "metadata": {
    "tags": []
   },
   "source": [
    "$\\chi^2$ value is expected to be around $~N_{DOF} = 4000-14$"
   ]
  },
  {
   "cell_type": "markdown",
   "id": "1a19ba59-2450-4393-9a3e-20a1ffe29eab",
   "metadata": {
    "tags": []
   },
   "source": [
    "If we do the same method of calculating the weights we run into this problem of getting zeros for the weights since the $\\chi^2$ values are really large. But recall that the weights are \n",
    "\n",
    "$$w_k^i = \\frac{L(\\theta)}{L'(\\theta)} = \\frac{N_{samples} exp^{-\\frac{1}{2} (\\chi_k ^2 - E[\\chi^2])}}{\\mathcal{N}(\\theta_i;\\mu_i, \\sigma_i) \\ \\sum_{k=1}^{N_{samples}} w_k}$$\n",
    "\n",
    "And we don't care about the overall large constant that is multiplying all the weights, we only care about the differences in weights between the data points. Therefore we can take the log of both sides\n",
    "\n",
    "$$log w_k^i = log \\frac{L(\\theta)}{L'(\\theta)} = log L(\\theta) - log L'(\\theta) = log [N_{samples} exp^{-\\frac{1}{2} (\\chi_k ^2 - E[\\chi^2])} ] - log[ \\mathcal{N}(\\theta_i;\\mu_i, \\sigma_i) \\ \\sum_{k=1}^{N_{samples}} w_k] \\ \\ \\ \\ \\ \\ (1)$$mu"
   ]
  },
  {
   "cell_type": "markdown",
   "id": "a9069a5b-c404-4e13-9b4b-3d349d19ce05",
   "metadata": {},
   "source": [
    "$log w = -\\frac{1}{2} [\\chi^2 - (z-\\mu)^{T} \\Sigma^{-1}(z-\\mu) ]$\n",
    "\n",
    "Define \n",
    "\n",
    "second term = $(z-\\mu)^{T} \\Sigma^{-1}(z-\\mu)$"
   ]
  },
  {
   "cell_type": "code",
   "execution_count": 53,
   "id": "ac1612bb-66ec-42cc-af80-670d8247cf62",
   "metadata": {},
   "outputs": [
    {
     "data": {
      "text/plain": [
       "(array([  84.,  676., 1176.,  996.,  610.,  304.,  108.,   31.,   10.,\n",
       "           5.]),\n",
       " array([ 1.70552097,  5.51187541,  9.31822984, 13.12458428, 16.93093872,\n",
       "        20.73729316, 24.5436476 , 28.35000204, 32.15635647, 35.96271091,\n",
       "        39.76906535], dtype=float128),\n",
       " <BarContainer object of 10 artists>)"
      ]
     },
     "execution_count": 53,
     "metadata": {},
     "output_type": "execute_result"
    },
    {
     "data": {
      "image/png": "[encoded data removed]",
      "text/plain": [
       "<Figure size 432x288 with 1 Axes>"
      ]
     },
     "metadata": {
      "needs_background": "light"
     },
     "output_type": "display_data"
    }
   ],
   "source": [
    "# z = MVN_per_point_l\n",
    "mu = params_MASTER\n",
    "sigma = COV_MASTER\n",
    "second_term_l = []\n",
    "for i in range(MVN_4000_MASTER.shape[0]):\n",
    "    second_term = (MVN_4000_MASTER[i,:] - mu).T @ np.linalg.inv(sigma) @ (MVN_4000_MASTER[i,:] - mu)\n",
    "    second_term_l.append(second_term)\n",
    "plt.hist(np.array(second_term_l))# second term dist is much narrower, which is what we expect"
   ]
  },
  {
   "cell_type": "markdown",
   "id": "4f5d206a-6134-4e8a-8a35-579177cd804d",
   "metadata": {},
   "source": [
    "Let's look at the $\\chi^2$ distribution within $2\\sigma$ around the best fit  values of the parameters."
   ]
  },
  {
   "cell_type": "code",
   "execution_count": 77,
   "id": "112963bf-a318-463a-bc69-bfcf731216ce",
   "metadata": {},
   "outputs": [],
   "source": [
    "list_of_tuples = []; \n",
    "MVG_within_1_sigma=[]\n",
    "chi2_within_1_sigma=[] #np.empty((4000,14))\n",
    "for i in range(14):\n",
    "    param_list_i=[]\n",
    "#     weight_list_i = []\n",
    "    chi2_list_param_i=[]\n",
    "    for k in range(4000):\n",
    "        param_value = MVN_4000_MASTER[k, i] #at the kth point, for parameter i\n",
    "        \n",
    "        MVG_point_within_1s = MVN_per_point_l[k]\n",
    "        #std = np.std(MVN_per_point_l)\n",
    "        #mean_MVG = np.mean(MVN_per_point_l)\n",
    "        \n",
    "        std_MVN_value = np.std(MVN_4000_MASTER[k,:])\n",
    "        mean_MVN_value = np.mean(MVN_4000_MASTER[k,:])\n",
    "        if (param_value > (mean_MVN_value - 1*std_MVN_value)) and (param_value < (mean_MVN_value + 1*std_MVN_value)):\n",
    "            #if weight_value < (mean_weight + 4*std_weight_value):\n",
    "\n",
    "            #param_list_i.append(param_value)\n",
    "            param_list_i.append(MVG_point_within_1s)\n",
    "            chi2_list_param_i.append(chi2_array_ALL_DATA_4k[k])\n",
    "    MVG_within_1_sigma.append(param_list_i)\n",
    "    chi2_within_1_sigma.append(chi2_list_param_i)\n",
    "            #chi2_within_1_sigma[k,i] = chi2_array_ALL_DATA_4k[k]\n",
    "    tuple_i = (param_list_i, chi2_list)\n",
    "    list_of_tuples.append(tuple_i)\n",
    "#len(list_of_tuples)                \n",
    "#list_of_tuples[1]"
   ]
  },
  {
   "cell_type": "code",
   "execution_count": 78,
   "id": "13b4e693-d1c2-4778-9b72-5558a1a31b8e",
   "metadata": {},
   "outputs": [
    {
     "data": {
      "text/plain": [
       "(52249.640608373186385, 52249.640608373186385, 52249.640608373186385)"
      ]
     },
     "execution_count": 78,
     "metadata": {},
     "output_type": "execute_result"
    }
   ],
   "source": [
    "np.mean(chi2_within_1_sigma[0]), np.mean(chi2_within_1_sigma[2]), np.mean(chi2_within_1_sigma[3])"
   ]
  },
  {
   "cell_type": "markdown",
   "id": "a2fbd03d-d8de-473b-9af0-f233a3a47924",
   "metadata": {},
   "source": [
    "Same means of $\\chi^2$ for each parameter, as we expect.\n",
    "\n",
    "Still the weird behavior of the $\\chi^2$ values being very large "
   ]
  },
  {
   "cell_type": "code",
   "execution_count": 71,
   "id": "81bd0dcf-256e-4876-8bee-ff49bad9c50a",
   "metadata": {},
   "outputs": [
    {
     "data": {
      "text/plain": [
       "Text(0.5, 1.0, '$\\\\chi^2$ values within $1\\\\ \\\\sigma$ of the best-fit values of the parameters')"
      ]
     },
     "execution_count": 71,
     "metadata": {},
     "output_type": "execute_result"
    },
    {
     "data": {
      "image/png": "[encoded data removed]",
      "text/plain": [
       "<Figure size 432x288 with 1 Axes>"
      ]
     },
     "metadata": {
      "needs_background": "light"
     },
     "output_type": "display_data"
    }
   ],
   "source": [
    "plt.hist(chi2_within_1_sigma[0], bins=100)\n",
    "plt.title('$\\chi^2$ values within $1\\ \\sigma$ of the best-fit values of the parameters', fontsize=18)"
   ]
  },
  {
   "cell_type": "code",
   "execution_count": 81,
   "id": "3558106d-bd37-4d6d-ab39-ca087a970681",
   "metadata": {},
   "outputs": [
    {
     "data": {
      "text/plain": [
       "(14, 4000)"
      ]
     },
     "execution_count": 81,
     "metadata": {},
     "output_type": "execute_result"
    }
   ],
   "source": [
    "len(MVG_within_1_sigma), len(MVG_within_1_sigma[0])"
   ]
  },
  {
   "cell_type": "code",
   "execution_count": 82,
   "id": "0ed8fc83-cb89-4159-ad6e-f6a71ab7fa71",
   "metadata": {},
   "outputs": [
    {
     "data": {
      "text/plain": [
       "Text(0.5, 1.0, 'MVG parameter values within $1\\\\ \\\\sigma$ of the best-fit values of the parameters')"
      ]
     },
     "execution_count": 82,
     "metadata": {},
     "output_type": "execute_result"
    },
    {
     "data": {
      "image/png": "[encoded data removed]",
      "text/plain": [
       "<Figure size 432x288 with 1 Axes>"
      ]
     },
     "metadata": {
      "needs_background": "light"
     },
     "output_type": "display_data"
    }
   ],
   "source": [
    "plt.hist(MVG_within_1_sigma[0], bins=100)\n",
    "plt.title('MVG parameter values within $1\\ \\sigma$ of the best-fit values of the parameters', fontsize=18)"
   ]
  },
  {
   "cell_type": "markdown",
   "id": "030aeea6-983a-494e-b6bd-003fc018a42c",
   "metadata": {},
   "source": [
    "Around the peak of the multivariate Gaussian, we expect this approximation to work and the $\\chi^2$ values not to be so large."
   ]
  },
  {
   "cell_type": "code",
   "execution_count": 74,
   "id": "a8012f80-0230-4b52-b079-82ebde71ccd4",
   "metadata": {},
   "outputs": [
    {
     "data": {
      "text/plain": [
       "array([-48143.02743987, -48090.04114075, -48156.72768227, ...,\n",
       "       -40915.43484533, -48243.41675208,  -1334.27021109], dtype=float128)"
      ]
     },
     "execution_count": 74,
     "metadata": {},
     "output_type": "execute_result"
    }
   ],
   "source": [
    "chi2_array_ALL_DATA_4k - np.mean(chi2_array_ALL_DATA_4k)"
   ]
  },
  {
   "cell_type": "code",
   "execution_count": 54,
   "id": "520e785b-43a8-407a-8677-cecbe195e2d5",
   "metadata": {},
   "outputs": [
    {
     "data": {
      "text/plain": [
       "(array([1.000e+00, 0.000e+00, 0.000e+00, 0.000e+00, 0.000e+00, 0.000e+00,\n",
       "        0.000e+00, 0.000e+00, 0.000e+00, 3.999e+03]),\n",
       " array([-8.67315463e+07, -7.80559142e+07, -6.93802820e+07, -6.07046499e+07,\n",
       "        -5.20290177e+07, -4.33533856e+07, -3.46777534e+07, -2.60021212e+07,\n",
       "        -1.73264891e+07, -8.65085693e+06,  2.47752309e+04], dtype=float128),\n",
       " <BarContainer object of 10 artists>)"
      ]
     },
     "execution_count": 54,
     "metadata": {},
     "output_type": "execute_result"
    },
    {
     "data": {
      "image/png": "[encoded data removed]",
      "text/plain": [
       "<Figure size 432x288 with 1 Axes>"
      ]
     },
     "metadata": {
      "needs_background": "light"
     },
     "output_type": "display_data"
    }
   ],
   "source": [
    "chi2_diff = chi2_array_ALL_DATA_4k - np.mean(chi2_array_ALL_DATA_4k)\n",
    "w = -0.5*(chi2_diff-np.array(second_term_l))\n",
    "plt.hist(w)"
   ]
  },
  {
   "cell_type": "code",
   "execution_count": 55,
   "id": "204be8f2-6848-4a7e-8783-a316f46d1165",
   "metadata": {},
   "outputs": [
    {
     "data": {
      "text/plain": [
       "-1.2732925824820995331e-14"
      ]
     },
     "execution_count": 55,
     "metadata": {},
     "output_type": "execute_result"
    }
   ],
   "source": [
    "np.mean(chi2_diff)"
   ]
  },
  {
   "cell_type": "code",
   "execution_count": 56,
   "id": "8a659ec2-e9d9-4239-9297-dbbfbb65fe83",
   "metadata": {},
   "outputs": [
    {
     "data": {
      "text/plain": [
       "(array([24071.51371994, 24045.02057037, 24078.36384113, ...,\n",
       "        20457.71742266, 24121.70837604,   667.13510555], dtype=float128),\n",
       " 6.3664629124104976654e-15)"
      ]
     },
     "execution_count": 56,
     "metadata": {},
     "output_type": "execute_result"
    }
   ],
   "source": [
    "mean_chi2 = np.mean(chi2_array_ALL_DATA_4k)\n",
    "#remember to rename diff (no need to take diff at this point)\n",
    "chi2_diff = chi2_array_ALL_DATA_4k - mean_chi2\n",
    "\n",
    "log_numerator = -0.5*chi2_diff\n",
    "log_numerator.shape\n",
    "# for i in range(14):\n",
    "#     log_numerator[:,i] =  - 0.5 * (chi2_diff)\n",
    "# log_numerator #no normalization factor\n",
    "log_numerator, np.mean(log_numerator)"
   ]
  },
  {
   "cell_type": "code",
   "execution_count": 57,
   "id": "56ccbd20-c977-4060-95eb-ebd835d80ee5",
   "metadata": {},
   "outputs": [
    {
     "data": {
      "text/plain": [
       "array([24071.51371994, 24045.02057037, 24078.36384113, ...,\n",
       "       20457.71742266, 24121.70837604,   667.13510555], dtype=float128)"
      ]
     },
     "execution_count": 57,
     "metadata": {},
     "output_type": "execute_result"
    }
   ],
   "source": [
    "log_numerator = log_numerator - np.mean(log_numerator)\n",
    "log_numerator"
   ]
  },
  {
   "cell_type": "code",
   "execution_count": 85,
   "id": "bd5c2687-5392-4c99-b611-8c5e816f4ed4",
   "metadata": {},
   "outputs": [
    {
     "data": {
      "text/plain": [
       "array([35.32073269, 32.90517785, 32.81993112, ..., 34.87679871,\n",
       "       30.89499864, 28.34919446])"
      ]
     },
     "execution_count": 85,
     "metadata": {},
     "output_type": "execute_result"
    }
   ],
   "source": [
    "np.log(MVN_per_point_l)"
   ]
  },
  {
   "cell_type": "markdown",
   "id": "1f6ddfd5-e9f4-4a12-928b-9511590b9109",
   "metadata": {},
   "source": [
    "Remember (from above)\n",
    "\n",
    "log numerator $ = -\\frac{1}{2} \\chi^2$,  log denomenator $=log [MVG]$"
   ]
  },
  {
   "cell_type": "code",
   "execution_count": 93,
   "id": "1f7d25cd-673c-46a2-9382-e82866968654",
   "metadata": {},
   "outputs": [
    {
     "data": {
      "text/plain": [
       "Text(0.5, 1.0, 'log denomenator within 1 sigma of best-fit values')"
      ]
     },
     "execution_count": 93,
     "metadata": {},
     "output_type": "execute_result"
    },
    {
     "data": {
      "image/png": "[encoded data removed]",
      "text/plain": [
       "<Figure size 720x720 with 4 Axes>"
      ]
     },
     "metadata": {
      "needs_background": "light"
     },
     "output_type": "display_data"
    }
   ],
   "source": [
    "#plt.hist(log_numerator, range=(-10**6,0)) #this is equivalent to plt.hist(log_numerator/(e7), range=(-0.01,0))\n",
    "# plt.title('log numerator')\n",
    "log_den = np.log(MVN_per_point_l)\n",
    "log_den.shape\n",
    "# plt.hist(log_den)\n",
    "# plt.title('log denomenator')\n",
    "\n",
    "fig, axes = plt.subplots(nrows=2, ncols=2, figsize=(10,10))\n",
    "axes[0,0].hist(log_numerator); axes[0,0].set_title('log numerator')\n",
    "axes[0,1].hist(log_den); axes[0,1].set_title('log denomenator')\n",
    "\n",
    "axes[1,0].hist(-0.5*np.array(chi2_within_1_sigma[0])); axes[1,0].set_title('log numerator within 1 sigma of best-fit values')\n",
    "axes[1,1].hist(np.log(MVG_within_1_sigma[0])); axes[1,1].set_title('log denomenator within 1 sigma of best-fit values')\n",
    "\n"
   ]
  },
  {
   "cell_type": "code",
   "execution_count": 60,
   "id": "2be7d4da-e14e-4963-8177-9d1a0629d811",
   "metadata": {},
   "outputs": [
    {
     "data": {
      "text/plain": [
       "Text(0.5, 1.0, 'log denomenator')"
      ]
     },
     "execution_count": 60,
     "metadata": {},
     "output_type": "execute_result"
    },
    {
     "data": {
      "image/png": "[encoded data removed]",
      "text/plain": [
       "<Figure size 432x288 with 1 Axes>"
      ]
     },
     "metadata": {
      "needs_background": "light"
     },
     "output_type": "display_data"
    }
   ],
   "source": [
    "# def log_den(MVN_per_point_l):\n",
    "#     log_den_l = []\n",
    "#     for i in range(MVN_per_point_l.shape[0]):\n",
    "#         log_den = np.log(MVN_per_point_l)\n",
    "\n"
   ]
  },
  {
   "cell_type": "markdown",
   "id": "bd04be55-9ec0-4f32-86c7-a2e0639e8359",
   "metadata": {},
   "source": [
    "Let's try the weights without doing it in log space"
   ]
  },
  {
   "cell_type": "code",
   "execution_count": 116,
   "id": "aaa9dcc7-2916-4b6b-b7e8-062c84781ae0",
   "metadata": {},
   "outputs": [
    {
     "name": "stderr",
     "output_type": "stream",
     "text": [
      "/home/ali/anaconda3/lib/python3.7/site-packages/ipykernel_launcher.py:3: RuntimeWarning: overflow encountered in exp\n",
      "  This is separate from the ipykernel package so we can avoid doing imports until\n"
     ]
    },
    {
     "data": {
      "text/plain": [
       "array([             inf,             -inf,             -inf, ...,\n",
       "                    inf,             -inf, -4.44980981e+274],\n",
       "      dtype=float128)"
      ]
     },
     "execution_count": 116,
     "metadata": {},
     "output_type": "execute_result"
    }
   ],
   "source": [
    "chi2_array_ALL_DATA_4k = chi2_array_ALL_DATA_4k-np.mean(chi2_array_ALL_DATA_4k)\n",
    "MVN_per_point_l = MVN_per_point_l - np.mean(MVN_per_point_l)\n",
    "weights = np.exp(-0.5 * chi2_array_ALL_DATA_4k)/MVN_per_point_l\n",
    "weights"
   ]
  },
  {
   "cell_type": "code",
   "execution_count": 114,
   "id": "3ab5ea2d-aaaa-412a-9690-ffc2f05c4826",
   "metadata": {},
   "outputs": [
    {
     "data": {
      "text/plain": [
       "(array([3999.,    0.,    0.,    0.,    0.,    0.,    0.,    0.,    0.,\n",
       "           0.]),\n",
       " array([0. , 0.2, 0.4, 0.6, 0.8, 1. , 1.2, 1.4, 1.6, 1.8, 2. ],\n",
       "       dtype=float128),\n",
       " <BarContainer object of 10 artists>)"
      ]
     },
     "execution_count": 114,
     "metadata": {},
     "output_type": "execute_result"
    },
    {
     "data": {
      "image/png": "[encoded data removed]",
      "text/plain": [
       "<Figure size 432x288 with 1 Axes>"
      ]
     },
     "metadata": {
      "needs_background": "light"
     },
     "output_type": "display_data"
    }
   ],
   "source": [
    "weights = 4000 * weights/np.sum(weights)\n",
    "plt.hist(weights, range=(0,2))"
   ]
  },
  {
   "cell_type": "code",
   "execution_count": 61,
   "id": "36c7c111-a05b-4585-b0cd-dab8c320394b",
   "metadata": {},
   "outputs": [
    {
     "data": {
      "text/plain": [
       "(array([ 1.,  1.,  2.,  1.,  0.,  5.,  4.,  7., 12., 19.]),\n",
       " array([-0.01 , -0.009, -0.008, -0.007, -0.006, -0.005, -0.004, -0.003,\n",
       "        -0.002, -0.001,  0.   ], dtype=float128),\n",
       " <BarContainer object of 10 artists>)"
      ]
     },
     "execution_count": 61,
     "metadata": {},
     "output_type": "execute_result"
    },
    {
     "data": {
      "image/png": "[encoded data removed]",
      "text/plain": [
       "<Figure size 432x288 with 1 Axes>"
      ]
     },
     "metadata": {
      "needs_background": "light"
     },
     "output_type": "display_data"
    }
   ],
   "source": [
    "log_RHS = log_numerator - log_den\n",
    "log_RHS, log_RHS.shape\n",
    "plt.hist(log_RHS/(1e7), range=(-0.01,0))"
   ]
  },
  {
   "cell_type": "code",
   "execution_count": 62,
   "id": "55458100-d5a3-4c6d-a21f-4b9fe4ea3a07",
   "metadata": {},
   "outputs": [
    {
     "data": {
      "text/plain": [
       "(array([1.000e+00, 0.000e+00, 0.000e+00, 0.000e+00, 0.000e+00, 0.000e+00,\n",
       "        0.000e+00, 0.000e+00, 0.000e+00, 3.999e+03]),\n",
       " array([-8.67315859e+07, -7.80559538e+07, -6.93803216e+07, -6.07046895e+07,\n",
       "        -5.20290573e+07, -4.33534251e+07, -3.46777930e+07, -2.60021608e+07,\n",
       "        -1.73265287e+07, -8.65089651e+06,  2.47356437e+04], dtype=float128),\n",
       " <BarContainer object of 10 artists>)"
      ]
     },
     "execution_count": 62,
     "metadata": {},
     "output_type": "execute_result"
    },
    {
     "data": {
      "image/png": "[encoded data removed]",
      "text/plain": [
       "<Figure size 432x288 with 1 Axes>"
      ]
     },
     "metadata": {
      "needs_background": "light"
     },
     "output_type": "display_data"
    }
   ],
   "source": [
    "plt.hist(log_RHS)"
   ]
  },
  {
   "cell_type": "code",
   "execution_count": 36,
   "id": "e28dd83c-d620-45ea-94ef-f29c207092bd",
   "metadata": {},
   "outputs": [
    {
     "data": {
      "text/plain": [
       "(array([24068.75203129, 24044.67443657, 24078.10295406, ...,\n",
       "        20455.39966799, 24123.37242144,   671.34495514], dtype=float128),\n",
       " (4000,))"
      ]
     },
     "execution_count": 36,
     "metadata": {},
     "output_type": "execute_result"
    }
   ],
   "source": [
    "mean_log_RHS = np.mean(log_RHS)\n",
    "log_weight =log_RHS- mean_log_RHS\n",
    "log_weight, log_weight.shape"
   ]
  },
  {
   "cell_type": "code",
   "execution_count": 41,
   "id": "d85b842d-3b50-444f-acf5-29752635788f",
   "metadata": {},
   "outputs": [
    {
     "data": {
      "text/plain": [
       "-32.55904404488593718"
      ]
     },
     "execution_count": 41,
     "metadata": {},
     "output_type": "execute_result"
    }
   ],
   "source": [
    "mean_log_RHS"
   ]
  },
  {
   "cell_type": "code",
   "execution_count": 37,
   "id": "dd96a7fd-9375-47b8-bba6-1f20ae93ad88",
   "metadata": {},
   "outputs": [
    {
     "data": {
      "text/plain": [
       "(array([1.000e+00, 0.000e+00, 0.000e+00, 0.000e+00, 0.000e+00, 0.000e+00,\n",
       "        0.000e+00, 0.000e+00, 0.000e+00, 3.999e+03]),\n",
       " array([-8.67315534e+07, -7.80559212e+07, -6.93802891e+07, -6.07046569e+07,\n",
       "        -5.20290247e+07, -4.33533926e+07, -3.46777604e+07, -2.60021283e+07,\n",
       "        -1.73264961e+07, -8.65086395e+06,  2.47682028e+04], dtype=float128),\n",
       " <BarContainer object of 10 artists>)"
      ]
     },
     "execution_count": 37,
     "metadata": {},
     "output_type": "execute_result"
    },
    {
     "data": {
      "image/png": "[encoded data removed]",
      "text/plain": [
       "<Figure size 432x288 with 1 Axes>"
      ]
     },
     "metadata": {
      "needs_background": "light"
     },
     "output_type": "display_data"
    }
   ],
   "source": [
    "plt.hist(log_weight)"
   ]
  },
  {
   "cell_type": "code",
   "execution_count": 38,
   "id": "f29b259e-05c1-4bb2-8e04-15fb04493289",
   "metadata": {},
   "outputs": [
    {
     "data": {
      "text/plain": [
       "array([8.82129091e+18, 8.81246638e+18, 8.82471806e+18, ...,\n",
       "       7.49698326e+18, 8.84130949e+18, 2.46050528e+17], dtype=float128)"
      ]
     },
     "execution_count": 38,
     "metadata": {},
     "output_type": "execute_result"
    }
   ],
   "source": [
    "log_weight = MVN_4000_MASTER.shape[0] * log_weight/np.sum(log_weight)\n",
    "log_weight+"
   ]
  },
  {
   "cell_type": "code",
   "execution_count": 39,
   "id": "df74d095-9b83-4f2d-a44b-97edd09d89d8",
   "metadata": {},
   "outputs": [
    {
     "name": "stderr",
     "output_type": "stream",
     "text": [
      "/home/ali/anaconda3/lib/python3.7/site-packages/ipykernel_launcher.py:1: RuntimeWarning: overflow encountered in exp\n",
      "  \"\"\"Entry point for launching an IPython kernel.\n"
     ]
    },
    {
     "data": {
      "text/plain": [
       "array([inf, inf, inf, ..., inf, inf, inf], dtype=float128)"
      ]
     },
     "execution_count": 39,
     "metadata": {},
     "output_type": "execute_result"
    }
   ],
   "source": []
  },
  {
   "cell_type": "code",
   "execution_count": null,
   "id": "e1a112f4-d969-47a6-8ed9-337b81755ba3",
   "metadata": {},
   "outputs": [],
   "source": []
  }
 ],
 "metadata": {
  "kernelspec": {
   "display_name": "Python 3 (ipykernel)",
   "language": "python",
   "name": "python3"
  },
  "language_info": {
   "codemirror_mode": {
    "name": "ipython",
    "version": 3
   },
   "file_extension": ".py",
   "mimetype": "text/x-python",
   "name": "python",
   "nbconvert_exporter": "python",
   "pygments_lexer": "ipython3",
   "version": "3.7.7"
  }
 },
 "nbformat": 4,
 "nbformat_minor": 5
}
