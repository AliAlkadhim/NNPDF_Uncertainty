{
 "cells": [
  {
   "cell_type": "code",
   "execution_count": 1,
   "id": "6a286911-96b9-43ed-b105-b596a6a91486",
   "metadata": {},
   "outputs": [],
   "source": [
    "import numpy as np\n",
    "import matplotlib.pyplot as plt\n",
    "plt.rcParams.update({\"text.usetex\":True})"
   ]
  },
  {
   "cell_type": "code",
   "execution_count": 2,
   "id": "8cabeb8e-4f52-4869-8472-387ebbbed92d",
   "metadata": {},
   "outputs": [
    {
     "data": {
      "text/plain": [
       "(array([[ 0.16172609,  0.09183824, -0.12580597, ...,  4.86159858,\n",
       "          1.5553384 , 10.30086003],\n",
       "        [ 0.16266259,  0.07095649, -0.12455276, ...,  4.78063692,\n",
       "          1.5605276 , 10.2241856 ],\n",
       "        [ 0.16160545,  0.07665691, -0.12707366, ...,  4.79848154,\n",
       "          1.29221794,  9.81899647],\n",
       "        ...,\n",
       "        [ 0.15891398,  0.06128877, -0.12805249, ...,  4.78325027,\n",
       "          1.6255521 ,  9.93207862],\n",
       "        [ 0.16260887,  0.07567519, -0.12446915, ...,  4.84055642,\n",
       "          2.03662124, 10.25524795],\n",
       "        [ 0.16067225,  0.04255759, -0.12890815, ...,  4.90296747,\n",
       "          1.25109376, 10.41021844]]),\n",
       " (25000, 14))"
      ]
     },
     "execution_count": 2,
     "metadata": {},
     "output_type": "execute_result"
    }
   ],
   "source": [
    "MVN_4000_MASTER = np.load('/home/ali/Desktop/Pulled_Github_Repositories/NNPDF_Uncertainty/master_version/samples/MVN_25k_MASTER.npy')\n",
    "MVN_4000_MASTER, MVN_4000_MASTER.shape"
   ]
  },
  {
   "cell_type": "code",
   "execution_count": 3,
   "id": "94f42390-d2d3-4af9-bc7c-f6e881d8cc1e",
   "metadata": {},
   "outputs": [
    {
     "name": "stdout",
     "output_type": "stream",
     "text": [
      "first point [ 0.16172609  0.09183824 -0.12580597  1.01721746 -0.08472017 -0.37810776\n",
      "  0.81556333  9.66630539  4.79028428  5.65795523  7.00927007  4.86159858\n",
      "  1.5553384  10.30086003]\n"
     ]
    }
   ],
   "source": [
    "for i in range(MVN_4000_MASTER.shape[0]):\n",
    "    print('first point', MVN_4000_MASTER[i,:])\n",
    "    break"
   ]
  },
  {
   "cell_type": "markdown",
   "id": "db4ed5b2-7a44-4e5a-892a-c3236151190f",
   "metadata": {},
   "source": [
    "We see that this multivariate normal is a 2d array of size $N_{samples}\\times N_{parameters}$ where above $N_{samples}=4,000, \\ N_{parameters}=14$. But we want the multivariate gaussinan as a single number for each parameter set (for each point), since for a vector $z$, the multivariate normal is \n",
    "$$f(z ; \\mu, \\Sigma)=(2 \\pi)^{-\\left(\\frac{N}{2}\\right)} \\operatorname{det}(\\Sigma)^{-\\frac{1}{2}} \\exp \\left(-.5(z-\\mu)^{T} \\Sigma^{-1}(z-\\mu)\\right)$$"
   ]
  },
  {
   "cell_type": "code",
   "execution_count": 4,
   "id": "68c8fdda-f1a9-4f6d-85d1-59b4844f3151",
   "metadata": {},
   "outputs": [
    {
     "data": {
      "text/plain": [
       "(array([ 4.45e-06,  3.44e-06,  2.25e-06,  2.27e-06, -5.33e-06,  1.28e-06,\n",
       "         1.23e-06,  3.32e-05, -2.41e-06, -2.81e-06,  5.41e-06, -9.82e-07,\n",
       "        -2.68e-05,  2.50e-05]),\n",
       " 0.16126)"
      ]
     },
     "execution_count": 4,
     "metadata": {},
     "output_type": "execute_result"
    }
   ],
   "source": [
    "MVN_4000_MASTER = np.load('/home/ali/Desktop/Pulled_Github_Repositories/NNPDF_Uncertainty/master_version/samples/MVN_25k_MASTER.npy')\n",
    "COV_MASTER= np.load('/home/ali/Desktop/Pulled_Github_Repositories/NNPDF_Uncertainty/master_version/samples/COV_MASTER.npy')\n",
    "params_MASTER= np.load('/home/ali/Desktop/Pulled_Github_Repositories/NNPDF_Uncertainty/master_version/samples/params_MASTER.npy')\n",
    "COV_MASTER[0], params_MASTER[0]"
   ]
  },
  {
   "cell_type": "code",
   "execution_count": 5,
   "id": "ef4ce2dd-5144-47e7-9c50-b0953a2c379c",
   "metadata": {},
   "outputs": [],
   "source": [
    "def f(MVN, mu, sigma):\n",
    "    \"\"\"\n",
    "    The density function of multivariate normal distribution.\n",
    "    N = size of the mean vector, or number of parameter points (14)\n",
    "    MVN = the 2D MV Gaussian function\n",
    "    sigma = the covariance matrix from our best-fit values\n",
    "    \"\"\"\n",
    "\n",
    "    MVN_per_point_l=[]\n",
    "    for i in range(MVN.shape[0]):\n",
    "        #z = np.atleast_2d(z)\n",
    "        z = MVN[i,:]\n",
    "\n",
    "\n",
    "        N = z.size\n",
    "\n",
    "        temp1 = np.linalg.det(sigma) ** (-1/2)\n",
    "        temp2 = np.exp(-.5 * (z - mu).T @ np.linalg.inv(sigma) @ (z - mu))\n",
    "        MVN_per_point = (2 * np.pi) ** (-N/2) * temp1 * temp2\n",
    "        MVN_per_point_l.append(MVN_per_point)\n",
    "    return np.array(MVN_per_point_l)"
   ]
  },
  {
   "cell_type": "code",
   "execution_count": 115,
   "id": "46557ebf-62e3-477a-9d4a-9786a1cc972b",
   "metadata": {},
   "outputs": [
    {
     "data": {
      "text/plain": [
       "array([1.57292724e+14, 3.38937034e+13, 1.29186440e+14, ...,\n",
       "       1.87757908e+14, 6.29903331e+13, 3.53642259e+12], dtype=float128)"
      ]
     },
     "execution_count": 115,
     "metadata": {},
     "output_type": "execute_result"
    }
   ],
   "source": [
    "MVN_per_point_l = f(MVN_4000_MASTER, params_MASTER, COV_MASTER); MVN_per_point_l"
   ]
  },
  {
   "cell_type": "code",
   "execution_count": 7,
   "id": "b23d495f-798a-4046-9957-e031f020fc46",
   "metadata": {},
   "outputs": [
    {
     "data": {
      "text/plain": [
       "(25000,)"
      ]
     },
     "execution_count": 7,
     "metadata": {},
     "output_type": "execute_result"
    }
   ],
   "source": [
    "MVN_per_point_l.shape"
   ]
  },
  {
   "cell_type": "code",
   "execution_count": 8,
   "id": "93b4628b-7ad4-4606-ad71-4c16c13760aa",
   "metadata": {},
   "outputs": [
    {
     "data": {
      "text/plain": [
       "Text(0.5, 1.0, 'Multivariate Normal per point')"
      ]
     },
     "execution_count": 8,
     "metadata": {},
     "output_type": "execute_result"
    },
    {
     "data": {
      "image/png": "[encoded data removed]",
      "text/plain": [
       "<Figure size 432x288 with 1 Axes>"
      ]
     },
     "metadata": {
      "needs_background": "light"
     },
     "output_type": "display_data"
    }
   ],
   "source": [
    "plt.hist(MVN_per_point_l)\n",
    "plt.title('Multivariate Normal per point', fontsize=14)"
   ]
  },
  {
   "cell_type": "markdown",
   "id": "9d0925c6-b548-4a46-ab98-9cce66eb7050",
   "metadata": {},
   "source": [
    "### load $\\chi^2$ array"
   ]
  },
  {
   "cell_type": "code",
   "execution_count": 48,
   "id": "84b6986c-3267-4376-bcec-109d91233220",
   "metadata": {},
   "outputs": [
    {
     "data": {
      "text/plain": [
       "(array([ 2998.10701678,  4317.46057659, 26647.71318231, ...,\n",
       "         7382.79847075, 12768.91606837,  3205.31067653]),\n",
       " (25000,))"
      ]
     },
     "execution_count": 48,
     "metadata": {},
     "output_type": "execute_result"
    }
   ],
   "source": [
    "chi2_array_ALL_DATA_4k = np.load('/home/ali/Desktop/Pulled_Github_Repositories/NNPDF_Uncertainty/master_version/local/ALL_DATA_25k/chi2_array_ALL_DATA_25k.npy')\n",
    "chi2_array_ALL_DATA_4k, chi2_array_ALL_DATA_4k.shape"
   ]
  },
  {
   "cell_type": "code",
   "execution_count": 34,
   "id": "031fd50a-bbec-404c-8e85-05b3e1f56710",
   "metadata": {},
   "outputs": [
    {
     "name": "stdout",
     "output_type": "stream",
     "text": [
      "the mean and std of $\\chi^2$ are respectively 12770.200285177548967 525317.48879534142515\n"
     ]
    },
    {
     "data": {
      "image/png": "[encoded data removed]",
      "text/plain": [
       "<Figure size 432x288 with 1 Axes>"
      ]
     },
     "metadata": {
      "needs_background": "light"
     },
     "output_type": "display_data"
    }
   ],
   "source": [
    "#to avoid overflow take data type as float 128 to handle exponentiation\n",
    "chi2_array_ALL_DATA_4k = chi2_array_ALL_DATA_4k.astype(np.float128)\n",
    "MVN_4000_MASTER = MVN_4000_MASTER.astype(np.float128)\n",
    "plt.hist(chi2_array_ALL_DATA_4k, bins=100)\n",
    "plt.title('$\\chi^2$ for All data', fontsize=20)\n",
    "print(r'the mean and std of $\\chi^2$ are respectively', np.mean(chi2_array_ALL_DATA_4k), np.std(chi2_array_ALL_DATA_4k))"
   ]
  },
  {
   "cell_type": "code",
   "execution_count": 13,
   "id": "43f0d5c2-b181-4635-84d7-164ec3bf2a34",
   "metadata": {},
   "outputs": [
    {
     "name": "stderr",
     "output_type": "stream",
     "text": [
      "/home/ali/anaconda3/lib/python3.7/site-packages/matplotlib/transforms.py:2012: RuntimeWarning: invalid value encountered in double_scalars\n",
      "  self._mtx[0, 2] += tx\n",
      "/home/ali/anaconda3/lib/python3.7/site-packages/matplotlib/transforms.py:396: RuntimeWarning: invalid value encountered in double_scalars\n",
      "  return (x0, y0, x1 - x0, y1 - y0)\n"
     ]
    },
    {
     "data": {
      "text/plain": [
       "Text(0.5, 1.0, '$e^{-0.5 \\\\chi^2}$')"
      ]
     },
     "execution_count": 13,
     "metadata": {},
     "output_type": "execute_result"
    },
    {
     "name": "stderr",
     "output_type": "stream",
     "text": [
      "/home/ali/anaconda3/lib/python3.7/site-packages/matplotlib/transforms.py:2012: RuntimeWarning: invalid value encountered in double_scalars\n",
      "  self._mtx[0, 2] += tx\n",
      "/home/ali/anaconda3/lib/python3.7/site-packages/matplotlib/transforms.py:396: RuntimeWarning: invalid value encountered in double_scalars\n",
      "  return (x0, y0, x1 - x0, y1 - y0)\n",
      "/home/ali/anaconda3/lib/python3.7/site-packages/matplotlib/transforms.py:2012: RuntimeWarning: invalid value encountered in double_scalars\n",
      "  self._mtx[0, 2] += tx\n",
      "/home/ali/anaconda3/lib/python3.7/site-packages/matplotlib/transforms.py:396: RuntimeWarning: invalid value encountered in double_scalars\n",
      "  return (x0, y0, x1 - x0, y1 - y0)\n"
     ]
    },
    {
     "data": {
      "image/png": "[encoded data removed]",
      "text/plain": [
       "<Figure size 432x288 with 1 Axes>"
      ]
     },
     "metadata": {
      "needs_background": "light"
     },
     "output_type": "display_data"
    }
   ],
   "source": [
    "chi2_array_ALL_DATA_4k = chi2_array_ALL_DATA_4k-np.mean(chi2_array_ALL_DATA_4k)\n",
    "plt.hist(np.exp(-0.5*chi2_array_ALL_DATA_4k))\n",
    "plt.title('$e^{-0.5 \\chi^2}$')"
   ]
  },
  {
   "cell_type": "markdown",
   "id": "7117ec61-a439-4b2b-94e0-9448248231b9",
   "metadata": {},
   "source": [
    "### clearly, the old method of calculating the weights does not work anymore, because the $\\chi^2$ values are too large now so we cannot exponentiate them, hence we have to work in the log space."
   ]
  },
  {
   "cell_type": "code",
   "execution_count": 35,
   "id": "78d13773-d897-4583-9ca5-480c23cf649b",
   "metadata": {},
   "outputs": [
    {
     "data": {
      "text/plain": [
       "(12770.200285177548967, 525317.48879534142515)"
      ]
     },
     "execution_count": 35,
     "metadata": {},
     "output_type": "execute_result"
    }
   ],
   "source": [
    "chi2_array_ALL_DATA_4k.mean(), chi2_array_ALL_DATA_4k.std()"
   ]
  },
  {
   "cell_type": "code",
   "execution_count": 36,
   "id": "9d948fee-53fb-4740-8284-27a03204860a",
   "metadata": {
    "tags": []
   },
   "outputs": [
    {
     "data": {
      "text/plain": [
       "(2073.9870203150235284, 79739609.97136621177, 38447.497110784399016)"
      ]
     },
     "execution_count": 36,
     "metadata": {},
     "output_type": "execute_result"
    }
   ],
   "source": [
    "chi2_array_ALL_DATA_4k.min(), chi2_array_ALL_DATA_4k.max(), chi2_array_ALL_DATA_4k.max()/chi2_array_ALL_DATA_4k.min()"
   ]
  },
  {
   "cell_type": "markdown",
   "id": "6f206635-9e2f-427f-93a6-6a6964d5749d",
   "metadata": {
    "tags": []
   },
   "source": [
    "$\\chi^2$ value is expected to be around $~N_{DOF} = 4000-14$"
   ]
  },
  {
   "cell_type": "markdown",
   "id": "1a19ba59-2450-4393-9a3e-20a1ffe29eab",
   "metadata": {
    "tags": []
   },
   "source": [
    "If we do the same method of calculating the weights we run into this problem of getting zeros for the weights since the $\\chi^2$ values are really large. But recall that the weights are \n",
    "\n",
    "$$w_k^i = \\frac{L(\\theta)}{L'(\\theta)} = \\frac{N_{samples} exp^{-\\frac{1}{2} (\\chi_k ^2 - E[\\chi^2])}}{\\mathcal{N}(\\theta_i;\\mu_i, \\sigma_i) \\ \\sum_{k=1}^{N_{samples}} w_k}$$\n",
    "\n",
    "And we don't care about the overall large constant that is multiplying all the weights, we only care about the differences in weights between the data points. Therefore we can take the log of both sides\n",
    "\n",
    "$$log w_k^i = log \\frac{L(\\theta)}{L'(\\theta)} = log L(\\theta) - log L'(\\theta) = log [N_{samples} exp^{-\\frac{1}{2} (\\chi_k ^2 - E[\\chi^2])} ] - log[ \\mathcal{N}(\\theta_i;\\mu_i, \\sigma_i) \\ \\sum_{k=1}^{N_{samples}} w_k] \\ \\ \\ \\ \\ \\ (1)$$"
   ]
  },
  {
   "cell_type": "markdown",
   "id": "a9069a5b-c404-4e13-9b4b-3d349d19ce05",
   "metadata": {},
   "source": [
    "$log w = -\\frac{1}{2} [\\chi^2 - (z-\\mu)^{T} \\Sigma^{-1}(z-\\mu) ]$\n",
    "\n",
    "Define \n",
    "\n",
    "second term = $(z-\\mu)^{T} \\Sigma^{-1}(z-\\mu)$"
   ]
  },
  {
   "cell_type": "code",
   "execution_count": 13,
   "id": "ac1612bb-66ec-42cc-af80-670d8247cf62",
   "metadata": {},
   "outputs": [
    {
     "data": {
      "text/plain": [
       "Text(0.5, 1.0, 'Second Term')"
      ]
     },
     "execution_count": 13,
     "metadata": {},
     "output_type": "execute_result"
    },
    {
     "data": {
      "image/png": "[encoded data removed]",
      "text/plain": [
       "<Figure size 432x288 with 1 Axes>"
      ]
     },
     "metadata": {
      "needs_background": "light"
     },
     "output_type": "display_data"
    }
   ],
   "source": [
    "# z = MVN_per_point_l\n",
    "mu = params_MASTER\n",
    "sigma = COV_MASTER\n",
    "second_term_l = []\n",
    "for i in range(MVN_4000_MASTER.shape[0]):\n",
    "    second_term = (MVN_4000_MASTER[i,:] - mu).T @ np.linalg.inv(sigma) @ (MVN_4000_MASTER[i,:] - mu)\n",
    "    second_term_l.append(second_term)\n",
    "plt.hist(np.array(second_term_l))# second term dist is much narrower, which is what we expect\n",
    "plt.title('Second Term', fontsize=15)"
   ]
  },
  {
   "cell_type": "markdown",
   "id": "4f5d206a-6134-4e8a-8a35-579177cd804d",
   "metadata": {},
   "source": [
    "Let's look at the $\\chi^2$ distribution within $2\\sigma$ around the best fit  values of the parameters."
   ]
  },
  {
   "cell_type": "code",
   "execution_count": 37,
   "id": "112963bf-a318-463a-bc69-bfcf731216ce",
   "metadata": {},
   "outputs": [],
   "source": [
    "list_of_tuples = []; \n",
    "MVG_within_1_sigma=[]\n",
    "chi2_within_1_sigma=[] #np.empty((4000,14))\n",
    "for i in range(14):\n",
    "    param_list_i=[]\n",
    "    chi2_list=[]\n",
    "#     weight_list_i = []\n",
    "    chi2_list_param_i=[]\n",
    "    for k in range(4000):\n",
    "        param_value = MVN_4000_MASTER[k, i] #at the kth point, for parameter i\n",
    "        \n",
    "        MVG_point_within_1s = MVN_per_point_l[k]\n",
    "        #std = np.std(MVN_per_point_l)\n",
    "        #mean_MVG = np.mean(MVN_per_point_l)\n",
    "        \n",
    "        std_MVN_value = np.std(MVN_4000_MASTER[:,i])\n",
    "        mean_MVN_value = np.mean(MVN_4000_MASTER[:,i])\n",
    "        if (param_value > (mean_MVN_value - 1*std_MVN_value)) and (param_value < (mean_MVN_value + 1*std_MVN_value)):\n",
    "            #if weight_value < (mean_weight + 4*std_weight_value):\n",
    "\n",
    "            #param_list_i.append(param_value)\n",
    "            param_list_i.append(MVG_point_within_1s)\n",
    "            chi2_list_param_i.append(chi2_array_ALL_DATA_4k[k])\n",
    "    MVG_within_1_sigma.append(param_list_i)\n",
    "    chi2_within_1_sigma.append(chi2_list_param_i)\n",
    "            #chi2_within_1_sigma[k,i] = chi2_array_ALL_DATA_4k[k]\n",
    "    tuple_i = (param_list_i, chi2_list)\n",
    "    list_of_tuples.append(tuple_i)\n",
    "#len(list_of_tuples)                \n",
    "#list_of_tuples[1]"
   ]
  },
  {
   "cell_type": "code",
   "execution_count": 38,
   "id": "13b4e693-d1c2-4778-9b72-5558a1a31b8e",
   "metadata": {},
   "outputs": [
    {
     "data": {
      "text/plain": [
       "(16335.242943998040163, 15195.242117527751522, 16017.28134171117378)"
      ]
     },
     "execution_count": 38,
     "metadata": {},
     "output_type": "execute_result"
    }
   ],
   "source": [
    "np.mean(chi2_within_1_sigma[0]), np.mean(chi2_within_1_sigma[2]), np.mean(chi2_within_1_sigma[3])"
   ]
  },
  {
   "cell_type": "markdown",
   "id": "a2fbd03d-d8de-473b-9af0-f233a3a47924",
   "metadata": {},
   "source": [
    "Same means of $\\chi^2$ for each parameter, as we expect.\n",
    "\n",
    "Still the weird behavior of the $\\chi^2$ values being very large "
   ]
  },
  {
   "cell_type": "code",
   "execution_count": 76,
   "id": "993f73e2-a981-416e-85ac-92f042d5d799",
   "metadata": {},
   "outputs": [
    {
     "data": {
      "text/plain": [
       "(array([2.4076e+04, 6.5000e+02, 1.6700e+02, 6.1000e+01, 2.7000e+01,\n",
       "        1.0000e+01, 6.0000e+00, 1.0000e+00, 0.0000e+00, 2.0000e+00]),\n",
       " array([1.98516452e+06, 7.44368151e+15, 1.48873630e+16, 2.23310445e+16,\n",
       "        2.97747260e+16, 3.72184075e+16, 4.46620890e+16, 5.21057705e+16,\n",
       "        5.95494520e+16, 6.69931335e+16, 7.44368151e+16]),\n",
       " <BarContainer object of 10 artists>)"
      ]
     },
     "execution_count": 76,
     "metadata": {},
     "output_type": "execute_result"
    },
    {
     "data": {
      "image/png": "[encoded data removed]",
      "text/plain": [
       "<Figure size 432x288 with 1 Axes>"
      ]
     },
     "metadata": {
      "needs_background": "light"
     },
     "output_type": "display_data"
    }
   ],
   "source": [
    "plt.hist(MVN_per_point_l)"
   ]
  },
  {
   "cell_type": "code",
   "execution_count": 81,
   "id": "d5f9b404-7305-471e-ba96-f1aa8e37e1f6",
   "metadata": {},
   "outputs": [
    {
     "data": {
      "text/plain": [
       "array([-13141.5202684 , -11822.16670859,  10508.08589713, ...,\n",
       "        -8756.82881442,  -3370.71121681, -12934.31660864])"
      ]
     },
     "execution_count": 81,
     "metadata": {},
     "output_type": "execute_result"
    }
   ],
   "source": [
    "best_fitchi2_25k =3369.427\n",
    "#subtract chi^2(best-fit)\n",
    "chi2_array_ALL_DATA_4k_diff = chi2_array_ALL_DATA_4k - np.mean(chi2_array_ALL_DATA_4k)\n",
    "#subtract chi^2 mean\n",
    "chi2_array_ALL_DATA_4k_diff_param_1 =chi2_array_ALL_DATA_4k_diff- best_fitchi2_25k\n",
    "chi2_array_ALL_DATA_4k_diff_param_1"
   ]
  },
  {
   "cell_type": "code",
   "execution_count": 110,
   "id": "767a964d-2760-4351-be23-ec67afb321bb",
   "metadata": {},
   "outputs": [],
   "source": [
    "def MVG_BestFit(MVN, mu, sigma):\n",
    "    \"\"\"\n",
    "    The density function of multivariate normal distribution.\n",
    "    N = size of the mean vector, or number of parameter points (14)\n",
    "    MVN = the 2D MV Gaussian function\n",
    "    sigma = the covariance matrix from our best-fit values\n",
    "    \"\"\"\n",
    "\n",
    "#     MVN_per_point_l=[]\n",
    "\n",
    "    #z = np.atleast_2d(z)\n",
    "    z = MVN\n",
    "\n",
    "\n",
    "    N = z.size\n",
    "\n",
    "    temp1 = np.linalg.det(sigma) ** (-1/2)\n",
    "    temp2 = np.exp(-.5 * (z - mu).T @ np.linalg.inv(sigma) @ (z - mu))\n",
    "    MVN_per_point = (2 * np.pi) ** (-N/2) * temp1 * temp2\n",
    "\n",
    "    return MVN_per_point"
   ]
  },
  {
   "cell_type": "code",
   "execution_count": 90,
   "id": "8369e32b-37fb-4445-a628-6db994f7d1e9",
   "metadata": {},
   "outputs": [
    {
     "data": {
      "text/plain": [
       "1.557706340054779e+17"
      ]
     },
     "execution_count": 90,
     "metadata": {},
     "output_type": "execute_result"
    }
   ],
   "source": [
    "MVG_best_fit = MVG_BestFit(params_MASTER, params_MASTER, COV_MASTER)\n",
    "MVG_best_fit"
   ]
  },
  {
   "cell_type": "code",
   "execution_count": 111,
   "id": "a79a65eb-b9df-4123-9d84-0ff57e3aaa52",
   "metadata": {},
   "outputs": [
    {
     "data": {
      "text/plain": [
       "array([-1.55613341e+17, -1.55736740e+17, -1.55641448e+17, ...,\n",
       "       -1.55582876e+17, -1.55707644e+17, -1.55767098e+17])"
      ]
     },
     "execution_count": 111,
     "metadata": {},
     "output_type": "execute_result"
    }
   ],
   "source": [
    "#subtract MVG(best-fit)\n",
    "MVN_per_point_l_diff = MVN_per_point_l - MVG_best_fit\n",
    "MVN_per_point_l_diff"
   ]
  },
  {
   "cell_type": "code",
   "execution_count": 92,
   "id": "44f99243-4ba1-4b64-80e9-d129fc0b0eaa",
   "metadata": {},
   "outputs": [
    {
     "data": {
      "text/plain": [
       "array([-1.09561510e+15, -1.21901412e+15, -1.12372138e+15, ...,\n",
       "       -1.06514992e+15, -1.18991749e+15, -1.24937140e+15])"
      ]
     },
     "execution_count": 92,
     "metadata": {},
     "output_type": "execute_result"
    }
   ],
   "source": [
    "#subtract mean\n",
    "MVN_per_point_l_diff_min = MVN_per_point_l_diff - np.mean(MVN_per_point_l_diff)\n",
    "MVN_per_point_l_diff_min"
   ]
  },
  {
   "cell_type": "code",
   "execution_count": 96,
   "id": "c03dc523-7096-4938-9c0b-16f5c6a8cff3",
   "metadata": {},
   "outputs": [
    {
     "data": {
      "text/plain": [
       "(array([2.4076e+04, 6.5000e+02, 1.6700e+02, 6.1000e+01, 2.7000e+01,\n",
       "        1.0000e+01, 6.0000e+00, 1.0000e+00, 0.0000e+00, 2.0000e+00]),\n",
       " array([-1.25290782e+15,  6.19077368e+15,  1.36344552e+16,  2.10781367e+16,\n",
       "         2.85218182e+16,  3.59654997e+16,  4.34091812e+16,  5.08528627e+16,\n",
       "         5.82965442e+16,  6.57402257e+16,  7.31839072e+16]),\n",
       " <BarContainer object of 10 artists>)"
      ]
     },
     "execution_count": 96,
     "metadata": {},
     "output_type": "execute_result"
    },
    {
     "data": {
      "image/png": "[encoded data removed]",
      "text/plain": [
       "<Figure size 432x288 with 1 Axes>"
      ]
     },
     "metadata": {
      "needs_background": "light"
     },
     "output_type": "display_data"
    }
   ],
   "source": [
    "plt.hist(MVN_per_point_l_diff_min)"
   ]
  },
  {
   "cell_type": "code",
   "execution_count": 114,
   "id": "ab61332f-0c51-4764-bb11-b9f7ff4309f1",
   "metadata": {},
   "outputs": [
    {
     "data": {
      "text/plain": [
       "array([], dtype=float64)"
      ]
     },
     "execution_count": 114,
     "metadata": {},
     "output_type": "execute_result"
    }
   ],
   "source": [
    "#take only positive values so that we dont get error when computing log\n",
    "MVN_per_point_l = MVN_per_point_l - np.mean(MVN_per_point_l)\n",
    "\n",
    "MVN_per_point_l_pos = MVN_per_point_l[MVN_per_point_l >0]\n",
    "\n",
    "\n",
    "plt.hist(MVN_4000_MASTER[:,1][MVN_per_point_l_diff_min >0], weights=weight_param_1_normalized, bins=100, label='Reweighted', alpha=0.3, density=True, range=(0.07, 0.08))\n",
    "plt.hist(MVN_4000_MASTER[:,1][MVN_per_point_l_diff_min >0], bins=100, label='Gaussian',  alpha=0.3, density=True,range=(0.07, 0.08))\n",
    "plt.legend()\n",
    "\n",
    "positive_MVN_per_point_l_diff = MVN_per_point_l_diff[MVN_per_point_l_diff >0]\n",
    "\n",
    "positive_chi2_array_ALL_DATA_4k_diff_param_1 = chi2_array_ALL_DATA_4k_diff_param_1[MVN_per_point_l_diff >0]; positive_chi2_array_ALL_DATA_4k_diff_param_1"
   ]
  },
  {
   "cell_type": "code",
   "execution_count": 100,
   "id": "175ca02f-a219-4bd5-ac16-b6cab34e760e",
   "metadata": {},
   "outputs": [],
   "source": [
    "#take only positive values so that we dont get error when computing log\n",
    "\n",
    "positive_MVN_per_point_l_diff_min = MVN_per_point_l_diff_min[MVN_per_point_l_diff_min >0]\n",
    "\n",
    "positive_chi2_array_ALL_DATA_4k_diff_param_1 = chi2_array_ALL_DATA_4k_diff_param_1[MVN_per_point_l_diff_min >0]"
   ]
  },
  {
   "cell_type": "code",
   "execution_count": 113,
   "id": "76cd9a3f-1a8c-4876-a8a6-7586b12589f4",
   "metadata": {},
   "outputs": [
    {
     "data": {
      "text/plain": [
       "array([], dtype=float64)"
      ]
     },
     "execution_count": 113,
     "metadata": {},
     "output_type": "execute_result"
    }
   ],
   "source": [
    "\n",
    "log_weight_param_1 = (-0.5*positive_chi2_array_ALL_DATA_4k_diff_param_1)/np.log(positive_MVN_per_point_l_diff)\n",
    "log_weight_param_1"
   ]
  },
  {
   "cell_type": "code",
   "execution_count": 103,
   "id": "8470f45f-ec2d-4038-9f37-e21c7af551a5",
   "metadata": {},
   "outputs": [
    {
     "data": {
      "text/plain": [
       "array([175.77772385, 166.13936489, 131.77442182, ..., 159.6418387 ,\n",
       "       177.11415721, 183.24518722])"
      ]
     },
     "execution_count": 103,
     "metadata": {},
     "output_type": "execute_result"
    }
   ],
   "source": [
    "\n",
    "log_weight_param_1 = (-0.5*positive_chi2_array_ALL_DATA_4k_diff_param_1)/np.log(positive_MVN_per_point_l_diff_min)\n",
    "log_weight_param_1"
   ]
  },
  {
   "cell_type": "code",
   "execution_count": 104,
   "id": "2ff4ae6a-0d50-4a89-9039-accf5fed34a5",
   "metadata": {},
   "outputs": [
    {
     "data": {
      "text/plain": [
       "array([3.62856164e-31, 2.36509393e-35, 2.81412410e-50, ...,\n",
       "       3.56458211e-38, 1.38082975e-30, 6.35056898e-28])"
      ]
     },
     "execution_count": 104,
     "metadata": {},
     "output_type": "execute_result"
    }
   ],
   "source": [
    "weight_param_1 = np.exp(log_weight_param_1)\n",
    "\n",
    "weight_param_1_normalized = len(weight_param_1) * weight_param_1/np.sum(weight_param_1)\n",
    "weight_param_1_normalized"
   ]
  },
  {
   "cell_type": "code",
   "execution_count": 105,
   "id": "8df6fca8-eb88-4c00-a10b-995cdfcdd872",
   "metadata": {},
   "outputs": [],
   "source": [
    "# weight_param_1 = len(weight_param_1) * weight_param_1/np.sum(weight_param_1)\n",
    "# weight_param_1"
   ]
  },
  {
   "cell_type": "code",
   "execution_count": 109,
   "id": "73a6825a-33ee-4024-8bf9-1354390d1620",
   "metadata": {},
   "outputs": [
    {
     "data": {
      "text/plain": [
       "<matplotlib.legend.Legend at 0x7f92f32c2650>"
      ]
     },
     "execution_count": 109,
     "metadata": {},
     "output_type": "execute_result"
    },
    {
     "data": {
      "image/png": "[encoded data removed]",
      "text/plain": [
       "<Figure size 432x288 with 1 Axes>"
      ]
     },
     "metadata": {
      "needs_background": "light"
     },
     "output_type": "display_data"
    }
   ],
   "source": [
    "plt.hist(MVN_4000_MASTER[:,1][MVN_per_point_l_diff_min >0], weights=weight_param_1_normalized, bins=100, label='Reweighted', alpha=0.3, density=True, range=(0.07, 0.08))\n",
    "plt.hist(MVN_4000_MASTER[:,1][MVN_per_point_l_diff_min >0], bins=100, label='Gaussian',  alpha=0.3, density=True,range=(0.07, 0.08))\n",
    "plt.legend()"
   ]
  },
  {
   "cell_type": "markdown",
   "id": "0b9b6fed-199c-4d8c-96b8-2d697b08c04b",
   "metadata": {},
   "source": [
    "# Do it in one step"
   ]
  },
  {
   "cell_type": "code",
   "execution_count": 129,
   "id": "47fccba1-ed21-4904-a134-03528a5294d3",
   "metadata": {},
   "outputs": [
    {
     "data": {
      "text/plain": [
       "array([-1.09561510e+15, -1.21901412e+15, -1.12372138e+15, ...,\n",
       "       -1.06514992e+15, -1.18991749e+15, -1.24937140e+15], dtype=float128)"
      ]
     },
     "execution_count": 129,
     "metadata": {},
     "output_type": "execute_result"
    }
   ],
   "source": [
    "MVN_per_point_l_diff_mean[MVN_per_point_l_diff_mean <0]"
   ]
  },
  {
   "cell_type": "code",
   "execution_count": null,
   "id": "8dd587f5-9fd7-4fe4-a58c-602f7423867e",
   "metadata": {},
   "outputs": [],
   "source": [
    "chi2_array_ALL_DATA_4k = np.load('/home/ali/Desktop/Pulled_Github_Repositories/NNPDF_Uncertainty/master_version/local/ALL_DATA_25k/chi2_array_ALL_DATA_25k.npy')\n",
    "MVN_4000_MASTER = np.load('/home/ali/Desktop/Pulled_Github_Repositories/NNPDF_Uncertainty/master_version/samples/MVN_25k_MASTER.npy')\n",
    "COV_MASTER= np.load('/home/ali/Desktop/Pulled_Github_Repositories/NNPDF_Uncertainty/master_version/samples/COV_MASTER.npy')\n",
    "params_MASTER= np.load('/home/ali/Desktop/Pulled_Github_Repositories/NNPDF_Uncertainty/master_version/samples/params_MASTER.npy')\n",
    "\n",
    "chi2_array_ALL_DATA_4k = chi2_array_ALL_DATA_4k.astype(np.float128)\n",
    "MVN_4000_MASTER = MVN_4000_MASTER.astype(np.float128)\n",
    "\n",
    "MVN_per_point_l = f(MVN_4000_MASTER, params_MASTER, COV_MASTER)\n",
    "\n",
    "def filter_within_bestfit(chi2_arr, MVG_arr, MVN_sample):\n",
    "    \n",
    "\n",
    "    MVG_within_1_sigma=[]\n",
    "    chi2_within_1_sigma=[]\n",
    "    for i in range(14):\n",
    "        param_list=[]\n",
    "        chi2_list=[]\n",
    "        for k in range(MVN_sample.shape[0]):\n",
    "            param_value = MVN_sample[k, i]\n",
    "            MVG_at_k = MVG_arr[k]\n",
    "            \n",
    "            std_MVN_value = np.std(MVN_sample[:,i])#for all the k's (number of points, at parameter label i\n",
    "            mean_MVN_value = np.mean(MVN_sample[:,i])\n",
    "            \n",
    "            if (param_value > (mean_MVN_value - 2*std_MVN_value)) and (param_value < (mean_MVN_value + 2*std_MVN_value)):\n",
    "                param_list.append(MVG_at_k)\n",
    "                chi2_list.append(MVG_at_k)\n",
    "        MVG_within_1_sigma.append(np.array(param_list))\n",
    "        chi2_within_1_sigma.append(np.array(chi2_list))\n",
    "    \n",
    "    return chi2_within_1_sigma, MVG_within_1_sigma\n",
    "\n",
    "\n",
    "        \n",
    "chi2_within_1_sigma, MVG_within_1_sigma = filter_within_bestfit(chi2_array_ALL_DATA_4k, MVN_per_point_l, MVN_4000_MASTER)\n",
    "                                   \n",
    "plt.hist(chi2_within_1_sigma)    \n",
    "# chi2_within_1_sigma=[] #np.empty((4000,14))\n",
    "# for i in range(14):\n",
    "#     param_list_i=[]\n",
    "#     chi2_list=[]\n",
    "# #     weight_list_i = []\n",
    "#     chi2_list_param_i=[]\n",
    "#     for k in range(4000):\n",
    "#         param_value = MVN_4000_MASTER[k, i] #at the kth point, for parameter i\n",
    "        \n",
    "#         MVG_point_within_1s = MVN_per_point_l[k]\n",
    "#         #std = np.std(MVN_per_point_l)\n",
    "#         #mean_MVG = np.mean(MVN_per_point_l)\n",
    "        \n",
    "#         std_MVN_value = np.std(MVN_4000_MASTER[:,i])\n",
    "#         mean_MVN_value = np.mean(MVN_4000_MASTER[:,i])\n",
    "#         if (param_value > (mean_MVN_value - 1*std_MVN_value)) and (param_value < (mean_MVN_value + 1*std_MVN_value)):\n",
    "#             #if weight_value < (mean_weight + 4*std_weight_value):\n",
    "\n",
    "#             #param_list_i.append(param_value)\n",
    "#             param_list_i.append(MVG_point_within_1s)\n",
    "#             chi2_list_param_i.append(chi2_array_ALL_DATA_4k[k])\n",
    "#     MVG_within_1_sigma.append(param_list_i)\n",
    "#     chi2_within_1_sigma.append(chi2_list_param_i)\n",
    "#             #chi2_within_1_sigma[k,i] = chi2_array_ALL_DATA_4k[k]\n",
    "#     tuple_i = (param_list_i, chi2_list)\n",
    "#     list_of_tuples.append(tuple_i)\n",
    "#len(list_of_tuples)                \n",
    "#list_of_tuples[1]"
   ]
  },
  {
   "cell_type": "code",
   "execution_count": 201,
   "id": "355a4fe7-3fa0-4d0f-b243-62cc01b92435",
   "metadata": {},
   "outputs": [
    {
     "name": "stdout",
     "output_type": "stream",
     "text": [
      "1.0000000000000000001\n"
     ]
    },
    {
     "data": {
      "image/png": "[encoded data removed]",
      "text/plain": [
       "<Figure size 432x288 with 1 Axes>"
      ]
     },
     "metadata": {
      "needs_background": "light"
     },
     "output_type": "display_data"
    }
   ],
   "source": [
    "\n",
    "\n",
    "def MVG_BestFit(MVN, mu, sigma):\n",
    "    \"\"\"\n",
    "    The density function of multivariate normal distribution.\n",
    "    N = size of the mean vector, or number of parameter points (14)\n",
    "    MVN = the 2D MV Gaussian function\n",
    "    sigma = the covariance matrix from our best-fit values\n",
    "    \"\"\"\n",
    "\n",
    "    z = MVN\n",
    "    N = z.size\n",
    "\n",
    "    temp1 = np.linalg.det(sigma) ** (-1/2)\n",
    "    temp2 = np.exp(-.5 * (z - mu).T @ np.linalg.inv(sigma) @ (z - mu))\n",
    "    MVN_per_point = (2 * np.pi) ** (-N/2) * temp1 * temp2\n",
    "\n",
    "    return MVN_per_point\n",
    "\n",
    "best_fitchi2_25k =3369.427\n",
    "MVG_best_fit = MVG_BestFit(params_MASTER, params_MASTER, COV_MASTER)\n",
    "\n",
    "MVN_per_point_l = f(MVN_4000_MASTER, params_MASTER, COV_MASTER)\n",
    "\n",
    "def delta_mean(chi2_arr, MVG_arr):\n",
    "    mean_chi2 = chi2_arr - np.mean(chi2_arr)\n",
    "    mean_MVG = MVG_arr - np.mean(MVG_arr)\n",
    "\n",
    "    return mean_chi2, mean_MVG\n",
    "\n",
    "def delta_best_fit(chi2_arr, MVG_arr):\n",
    "    delta_chi2 = chi2_arr - best_fitchi2_25k\n",
    "    delta_MVG = MVG_arr - MVG_best_fit\n",
    "    return delta_chi2, delta_MVG\n",
    "\n",
    "def pos_log_mask(chi2_arr, MVG_arr):\n",
    "    mask = MVG_arr > 0\n",
    "    pos_MVG = MVG_arr[MVG_arr > 0]\n",
    "    pos_chi2 = chi2_arr[MVG_arr >0]\n",
    "    return pos_chi2, pos_MVG, mask\n",
    "\n",
    "def calc_weight_from_log(chi2_arr, MVG_arr):\n",
    "    log_weight_unnormalized = (-0.5 * chi2_arr) - (np.log(MVG_arr))\n",
    "    delta_log_weight_unnormalized = log_weight_unnormalized - np.mean(log_weight_unnormalized)\n",
    "    weight_unnormalized = np.exp(delta_log_weight_unnormalized)\n",
    "    weight_normalized = weight_unnormalized.size * weight_unnormalized/np.sum(weight_unnormalized)\n",
    "    return weight_normalized\n",
    "\n",
    "chi, MVG = delta_mean(chi2_array_ALL_DATA_4k, MVN_per_point_l)\n",
    "\n",
    "chi_pos, MVG_pos, mask = pos_log_mask(chi, MVG)\n",
    "\n",
    "w = calc_weight_from_log(chi_pos, MVG_pos)\n",
    "plt.hist(w)\n",
    "print(w.mean())"
   ]
  },
  {
   "cell_type": "code",
   "execution_count": null,
   "id": "3051deb2-d2ea-46e3-a5aa-48c9f18d3e7e",
   "metadata": {},
   "outputs": [],
   "source": []
  },
  {
   "cell_type": "code",
   "execution_count": 204,
   "id": "446642ae-7b9c-482a-bd22-5ede57290f81",
   "metadata": {},
   "outputs": [
    {
     "data": {
      "image/png": "[encoded data removed]",
      "text/plain": [
       "<Figure size 1440x1440 with 14 Axes>"
      ]
     },
     "metadata": {
      "needs_background": "light"
     },
     "output_type": "display_data"
    }
   ],
   "source": [
    "fig, axes = plt.subplots(nrows=7, ncols=2, figsize=(20,20))\n",
    "\n",
    "titles = ['$B_g$','$C_g$','$A_g$','$B_g$','$B_{u_v}$','$C_{u_v}$','$E_{u_v}$','$B_{d_v}$','$C_{d_v}$','$C_{Ubar}$','$D_U$','$A_{Dbar}$','$B_{Dbar}$','CDbar','CDbar','CDbar','CDbar']\n",
    "\n",
    "\n",
    "for i in range(7):\n",
    "    axes[i,0].hist(MVN_4000_MASTER[:,i][mask], bins=100, color = 'r', alpha=0.4,label='Gaussian', range=(0.160,0.162))\n",
    "    axes[i,0].hist(MVN_4000_MASTER[:,i][mask], weights=w, bins=100, color = 'g',alpha=0.3, label='Reweighted', range=(0.160,0.162))\n",
    "    #axes[i,1].set(title=titles[i] + ' Weighted', xlabel='value')\n",
    "    axes[i,0].set_title('All Data '+ titles[i] )\n",
    "    axes[i,0].set_xlabel('value')\n",
    "    axes[i,0].set_ylim(0,200)\n",
    "    axes[i,0].legend()\n",
    "for j in range(0,7):\n",
    "    axes[j,1].hist(MVN_4000_MASTER[:,i][mask], bins=100, color = 'r', alpha=0.4,label='Gaussian', range=(0.160,0.162))\n",
    "    axes[j,1].hist(MVN_4000_MASTER[:,i][mask], weights=w, bins=100, color = 'g',alpha=0.3, label='Reweighted', range=(0.160,0.162))\n",
    "    #axes[i,1].set(title=titles[i] + ' Weighted', xlabel='value')\n",
    "    axes[j,1].set_title('All Data ' +titles[j+7] )\n",
    "    axes[j,1].set_xlabel('value')\n",
    "    axes[j,1].set_ylim(0,200)\n",
    "    axes[j,1].legend()\n",
    "    \n",
    "plt.tight_layout()\n",
    "plt.show()"
   ]
  },
  {
   "cell_type": "code",
   "execution_count": 193,
   "id": "27872245-b745-46e9-a734-278e4be9981f",
   "metadata": {},
   "outputs": [
    {
     "name": "stderr",
     "output_type": "stream",
     "text": [
      "/home/ali/anaconda3/lib/python3.7/site-packages/numpy/core/fromnumeric.py:3420: RuntimeWarning: Mean of empty slice.\n",
      "  out=out, **kwargs)\n",
      "/home/ali/anaconda3/lib/python3.7/site-packages/numpy/core/_methods.py:188: RuntimeWarning: invalid value encountered in longdouble_scalars\n",
      "  ret = ret.dtype.type(ret / rcount)\n"
     ]
    },
    {
     "data": {
      "image/png": "[encoded data removed]",
      "text/plain": [
       "<Figure size 1440x1440 with 14 Axes>"
      ]
     },
     "metadata": {
      "needs_background": "light"
     },
     "output_type": "display_data"
    },
    {
     "data": {
      "text/plain": [
       "((0, 14), (0,))"
      ]
     },
     "execution_count": 193,
     "metadata": {},
     "output_type": "execute_result"
    }
   ],
   "source": [
    "chi2_array_ALL_DATA_4k = np.load('/home/ali/Desktop/Pulled_Github_Repositories/NNPDF_Uncertainty/master_version/local/ALL_DATA_25k/chi2_array_ALL_DATA_25k.npy')\n",
    "MVN_4000_MASTER = np.load('/home/ali/Desktop/Pulled_Github_Repositories/NNPDF_Uncertainty/master_version/samples/MVN_25k_MASTER.npy')\n",
    "COV_MASTER= np.load('/home/ali/Desktop/Pulled_Github_Repositories/NNPDF_Uncertainty/master_version/samples/COV_MASTER.npy')\n",
    "params_MASTER= np.load('/home/ali/Desktop/Pulled_Github_Repositories/NNPDF_Uncertainty/master_version/samples/params_MASTER.npy')\n",
    "\n",
    "chi2_array_ALL_DATA_4k = chi2_array_ALL_DATA_4k.astype(np.float128)\n",
    "MVN_4000_MASTER = MVN_4000_MASTER.astype(np.float128)\n",
    "\n",
    "best_fitchi2_25k =3369.427\n",
    "MVG_best_fit = MVG_BestFit(params_MASTER, params_MASTER, COV_MASTER)\n",
    "\n",
    "MVN_per_point_l = f(MVN_4000_MASTER, params_MASTER, COV_MASTER)\n",
    "\n",
    "\n",
    "#first subtract the mean from both chi2 and MVG\n",
    "# MVN_per_point_l_diff_mean = MVN_per_point_l - np.mean(MVN_per_point_l)\n",
    "\n",
    "# pos_chi2_diff_mean =pos_chi2 - np.mean(pos_chi2)\n",
    "\n",
    "# #now subtract best-fit values of chi2 and MVG\n",
    "MVN_per_point_l_diff_mean = MVN_per_point_l - MVG_best_fit\n",
    "pos_chi2_diff_mean = chi2_array_ALL_DATA_4k - best_fitchi2_25k\n",
    "\n",
    "#HERE is where the positive masking should be done (right before taking the log)\n",
    "MVN_per_point_l_diff_mean_pos = MVN_per_point_l_diff_mean[MVN_per_point_l_diff_mean > 0]\n",
    "pos_chi2_diff_mean_pos = pos_chi2_diff_mean[MVN_per_point_l_diff_mean > 0]\n",
    "\n",
    "#now calculate the log weight\n",
    "log_weight_unnormalized = (-0.5 * pos_chi2_diff_mean_pos) - (np.log(MVN_per_point_l_diff_mean_pos))\n",
    "\n",
    "log_weight_unnormalized = log_weight_unnormalized - np.mean(log_weight_unnormalized)\n",
    "#exponentiate to get the weight\n",
    "weight_unnormalized = np.exp(log_weight_unnormalized)\n",
    "#normalize\n",
    "weight_normalized = len(weight_unnormalized) * weight_unnormalized/np.sum(weight_unnormalized)\n",
    "\n",
    "\n",
    "MVN_param_1_pos = MVN_4000_MASTER[:,][MVN_per_point_l_diff_mean > 0]\n",
    "\n",
    "# plt.hist(MVN_param_1_pos, weights=weight_normalized, bins=50, label='Reweighted', alpha=0.3)\n",
    "# plt.hist(MVN_param_1_pos, bins=50, label='Gaussian',  alpha=0.3)\n",
    "# plt.ylim(0,5)\n",
    "fig, axes = plt.subplots(nrows=7, ncols=2, figsize=(20,20))\n",
    "\n",
    "titles = ['$B_g$','$C_g$','$A_g$','$B_g$','$B_{u_v}$','$C_{u_v}$','$E_{u_v}$','$B_{d_v}$','$C_{d_v}$','$C_{Ubar}$','$D_U$','$A_{Dbar}$','$B_{Dbar}$','CDbar','CDbar','CDbar','CDbar']\n",
    "\n",
    "\n",
    "for i in range(7):\n",
    "    axes[i,0].hist(MVN_4000_MASTER[:,i][MVN_per_point_l_diff_mean > 0], bins=100, color = 'r', alpha=0.4,label='Gaussian')\n",
    "    axes[i,0].hist(MVN_4000_MASTER[:,i][MVN_per_point_l_diff_mean > 0], weights=weight_normalized, bins=100, color = 'g',alpha=0.3, label='Reweighted')\n",
    "    #axes[i,1].set(title=titles[i] + ' Weighted', xlabel='value')\n",
    "    axes[i,0].set_title('All Data '+ titles[i] )\n",
    "    axes[i,0].set_xlabel('value')\n",
    "    axes[i,0].set_ylim(0,200)\n",
    "    axes[i,0].legend()\n",
    "for j in range(0,7):\n",
    "    axes[j,1].hist(MVN_4000_MASTER[:,i][MVN_per_point_l_diff_mean > 0], bins=100, color = 'r', alpha=0.4,label='Gaussian')\n",
    "    axes[j,1].hist(MVN_4000_MASTER[:,i][MVN_per_point_l_diff_mean > 0], weights=weight_normalized, bins=100, color = 'g',alpha=0.3, label='Reweighted')\n",
    "    #axes[i,1].set(title=titles[i] + ' Weighted', xlabel='value')\n",
    "    axes[j,1].set_title('All Data ' +titles[j+7] )\n",
    "    axes[j,1].set_xlabel('value')\n",
    "    axes[j,1].set_ylim(0,200)\n",
    "    axes[j,1].legend()\n",
    "    \n",
    "plt.tight_layout()\n",
    "plt.show()\n",
    "\n",
    "\n",
    "MVN_param_1_pos.shape, weight_normalized.shape"
   ]
  },
  {
   "cell_type": "code",
   "execution_count": 160,
   "id": "df5c8b98-dcb1-4523-ad68-b2f662a2a0cc",
   "metadata": {},
   "outputs": [
    {
     "data": {
      "text/plain": [
       "4.0948151612105941448e-2181"
      ]
     },
     "execution_count": 165,
     "metadata": {},
     "output_type": "execute_result"
    }
   ],
   "source": [
    "weight_normalized"
   ]
  },
  {
   "cell_type": "code",
   "execution_count": 153,
   "id": "b5e5f872-2c38-4705-b6d4-07514e8f226c",
   "metadata": {},
   "outputs": [
    {
     "name": "stderr",
     "output_type": "stream",
     "text": [
      "/home/ali/anaconda3/lib/python3.7/site-packages/numpy/lib/histograms.py:905: RuntimeWarning: divide by zero encountered in true_divide\n",
      "  return n/db/n.sum(), bin_edges\n",
      "/home/ali/anaconda3/lib/python3.7/site-packages/numpy/lib/histograms.py:905: RuntimeWarning: invalid value encountered in true_divide\n",
      "  return n/db/n.sum(), bin_edges\n"
     ]
    },
    {
     "data": {
      "text/plain": [
       "Text(0.5, 1.0, 'weights')"
      ]
     },
     "execution_count": 153,
     "metadata": {},
     "output_type": "execute_result"
    },
    {
     "data": {
      "image/png": "[encoded data removed]",
      "text/plain": [
       "<Figure size 432x288 with 1 Axes>"
      ]
     },
     "metadata": {
      "needs_background": "light"
     },
     "output_type": "display_data"
    }
   ],
   "source": [
    "plt.hist(weight_normalized, density=True)\n",
    "plt.title('weights', fontsize=14)"
   ]
  },
  {
   "cell_type": "code",
   "execution_count": 74,
   "id": "4c797077-23cc-46a7-8985-0248a87a9679",
   "metadata": {},
   "outputs": [
    {
     "data": {
      "text/plain": [
       "<matplotlib.legend.Legend at 0x7f92f4099d90>"
      ]
     },
     "execution_count": 74,
     "metadata": {},
     "output_type": "execute_result"
    },
    {
     "data": {
      "image/png": "[encoded data removed]",
      "text/plain": [
       "<Figure size 432x288 with 1 Axes>"
      ]
     },
     "metadata": {
      "needs_background": "light"
     },
     "output_type": "display_data"
    }
   ],
   "source": [
    "\n",
    "\n",
    "plt.hist(MVN_4000_MASTER[:,2], weights=weight_param_1, bins=100, label='Reweighted', alpha=0.3, density=True, range=(-0.1302,-0.130))\n",
    "plt.hist(MVN_4000_MASTER[:,2], bins=100, label='Gaussian',  alpha=0.3, density=True, range=(-0.131,-0.130))\n",
    "plt.legend()"
   ]
  },
  {
   "cell_type": "code",
   "execution_count": 33,
   "id": "aca48927-9826-435a-81fe-1a745c6a75fc",
   "metadata": {},
   "outputs": [
    {
     "data": {
      "text/plain": [
       "(1594283065219208.0, 1559230864092711.5, 1556336458237995.5)"
      ]
     },
     "execution_count": 33,
     "metadata": {},
     "output_type": "execute_result"
    }
   ],
   "source": [
    "np.mean(MVG_within_1_sigma[0]), np.mean(MVG_within_1_sigma[2]), np.mean(MVG_within_1_sigma[3])"
   ]
  },
  {
   "cell_type": "code",
   "execution_count": 25,
   "id": "e56f872e-2c2e-455c-bf11-8993a7cb6158",
   "metadata": {},
   "outputs": [
    {
     "data": {
      "text/plain": [
       "35.0052005412063"
      ]
     },
     "execution_count": 25,
     "metadata": {},
     "output_type": "execute_result"
    }
   ],
   "source": [
    "np.log(np.mean(MVG_within_1_sigma[0]))"
   ]
  },
  {
   "cell_type": "code",
   "execution_count": 26,
   "id": "04508946-30b2-416d-800f-11140cd30391",
   "metadata": {},
   "outputs": [
    {
     "data": {
      "text/plain": [
       "(array([4.000e+00, 5.000e+01, 5.600e+02, 2.825e+03, 6.973e+03, 8.256e+03,\n",
       "        4.789e+03, 1.366e+03, 1.660e+02, 1.100e+01]),\n",
       " array([0.15156416, 0.1534104 , 0.15525665, 0.15710289, 0.15894913,\n",
       "        0.16079537, 0.16264161, 0.16448785, 0.1663341 , 0.16818034,\n",
       "        0.17002658], dtype=float128),\n",
       " <BarContainer object of 10 artists>)"
      ]
     },
     "execution_count": 26,
     "metadata": {},
     "output_type": "execute_result"
    },
    {
     "data": {
      "image/png": "[encoded data removed]",
      "text/plain": [
       "<Figure size 432x288 with 1 Axes>"
      ]
     },
     "metadata": {
      "needs_background": "light"
     },
     "output_type": "display_data"
    }
   ],
   "source": [
    "param_1 = MVN_4000_MASTER[:,0]\n",
    "weight_1 = \n",
    "plt.hist(param_1)"
   ]
  },
  {
   "cell_type": "markdown",
   "id": "62f42602-4197-4be2-a7f1-d59ae1455001",
   "metadata": {},
   "source": [
    "Suppose we just have a 2D example. Suppose the entire parameterization is composed of two parameters $\\vec{\\theta} = \\{ \\theta_1, \\theta_2 \\}$. Suppose then we have two data points {point 1, point 2}. Then we have the best-fit values\n",
    "\n",
    "$$\\hat{\\theta} = \\{ \\hat{\\theta}_1, \\hat{\\theta}_2 \\}$$\n",
    "$$\\hat{\\Sigma} = \\hat{\\Sigma}_{2\\times 2} $$\n",
    "\n",
    "We then generate multivariate Gaussian sampling for the two data points using $\\hat{\\theta} $ and $\\hat{\\Sigma}$\n",
    "$$\\mathcal{N}_{sample} ( \\vec{\\mu} = \\vec{\\hat{\\theta}}, \\Sigma = \\hat{\\Sigma} )$$\n",
    "\n",
    "And we use this as input to xfitter, so we get a $\\chi^2$ value for each point (dataset k) $\\chi^{2,k}$ and a single multivariate Gaussian point for the parameters at that point $\\mathcal{N}_{\\text{per point}}$ so that the multivariate Gaussian for the first point is \n",
    "\n",
    "$$ \\mathcal{N}^{\\text{point 1}} = \\mathcal{N} \\left( \\vec{x} = \\{ \\theta_{sample, 1}^1, \\theta_{sample , 2}^1 \\} \\ \\big| \\ \\vec{\\mu} = \\hat{\\vec{\\theta}}, \\Sigma = \\hat{\\Sigma} \\right) $$\n",
    "\n",
    "Hence we get a set of values for each data point. SO for the first data point, we have a associated\n",
    "$$ D^1 = \\left\\{ \\theta_{sample, 1}^1, \\ \\theta_{sample, 2}^1, \\chi^{2,1}, \\mathcal{N}^{\\text{point 1}} \\right\\} $$\n",
    "\n",
    "Hence the weight for the first point (data set) is \n",
    "$$ w^1 = \\mathcal{A} \\frac{ e^{-\\frac{1}{2}  \\chi^{2,1} }}{\\mathcal{N}^{\\text{point 1}} } $$\n",
    "where $\\mathcal{A}$ is a normalization constant.\n",
    "\n",
    "We see here that there is huge dynamic range discrepancies between the numerator and the denomenator of the weight, and hence the weight values are not reasonable. Perhaps $\\chi^2$ values are per dataset? "
   ]
  },
  {
   "cell_type": "code",
   "execution_count": 19,
   "id": "81bd0dcf-256e-4876-8bee-ff49bad9c50a",
   "metadata": {},
   "outputs": [
    {
     "data": {
      "text/plain": [
       "Text(0.5, 1.0, '$\\\\chi^2$ values within $1\\\\ \\\\sigma$ of the best-fit values of the parameters')"
      ]
     },
     "execution_count": 19,
     "metadata": {},
     "output_type": "execute_result"
    },
    {
     "data": {
      "image/png": "[encoded data removed]",
      "text/plain": [
       "<Figure size 432x288 with 1 Axes>"
      ]
     },
     "metadata": {
      "needs_background": "light"
     },
     "output_type": "display_data"
    }
   ],
   "source": [
    "plt.hist(chi2_within_1_sigma[0], bins=100)\n",
    "plt.title('$\\chi^2$ values within $1\\ \\sigma$ of the best-fit values of the parameters', fontsize=18)"
   ]
  },
  {
   "cell_type": "code",
   "execution_count": 20,
   "id": "3558106d-bd37-4d6d-ab39-ca087a970681",
   "metadata": {},
   "outputs": [
    {
     "data": {
      "text/plain": [
       "(14, 4000)"
      ]
     },
     "execution_count": 20,
     "metadata": {},
     "output_type": "execute_result"
    }
   ],
   "source": [
    "len(MVG_within_1_sigma), len(MVG_within_1_sigma[0])"
   ]
  },
  {
   "cell_type": "code",
   "execution_count": 21,
   "id": "0ed8fc83-cb89-4159-ad6e-f6a71ab7fa71",
   "metadata": {},
   "outputs": [
    {
     "data": {
      "text/plain": [
       "Text(0.5, 1.0, 'MVG parameter values within $1\\\\ \\\\sigma$ of the best-fit values of the parameters')"
      ]
     },
     "execution_count": 21,
     "metadata": {},
     "output_type": "execute_result"
    },
    {
     "data": {
      "image/png": "[encoded data removed]",
      "text/plain": [
       "<Figure size 432x288 with 1 Axes>"
      ]
     },
     "metadata": {
      "needs_background": "light"
     },
     "output_type": "display_data"
    }
   ],
   "source": [
    "plt.hist(MVG_within_1_sigma[0], bins=100, range=(0,3e16))\n",
    "plt.title('MVG parameter values within $1\\ \\sigma$ of the best-fit values of the parameters', fontsize=18)"
   ]
  },
  {
   "cell_type": "markdown",
   "id": "030aeea6-983a-494e-b6bd-003fc018a42c",
   "metadata": {},
   "source": [
    "Around the peak of the multivariate Gaussian, we expect this approximation to work and the $\\chi^2$ values not to be so large."
   ]
  },
  {
   "cell_type": "code",
   "execution_count": 22,
   "id": "a8012f80-0230-4b52-b079-82ebde71ccd4",
   "metadata": {},
   "outputs": [
    {
     "data": {
      "text/plain": [
       "array([-9.77209327e+03, -8.45273971e+03,  1.38775129e+04, ...,\n",
       "       -5.38740181e+03, -1.28421681e+00, -9.56488961e+03], dtype=float128)"
      ]
     },
     "execution_count": 22,
     "metadata": {},
     "output_type": "execute_result"
    }
   ],
   "source": [
    "chi2_array_ALL_DATA_4k - np.mean(chi2_array_ALL_DATA_4k)"
   ]
  },
  {
   "cell_type": "code",
   "execution_count": 25,
   "id": "520e785b-43a8-407a-8677-cecbe195e2d5",
   "metadata": {},
   "outputs": [
    {
     "data": {
      "text/plain": [
       "(array([1.0000e+00, 0.0000e+00, 0.0000e+00, 0.0000e+00, 0.0000e+00,\n",
       "        0.0000e+00, 0.0000e+00, 1.0000e+00, 0.0000e+00, 2.4998e+04]),\n",
       " array([-3.98634065e+07, -3.58765294e+07, -3.18896524e+07, -2.79027753e+07,\n",
       "        -2.39158983e+07, -1.99290212e+07, -1.59421442e+07, -1.19552671e+07,\n",
       "        -7.96839007e+06, -3.98151302e+06,  5.36403151e+03], dtype=float128),\n",
       " <BarContainer object of 10 artists>)"
      ]
     },
     "execution_count": 25,
     "metadata": {},
     "output_type": "execute_result"
    },
    {
     "data": {
      "image/png": "[encoded data removed]",
      "text/plain": [
       "<Figure size 432x288 with 1 Axes>"
      ]
     },
     "metadata": {
      "needs_background": "light"
     },
     "output_type": "display_data"
    }
   ],
   "source": [
    "chi2_diff = chi2_array_ALL_DATA_4k - np.mean(chi2_array_ALL_DATA_4k)\n",
    "w = -0.5*(chi2_diff-np.array(second_term_l))\n",
    "plt.hist(w)"
   ]
  },
  {
   "cell_type": "code",
   "execution_count": 55,
   "id": "204be8f2-6848-4a7e-8783-a316f46d1165",
   "metadata": {},
   "outputs": [
    {
     "data": {
      "text/plain": [
       "-1.2732925824820995331e-14"
      ]
     },
     "execution_count": 55,
     "metadata": {},
     "output_type": "execute_result"
    }
   ],
   "source": [
    "np.mean(chi2_diff)"
   ]
  },
  {
   "cell_type": "code",
   "execution_count": 18,
   "id": "8a659ec2-e9d9-4239-9297-dbbfbb65fe83",
   "metadata": {},
   "outputs": [
    {
     "data": {
      "text/plain": [
       "(array([ 4.88604663e+03,  4.22636985e+03, -6.93875645e+03, ...,\n",
       "         2.69370091e+03,  6.42108406e-01,  4.78244480e+03]),\n",
       " 6.51925802230835e-13)"
      ]
     },
     "execution_count": 18,
     "metadata": {},
     "output_type": "execute_result"
    }
   ],
   "source": [
    "mean_chi2 = np.mean(chi2_array_ALL_DATA_4k)\n",
    "chi2_best_fit = 3369.427\n",
    "#remember to rename diff (no need to take diff at this point)\n",
    "# chi2_diff = chi2_array_ALL_DATA_4k - mean_chi2\n",
    "chi2_diff = chi2_array_ALL_DATA_4k - chi2_best_fit\n",
    "\n",
    "chi2_diff = chi2_diff - np.mean(chi2_diff)\n",
    "\n",
    "log_numerator = -0.5*chi2_diff\n",
    "log_numerator.shape\n",
    "# for i in range(14):\n",
    "#     log_numerator[:,i] =  - 0.5 * (chi2_diff)\n",
    "# log_numerator #no normalization factor\n",
    "log_numerator, np.mean(log_numerator)"
   ]
  },
  {
   "cell_type": "code",
   "execution_count": 19,
   "id": "56ccbd20-c977-4060-95eb-ebd835d80ee5",
   "metadata": {},
   "outputs": [],
   "source": [
    "# log_numerator = log_numerator - np.mean(log_numerator)\n",
    "# log_numerator"
   ]
  },
  {
   "cell_type": "code",
   "execution_count": 85,
   "id": "bd5c2687-5392-4c99-b611-8c5e816f4ed4",
   "metadata": {},
   "outputs": [
    {
     "data": {
      "text/plain": [
       "array([35.32073269, 32.90517785, 32.81993112, ..., 34.87679871,\n",
       "       30.89499864, 28.34919446])"
      ]
     },
     "execution_count": 85,
     "metadata": {},
     "output_type": "execute_result"
    }
   ],
   "source": [
    "np.log(MVN_per_point_l)"
   ]
  },
  {
   "cell_type": "markdown",
   "id": "1f6ddfd5-e9f4-4a12-928b-9511590b9109",
   "metadata": {},
   "source": [
    "### Remember (from above)\n",
    "\n",
    "#### log numerator $ = -\\frac{1}{2} \\chi^2 (\\vec{\\theta_i} )$,  log denomenator $=log [MVG(\\vec{\\theta_i})]$"
   ]
  },
  {
   "cell_type": "code",
   "execution_count": 20,
   "id": "1f7d25cd-673c-46a2-9382-e82866968654",
   "metadata": {},
   "outputs": [
    {
     "name": "stderr",
     "output_type": "stream",
     "text": [
      "/home/ali/anaconda3/lib/python3.7/site-packages/ipykernel_launcher.py:4: RuntimeWarning: invalid value encountered in log\n",
      "  after removing the cwd from sys.path.\n"
     ]
    },
    {
     "data": {
      "text/plain": [
       "Text(0.5, 1.0, 'log denomenator')"
      ]
     },
     "execution_count": 20,
     "metadata": {},
     "output_type": "execute_result"
    },
    {
     "data": {
      "image/png": "[encoded data removed]",
      "text/plain": [
       "<Figure size 720x720 with 4 Axes>"
      ]
     },
     "metadata": {
      "needs_background": "light"
     },
     "output_type": "display_data"
    }
   ],
   "source": [
    "#plt.hist(log_numerator, range=(-10**6,0)) #this is equivalent to plt.hist(log_numerator/(e7), range=(-0.01,0))\n",
    "# plt.title('log numerator')\n",
    "MVN_per_point_l_diff = MVN_per_point_l - np.mean(MVN_per_point_l)\n",
    "log_den = np.log(MVN_per_point_l_diff)\n",
    "log_den.shape\n",
    "# plt.hist(log_den)\n",
    "# plt.title('log denomenator')\n",
    "\n",
    "fig, axes = plt.subplots(nrows=2, ncols=2, figsize=(10,10))\n",
    "axes[0,0].hist(log_numerator); axes[0,0].set_title('log numerator')\n",
    "axes[0,1].hist(log_den); axes[0,1].set_title('log denomenator')\n",
    "\n",
    "# axes[1,0].hist(-0.5*np.array(chi2_within_1_sigma[0])); axes[1,0].set_title('log numerator within 1 sigma of best-fit values')\n",
    "# axes[1,1].hist(np.log(MVG_within_1_sigma[0])); axes[1,1].set_title('log denomenator within 1 sigma of best-fit values')\n",
    "\n"
   ]
  },
  {
   "cell_type": "code",
   "execution_count": 30,
   "id": "d5cd3af7-2d21-4270-88a5-b18569763571",
   "metadata": {},
   "outputs": [
    {
     "data": {
      "image/png": "[encoded data removed]",
      "text/plain": [
       "<Figure size 720x720 with 4 Axes>"
      ]
     },
     "metadata": {
      "needs_background": "light"
     },
     "output_type": "display_data"
    }
   ],
   "source": [
    "#plt.hist(log_numerator, range=(-10**6,0)) #this is equivalent to plt.hist(log_numerator/(e7), range=(-0.01,0))\n",
    "# plt.title('log numerator')\n",
    "log_den = np.log(MVN_per_point_l)\n",
    "log_den = log_den- np.mean(log_den)\n",
    "\n",
    "\n",
    "chi2_within_1_sigma[0] = np.array(chi2_within_1_sigma[0]) - np.mean(np.array(chi2_within_1_sigma[0]))\n",
    "\n",
    "fig, axes = plt.subplots(nrows=2, ncols=2, figsize=(10,10))\n",
    "axes[0,0].hist(log_numerator); axes[0,0].set_title('log numerator with mean subtracted')\n",
    "axes[0,1].hist(log_den); axes[0,1].set_title('log denomenator with mean subtracted')\n",
    "\n",
    "axes[1,0].hist(-0.5*chi2_within_1_sigma[0]); axes[1,0].set_title('log numerator within 1 sigma of best-fit values with mean subtracted')\n",
    "axes[1,1].hist(np.log(MVG_within_1_sigma[0])); axes[1,1].set_title('log denomenator within 1 sigma of best-fit values with mean subtracted')\n",
    "\n",
    "plt.tight_layout()"
   ]
  },
  {
   "cell_type": "code",
   "execution_count": 60,
   "id": "2be7d4da-e14e-4963-8177-9d1a0629d811",
   "metadata": {},
   "outputs": [
    {
     "data": {
      "text/plain": [
       "Text(0.5, 1.0, 'log denomenator')"
      ]
     },
     "execution_count": 60,
     "metadata": {},
     "output_type": "execute_result"
    },
    {
     "data": {
      "image/png": "[encoded data removed]",
      "text/plain": [
       "<Figure size 432x288 with 1 Axes>"
      ]
     },
     "metadata": {
      "needs_background": "light"
     },
     "output_type": "display_data"
    }
   ],
   "source": [
    "# def log_den(MVN_per_point_l):\n",
    "#     log_den_l = []\n",
    "#     for i in range(MVN_per_point_l.shape[0]):\n",
    "#         log_den = np.log(MVN_per_point_l)\n",
    "\n"
   ]
  },
  {
   "cell_type": "markdown",
   "id": "bd04be55-9ec0-4f32-86c7-a2e0639e8359",
   "metadata": {},
   "source": [
    "Let's try the weights without doing it in log space"
   ]
  },
  {
   "cell_type": "code",
   "execution_count": 116,
   "id": "aaa9dcc7-2916-4b6b-b7e8-062c84781ae0",
   "metadata": {},
   "outputs": [
    {
     "name": "stderr",
     "output_type": "stream",
     "text": [
      "/home/ali/anaconda3/lib/python3.7/site-packages/ipykernel_launcher.py:3: RuntimeWarning: overflow encountered in exp\n",
      "  This is separate from the ipykernel package so we can avoid doing imports until\n"
     ]
    },
    {
     "data": {
      "text/plain": [
       "array([             inf,             -inf,             -inf, ...,\n",
       "                    inf,             -inf, -4.44980981e+274],\n",
       "      dtype=float128)"
      ]
     },
     "execution_count": 116,
     "metadata": {},
     "output_type": "execute_result"
    }
   ],
   "source": [
    "chi2_array_ALL_DATA_4k = chi2_array_ALL_DATA_4k-np.mean(chi2_array_ALL_DATA_4k)\n",
    "MVN_per_point_l = MVN_per_point_l - np.mean(MVN_per_point_l)\n",
    "weights = np.exp(-0.5 * chi2_array_ALL_DATA_4k)/MVN_per_point_l\n",
    "weights"
   ]
  },
  {
   "cell_type": "code",
   "execution_count": 114,
   "id": "3ab5ea2d-aaaa-412a-9690-ffc2f05c4826",
   "metadata": {},
   "outputs": [
    {
     "data": {
      "text/plain": [
       "(array([3999.,    0.,    0.,    0.,    0.,    0.,    0.,    0.,    0.,\n",
       "           0.]),\n",
       " array([0. , 0.2, 0.4, 0.6, 0.8, 1. , 1.2, 1.4, 1.6, 1.8, 2. ],\n",
       "       dtype=float128),\n",
       " <BarContainer object of 10 artists>)"
      ]
     },
     "execution_count": 114,
     "metadata": {},
     "output_type": "execute_result"
    },
    {
     "data": {
      "image/png": "[encoded data removed]",
      "text/plain": [
       "<Figure size 432x288 with 1 Axes>"
      ]
     },
     "metadata": {
      "needs_background": "light"
     },
     "output_type": "display_data"
    }
   ],
   "source": [
    "weights = 4000 * weights/np.sum(weights)\n",
    "plt.hist(weights, range=(0,2))"
   ]
  },
  {
   "cell_type": "code",
   "execution_count": 61,
   "id": "36c7c111-a05b-4585-b0cd-dab8c320394b",
   "metadata": {},
   "outputs": [
    {
     "data": {
      "text/plain": [
       "(array([ 1.,  1.,  2.,  1.,  0.,  5.,  4.,  7., 12., 19.]),\n",
       " array([-0.01 , -0.009, -0.008, -0.007, -0.006, -0.005, -0.004, -0.003,\n",
       "        -0.002, -0.001,  0.   ], dtype=float128),\n",
       " <BarContainer object of 10 artists>)"
      ]
     },
     "execution_count": 61,
     "metadata": {},
     "output_type": "execute_result"
    },
    {
     "data": {
      "image/png": "[encoded data removed]",
      "text/plain": [
       "<Figure size 432x288 with 1 Axes>"
      ]
     },
     "metadata": {
      "needs_background": "light"
     },
     "output_type": "display_data"
    }
   ],
   "source": [
    "log_RHS = log_numerator - log_den\n",
    "log_RHS, log_RHS.shape\n",
    "plt.hist(log_RHS/(1e7), range=(-0.01,0))"
   ]
  },
  {
   "cell_type": "code",
   "execution_count": 62,
   "id": "55458100-d5a3-4c6d-a21f-4b9fe4ea3a07",
   "metadata": {},
   "outputs": [
    {
     "data": {
      "text/plain": [
       "(array([1.000e+00, 0.000e+00, 0.000e+00, 0.000e+00, 0.000e+00, 0.000e+00,\n",
       "        0.000e+00, 0.000e+00, 0.000e+00, 3.999e+03]),\n",
       " array([-8.67315859e+07, -7.80559538e+07, -6.93803216e+07, -6.07046895e+07,\n",
       "        -5.20290573e+07, -4.33534251e+07, -3.46777930e+07, -2.60021608e+07,\n",
       "        -1.73265287e+07, -8.65089651e+06,  2.47356437e+04], dtype=float128),\n",
       " <BarContainer object of 10 artists>)"
      ]
     },
     "execution_count": 62,
     "metadata": {},
     "output_type": "execute_result"
    },
    {
     "data": {
      "image/png": "[encoded data removed]",
      "text/plain": [
       "<Figure size 432x288 with 1 Axes>"
      ]
     },
     "metadata": {
      "needs_background": "light"
     },
     "output_type": "display_data"
    }
   ],
   "source": [
    "plt.hist(log_RHS)"
   ]
  },
  {
   "cell_type": "code",
   "execution_count": 36,
   "id": "e28dd83c-d620-45ea-94ef-f29c207092bd",
   "metadata": {},
   "outputs": [
    {
     "data": {
      "text/plain": [
       "(array([24068.75203129, 24044.67443657, 24078.10295406, ...,\n",
       "        20455.39966799, 24123.37242144,   671.34495514], dtype=float128),\n",
       " (4000,))"
      ]
     },
     "execution_count": 36,
     "metadata": {},
     "output_type": "execute_result"
    }
   ],
   "source": [
    "mean_log_RHS = np.mean(log_RHS)\n",
    "log_weight =log_RHS- mean_log_RHS\n",
    "log_weight, log_weight.shape"
   ]
  },
  {
   "cell_type": "code",
   "execution_count": 41,
   "id": "d85b842d-3b50-444f-acf5-29752635788f",
   "metadata": {},
   "outputs": [
    {
     "data": {
      "text/plain": [
       "-32.55904404488593718"
      ]
     },
     "execution_count": 41,
     "metadata": {},
     "output_type": "execute_result"
    }
   ],
   "source": [
    "mean_log_RHS"
   ]
  },
  {
   "cell_type": "code",
   "execution_count": 37,
   "id": "dd96a7fd-9375-47b8-bba6-1f20ae93ad88",
   "metadata": {},
   "outputs": [
    {
     "data": {
      "text/plain": [
       "(array([1.000e+00, 0.000e+00, 0.000e+00, 0.000e+00, 0.000e+00, 0.000e+00,\n",
       "        0.000e+00, 0.000e+00, 0.000e+00, 3.999e+03]),\n",
       " array([-8.67315534e+07, -7.80559212e+07, -6.93802891e+07, -6.07046569e+07,\n",
       "        -5.20290247e+07, -4.33533926e+07, -3.46777604e+07, -2.60021283e+07,\n",
       "        -1.73264961e+07, -8.65086395e+06,  2.47682028e+04], dtype=float128),\n",
       " <BarContainer object of 10 artists>)"
      ]
     },
     "execution_count": 37,
     "metadata": {},
     "output_type": "execute_result"
    },
    {
     "data": {
      "image/png": "[encoded data removed]",
      "text/plain": [
       "<Figure size 432x288 with 1 Axes>"
      ]
     },
     "metadata": {
      "needs_background": "light"
     },
     "output_type": "display_data"
    }
   ],
   "source": [
    "plt.hist(log_weight)"
   ]
  },
  {
   "cell_type": "code",
   "execution_count": 38,
   "id": "f29b259e-05c1-4bb2-8e04-15fb04493289",
   "metadata": {},
   "outputs": [
    {
     "data": {
      "text/plain": [
       "array([8.82129091e+18, 8.81246638e+18, 8.82471806e+18, ...,\n",
       "       7.49698326e+18, 8.84130949e+18, 2.46050528e+17], dtype=float128)"
      ]
     },
     "execution_count": 38,
     "metadata": {},
     "output_type": "execute_result"
    }
   ],
   "source": [
    "log_weight = MVN_4000_MASTER.shape[0] * log_weight/np.sum(log_weight)\n",
    "log_weight+"
   ]
  },
  {
   "cell_type": "code",
   "execution_count": 39,
   "id": "df74d095-9b83-4f2d-a44b-97edd09d89d8",
   "metadata": {},
   "outputs": [
    {
     "name": "stderr",
     "output_type": "stream",
     "text": [
      "/home/ali/anaconda3/lib/python3.7/site-packages/ipykernel_launcher.py:1: RuntimeWarning: overflow encountered in exp\n",
      "  \"\"\"Entry point for launching an IPython kernel.\n"
     ]
    },
    {
     "data": {
      "text/plain": [
       "array([inf, inf, inf, ..., inf, inf, inf], dtype=float128)"
      ]
     },
     "execution_count": 39,
     "metadata": {},
     "output_type": "execute_result"
    }
   ],
   "source": []
  },
  {
   "cell_type": "code",
   "execution_count": null,
   "id": "e1a112f4-d969-47a6-8ed9-337b81755ba3",
   "metadata": {},
   "outputs": [],
   "source": []
  }
 ],
 "metadata": {
  "kernelspec": {
   "display_name": "Python 3 (ipykernel)",
   "language": "python",
   "name": "python3"
  },
  "language_info": {
   "codemirror_mode": {
    "name": "ipython",
    "version": 3
   },
   "file_extension": ".py",
   "mimetype": "text/x-python",
   "name": "python",
   "nbconvert_exporter": "python",
   "pygments_lexer": "ipython3",
   "version": "3.7.7"
  }
 },
 "nbformat": 4,
 "nbformat_minor": 5
}
