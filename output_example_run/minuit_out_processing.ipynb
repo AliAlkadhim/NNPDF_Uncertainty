{
 "cells": [
  {
   "cell_type": "code",
   "execution_count": 21,
   "id": "4b656d4f-7b06-4f20-947d-3a56655cae6c",
   "metadata": {},
   "outputs": [
    {
     "name": "stdout",
     "output_type": "stream",
     "text": [
      "the number of lines is 242\n",
      "Prameters block: ['    NO.   NAME         VALUE      STEP SIZE      LIMITS\\n', \"     2 'Bg        '  -0.61953E-01  0.27133E-01     no limits\\n\", \"     3 'Cg        '    5.5624      0.31846         no limits\\n\", \"     7 'Aprig     '   0.16612      0.28009E-01     no limits\\n\", \"     8 'Bprig     '  -0.38310      0.97840E-02     no limits\\n\", \"     9 'Cprig     '    25.000      constant\\n\", \"    12 'Buv       '   0.81048      0.16017E-01     no limits\\n\", \"    13 'Cuv       '    4.8235      0.63844E-01     no limits\\n\", \"    15 'Euv       '    9.9214      0.83589         no limits\\n\", \"    22 'Bdv       '    1.0300      0.61123E-01     no limits\\n\", \"    23 'Cdv       '    4.8463      0.29544         no limits\\n\", \"    33 'CUbar     '    7.0597      0.80914         no limits\\n\", \"    34 'DUbar     '    1.5481       1.0965         no limits\\n\", \"    41 'ADbar     '   0.26880      0.80200E-02     no limits\\n\", \"    42 'BDbar     '  -0.12730      0.36280E-02     no limits\\n\", \"    43 'CDbar     '    9.5862       1.4489         no limits\\n\"]\n",
      "\n",
      " \n",
      "\n",
      "[\"['\", 'NO.', 'NAME', 'VALUE', 'STEP', 'SIZE', \"LIMITS\\\\n',\", '\"', '2', \"'Bg\", \"'\", '-0.61953E-01', '0.27133E-01', 'no', 'limits\\\\n\",', '\"', '3', \"'Cg\", \"'\", '5.5624', '0.31846', 'no', 'limits\\\\n\",', '\"', '7', \"'Aprig\", \"'\", '0.16612', '0.28009E-01', 'no', 'limits\\\\n\",', '\"', '8', \"'Bprig\", \"'\", '-0.38310', '0.97840E-02', 'no', 'limits\\\\n\",', '\"', '9', \"'Cprig\", \"'\", '25.000', 'constant\\\\n\",', '\"', '12', \"'Buv\", \"'\", '0.81048', '0.16017E-01', 'no', 'limits\\\\n\",', '\"', '13', \"'Cuv\", \"'\", '4.8235', '0.63844E-01', 'no', 'limits\\\\n\",', '\"', '15', \"'Euv\", \"'\", '9.9214', '0.83589', 'no', 'limits\\\\n\",', '\"', '22', \"'Bdv\", \"'\", '1.0300', '0.61123E-01', 'no', 'limits\\\\n\",', '\"', '23', \"'Cdv\", \"'\", '4.8463', '0.29544', 'no', 'limits\\\\n\",', '\"', '33', \"'CUbar\", \"'\", '7.0597', '0.80914', 'no', 'limits\\\\n\",', '\"', '34', \"'DUbar\", \"'\", '1.5481', '1.0965', 'no', 'limits\\\\n\",', '\"', '41', \"'ADbar\", \"'\", '0.26880', '0.80200E-02', 'no', 'limits\\\\n\",', '\"', '42', \"'BDbar\", \"'\", '-0.12730', '0.36280E-02', 'no', 'limits\\\\n\",', '\"', '43', \"'CDbar\", \"'\", '9.5862', '1.4489', 'no', 'limits\\\\n\"]']\n"
     ]
    }
   ],
   "source": [
    "file_lines = []\n",
    "for line in open('minuit.out.txt', 'r'):\n",
    "    file_lines.append(line)\n",
    "print('the number of lines is', len(file_lines) )\n",
    "n=25\n",
    "print('Prameters block:', file_lines[9:n])\n",
    "parameter_lines = str(file_lines[9:n])\n",
    "print('\\n \\n')\n",
    "print(parameter_lines.split())"
   ]
  },
  {
   "cell_type": "code",
   "execution_count": 9,
   "id": "81040e88-ec2d-4331-bed6-0dd632ce0e56",
   "metadata": {},
   "outputs": [
    {
     "ename": "AttributeError",
     "evalue": "'list' object has no attribute 'strip'",
     "output_type": "error",
     "traceback": [
      "\u001b[0;31m---------------------------------------------------------------------------\u001b[0m",
      "\u001b[0;31mAttributeError\u001b[0m                            Traceback (most recent call last)",
      "\u001b[0;32m<ipython-input-9-833ee5faa9e9>\u001b[0m in \u001b[0;36m<module>\u001b[0;34m\u001b[0m\n\u001b[1;32m      7\u001b[0m     \u001b[0mfile\u001b[0m\u001b[0;34m.\u001b[0m\u001b[0mclose\u001b[0m\u001b[0;34m(\u001b[0m\u001b[0;34m)\u001b[0m\u001b[0;34m\u001b[0m\u001b[0;34m\u001b[0m\u001b[0m\n\u001b[1;32m      8\u001b[0m     \u001b[0mprint\u001b[0m\u001b[0;34m(\u001b[0m\u001b[0mdata_dict\u001b[0m\u001b[0;34m)\u001b[0m\u001b[0;34m\u001b[0m\u001b[0;34m\u001b[0m\u001b[0m\n\u001b[0;32m----> 9\u001b[0;31m \u001b[0mmain\u001b[0m\u001b[0;34m(\u001b[0m\u001b[0;34m)\u001b[0m\u001b[0;34m\u001b[0m\u001b[0;34m\u001b[0m\u001b[0m\n\u001b[0m",
      "\u001b[0;32m<ipython-input-9-833ee5faa9e9>\u001b[0m in \u001b[0;36mmain\u001b[0;34m()\u001b[0m\n\u001b[1;32m      2\u001b[0m     \u001b[0mfile\u001b[0m \u001b[0;34m=\u001b[0m\u001b[0mopen\u001b[0m\u001b[0;34m(\u001b[0m\u001b[0;34m'minuit.out.txt'\u001b[0m\u001b[0;34m,\u001b[0m \u001b[0;34m'r'\u001b[0m\u001b[0;34m)\u001b[0m\u001b[0;34m\u001b[0m\u001b[0;34m\u001b[0m\u001b[0m\n\u001b[1;32m      3\u001b[0m     \u001b[0mlines\u001b[0m \u001b[0;34m=\u001b[0m \u001b[0mfile\u001b[0m\u001b[0;34m.\u001b[0m\u001b[0mreadlines\u001b[0m\u001b[0;34m(\u001b[0m\u001b[0;34m)\u001b[0m\u001b[0;34m\u001b[0m\u001b[0;34m\u001b[0m\u001b[0m\n\u001b[0;32m----> 4\u001b[0;31m     \u001b[0mstr_lines\u001b[0m \u001b[0;34m=\u001b[0m \u001b[0mlines\u001b[0m\u001b[0;34m.\u001b[0m\u001b[0mstrip\u001b[0m\u001b[0;34m(\u001b[0m\u001b[0;34m)\u001b[0m\u001b[0;34m.\u001b[0m\u001b[0msplit\u001b[0m\u001b[0;34m(\u001b[0m\u001b[0;34m)\u001b[0m\u001b[0;34m\u001b[0m\u001b[0;34m\u001b[0m\u001b[0m\n\u001b[0m\u001b[1;32m      5\u001b[0m     \u001b[0mheader\u001b[0m\u001b[0;34m,\u001b[0m \u001b[0mvalues\u001b[0m \u001b[0;34m=\u001b[0m \u001b[0mlines\u001b[0m\u001b[0;34m[\u001b[0m\u001b[0;36m104\u001b[0m\u001b[0;34m]\u001b[0m\u001b[0;34m,\u001b[0m \u001b[0mlines\u001b[0m\u001b[0;34m[\u001b[0m\u001b[0;36m106\u001b[0m\u001b[0;34m:\u001b[0m\u001b[0;36m124\u001b[0m\u001b[0;34m]\u001b[0m\u001b[0;34m\u001b[0m\u001b[0;34m\u001b[0m\u001b[0m\n\u001b[1;32m      6\u001b[0m     \u001b[0mdata_dict\u001b[0m \u001b[0;34m=\u001b[0m \u001b[0;34m{\u001b[0m\u001b[0mh\u001b[0m\u001b[0;34m:\u001b[0m \u001b[0mv\u001b[0m \u001b[0;32mfor\u001b[0m \u001b[0mh\u001b[0m\u001b[0;34m,\u001b[0m \u001b[0mv\u001b[0m \u001b[0;32min\u001b[0m \u001b[0mzip\u001b[0m\u001b[0;34m(\u001b[0m\u001b[0mheader\u001b[0m\u001b[0;34m,\u001b[0m \u001b[0mzip\u001b[0m\u001b[0;34m(\u001b[0m\u001b[0;34m*\u001b[0m\u001b[0mvalues\u001b[0m\u001b[0;34m)\u001b[0m\u001b[0;34m)\u001b[0m\u001b[0;34m}\u001b[0m\u001b[0;34m\u001b[0m\u001b[0;34m\u001b[0m\u001b[0m\n",
      "\u001b[0;31mAttributeError\u001b[0m: 'list' object has no attribute 'strip'"
     ]
    }
   ],
   "source": [
    "def main():\n",
    "    file =open('minuit.out.txt', 'r')\n",
    "    lines = file.readlines()\n",
    "    str_lines = lines.strip().split()\n",
    "    header, values = lines[104], lines[106:124]\n",
    "    data_dict = {h: v for h, v in zip(header, zip(*values))}\n",
    "    file.close()\n",
    "    print(data_dict)\n",
    "main()\n"
   ]
  },
  {
   "cell_type": "code",
   "execution_count": 3,
   "id": "5a69b174-aa3b-4cda-91d2-e1279b890d1b",
   "metadata": {},
   "outputs": [
    {
     "name": "stdout",
     "output_type": "stream",
     "text": [
      "  EXT PARAMETER                APPROXIMATE        STEP         FIRST   \n",
      "\n"
     ]
    },
    {
     "ename": "IndexError",
     "evalue": "list index out of range",
     "output_type": "error",
     "traceback": [
      "\u001b[0;31m---------------------------------------------------------------------------\u001b[0m",
      "\u001b[0;31mIndexError\u001b[0m                                Traceback (most recent call last)",
      "\u001b[0;32m<ipython-input-3-3ec663e40b51>\u001b[0m in \u001b[0;36m<module>\u001b[0;34m\u001b[0m\n\u001b[1;32m     13\u001b[0m     \u001b[0;31m#print(words[0])\u001b[0m\u001b[0;34m\u001b[0m\u001b[0;34m\u001b[0m\u001b[0;34m\u001b[0m\u001b[0m\n\u001b[1;32m     14\u001b[0m     \u001b[0;31m#print(words[2].split())\u001b[0m\u001b[0;34m\u001b[0m\u001b[0;34m\u001b[0m\u001b[0;34m\u001b[0m\u001b[0m\n\u001b[0;32m---> 15\u001b[0;31m     \u001b[0mvalues\u001b[0m\u001b[0;34m=\u001b[0m \u001b[0mwords\u001b[0m\u001b[0;34m[\u001b[0m\u001b[0;36m2\u001b[0m\u001b[0;34m]\u001b[0m\u001b[0;34m.\u001b[0m\u001b[0msplit\u001b[0m\u001b[0;34m(\u001b[0m\u001b[0;34m)\u001b[0m\u001b[0;34m\u001b[0m\u001b[0;34m\u001b[0m\u001b[0m\n\u001b[0m\u001b[1;32m     16\u001b[0m     \u001b[0mprint\u001b[0m\u001b[0;34m(\u001b[0m\u001b[0mvalues\u001b[0m\u001b[0;34m)\u001b[0m\u001b[0;34m\u001b[0m\u001b[0;34m\u001b[0m\u001b[0m\n\u001b[1;32m     17\u001b[0m     \u001b[0;31m#for ind, word in enumerate(split_line):\u001b[0m\u001b[0;34m\u001b[0m\u001b[0;34m\u001b[0m\u001b[0;34m\u001b[0m\u001b[0m\n",
      "\u001b[0;31mIndexError\u001b[0m: list index out of range"
     ]
    }
   ],
   "source": [
    "import os\n",
    "import re\n",
    "filename = 'minuit.out.txt'\n",
    "infile = open(filename, 'r')\n",
    "lines = infile.readlines()\n",
    "print(lines[104])\n",
    "for line in lines[106:124]:\n",
    "    #print(line)\n",
    "    #words = line.strip().split('      ')#the delimeter is 6 spaces to separate the columns\n",
    "    words = re.split(r\"(?: '\\s+)\\s*\", line.strip())\n",
    "    #use re noncapture group, defined as (?:...)since we dont want the separators in our \n",
    "    #result.\n",
    "    #print(words[0])\n",
    "    #print(words[2].split())\n",
    "    values= words[2].split()\n",
    "    print(values)\n",
    "    #for ind, word in enumerate(split_line):\n",
    "    #print(split_line)\n",
    "        #print(word)\n",
    "#     with open('minuit.oin.txt', 'r') as second:\n",
    "#         split_line\n",
    "#         second.write()\n",
    "    \n",
    "    \n",
    "infile.close()\n",
    "#line.split(0)\n"
   ]
  },
  {
   "cell_type": "markdown",
   "id": "79ca0dc5-3697-40c0-9eab-5c64e361a0e8",
   "metadata": {},
   "source": [
    "Explanation of the minuit.in.txt format:\n",
    "\n",
    "set title new 13p HERAPDF parameters 1 'Ag' 0.0000 0. 2 'Bg' -0.226958 1.126400e-03 .....\n",
    "\n",
    "The first 3 lines set title and announces MINUIT the list of parameters\n",
    "The index of parameters is the first column and it is hardwired to the source code.\n",
    "1 -10 gluon parameters\n",
    "11-20 uval parameters 21-30 dval parameters 31-40 Ubar parameters 41-50 Dbar parameters 51-60 U parameters 61-70 D parameters 71-80 Sea parameters 81-90 Delta parameters 91-100 other parameters: alphas (95), fs=Dbar/str (96), fc=Ubar/ch (97)\n",
    "\n",
    "second column represents just user defined names\n",
    "third column: input value for the parameter\n",
    "forth column: step size (usually chosen of the same order as of the error) IMPORTANT: -> if step size value is 0. then this parameter is FIXED\n",
    "fifth colum: lower boundary of the fit parameter\n",
    "sixth column: upper boundary of the fit parameter -> if boundaries are not mentioned then there are no boundaries!"
   ]
  },
  {
   "cell_type": "markdown",
   "id": "d9b0e052-de5a-4fe0-8e1c-d6fc22fcf465",
   "metadata": {},
   "source": [
    "## Workflow\n",
    "\n",
    "go to example_run directory. mkdir run. cp example_run/* run. cd run. xfitter. cd output. python generate_datasets.py.\n",
    "\n",
    "See how \n",
    "#! /bin/bash\n",
    "\n",
    "for ((i=0; i=100; i++))\n",
    "    do cp example_run/input/steerings.txt dataset_{}.format(i)\n",
    "    do cp example_run/input/ewparaparams.txt\n",
    "    cp example_run/input/minuit.in_{}.txt.format(i) dataset_{}/minuit.txt.format(i)\n",
    "    cd dataset_{i}\n",
    "    mkdir run\n",
    "    cp input/* run\n",
    "    cd run\n",
    "    xfitter\n",
    "    "
   ]
  },
  {
   "cell_type": "code",
   "execution_count": 1,
   "id": "f78d3188-7d5c-4760-88db-b1acdab77098",
   "metadata": {},
   "outputs": [
    {
     "name": "stdout",
     "output_type": "stream",
     "text": [
      "[-0.061856  5.5593    0.16618  -0.383    25.        0.81056   4.8239\n",
      "  9.9226    1.0301    4.8456    7.0603    1.5439    0.26877  -0.12732\n",
      "  9.581   ] [-0.049813929981953366, 5.486393754831673, 0.16493057271901138, -0.3821274413553041, 25.0, 0.8063268705671667, 4.8460136251918895, 9.722682657842686, 1.0464171225591166, 4.877273636106615, 7.161922851381215, 1.3155025336628912, 0.26987290274059833, -0.1289784003506663, 9.8989240381005] \n",
      "\n",
      " 15 15\n"
     ]
    }
   ],
   "source": [
    "import os\n",
    "import re; import pandas as pd; import numpy as np\n",
    "params=[]\n",
    "generated_params = []\n",
    "error_list=[]\n",
    "filename = 'minuit.out.txt'\n",
    "infile = open(filename, 'r')\n",
    "lines = infile.readlines()\n",
    "#print(lines[104])\n",
    "# for line in lines[106:109, 111:120]:\n",
    "from itertools import *\n",
    "#make a chain iterator of our wanted lines from the output file, we want to exclude\n",
    "#those lines that have \"constant\" for the error, since these are not the PDF parameters and we can't use them\n",
    "chain = chain(islice(lines, 106, 111), islice(lines, 111, 121))\n",
    "chain_cov_mat = islice(lines, 127, 143)\n",
    "\n",
    "#for line in lines[106:121]:\n",
    "for line in chain:\n",
    "    #print(line)\n",
    "    #words = line.strip().split('\\s+')#the delimeter is 6 spaces to separate the columns\n",
    "    words = line.strip().split()\n",
    "    \n",
    "    #words = re.split(r\"(?: '\\s*)\\s*\", line.strip())\n",
    "    #df = pd.read_table(words)\n",
    "    #use re noncapture group, defined as (?:...)since we dont want the separators in our \n",
    "    #result.\n",
    "    #print(words[2])\n",
    "    values= words[2]\n",
    "    errors=words[3]\n",
    "    #print(errors)\n",
    "    for value in values.split():\n",
    "        params.append(float(value))\n",
    "        \n",
    "    \n",
    "    for error in errors.split():\n",
    "        if error =='constant':\n",
    "            #'constant' just means the parameter does not have error!\n",
    "            error_list.append(0.0)\n",
    "        else:\n",
    "            error_list.append(float(error))\n",
    "    \n",
    "\n",
    "infile.close()\n",
    "params = np.asarray(params); error_list =np.asarray(error_list)\n",
    "\n",
    "\n",
    "\n",
    "#############GENERATE UNIFORM PARAMETERS\n",
    "generated_uniform_params=[]\n",
    "for i in range(len(params)):\n",
    "    param, error = params[i], error_list[i]\n",
    "    generated_param = np.random.uniform(low = param-error, high=param+error)\n",
    "    generated_uniform_params.append(generated_param)\n",
    "\n",
    "    \n",
    "    \n",
    "    \n",
    "print( params, generated_uniform_params, '\\n\\n', len(params), len(generated_uniform_params))"
   ]
  },
  {
   "cell_type": "code",
   "execution_count": 2,
   "id": "c0da424b-b506-436c-8666-0135a3bed5ca",
   "metadata": {},
   "outputs": [
    {
     "data": {
      "text/plain": [
       "<matplotlib.legend.Legend at 0x7fdb17e48c10>"
      ]
     },
     "execution_count": 2,
     "metadata": {},
     "output_type": "execute_result"
    },
    {
     "data": {
      "image/png": "[encoded data removed]",
      "text/plain": [
       "<Figure size 432x288 with 1 Axes>"
      ]
     },
     "metadata": {
      "needs_background": "light"
     },
     "output_type": "display_data"
    }
   ],
   "source": [
    "import matplotlib.pyplot as plt\n",
    "x_pos = np.arange(len(params))\n",
    "widths = 0.45\n",
    "plt.bar(x_pos, params, widths, label='parameters')\n",
    "plt.bar(x_pos + widths, generated_uniform_params, widths, label='generated uniform parameters')\n",
    "plt.xlabel('Parameter'); plt.ylabel('Parameter value')\n",
    "plt.legend()\n"
   ]
  },
  {
   "cell_type": "markdown",
   "id": "5289e4bf-b557-49fa-b1b9-4c8e30f30624",
   "metadata": {},
   "source": [
    "### Extracting the Covariance Matrix"
   ]
  },
  {
   "cell_type": "code",
   "execution_count": 3,
   "id": "800e70e8-8474-4b75-b7fb-0cb09c2c1a4a",
   "metadata": {},
   "outputs": [
    {
     "name": "stdout",
     "output_type": "stream",
     "text": [
      "0.632E-03 \n",
      "\n",
      "0.872E-03 0.117E-01 \n",
      "\n",
      "-0.844E-03-0.893E-03 0.120E-02 \n",
      "\n",
      "-0.122E-03-0.150E-03 0.197E-03 0.581E-04 \n",
      "\n",
      "0.937E-05 0.223E-04-0.833E-05-0.198E-05 0.287E-04 \n",
      "\n",
      "0.460E-04-0.829E-04-0.565E-04-0.914E-05 0.403E-04 0.861E-03 \n",
      "\n",
      "0.165E-03 0.298E-04-0.274E-03-0.198E-04-0.574E-03 0.421E-02 0.755E-01 \n",
      "\n",
      "0.510E-04 0.855E-04-0.644E-04-0.101E-04-0.111E-04-0.975E-05-0.446E-03 0.540E-03 \n",
      "\n",
      "0.246E-03-0.593E-03-0.290E-03-0.491E-04 0.140E-04-0.398E-03 0.296E-02 0.170E-02 0.158E-01 \n",
      "\n",
      "0.935E-03-0.214E-02-0.136E-02-0.173E-03 0.242E-03 0.473E-03 0.194E-03 0.662E-03 0.120E-03 0.498E-01 \n",
      "\n",
      "-0.191E-02 0.429E-02 0.264E-02 0.335E-03-0.221E-03-0.661E-03 0.638E-02-0.487E-03-0.170E-02 0.253E-01 0.982E-01 \n",
      "\n",
      "-0.774E-05 0.139E-04 0.497E-05 0.232E-05 0.327E-05-0.318E-06 0.436E-04 0.570E-05 0.243E-06 0.168E-04-0.739E-04 \n",
      "\n",
      "0.156E-04 \n",
      "\n",
      "-0.558E-05-0.582E-06 0.425E-05 0.155E-05 0.768E-06-0.388E-07 0.580E-05 0.193E-05-0.315E-05 0.182E-04-0.388E-04 \n",
      "\n",
      "0.518E-05 0.304E-05 \n",
      "\n",
      "0.349E-02-0.135E-01-0.437E-02-0.589E-03 0.215E-03 0.131E-04-0.652E-02 0.240E-02 0.188E-02-0.218E-01 0.363E-01 \n",
      "\n"
     ]
    }
   ],
   "source": [
    "for line in lines[127:143]:\n",
    "    rows = line.strip().split('\\n')\n",
    "    triang_rows = rows[0]\n",
    "#     for row in triang_rows.split('\\n'):\n",
    "\n",
    "#     for row in triang_rows.strip().split('\\s'):\n",
    "    for row in triang_rows.strip().split('\\s'):\n",
    "\n",
    "        print(row, '\\n')"
   ]
  },
  {
   "cell_type": "code",
   "execution_count": 4,
   "id": "068d1b52-3666-48a3-b291-3a41f2accfd4",
   "metadata": {},
   "outputs": [],
   "source": [
    "COV = np.empty((14,14))\n",
    "cov_list = [None]*14\n",
    "cov_list[0] = [0.632E-03] \n",
    "cov_list[1] = [0.000872, 0.0117]\n",
    "cov_list[2] =[-0.844E-03,-0.893E-03, 0.120E-02]\n",
    "cov_list[3]=[-0.122E-03,-0.150E-03, 0.197E-03, 0.581E-04]"
   ]
  },
  {
   "cell_type": "code",
   "execution_count": 5,
   "id": "1d858bda-7c3f-40b6-8d4c-bd939435a725",
   "metadata": {},
   "outputs": [
    {
     "data": {
      "text/plain": [
       "[9.37e-06, 2.23e-05, -8.33e-06, -1.98e-06, 2.87e-05]"
      ]
     },
     "execution_count": 5,
     "metadata": {},
     "output_type": "execute_result"
    }
   ],
   "source": [
    "cov_list[4] =[0.937E-05, 0.223E-04, -0.833E-05, -0.198E-05, 0.287E-04]\n",
    "cov_list[4]"
   ]
  },
  {
   "cell_type": "code",
   "execution_count": 6,
   "id": "14070a3d-4ca1-4f40-b3bf-50daddd071e1",
   "metadata": {},
   "outputs": [
    {
     "data": {
      "text/plain": [
       "array([[ 6.32e-04,  8.72e-04, -8.44e-04, -1.22e-04,  9.37e-06,  4.60e-05,\n",
       "         1.65e-04,  5.10e-05,  2.46e-04,  9.35e-04, -1.91e-03, -7.74e-06,\n",
       "        -5.58e-06,  3.49e-03],\n",
       "       [ 8.72e-04,  1.17e-02, -8.93e-04, -1.50e-04,  2.23e-05, -8.29e-05,\n",
       "         2.98e-05,  8.55e-05, -5.93e-04, -2.14e-03,  4.29e-03,  1.39e-05,\n",
       "        -5.82e-07, -1.35e-02],\n",
       "       [-8.44e-04, -8.93e-04,  1.20e-03,  1.97e-04, -8.33e-06, -5.65e-05,\n",
       "        -2.74e-04, -6.44e-05, -2.90e-04, -1.36e-03,  2.64e-03,  4.97e-06,\n",
       "         4.25e-06, -4.37e-03],\n",
       "       [-1.22e-04, -1.50e-04,  1.97e-04,  5.81e-05, -1.98e-06, -9.14e-06,\n",
       "        -1.98e-05, -1.01e-05, -4.91e-05, -1.73e-04,  3.35e-04,  2.32e-06,\n",
       "         1.55e-06, -5.89e-04],\n",
       "       [ 9.37e-06,  2.23e-05, -8.33e-06, -1.98e-06,  2.87e-05,  4.03e-05,\n",
       "        -5.74e-04, -1.11e-05,  1.40e-05,  2.42e-04, -2.21e-04,  3.27e-06,\n",
       "         7.68e-07,  2.15e-04],\n",
       "       [ 4.60e-05, -8.29e-05, -5.65e-05, -9.14e-06,  4.03e-05,  8.61e-04,\n",
       "         4.21e-03, -9.75e-06, -3.98e-04,  4.73e-04, -6.61e-04, -3.18e-07,\n",
       "        -3.88e-08,  1.31e-05],\n",
       "       [ 1.65e-04,  2.98e-05, -2.74e-04, -1.98e-05, -5.74e-04,  4.21e-03,\n",
       "         7.55e-02, -4.46e-04,  2.96e-03,  1.94e-04,  6.38e-03,  4.36e-05,\n",
       "         5.80e-06, -6.52e-03],\n",
       "       [ 5.10e-05,  8.55e-05, -6.44e-05, -1.01e-05, -1.11e-05, -9.75e-06,\n",
       "        -4.46e-04,  5.40e-04,  1.70e-03,  6.62e-04, -4.87e-04,  5.70e-06,\n",
       "         1.93e-06,  2.40e-03],\n",
       "       [ 2.46e-04, -5.93e-04, -2.90e-04, -4.91e-05,  1.40e-05, -3.98e-04,\n",
       "         2.96e-03,  1.70e-03,  1.58e-02,  1.20e-04, -1.70e-03,  2.43e-07,\n",
       "        -3.15e-06,  1.88e-03],\n",
       "       [ 9.35e-04, -2.14e-03, -1.36e-03, -1.73e-04,  2.42e-04,  4.73e-04,\n",
       "         1.94e-04,  6.62e-04,  1.20e-04,  4.98e-02,  2.53e-02,  1.68e-05,\n",
       "         1.82e-05, -2.18e-02],\n",
       "       [-1.91e-03,  4.29e-03,  2.64e-03,  3.35e-04, -2.21e-04, -6.61e-04,\n",
       "         6.38e-03, -4.87e-04, -1.70e-03,  2.53e-02,  9.82e-02, -7.39e-05,\n",
       "        -3.88e-05,  3.63e-02],\n",
       "       [-7.74e-06,  1.39e-05,  4.97e-06,  2.32e-06,  3.27e-06, -3.18e-07,\n",
       "         4.36e-05,  5.70e-06,  2.43e-07,  1.68e-05, -7.39e-05,  1.56e-05,\n",
       "         5.18e-06,  1.10e-04],\n",
       "       [-5.58e-06, -5.82e-07,  4.25e-06,  1.55e-06,  7.68e-07, -3.88e-08,\n",
       "         5.80e-06,  1.93e-06, -3.15e-06,  1.82e-05, -3.88e-05,  5.18e-06,\n",
       "         3.04e-06,  1.82e-05],\n",
       "       [ 3.49e-03, -1.35e-02, -4.37e-03, -5.89e-04,  2.15e-04,  1.31e-05,\n",
       "        -6.52e-03,  2.40e-03,  1.88e-03, -2.18e-02,  3.63e-02,  1.10e-04,\n",
       "         1.82e-05,  3.70e-01]])"
      ]
     },
     "execution_count": 6,
     "metadata": {},
     "output_type": "execute_result"
    }
   ],
   "source": [
    "COV[13] = np.array([0.349E-02,-0.135E-01,-0.437E-02,-0.589E-03, 0.215E-03, 0.131E-04,-0.652E-02, 0.240E-02, 0.188E-02,-0.218E-01, 0.363E-01, 0.110E-03, 0.182E-04, 0.370E+00])\n",
    "COV[12] = np.array([-0.558E-05,-0.582E-06, 0.425E-05, 0.155E-05, 0.768E-06,-0.388E-07, 0.580E-05, 0.193E-05,-0.315E-05, 0.182E-04,-0.388E-04, 0.518E-05, 0.304E-05,0])\n",
    "COV[11] = np.array([-0.774E-05, 0.139E-04, 0.497E-05, 0.232E-05, 0.327E-05,-0.318E-06, 0.436E-04, 0.570E-05, 0.243E-06, 0.168E-04,-0.739E-04, 0.156E-04,0,0])\n",
    "COV[10]= np.array([-0.191E-02, 0.429E-02, 0.264E-02, 0.335E-03,-0.221E-03,-0.661E-03, 0.638E-02,-0.487E-03,-0.170E-02, 0.253E-01, 0.982E-01,0,0,0]) \n",
    "COV[9] = np.array([0.935E-03,-0.214E-02,-0.136E-02,-0.173E-03, 0.242E-03, 0.473E-03, 0.194E-03, 0.662E-03, 0.120E-03, 0.498E-01,0,0,0,0])\n",
    "COV[8] = np.array([0.246E-03,-0.593E-03,-0.290E-03,-0.491E-04, 0.140E-04,-0.398E-03, 0.296E-02, 0.170E-02, 0.158E-01, 0,0,0,0,0 ])\n",
    "COV[7] = np.array([0.510E-04, 0.855E-04,-0.644E-04,-0.101E-04,-0.111E-04,-0.975E-05,-0.446E-03, 0.540E-03,0,0,0,0,0,0])\n",
    "COV[6] = np.array([0.165E-03, 0.298E-04,-0.274E-03,-0.198E-04,-0.574E-03, 0.421E-02, 0.755E-01,0,0,0,0,0,0,0])\n",
    "COV[5] = np.array([0.460E-04, -0.829E-04, -0.565E-04, -0.914E-05, 0.403E-04, 0.861E-03,0,0,0,0,0,0,0,0] )\n",
    "COV[4] = np.array([0.937E-05, 0.223E-04, -0.833E-05, -0.198E-05, 0.287E-04,0,0,0,0,0,0,0,0,0])\n",
    "COV[3] = np.array([-0.122E-03,-0.150E-03, 0.197E-03, 0.581E-04,0,0,0,0,0,0,0,0,0,0])\n",
    "COV[2]=np.array([-0.844E-03,-0.893E-03, 0.120E-02,0,0,0,0,0,0,0,0,0,0,0])\n",
    "COV[1] = np.array([0.000872, 0.0117,0,0,0,0,0,0,0,0,0,0,0,0])\n",
    "COV[0] = np.array([0.632E-03,0,0,0,0,0,0,0,0,0,0,0,0,0] )\n",
    "for i in range(len(COV)):\n",
    "    for j in range(len(COV[i])):\n",
    "        COV[i][j] = COV[j][i]\n",
    "COV"
   ]
  },
  {
   "cell_type": "code",
   "execution_count": 7,
   "id": "a7710525-f430-4c47-bc85-584e72b80ec1",
   "metadata": {},
   "outputs": [
    {
     "data": {
      "text/plain": [
       "(14, 14)"
      ]
     },
     "execution_count": 7,
     "metadata": {},
     "output_type": "execute_result"
    }
   ],
   "source": [
    "COV.shape"
   ]
  },
  {
   "cell_type": "markdown",
   "id": "9e4bf981-e925-44fa-a30e-53fe9d3946f0",
   "metadata": {},
   "source": [
    "Check that the square root of the diagonal of COV is the \"step size\" in minuit.in.txt"
   ]
  },
  {
   "cell_type": "code",
   "execution_count": 8,
   "id": "96621d01-8307-4534-bb2c-c4f1caafd0f8",
   "metadata": {},
   "outputs": [
    {
     "data": {
      "text/plain": [
       "array([0.02513961, 0.10816654, 0.03464102, 0.00762234, 0.00535724,\n",
       "       0.0293428 , 0.27477263, 0.0232379 , 0.12569805, 0.22315914,\n",
       "       0.31336879, 0.00394968, 0.00174356, 0.60827625])"
      ]
     },
     "execution_count": 8,
     "metadata": {},
     "output_type": "execute_result"
    }
   ],
   "source": [
    "cov_diag = COV.diagonal()\n",
    "np.sqrt(cov_diag)"
   ]
  },
  {
   "cell_type": "code",
   "execution_count": 9,
   "id": "c1a61471-cee3-4f2c-bec3-ea1cb5b04d70",
   "metadata": {},
   "outputs": [
    {
     "data": {
      "text/plain": [
       "(14,)"
      ]
     },
     "execution_count": 9,
     "metadata": {},
     "output_type": "execute_result"
    }
   ],
   "source": [
    "params = [-0.61856E-01 ,5.5593, 0.16618,-0.38300,0.81056,4.8239,9.9226,1.0301,4.8456,7.0603,1.5439 , 0.26877,-0.12732 , 9.5810]\n",
    "means = np.array(params)\n",
    "means.shape"
   ]
  },
  {
   "cell_type": "code",
   "execution_count": 10,
   "id": "2a9a99fa-959f-4ece-88c4-9d30b649a622",
   "metadata": {},
   "outputs": [],
   "source": [
    "\n",
    "d=COV.shape[0] #this has to be 13 since\n",
    "n=100000 #number of samples, could be anything\n",
    "\n",
    "def get_mvn_samples(mu,cov,n,d):\n",
    "    samples = np.zeros((n,d))\n",
    "    for i in range(n):      \n",
    "        samples[i,:] = np.random.multivariate_normal(mu, cov, 1)\n",
    "    \n",
    "    return samples"
   ]
  },
  {
   "cell_type": "code",
   "execution_count": 11,
   "id": "170e9bee-d3bb-46bd-8b31-cca26d8f3756",
   "metadata": {},
   "outputs": [
    {
     "data": {
      "text/plain": [
       "array([[-0.0298973 ,  5.73454372,  0.13382105, ...,  0.2693167 ,\n",
       "        -0.12682223, 10.30063965],\n",
       "       [-0.0257972 ,  5.56257788,  0.11760026, ...,  0.26656815,\n",
       "        -0.1289241 ,  9.56372797],\n",
       "       [-0.07436652,  5.49838531,  0.16442173, ...,  0.27049959,\n",
       "        -0.12636459,  9.17119201],\n",
       "       ...,\n",
       "       [-0.08745964,  5.38703704,  0.21201814, ...,  0.26504199,\n",
       "        -0.12909646,  9.6533813 ],\n",
       "       [-0.05517987,  5.74988662,  0.17110704, ...,  0.26279859,\n",
       "        -0.12894084,  9.398288  ],\n",
       "       [-0.04186429,  5.45529598,  0.12819556, ...,  0.26898359,\n",
       "        -0.12777905,  9.94994223]])"
      ]
     },
     "execution_count": 11,
     "metadata": {},
     "output_type": "execute_result"
    }
   ],
   "source": [
    "MVN = get_mvn_samples(mu=means, cov=COV, n=10000, d=d)\n",
    "MVN"
   ]
  },
  {
   "cell_type": "code",
   "execution_count": 12,
   "id": "d9a69fc8-763f-485a-93da-b9388e5b8ebf",
   "metadata": {},
   "outputs": [
    {
     "data": {
      "text/plain": [
       "(10000, 14)"
      ]
     },
     "execution_count": 12,
     "metadata": {},
     "output_type": "execute_result"
    }
   ],
   "source": [
    "MVN.shape"
   ]
  },
  {
   "cell_type": "code",
   "execution_count": 13,
   "id": "5a5c3da7-9c68-4a89-92d5-e3aff9e5254d",
   "metadata": {},
   "outputs": [
    {
     "data": {
      "text/plain": [
       "(array([  2.,   1.,   2.,   2.,   8.,   8.,  20.,  38.,  30.,  53.,  74.,\n",
       "        101., 148., 155., 205., 243., 332., 380., 433., 476., 524., 556.,\n",
       "        610., 597., 658., 575., 561., 478., 451., 452., 364., 335., 253.,\n",
       "        209., 182., 129.,  93.,  74.,  60.,  43.,  26.,  26.,  15.,   6.,\n",
       "          5.,   2.,   3.,   0.,   1.,   1.]),\n",
       " array([-0.15279492, -0.14899957, -0.14520422, -0.14140887, -0.13761353,\n",
       "        -0.13381818, -0.13002283, -0.12622748, -0.12243214, -0.11863679,\n",
       "        -0.11484144, -0.11104609, -0.10725074, -0.1034554 , -0.09966005,\n",
       "        -0.0958647 , -0.09206935, -0.08827401, -0.08447866, -0.08068331,\n",
       "        -0.07688796, -0.07309262, -0.06929727, -0.06550192, -0.06170657,\n",
       "        -0.05791122, -0.05411588, -0.05032053, -0.04652518, -0.04272983,\n",
       "        -0.03893449, -0.03513914, -0.03134379, -0.02754844, -0.0237531 ,\n",
       "        -0.01995775, -0.0161624 , -0.01236705, -0.00857171, -0.00477636,\n",
       "        -0.00098101,  0.00281434,  0.00660969,  0.01040503,  0.01420038,\n",
       "         0.01799573,  0.02179108,  0.02558642,  0.02938177,  0.03317712,\n",
       "         0.03697247]),\n",
       " <BarContainer object of 50 artists>)"
      ]
     },
     "execution_count": 13,
     "metadata": {},
     "output_type": "execute_result"
    },
    {
     "data": {
      "image/png": "[encoded data removed]",
      "text/plain": [
       "<Figure size 432x288 with 1 Axes>"
      ]
     },
     "metadata": {
      "needs_background": "light"
     },
     "output_type": "display_data"
    }
   ],
   "source": [
    "Bg = MVN[:,0]\n",
    "plt.hist(Bg.flatten(), bins=50)"
   ]
  },
  {
   "cell_type": "code",
   "execution_count": 14,
   "id": "240e1a89-746f-4fd0-a4f2-2159e488eb81",
   "metadata": {},
   "outputs": [
    {
     "data": {
      "text/plain": [
       "(array([  1.,   4.,   6.,   8.,  14.,  26.,  25.,  35.,  54., 101., 127.,\n",
       "        163., 217., 251., 340., 385., 482., 556., 603., 695., 661., 690.,\n",
       "        683., 596., 548., 555., 490., 401., 325., 249., 191., 161., 126.,\n",
       "         88.,  55.,  34.,  17.,  13.,  10.,   8.,   3.,   2.,   0.,   0.,\n",
       "          0.,   0.,   0.,   0.,   0.,   1.]),\n",
       " array([5.16370826, 5.18218311, 5.20065796, 5.21913281, 5.23760766,\n",
       "        5.25608251, 5.27455736, 5.29303221, 5.31150707, 5.32998192,\n",
       "        5.34845677, 5.36693162, 5.38540647, 5.40388132, 5.42235617,\n",
       "        5.44083102, 5.45930587, 5.47778072, 5.49625557, 5.51473042,\n",
       "        5.53320527, 5.55168012, 5.57015497, 5.58862982, 5.60710467,\n",
       "        5.62557952, 5.64405437, 5.66252922, 5.68100407, 5.69947892,\n",
       "        5.71795377, 5.73642862, 5.75490347, 5.77337832, 5.79185318,\n",
       "        5.81032803, 5.82880288, 5.84727773, 5.86575258, 5.88422743,\n",
       "        5.90270228, 5.92117713, 5.93965198, 5.95812683, 5.97660168,\n",
       "        5.99507653, 6.01355138, 6.03202623, 6.05050108, 6.06897593,\n",
       "        6.08745078]),\n",
       " <BarContainer object of 50 artists>)"
      ]
     },
     "execution_count": 14,
     "metadata": {},
     "output_type": "execute_result"
    },
    {
     "data": {
      "image/png": "[encoded data removed]",
      "text/plain": [
       "<Figure size 432x288 with 1 Axes>"
      ]
     },
     "metadata": {
      "needs_background": "light"
     },
     "output_type": "display_data"
    }
   ],
   "source": [
    "Cg = MVN[:,1]\n",
    "     plt.hist(Cg.flatten(), bins=50)"
   ]
  },
  {
   "cell_type": "code",
   "execution_count": 15,
   "id": "4c026eca-e6c1-45cd-abb6-bc1d93abecc2",
   "metadata": {},
   "outputs": [
    {
     "data": {
      "image/png": "[encoded data removed]",
      "text/plain": [
       "<Figure size 432x288 with 1 Axes>"
      ]
     },
     "metadata": {
      "needs_background": "light"
     },
     "output_type": "display_data"
    }
   ],
   "source": [
    "for i in range(13):\n",
    "    plt.hist(MVN[:,i], bins=100)"
   ]
  },
  {
   "cell_type": "markdown",
   "id": "4e0ad917-b2f9-4166-a469-b0d0a02bbf0e",
   "metadata": {},
   "source": [
    "# Unweighted"
   ]
  },
  {
   "cell_type": "code",
   "execution_count": 17,
   "id": "5dad5f1f-628c-4764-af36-e697c6d6aa61",
   "metadata": {},
   "outputs": [
    {
     "data": {
      "image/png": "[encoded data removed]",
      "text/plain": [
       "<Figure size 720x1080 with 16 Axes>"
      ]
     },
     "metadata": {
      "needs_background": "light"
     },
     "output_type": "display_data"
    }
   ],
   "source": [
    "import seaborn as sns\n",
    "colors=sns.color_palette(\"rocket\",3)\n",
    "# sns.set_style(\"white\")\n",
    "\n",
    "# sns.set_context(\"poster\")\n",
    "plt.style.use('seaborn-paper')\n",
    "\n",
    "fig, axes = plt.subplots(nrows=4, ncols=4,figsize=(10,15))\n",
    "axes[0,0].hist(MVN[:,0],bins=100, label='Bg')\n",
    "#axes[0,0].set(title='Bg', xlabel='value')\n",
    "axes[0,1].hist(MVN[:,1],bins=100, label='Cg')\n",
    "axes[0,2].hist(MVN[:,2],bins=100,label='Aprig')\n",
    "axes[0,3].hist(MVN[:,3],bins=100, label='Buv')\n",
    "axes[1,0].hist(MVN[:,4],bins=100, label='Cuv')\n",
    "axes[1,1].hist(MVN[:,5],bins=100,label='Euv')\n",
    "axes[1,2].hist(MVN[:,6],bins=100, label='Bdv')\n",
    "axes[1,3].hist(MVN[:,7],bins=100, label='Cdv')\n",
    "axes[2,0].hist(MVN[:,8],bins=100, label='CUbar')\n",
    "axes[2,1].hist(MVN[:,9],bins=100,label='DUbar')\n",
    "axes[2,2].hist(MVN[:,10],bins=100,label='ADbar')\n",
    "axes[2,3].hist(MVN[:,11],bins=100,label='BDbar')\n",
    "axes[3,0].hist(MVN[:,12],bins=100,label='CDbar')\n",
    "axes[3,1].hist(MVN[:,13],bins=100,label='CDbar')\n",
    "axes[3,2].hist(MVN[:,13],bins=100,label='CDbar')\n",
    "axes[3,3].hist(MVN[:,13],bins=100,label='CDbar')\n",
    "plt.tight_layout(); plt.suptitle('HERAPDF Parameters')\n",
    "titles = ['Bg','Cg','Aprig','Bprig','Buv','Cuv','Euv','Bdv','Cdv','CUbar','DUbar','ADbar','BDbar','CDbar','CDbar','CDbar','CDbar']\n",
    "for i, ax in enumerate(axes.flatten()):\n",
    "    ax.set(title=titles[i], xlabel='value')\n",
    "    ax.legend()\n",
    "# plt.minorticks_on()\n",
    "# plt.tick_params(direction='in',right=True, top=True)\n",
    "# plt.tick_params(labelsize=14)\n",
    "# plt.tick_params(labelbottom=True, labeltop=False, labelright=False, labelleft=True)\n",
    "plt.subplots_adjust(left=0.125, bottom=0.1, right=0.9 , top=0.9, wspace=0.2, hspace=0.4)\n",
    "plt.savefig('HERAPDF_params_MVN.png', dpi=300, bbox_inches='tight')\n",
    "plt.show()"
   ]
  },
  {
   "cell_type": "code",
   "execution_count": null,
   "id": "0b84a36d-18db-481f-947a-a063bc83bce4",
   "metadata": {},
   "outputs": [],
   "source": [
    "cor_Chi2 = 91.502780349924393     \n",
    "Log_penalty_Chi2 = 5.8705183749659522 \n",
    "\n"
   ]
  },
  {
   "cell_type": "markdown",
   "id": "f57b8b46-967c-453a-b6db-bc855d556049",
   "metadata": {},
   "source": [
    "# Normality tests\n",
    "* Quantile-Quantile Plot\n",
    "* Shapiro-Wilk Test\n",
    "* D’Agostino’s K^2 Test\n",
    "* Anderson-Darling Test\n"
   ]
  },
  {
   "cell_type": "code",
   "execution_count": 44,
   "id": "457378f7-eadc-45e2-af0a-8ceb98e6690f",
   "metadata": {},
   "outputs": [
    {
     "data": {
      "image/png": "[encoded data removed]",
      "text/plain": [
       "<Figure size 460.8x316.8 with 1 Axes>"
      ]
     },
     "metadata": {},
     "output_type": "display_data"
    },
    {
     "data": {
      "image/png": "[encoded data removed]",
      "text/plain": [
       "<Figure size 460.8x316.8 with 1 Axes>"
      ]
     },
     "metadata": {},
     "output_type": "display_data"
    }
   ],
   "source": [
    "\n",
    "# QQ Plot\n",
    "from statsmodels.graphics.gofplots import qqplot\n",
    "from matplotlib import pyplot\n",
    "\n",
    "# generate univariate observations\n",
    "data = MVN[:,0]\n",
    "# q-q plot\n",
    "qqplot(data, line='s')\n",
    "qqplot(MVN[:,1], line='s')\n",
    "plt.show()\n",
    "qqplot()"
   ]
  },
  {
   "cell_type": "code",
   "execution_count": 54,
   "id": "d8c71156-7529-4b29-808f-fc040ee27ada",
   "metadata": {},
   "outputs": [
    {
     "data": {
      "image/png": "[encoded data removed]",
      "text/plain": [
       "<Figure size 720x1080 with 16 Axes>"
      ]
     },
     "metadata": {},
     "output_type": "display_data"
    }
   ],
   "source": [
    "fig, axes = plt.subplots(nrows=4, ncols=4,figsize=(10,15))\n",
    "plt.tight_layout(); plt.suptitle('Quantile-Quantile Plots for HERAPDF Parameters')\n",
    "\n",
    "data=[MVN[:,1],\n",
    "MVN[:,2],\n",
    "MVN[:,3],\n",
    "MVN[:,4],\n",
    "MVN[:,5],\n",
    "MVN[:,6],\n",
    "MVN[:,7],\n",
    "MVN[:,8],\n",
    "MVN[:,9],\n",
    "MVN[:,10],\n",
    "MVN[:,11],\n",
    "MVN[:,12],\n",
    "MVN[:,13],\n",
    "MVN[:,13],\n",
    "MVN[:,13], MVN[:,13]]\n",
    "\n",
    "for i, ax in enumerate(axes.flatten()):\n",
    "    qqplot(data[i], ax = ax, line='s')\n",
    "    ax.set(title=titles[i], xlabel='value')\n",
    "plt.subplots_adjust(left=0.125, bottom=0.1, right=0.9 , top=0.9, wspace=0.2, hspace=0.4)\n",
    "plt.savefig('QQPlots_HERAPDF_params_MVN.png', dpi=300, bbox_inches='tight')\n",
    "plt.show()"
   ]
  },
  {
   "cell_type": "code",
   "execution_count": 86,
   "id": "099eec3e-377d-4b35-b2b0-bb9dbf39876b",
   "metadata": {},
   "outputs": [
    {
     "data": {
      "text/plain": [
       "array([-0.06184643,  5.56076166,  0.16609947, -0.3830016 ,  0.81063873,\n",
       "        4.82377368,  9.91781033,  1.02994792,  4.84452861,  7.06247647,\n",
       "        1.54961056,  0.2687492 , -0.12733184,  9.57756398])"
      ]
     },
     "execution_count": 86,
     "metadata": {},
     "output_type": "execute_result"
    }
   ],
   "source": [
    "MVN.mean(axis=0)"
   ]
  },
  {
   "cell_type": "code",
   "execution_count": 96,
   "id": "52f09a4f-b871-4d7c-8f75-c755d7e7170e",
   "metadata": {},
   "outputs": [
    {
     "data": {
      "text/plain": [
       "[104560136489785.44,\n",
       " 2505364279573.049,\n",
       " 144178496690620.0,\n",
       " 68390997857279.0,\n",
       " 92724067291889.31,\n",
       " 68760666252051.01,\n",
       " 119585820770668.73,\n",
       " 11586241649127.566,\n",
       " 273628802968025.16,\n",
       " 45510991440063.28,\n",
       " 2083981922583.9834,\n",
       " 301071762008.8873,\n",
       " 54422488037567.71]"
      ]
     },
     "execution_count": 96,
     "metadata": {},
     "output_type": "execute_result"
    }
   ],
   "source": [
    "def get_weights(z, means, cov):\n",
    "    z = np.array(z)\n",
    "    \n",
    "    mu = means # MVN.mean(axis=0)\n",
    "    cov = np.array(cov)\n",
    "    N = len(z)\n",
    "    temp1 = np.linalg.det(cov) ** (-1/2)\n",
    "    temp2 = np.exp(-.5 * (z - mu).T @ np.linalg.inv(cov) @ (z - mu))\n",
    "    return (2 * np.pi) ** (-N/2) * temp1 * temp2\n",
    "\n",
    "weights = [get_weights(z=MVN[i,:], means=MVN.mean(axis=0), cov=COV) for i in range(13)]\n",
    "weights"
   ]
  },
  {
   "cell_type": "code",
   "execution_count": null,
   "id": "bc5bb719-ed1c-49b8-bb3d-bcd812709214",
   "metadata": {},
   "outputs": [],
   "source": [
    "np.at"
   ]
  },
  {
   "cell_type": "code",
   "execution_count": 62,
   "id": "a1541800-09d7-4b06-a458-464e616d3c54",
   "metadata": {},
   "outputs": [
    {
     "data": {
      "text/plain": [
       "(10000, 14)"
      ]
     },
     "execution_count": 62,
     "metadata": {},
     "output_type": "execute_result"
    }
   ],
   "source": [
    "MVN.shape"
   ]
  },
  {
   "cell_type": "code",
   "execution_count": 65,
   "id": "381f83a9-da98-4329-9b20-899f3529ae51",
   "metadata": {},
   "outputs": [
    {
     "data": {
      "text/plain": [
       "array([-0.05576705,  5.50475402,  0.14701169, -0.38691152,  0.81555235,\n",
       "        4.82721359, 10.07309451,  1.04433723,  4.88273049,  7.24707432,\n",
       "        1.63580987,  0.27397891, -0.12541319, 10.40096359])"
      ]
     },
     "execution_count": 65,
     "metadata": {},
     "output_type": "execute_result"
    }
   ],
   "source": [
    "MVN[0,:]"
   ]
  },
  {
   "cell_type": "code",
   "execution_count": 63,
   "id": "196fc647-aee0-4349-aaad-03cc0fda1ded",
   "metadata": {},
   "outputs": [
    {
     "data": {
      "text/plain": [
       "(14,)"
      ]
     },
     "execution_count": 63,
     "metadata": {},
     "output_type": "execute_result"
    }
   ],
   "source": [
    "means.shape"
   ]
  },
  {
   "cell_type": "code",
   "execution_count": 64,
   "id": "153549eb-6912-4b74-86a1-c69d034c7665",
   "metadata": {},
   "outputs": [
    {
     "data": {
      "text/plain": [
       "(14, 14)"
      ]
     },
     "execution_count": 64,
     "metadata": {},
     "output_type": "execute_result"
    }
   ],
   "source": [
    "COV.shape"
   ]
  },
  {
   "cell_type": "code",
   "execution_count": 67,
   "id": "4ef95199-08f6-4f74-853a-be97d919a567",
   "metadata": {},
   "outputs": [
    {
     "data": {
      "text/plain": [
       "2437567593118.133"
      ]
     },
     "execution_count": 67,
     "metadata": {},
     "output_type": "execute_result"
    }
   ],
   "source": [
    "# data=[MVN[:,1],\n",
    "# MVN[:,2],\n",
    "# MVN[:,3],\n",
    "# MVN[:,4],\n",
    "# MVN[:,5],\n",
    "# MVN[:,6],\n",
    "# MVN[:,7],\n",
    "# MVN[:,8],\n",
    "# MVN[:,9],\n",
    "# MVN[:,10],\n",
    "# MVN[:,11],\n",
    "# MVN[:,12],\n",
    "# MVN[:,13]]\n",
    "\n",
    "def f(z, μ, Σ):\n",
    "    \"\"\"\n",
    "    The density function of multivariate normal distribution.\n",
    "\n",
    "    Parameters\n",
    "    ---------------\n",
    "    z: ndarray(float, dim=2)\n",
    "        random vector, N by 1\n",
    "    μ: ndarray(float, dim=1 or 2)\n",
    "        the mean of z, N by 1\n",
    "    Σ: ndarray(float, dim=2)\n",
    "        the covarianece matrix of z, N by 1\n",
    "    \"\"\"\n",
    "\n",
    "    z = np.array(z)\n",
    "    μ = np.array(μ)\n",
    "    Σ = np.array(Σ)\n",
    "\n",
    "    N = z.size\n",
    "\n",
    "    temp1 = np.linalg.det(Σ) ** (-1/2)\n",
    "    temp2 = np.exp(-.5 * (z - μ).T @ np.linalg.inv(Σ) @ (z - μ))\n",
    "\n",
    "    return (2 * np.pi) ** (-N/2) * temp1 * temp2\n",
    "\n",
    "f(MVN[1,:], means, COV)"
   ]
  },
  {
   "cell_type": "code",
   "execution_count": 72,
   "id": "b155a8b1-2bc1-4e6f-8faa-727b04086f4a",
   "metadata": {},
   "outputs": [
    {
     "data": {
      "text/plain": [
       "array([[1.49980873e+17]])"
      ]
     },
     "execution_count": 72,
     "metadata": {},
     "output_type": "execute_result"
    }
   ],
   "source": [
    "def my_mv_pdf(x, mu, cov):\n",
    "    k = len(x)\n",
    "    uu = mu.reshape(k,1)\n",
    "    xx = x.reshape(k,1)\n",
    "    t1 = (2*np.pi)**2\n",
    "    t2 = np.linalg.det(cov)\n",
    "    t3 = 1.0/np.sqrt(t1*t2)\n",
    "    t4 =(xx-uu).T\n",
    "    t5 = np.linalg.inv(cov)\n",
    "    t6= (xx-uu)\n",
    "    t7 = -0.5 *(np.dot(t4, t5).dot(t6))\n",
    "    result = t3* np.exp(t7)\n",
    "    return result\n",
    "my_mv_pdf(MVN[1,:], means, COV)"
   ]
  },
  {
   "cell_type": "code",
   "execution_count": 74,
   "id": "2870d2a3-4335-4e73-94c8-d7e4e203cd05",
   "metadata": {},
   "outputs": [
    {
     "data": {
      "text/plain": [
       "<__main__.MultivariateNormal at 0x7f6cb3c1b410>"
      ]
     },
     "execution_count": 74,
     "metadata": {},
     "output_type": "execute_result"
    }
   ],
   "source": [
    "class MultivariateNormal:\n",
    "    \"\"\"\n",
    "    Class of multivariate normal distribution.\n",
    "\n",
    "    Parameters\n",
    "    ----------\n",
    "    μ: ndarray(float, dim=1)\n",
    "        the mean of z, N by 1\n",
    "    Σ: ndarray(float, dim=2)\n",
    "        the covarianece matrix of z, N by 1\n",
    "\n",
    "    Arguments\n",
    "    ---------\n",
    "    μ, Σ:\n",
    "        see parameters\n",
    "    μs: list(ndarray(float, dim=1))\n",
    "        list of mean vectors μ1 and μ2 in order\n",
    "    Σs: list(list(ndarray(float, dim=2)))\n",
    "        2 dimensional list of covariance matrices\n",
    "        Σ11, Σ12, Σ21, Σ22 in order\n",
    "    βs: list(ndarray(float, dim=1))\n",
    "        list of regression coefficients β1 and β2 in order\n",
    "    \"\"\"\n",
    "\n",
    "    def __init__(self, μ, Σ):\n",
    "        \"initialization\"\n",
    "        self.μ = np.array(μ)\n",
    "        self.Σ = np.atleast_2d(Σ)\n",
    "\n",
    "    def partition(self, k):\n",
    "        \"\"\"\n",
    "        Given k, partition the random vector z into a size k vector z1\n",
    "        and a size N-k vector z2. Partition the mean vector μ into\n",
    "        μ1 and μ2, and the covariance matrix Σ into Σ11, Σ12, Σ21, Σ22\n",
    "        correspondingly. Compute the regression coefficients β1 and β2\n",
    "        using the partitioned arrays.\n",
    "        \"\"\"\n",
    "        μ = self.μ\n",
    "        Σ = self.Σ\n",
    "\n",
    "        self.μs = [μ[:k], μ[k:]]\n",
    "        self.Σs = [[Σ[:k, :k], Σ[:k, k:]],\n",
    "                   [Σ[k:, :k], Σ[k:, k:]]]\n",
    "\n",
    "        self.βs = [self.Σs[0][1] @ np.linalg.inv(self.Σs[1][1]),\n",
    "                   self.Σs[1][0] @ np.linalg.inv(self.Σs[0][0])]\n",
    "\n",
    "    def cond_dist(self, ind, z):\n",
    "        \"\"\"\n",
    "        Compute the conditional distribution of z1 given z2, or reversely.\n",
    "        Argument ind determines whether we compute the conditional\n",
    "        distribution of z1 (ind=0) or z2 (ind=1).\n",
    "\n",
    "        Returns\n",
    "        ---------\n",
    "        μ_hat: ndarray(float, ndim=1)\n",
    "            The conditional mean of z1 or z2.\n",
    "        Σ_hat: ndarray(float, ndim=2)\n",
    "            The conditional covariance matrix of z1 or z2.\n",
    "        \"\"\"\n",
    "        β = self.βs[ind]\n",
    "        μs = self.μs\n",
    "        Σs = self.Σs\n",
    "\n",
    "        μ_hat = μs[ind] + β @ (z - μs[1-ind])\n",
    "        Σ_hat = Σs[ind][ind] - β @ Σs[1-ind][1-ind] @ β.T\n",
    "\n",
    "        return μ_hat, Σ_hat\n",
    "multi_normal = MultivariateNormal(means, COV)\n",
    "multi_normal"
   ]
  },
  {
   "cell_type": "code",
   "execution_count": 13,
   "id": "f5fd6b5b-38c3-41ef-bb2c-7e843f4709ca",
   "metadata": {},
   "outputs": [
    {
     "data": {
      "text/plain": [
       "[[0.000632],\n",
       " [0.000872, 0.0117],\n",
       " [-0.000844, -0.000893, 0.0012],\n",
       " [-0.000122, -0.00015, 0.000197, 5.81e-05],\n",
       " [9.37e-06, 2.23e-05, -8.33e-06, -1.98e-06, 2.87e-05],\n",
       " [4.6e-05, -8.29e-05, -5.65e-05, -9.14e-06, 4.03e-05, 0.000861],\n",
       " [0.000165, 2.98e-05, -0.000274, -1.98e-05, -0.000574, 0.00421, 0.0755],\n",
       " [5.1e-05,\n",
       "  8.55e-05,\n",
       "  -6.44e-05,\n",
       "  -1.01e-05,\n",
       "  -1.11e-05,\n",
       "  -9.75e-06,\n",
       "  -0.000446,\n",
       "  0.00054],\n",
       " [0.000246,\n",
       "  -0.000593,\n",
       "  -0.00029,\n",
       "  -4.91e-05,\n",
       "  1.4e-05,\n",
       "  -0.000398,\n",
       "  0.00296,\n",
       "  0.0017,\n",
       "  0.0158],\n",
       " [0.000935,\n",
       "  -0.00214,\n",
       "  -0.00136,\n",
       "  -0.000173,\n",
       "  0.000242,\n",
       "  0.000473,\n",
       "  0.000194,\n",
       "  0.000662,\n",
       "  0.00012,\n",
       "  0.0498],\n",
       " [-0.00191,\n",
       "  0.00429,\n",
       "  0.00264,\n",
       "  0.000335,\n",
       "  -0.000221,\n",
       "  -0.000661,\n",
       "  0.00638,\n",
       "  -0.000487,\n",
       "  -0.0017,\n",
       "  0.0253,\n",
       "  0.0982],\n",
       " [-7.74e-06,\n",
       "  1.39e-05,\n",
       "  4.97e-06,\n",
       "  2.32e-06,\n",
       "  3.27e-06,\n",
       "  -3.18e-07,\n",
       "  4.36e-05,\n",
       "  5.7e-06,\n",
       "  2.43e-07,\n",
       "  1.68e-05,\n",
       "  -7.39e-05,\n",
       "  1.56e-05],\n",
       " [-5.58e-06,\n",
       "  -5.82e-07,\n",
       "  4.25e-06,\n",
       "  1.55e-06,\n",
       "  7.68e-07,\n",
       "  -3.88e-08,\n",
       "  5.8e-06,\n",
       "  1.93e-06,\n",
       "  -3.15e-06,\n",
       "  1.82e-05,\n",
       "  -3.88e-05,\n",
       "  5.18e-06,\n",
       "  3.04e-06],\n",
       " [0.00349,\n",
       "  -0.0135,\n",
       "  -0.00437,\n",
       "  -0.000589,\n",
       "  0.000215,\n",
       "  1.31e-05,\n",
       "  -0.00652,\n",
       "  0.0024,\n",
       "  0.00188,\n",
       "  -0.0218,\n",
       "  0.0363,\n",
       "  0.00011,\n",
       "  1.82e-05,\n",
       "  0.37]]"
      ]
     },
     "execution_count": 13,
     "metadata": {},
     "output_type": "execute_result"
    }
   ],
   "source": [
    "cov_list[5] = [0.460E-04, -0.829E-04, -0.565E-04, -0.914E-05, 0.403E-04, 0.861E-03] \n",
    "cov_list[6]= [0.165E-03, 0.298E-04,-0.274E-03,-0.198E-04,-0.574E-03, 0.421E-02, 0.755E-01]\n",
    "cov_list[7] = [0.510E-04, 0.855E-04,-0.644E-04,-0.101E-04,-0.111E-04,-0.975E-05,-0.446E-03, 0.540E-03]\n",
    "cov_list[8] =[0.246E-03,-0.593E-03,-0.290E-03,-0.491E-04, 0.140E-04,-0.398E-03, 0.296E-02, 0.170E-02, 0.158E-01 ]\n",
    "cov_list[9] =[0.935E-03,-0.214E-02,-0.136E-02,-0.173E-03, 0.242E-03, 0.473E-03, 0.194E-03, 0.662E-03, 0.120E-03, 0.498E-01]\n",
    "cov_list[10] = [-0.191E-02, 0.429E-02, 0.264E-02, 0.335E-03,-0.221E-03,-0.661E-03, 0.638E-02,-0.487E-03,-0.170E-02, 0.253E-01, 0.982E-01 ]\n",
    "cov_list[11] = [-0.774E-05, 0.139E-04, 0.497E-05, 0.232E-05, 0.327E-05,-0.318E-06, 0.436E-04, 0.570E-05, 0.243E-06, 0.168E-04,-0.739E-04, 0.156E-04]\n",
    "cov_list[12] = [-0.558E-05,-0.582E-06, 0.425E-05, 0.155E-05, 0.768E-06,-0.388E-07, 0.580E-05, 0.193E-05,-0.315E-05, 0.182E-04,-0.388E-04, 0.518E-05, 0.304E-05]\n",
    "cov_list[13] = [0.349E-02,-0.135E-01,-0.437E-02,-0.589E-03, 0.215E-03, 0.131E-04,-0.652E-02, 0.240E-02, 0.188E-02,-0.218E-01, 0.363E-01, 0.110E-03, 0.182E-04, 0.370E+00]\n",
    "\n",
    "\n",
    "cov_list"
   ]
  },
  {
   "cell_type": "code",
   "execution_count": 68,
   "id": "d3e5fadc-e175-4678-bb04-dc25f95643fc",
   "metadata": {},
   "outputs": [],
   "source": [
    "cov_list_list = [[None]*14]*14;"
   ]
  },
  {
   "cell_type": "code",
   "execution_count": 75,
   "id": "e9094788-bed5-4889-a6b3-0a06023fcebd",
   "metadata": {
    "collapsed": true,
    "jupyter": {
     "outputs_hidden": true
    },
    "tags": []
   },
   "outputs": [
    {
     "data": {
      "text/plain": [
       "[[0.000632],\n",
       " [0.000872, 0.0117],\n",
       " [-0.000844, -0.000893, 0.0012],\n",
       " [-0.000122, -0.00015, 0.000197, 5.81e-05],\n",
       " [9.37e-06, 2.23e-05, -8.33e-06, -1.98e-06, 2.87e-05],\n",
       " [4.6e-05, -8.29e-05, -5.65e-05, -9.14e-06, 4.03e-05, 0.000861],\n",
       " [0.000165, 2.98e-05, -0.000274, -1.98e-05, -0.000574, 0.00421, 0.0755],\n",
       " [5.1e-05,\n",
       "  8.55e-05,\n",
       "  -6.44e-05,\n",
       "  -1.01e-05,\n",
       "  -1.11e-05,\n",
       "  -9.75e-06,\n",
       "  -0.000446,\n",
       "  0.00054],\n",
       " [0.000246,\n",
       "  -0.000593,\n",
       "  -0.00029,\n",
       "  -4.91e-05,\n",
       "  1.4e-05,\n",
       "  -0.000398,\n",
       "  0.00296,\n",
       "  0.0017,\n",
       "  0.0158],\n",
       " [0.000935,\n",
       "  -0.00214,\n",
       "  -0.00136,\n",
       "  -0.000173,\n",
       "  0.000242,\n",
       "  0.000473,\n",
       "  0.000194,\n",
       "  0.000662,\n",
       "  0.00012,\n",
       "  0.0498],\n",
       " [-0.00191,\n",
       "  0.00429,\n",
       "  0.00264,\n",
       "  0.000335,\n",
       "  -0.000221,\n",
       "  -0.000661,\n",
       "  0.00638,\n",
       "  -0.000487,\n",
       "  -0.0017,\n",
       "  0.0253,\n",
       "  0.0982],\n",
       " [-7.74e-06,\n",
       "  1.39e-05,\n",
       "  4.97e-06,\n",
       "  2.32e-06,\n",
       "  3.27e-06,\n",
       "  -3.18e-07,\n",
       "  4.36e-05,\n",
       "  5.7e-06,\n",
       "  2.43e-07,\n",
       "  1.68e-05,\n",
       "  -7.39e-05,\n",
       "  1.56e-05],\n",
       " [-5.58e-06,\n",
       "  -5.82e-07,\n",
       "  4.25e-06,\n",
       "  1.55e-06,\n",
       "  7.68e-07,\n",
       "  -3.88e-08,\n",
       "  5.8e-06,\n",
       "  1.93e-06,\n",
       "  -3.15e-06,\n",
       "  1.82e-05,\n",
       "  -3.88e-05,\n",
       "  5.18e-06,\n",
       "  3.04e-06],\n",
       " [0.00349,\n",
       "  -0.0135,\n",
       "  -0.00437,\n",
       "  -0.000589,\n",
       "  0.000215,\n",
       "  1.31e-05,\n",
       "  -0.00652,\n",
       "  0.0024,\n",
       "  0.00188,\n",
       "  -0.0218,\n",
       "  0.0363,\n",
       "  0.00011,\n",
       "  1.82e-05,\n",
       "  0.37]]"
      ]
     },
     "execution_count": 75,
     "metadata": {},
     "output_type": "execute_result"
    }
   ],
   "source": [
    "COV = np.empty((14,14))\n",
    "for i in range(len(COV)):\n",
    "    cov_list_list[i]= cov_list[i]\n",
    "#     for j in range(len(COV[i])):\n",
    "#         COV[i][j] = cov_list_list[i][j]\n",
    "            \n",
    "#COV\n",
    "cov_list_list"
   ]
  },
  {
   "cell_type": "code",
   "execution_count": 6,
   "id": "bc3736d1-4686-4023-8cbd-ac9dbd21eb5f",
   "metadata": {},
   "outputs": [
    {
     "data": {
      "text/plain": [
       "[[],\n",
       " [0.0117],\n",
       " [-0.000844, -0.000893, 0.0012],\n",
       " [-0.000122, -0.00015, 0.000197, 5.81e-05],\n",
       " [2.23e-05, -8.33e-06, -1.98e-06, 2.87e-05],\n",
       " [-8.29e-05, -5.65e-05, -9.14e-06, 4.03e-05, 0.000861],\n",
       " [2.98e-05, -0.000274, -1.98e-05, -0.000574, 0.00421, 0.0755],\n",
       " [8.55e-05, -6.44e-05, -1.01e-05, -1.11e-05, -9.75e-06, -0.000446, 0.00054],\n",
       " [-0.000593, -0.00029, -4.91e-05, 1.4e-05, -0.000398, 0.00296, 0.0017, 0.0158],\n",
       " [-0.00214,\n",
       "  -0.00136,\n",
       "  -0.000173,\n",
       "  0.000242,\n",
       "  0.000473,\n",
       "  0.000194,\n",
       "  0.000662,\n",
       "  0.00012,\n",
       "  0.0498],\n",
       " [-0.00191,\n",
       "  0.00429,\n",
       "  0.00264,\n",
       "  0.000335,\n",
       "  -0.000221,\n",
       "  -0.000661,\n",
       "  0.00638,\n",
       "  -0.000487,\n",
       "  -0.0017,\n",
       "  0.0253,\n",
       "  0.0982],\n",
       " [-7.74e-06,\n",
       "  1.39e-05,\n",
       "  4.97e-06,\n",
       "  2.32e-06,\n",
       "  3.27e-06,\n",
       "  -3.18e-07,\n",
       "  4.36e-05,\n",
       "  5.7e-06,\n",
       "  2.43e-07,\n",
       "  1.68e-05,\n",
       "  -7.39e-05],\n",
       " [],\n",
       " [-5.58e-06,\n",
       "  -5.82e-07,\n",
       "  4.25e-06,\n",
       "  1.55e-06,\n",
       "  7.68e-07,\n",
       "  -3.88e-08,\n",
       "  5.8e-06,\n",
       "  1.93e-06,\n",
       "  -3.15e-06,\n",
       "  1.82e-05,\n",
       "  -3.88e-05],\n",
       " [3.04e-06],\n",
       " [-0.0135,\n",
       "  -0.00437,\n",
       "  -0.000589,\n",
       "  0.000215,\n",
       "  1.31e-05,\n",
       "  -0.00652,\n",
       "  0.0024,\n",
       "  0.00188,\n",
       "  -0.0218,\n",
       "  0.0363]]"
      ]
     },
     "execution_count": 6,
     "metadata": {},
     "output_type": "execute_result"
    }
   ],
   "source": [
    "# for line in chain_cov_mat:\n",
    "#     row = line.strip().split()\n",
    "#     for i in range(14):\n",
    "#         for row_val in row[i].split():\n",
    "            \n",
    "#             for j in range(14):\n",
    "#                 for col_val in row[i][j].split():\n",
    "#                     COV[row_val][col] = float(row[i][j])\n",
    "cov_list=[]\n",
    "COV = np.empty((14,14))\n",
    "\n",
    "# delimeters = \"-\", \" \"\n",
    "# regexPattern = '|'.join(map(re.escape, delimiters))\n",
    "pattern = re.compile(r'[\\s\\S.\\d\\D\\w\\W]\\d\\.\\d\\d\\d[E]-\\d\\d')\n",
    "#matches = pattern.finditer(text_to_search)\n",
    "# for match in matches:\n",
    "#     print(match)\n",
    "for line in lines[127:143]:\n",
    "    rows = line.strip().split('\\n')\n",
    "    triang_rows = rows[0]\n",
    "#     for row in triang_rows.split('\\n'):\n",
    "\n",
    "    for row in triang_rows.strip().split('\\s'):\n",
    "\n",
    "        matches = pattern.finditer(row)\n",
    "        inner_list=[]\n",
    "        for match in matches:\n",
    "            inner_list.append(float(row[match.span()[0]:match.span()[1]]))\n",
    "            #cov_list.append(float(row[match.span()[0]:match.span()[1]]))\n",
    "        cov_list.append(inner_list)\n",
    "#         split_row = re.split(regexPattern, row)\n",
    "#         for val in split_row:\n",
    "#             cov_list.append(float(val))\n",
    "        \n",
    "        #for val in row:\n",
    "            \n",
    "#     for value in value_0:\n",
    "        \n",
    "#         cov_list.append(float(value))\n",
    "cov_list"
   ]
  },
  {
   "cell_type": "code",
   "execution_count": 5,
   "id": "7a8377b9-c420-4fb8-9cfb-900b3a0c4cbc",
   "metadata": {},
   "outputs": [
    {
     "data": {
      "text/plain": [
       "[[0.000632],\n",
       " [0.000872, 0.0117],\n",
       " [-0.000844, -0.000893, 0.0012],\n",
       " [-0.000122, -0.00015, 0.000197, 5.81e-05]]"
      ]
     },
     "execution_count": 5,
     "metadata": {},
     "output_type": "execute_result"
    }
   ],
   "source": [
    "cov_list[0] = [0.632e-03]\n",
    "cov_list[1] = [0.872E-03, 0.117E-01]\n",
    "cov_list[:4]"
   ]
  },
  {
   "cell_type": "code",
   "execution_count": 5,
   "id": "3cf0d0a4-2baa-43a9-88d1-fc2f6e91deba",
   "metadata": {},
   "outputs": [
    {
     "data": {
      "text/plain": [
       "array([[6.93445134e-310, 6.93445134e-310, 4.68246689e-310,\n",
       "        4.68246689e-310, 0.00000000e+000, 0.00000000e+000,\n",
       "                    nan, 0.00000000e+000, 6.93425785e-310,\n",
       "        0.00000000e+000, 4.44659081e-323, 6.93440483e-310,\n",
       "        4.68246623e-310,             nan],\n",
       "       [0.00000000e+000,             nan, 0.00000000e+000,\n",
       "        6.93425785e-310, 3.55727265e-322, 5.43472210e-323,\n",
       "        6.93440483e-310, 4.68246623e-310, 1.48219694e-323,\n",
       "        1.38338381e-322,             nan, 0.00000000e+000,\n",
       "        6.93425785e-310, 7.11454530e-322],\n",
       "       [5.43472210e-323, 6.93440483e-310, 4.68246623e-310,\n",
       "        9.88131292e-324, 1.58101007e-322,             nan,\n",
       "        0.00000000e+000, 6.93425785e-310, 1.06718180e-321,\n",
       "        5.43472210e-323, 6.93440483e-310, 4.68246623e-310,\n",
       "        0.00000000e+000, 1.58101007e-322],\n",
       "       [            nan, 4.94065646e-323, 6.93425785e-310,\n",
       "        1.42290906e-321, 3.95252517e-323, 6.93440483e-310,\n",
       "        4.68246623e-310, 0.00000000e+000, 7.90505033e-323,\n",
       "                    nan, 0.00000000e+000, 6.93425785e-310,\n",
       "        1.77863633e-321, 5.43472210e-323],\n",
       "       [6.93440548e-310, 4.68246623e-310, 0.00000000e+000,\n",
       "        0.00000000e+000, 0.00000000e+000, 6.93440479e-310,\n",
       "        4.94065646e-324, 2.13436359e-321, 3.45845952e-323,\n",
       "        6.93440548e-310, 4.68246623e-310, 0.00000000e+000,\n",
       "        7.90505033e-323,             nan],\n",
       "       [6.93440479e-310, 4.68239591e-310, 6.93440548e-310,\n",
       "        0.00000000e+000, 0.00000000e+000, 0.00000000e+000,\n",
       "        0.00000000e+000, 0.00000000e+000, 0.00000000e+000,\n",
       "        0.00000000e+000, 0.00000000e+000, 0.00000000e+000,\n",
       "        6.93440548e-310, 0.00000000e+000],\n",
       "       [6.93440548e-310, 0.00000000e+000, 6.93440548e-310,\n",
       "        0.00000000e+000, 6.93440548e-310, 0.00000000e+000,\n",
       "        2.49009086e-321, 9.88131292e-324, 6.93440548e-310,\n",
       "        4.68246623e-310, 0.00000000e+000, 7.90505033e-323,\n",
       "                    nan, 0.00000000e+000],\n",
       "       [6.93425785e-310, 3.55727265e-321, 4.44659081e-323,\n",
       "        6.93440548e-310, 4.68246623e-310, 4.94065646e-324,\n",
       "        7.90505033e-323,             nan, 6.93440479e-310,\n",
       "        4.94065646e-324, 6.93440548e-310, 0.00000000e+000,\n",
       "        0.00000000e+000, 0.00000000e+000],\n",
       "       [0.00000000e+000, 0.00000000e+000, 0.00000000e+000,\n",
       "        0.00000000e+000, 0.00000000e+000, 0.00000000e+000,\n",
       "        6.93440548e-310, 0.00000000e+000, 6.93440548e-310,\n",
       "        0.00000000e+000, 6.93440548e-310, 0.00000000e+000,\n",
       "        6.93440548e-310, 6.93440548e-310],\n",
       "       [3.91299992e-321, 9.88131292e-324, 6.93440548e-310,\n",
       "        4.68246623e-310, 0.00000000e+000, 7.90505033e-323,\n",
       "                    nan, 4.68246621e-310, 4.94065646e-324,\n",
       "        6.93440484e-310, 6.93440484e-310, 6.93440479e-310,\n",
       "        6.93425785e-310, 6.93440484e-310],\n",
       "       [6.93440484e-310, 3.40411230e-321, 6.93445134e-310,\n",
       "        6.93445134e-310, 6.93440484e-310, 6.93440484e-310,\n",
       "        6.93440484e-310, 6.93440484e-310, 6.93440482e-310,\n",
       "        6.93440565e-310, 6.93440565e-310, 6.93440483e-310,\n",
       "        6.93440483e-310, 6.93440483e-310],\n",
       "       [6.93440483e-310, 6.93440513e-310, 6.93440513e-310,\n",
       "        6.93440483e-310, 6.93440483e-310, 6.93440483e-310,\n",
       "        6.93440483e-310, 6.93440483e-310, 6.93440483e-310,\n",
       "        6.93440483e-310, 6.93440483e-310, 6.93440483e-310,\n",
       "        6.93440483e-310, 6.93440481e-310],\n",
       "       [6.93440481e-310, 6.93440481e-310, 6.93440481e-310,\n",
       "        6.93440481e-310, 6.93440481e-310, 6.93440481e-310,\n",
       "        6.93440481e-310, 6.93440483e-310, 6.93440483e-310,\n",
       "        6.93440555e-310, 6.93440483e-310, 6.93440483e-310,\n",
       "        6.93440483e-310, 6.93440483e-310],\n",
       "       [6.93440483e-310, 6.93440483e-310, 6.93440483e-310,\n",
       "        6.93440483e-310, 6.93440483e-310, 6.93440483e-310,\n",
       "        6.93440483e-310, 6.93440483e-310, 6.93440483e-310,\n",
       "        6.93440483e-310, 6.93440483e-310, 6.93440483e-310,\n",
       "        6.93440483e-310, 6.93440483e-310]])"
      ]
     },
     "execution_count": 5,
     "metadata": {},
     "output_type": "execute_result"
    }
   ],
   "source": [
    "COV = np.empty((14,14))\n"
   ]
  },
  {
   "cell_type": "code",
   "execution_count": 138,
   "id": "1b617f4c-dfd3-4914-b861-18198884d855",
   "metadata": {},
   "outputs": [
    {
     "data": {
      "text/plain": [
       "15"
      ]
     },
     "execution_count": 138,
     "metadata": {},
     "output_type": "execute_result"
    }
   ],
   "source": [
    "len(cov_list)"
   ]
  },
  {
   "cell_type": "code",
   "execution_count": 15,
   "id": "fc7c86f7-aec6-4f4e-81aa-0797c6be876c",
   "metadata": {},
   "outputs": [
    {
     "data": {
      "text/plain": [
       "(15, 14)"
      ]
     },
     "execution_count": 15,
     "metadata": {},
     "output_type": "execute_result"
    }
   ],
   "source": [
    "length = max(map(len, cov_list))\n",
    "cov = np.array([xi+[None]*(length-len(xi)) for xi in cov_list])\n",
    "cov.shape"
   ]
  },
  {
   "cell_type": "markdown",
   "id": "6083eac4-793e-422b-a20f-8a1989759046",
   "metadata": {},
   "source": [
    "Now that we have the fit parameters extracted from minuit.out.txt, and we have generated new parameters given the uncertainties in these new parameters, we write those new generated parameters to new minuit.in.txt files, to do new fits with those new generated parameters. Below we write new minuit.in.txt files given those new generated parameter values"
   ]
  },
  {
   "cell_type": "code",
   "execution_count": 71,
   "id": "18e2c361-8e05-4e8f-bf3c-09f991a21446",
   "metadata": {},
   "outputs": [],
   "source": [
    "############WRITE GENERATED PARAMETERS INTO NEW MINUIT.IN FILE\n",
    "with open('minuit_ex.in.txt', 'w') as second:\n",
    "    second.write('set title\\n')\n",
    "    second.write('new  14p HERAPDF\\n')\n",
    "    second.write('parameters\\n')\n",
    "    #lets put 0 for the fourth column, meaning that this parameter is fixed\n",
    "    second.write('    '+ '2'+ '    ' + \"'Bg'\"+'    '+str(generated_params[0])+ '    '+'0.\\n')\n",
    "    second.write('    '+ '3'+ '    ' + \"'Cg'\"+'    '+str(generated_params[1])+ '    '+'0.\\n')\n",
    "    second.write('    '+ '7'+ '    ' + \"'Aprig'\"+'    '+str(generated_params[2])+ '    '+'0.\\n')\n",
    "    second.write('    '+ '8'+ '    ' + \"'Bprig'\"+'    '+str(generated_params[3])+ '    '+'0.\\n')\n",
    "    second.write('    '+ '9'+ '    ' + \"'Cprig'\"+'    '+str(generated_params[4])+ '    '+'0.\\n')\n",
    "    second.write('    '+ '12'+ '    ' + \"'Buv'\"+'    '+str(generated_params[5])+ '    '+'0.\\n')\n",
    "    second.write('    '+ '13'+ '    ' + \"'Cuv'\"+'    '+str(generated_params[6])+ '    '+'0.\\n')\n",
    "    second.write('    '+ '15'+ '    ' + \"'Euv'\"+'    '+str(generated_params[7])+ '    '+'0.\\n')\n",
    "    second.write('    '+ '22'+ '    ' + \"'Bdv'\"+'    '+str(generated_params[8])+ '    '+'0.\\n')\n",
    "    second.write('    '+ '23'+ '    ' + \"'Cdv'\"+'    '+str(generated_params[9])+ '    '+'0.\\n')\n",
    "    second.write('    '+ '33'+ '    ' + \"'CUbar'\"+'    '+str(generated_params[10])+ '    '+'0.\\n')\n",
    "    second.write('    '+ '34'+ '    ' + \"'DUbar'\"+'    '+str(generated_params[11])+ '    '+'0.\\n')\n",
    "    second.write('    '+ '41'+ '    ' + \"'ADbar'\"+'    '+str(generated_params[12])+ '    '+'0.\\n')\n",
    "    second.write('    '+ '42'+ '    ' + \"'BDbar'\"+'    '+str(generated_params[13])+ '    '+'0.\\n')\n",
    "    second.write('    '+ '43'+ '    ' + \"'CDbar'\"+'    '+str(generated_params[14])+ '    '+'0.\\n')\n",
    "    second.write('\\n\\n\\n')\n",
    "    second.write('migrad 200000\\n')\n",
    "    second.write('hesse\\n')\n",
    "    second.write('hesse\\n')\n",
    "    second.write('set print 3\\n\\n')\n",
    "    second.write('return')\n",
    "#we dont have to close it since we are using a context manager \"with open()\""
   ]
  },
  {
   "cell_type": "markdown",
   "id": "b792d031-d5a0-49f4-94cb-df77805d23f3",
   "metadata": {},
   "source": [
    "### To do: \n",
    "Automate everything with class and formatting. We can also do it with formatting options of course, using .format(...).\n",
    "This is just a proof of concept experiment\n",
    "\n",
    "\n",
    "\n",
    "### Using numpy"
   ]
  },
  {
   "cell_type": "code",
   "execution_count": 1,
   "id": "5a076ab1-3317-45ad-9211-589c8f25de1a",
   "metadata": {},
   "outputs": [],
   "source": [
    "import itertools as IT\n",
    "with open(filename, 'r') as f:\n",
    "    lines = IT.chain(IT.islice(f, 0, 4), IT.islice(f, 5, 14) )\n",
    "arr = np.genfromtxt(lines)"
   ]
  },
  {
   "cell_type": "code",
   "execution_count": 25,
   "id": "e278bb31-8308-43b4-91db-df17e350e14c",
   "metadata": {},
   "outputs": [
    {
     "data": {
      "text/plain": [
       "array([-0.061856,  5.5593  ,  0.16618 , -0.383   ], dtype=float32)"
      ]
     },
     "execution_count": 25,
     "metadata": {},
     "output_type": "execute_result"
    }
   ],
   "source": [
    "import numpy as np\n",
    "#make a list of dtypes for each of the columns that we want\n",
    "\n",
    "dtype1 = np.dtype([('NO.', 'int'), ('NAME', 'str'), ('VALUE', 'float32'), ('ERROR', 'float32')])\n",
    "a = np.loadtxt(filename, dtype=dtype1, skiprows=106,  max_rows=4, usecols=(0, 1, 2, 3))\n",
    "#np.loadtxt(filename, dtype)\n",
    "a['VALUE']"
   ]
  },
  {
   "cell_type": "code",
   "execution_count": 6,
   "id": "7dabe08b-badd-44ef-9506-bd86db4cbbf3",
   "metadata": {},
   "outputs": [
    {
     "data": {
      "text/plain": [
       "['43', 'CDbar', '9.5810', '0.60834', '0.53648E-02', '0.24546E-02']"
      ]
     },
     "execution_count": 6,
     "metadata": {},
     "output_type": "execute_result"
    }
   ],
   "source": [
    "words"
   ]
  },
  {
   "cell_type": "markdown",
   "id": "344784d1-34b8-4fee-9a03-b9d545dc6834",
   "metadata": {},
   "source": [
    "### Using Pandas"
   ]
  },
  {
   "cell_type": "code",
   "execution_count": 16,
   "id": "8d8182f0-3153-4de0-87d7-734efd60a7d8",
   "metadata": {},
   "outputs": [],
   "source": [
    "import pandas as pd\n",
    "df = pd.read_csv(filename, names=['NO','NAME','VALUE','ERROR'])[95:112]\n",
    "#pd.read_csv(filename)ERROR\n",
    "df.NO.apply(lambda x: pd.Series(str(x).split(\"\\s+\")))\n",
    "#df.columns=['NO','NAME','VALUE','ERROR']"
   ]
  },
  {
   "cell_type": "code",
   "execution_count": 138,
   "id": "d81dc064-4ef6-4d71-b1c5-d9a5edd58d2c",
   "metadata": {},
   "outputs": [
    {
     "name": "stderr",
     "output_type": "stream",
     "text": [
      "/home/ali/anaconda3/lib/python3.7/site-packages/ipykernel_launcher.py:2: DeprecationWarning: `np.float` is a deprecated alias for the builtin `float`. To silence this warning, use `float` by itself. Doing this will not modify any behavior and is safe. If you specifically wanted the numpy scalar type, use `np.float64` here.\n",
      "Deprecated in NumPy 1.20; for more details and guidance: https://numpy.org/devdocs/release/1.20.0-notes.html#deprecations\n",
      "  \n"
     ]
    },
    {
     "data": {
      "text/plain": [
       "array([-0.061856,  5.5593  ,  0.16618 , -0.383   , 25.      ,  0.81056 ,\n",
       "        4.8239  ,  9.9226  ,  1.0301  ,  4.8456  ,  7.0603  ,  1.5439  ,\n",
       "        0.26877 , -0.12732 ,  9.581   ,  0.118   ,  0.4     ,  0.      ])"
      ]
     },
     "execution_count": 138,
     "metadata": {},
     "output_type": "execute_result"
    }
   ],
   "source": [
    "len(np.array(means))\n",
    "means=np.array(means).astype(np.float)\n",
    "means"
   ]
  },
  {
   "cell_type": "markdown",
   "id": "c0d56614-0b94-4243-a978-4852a327bf04",
   "metadata": {},
   "source": [
    "### Generating a multivariate normal distribution from the parameter means and covarance matrix\n",
    "\n",
    "The chi-squared test is a goodness-of-fit test, which evaluates how well your probability model fits the observed data. Suppose you have observed data $\\mathcal{O} = \\{ o_1, O-2, ...,o_N \\}$ where $i$ is a given observed value, and model predictions $\\mathcal{E}= \\{ E_1, E_2, ..., E_N \\}$ and the uncertainties $\\sigma = \\{ \\sigma_1, \\sigma_2, ..., \\sigma_N$. The chi-squared parameter is\n",
    "\\begin{equation}\n",
    "    \\chi^2 = \\sum_i \\frac{(o_i -E_i)^2}{\\sigma_i^2}\n",
    "\\end{equation}\n",
    "\\footnote{For a multivariate distribution, the chi-squared is given by $\\chi^{2}(\\vec{y}, \\vec{t})=(\\vec{y}-\\vec{t})^{t} \\Sigma^{-1}(\\vec{y}-\\vec{t})$ where $\\vec{y}$ is the observations, $\\vec{t}$ are the model predictions, and $\\Sigma$ is the covariance matrix of the observations.}\n",
    "\n",
    "Where $(o_i -E_i)^2 $ are called the residuals. Clearly, you want $\\chi^2$ to be as low as possible for the best fit. However, it is possible for the $\\chi^2$ to be too low (overfit). The way in which we can determine how good our fit is, is using the reduced chi-square which is\n",
    "\\begin{equation}\n",
    "    \\text{Reduced} \\ \\chi^2 = \\frac{\\chi^2}{\\nu}\n",
    "\\end{equation}\n",
    "Where $\\nu$ is the number of degrees of freedom, which is given by\n",
    "\\begin{equation}\n",
    "    \\nu = N_{\\text{observations}} - N_{\\text{parameters in fit}}\n",
    "\\end{equation}\n",
    "\n",
    "If the fit (model) is perfect, then Reduced $\\chi^2 ~ 1$, which tells you that the scatter around your points, is about what you'd expect from the errors. If Reduced $\\chi^2 > 1$ the fit (model) could be improved. If then Reduced $\\chi^2 < 1$ the fit (model) is too close to the observed data, i.e. you have too complicated of a model, or that yor errors are too big.\n",
    "\n",
    "\n",
    "Say that the likelihood for $\\theta$ is multivariate normal, the likelihood function of a single observation is of the form \n",
    "\\begin{equation}\n",
    "    L(\\boldsymbol{\\theta} ; x)=\\frac{1}{\\sqrt{(2 \\pi)^{D}|\\boldsymbol{\\Sigma}|}} \\exp \\left\\{-\\frac{1}{2}[x-g(\\boldsymbol{\\theta})]^{T} \\boldsymbol{\\Sigma}^{-1}[\\boldsymbol{x}-\\mathrm{g}(\\boldsymbol{\\theta})]\\right\\}\n",
    "\\end{equation}\n",
    "\n",
    "Taking the log and dropping the const in the beginning (indep. of $\\theta$, we have\n",
    "\\begin{equation}\n",
    "    \\log L(\\boldsymbol{\\theta} ; \\boldsymbol{x})=-\\frac{1}{2}[\\boldsymbol{x}-\\mathrm{g}(\\boldsymbol{\\theta})]^{\\mathrm{T}} \\boldsymbol{\\Sigma}^{-1}[\\boldsymbol{x}-\\mathrm{g}(\\boldsymbol{\\theta})]\n",
    "\\end{equation}\n",
    "\n",
    "Thus, $-2 log L$ is precisely the $\\chi^2$ expression in the leaset squares method. \\\\\n",
    "\n",
    "A popular method for estimating the errors in the maximum likelihood method is to look for parameters $\\mathbf{\\theta_{\\pm}}$ for which\n",
    "\\begin{equation}\n",
    "    -2 \\Delta \\log L \\equiv-2\\left[\\log L\\left(\\boldsymbol{\\theta}_{\\pm} ; \\boldsymbol{x}\\right)-\\log L(\\hat{\\boldsymbol{\\theta}} ; x)\\right]=1\n",
    "\\end{equation}"
   ]
  },
  {
   "cell_type": "code",
   "execution_count": 131,
   "id": "9370cd62-8772-49e4-bf6f-b32697dd6351",
   "metadata": {},
   "outputs": [
    {
     "data": {
      "text/plain": [
       "array(36.26220508)"
      ]
     },
     "execution_count": 131,
     "metadata": {},
     "output_type": "execute_result"
    }
   ],
   "source": [
    "\n",
    "def covariance_matrix(X):\n",
    "    m = len(X) \n",
    "    mean = np.mean(X)\n",
    "    cov_matrix = (X - mean).T.dot((X - mean)) / m-1\n",
    "    np.random.seed(2020)\n",
    "    return cov_matrix + 0.00001 \n",
    "cov_mat_sig = np.array(covariance_matrix(means))\n",
    "cov_mat_sig"
   ]
  },
  {
   "cell_type": "code",
   "execution_count": 50,
   "id": "ba15778f-4754-44f8-a770-d33c25eecbd7",
   "metadata": {},
   "outputs": [],
   "source": [
    "filename = 'minuit.out.txt'\n",
    "infile = open(filename, 'r')\n",
    "lines = infile.readlines()\n",
    "with open('minuit.in.txt', 'w') as second:\n",
    "    for line in lines[9:n]:\n",
    "        split_line = line.strip().split('      ')#the delimeter is 6 spaces to separate the columns\n",
    "        for i in split_line:\n",
    "            second.write(i)\n",
    "infile.close()\n",
    "second.close()"
   ]
  }
 ],
 "metadata": {
  "kernelspec": {
   "display_name": "Python 3",
   "language": "python",
   "name": "python3"
  },
  "language_info": {
   "codemirror_mode": {
    "name": "ipython",
    "version": 3
   },
   "file_extension": ".py",
   "mimetype": "text/x-python",
   "name": "python",
   "nbconvert_exporter": "python",
   "pygments_lexer": "ipython3",
   "version": "3.7.7"
  }
 },
 "nbformat": 4,
 "nbformat_minor": 5
}
