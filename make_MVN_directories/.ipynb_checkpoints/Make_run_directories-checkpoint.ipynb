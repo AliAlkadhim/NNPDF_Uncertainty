{
 "cells": [
  {
   "cell_type": "code",
   "execution_count": 41,
   "id": "7d686362-13eb-40c6-ad2d-d0a901b685e4",
   "metadata": {},
   "outputs": [],
   "source": [
    "dirs=[]\n",
    "for i in range(999):\n",
    "    dirs.append('run_{}'.format(i))\n",
    "#dirs"
   ]
  },
  {
   "cell_type": "code",
   "execution_count": 32,
   "id": "8962075c-3ba1-46e2-a426-710e29dd4853",
   "metadata": {},
   "outputs": [
    {
     "name": "stdout",
     "output_type": "stream",
     "text": [
      "[-0.061856  5.5593    0.16618  -0.383    25.        0.81056   4.8239\n",
      "  9.9226    1.0301    4.8456    7.0603    1.5439    0.26877  -0.12732\n",
      "  9.581   ] [-0.0846654823887331, 5.506102562191948, 0.18445281340257422, -0.37959415401681723, 25.0, 0.8058024866748879, 4.795739345212018, 10.070465988706875, 1.0129295052202743, 4.963277872290885, 7.159330122217122, 1.2746922906004954, 0.26591411371510476, -0.12568898077743426, 10.04014174081303] \n",
      "\n",
      " 15 15\n"
     ]
    }
   ],
   "source": [
    "import os\n",
    "import re; import pandas as pd\n",
    "params=[]\n",
    "generated_params = []\n",
    "error_list=[]\n",
    "filename = 'minuit.out.txt'\n",
    "infile = open(filename, 'r')\n",
    "lines = infile.readlines()\n",
    "#print(lines[104])\n",
    "# for line in lines[106:109, 111:120]:\n",
    "from itertools import *\n",
    "#make a chain iterator of our wanted lines from the output file, we want to exclude\n",
    "#those lines that have \"constant\" for the error, since these are not the PDF parameters and we can't use them\n",
    "chain = chain(islice(lines, 106, 111), islice(lines, 111, 121))\n",
    "#for line in lines[106:121]:\n",
    "for line in chain:\n",
    "    #print(line)\n",
    "    #words = line.strip().split('\\s+')#the delimeter is 6 spaces to separate the columns\n",
    "    words = line.strip().split()\n",
    "    \n",
    "    #words = re.split(r\"(?: '\\s*)\\s*\", line.strip())\n",
    "    #df = pd.read_table(words)\n",
    "    #use re noncapture group, defined as (?:...)since we dont want the separators in our \n",
    "    #result.\n",
    "    #print(words[2])\n",
    "    values= words[2]\n",
    "    errors=words[3]\n",
    "    #print(errors)\n",
    "    for value in values.split():\n",
    "#         #print(i)\n",
    "         params.append(float(value))\n",
    "    for error in errors.split():\n",
    "        if error =='constant':\n",
    "            error_list.append(0.0)\n",
    "        else:\n",
    "            error_list.append(float(error))\n",
    "    \n",
    "#         sampled_param = np.random.uniform(low = j-error, high=j+error)\n",
    "# means=np.array(means).astype(float)\n",
    "        \n",
    "#print(means)\n",
    "    #print(values)\n",
    "    #print(words[2].split())\n",
    "    #values= words[2].split()[0]\n",
    "    #print(values)4\n",
    "    #for ind, word in enumerate(split_line):\n",
    "    #print(split_line)\n",
    "        #print(word)\n",
    "#     with open('minuit.oin.txt', 'r') as second:\n",
    "#         split_line\n",
    "#         second.write()\n",
    "    \n",
    "    \n",
    "infile.close()\n",
    "params = np.asarray(params); error_list =np.asarray(error_list)\n",
    "\n",
    "#############GENERATE PARAMETERS\n",
    "generated_params=[]\n",
    "for i in range(len(params)):\n",
    "    param, error = params[i], error_list[i]\n",
    "    generated_param = np.random.uniform(low = param-error, high=param+error)\n",
    "    generated_params.append(generated_param)\n",
    "\n",
    "\n",
    "\n",
    "    \n",
    "    \n",
    "    \n",
    "print( params, generated_params, '\\n\\n', len(params), len(generated_params))"
   ]
  },
  {
   "cell_type": "code",
   "execution_count": 1,
   "id": "4e89866c-69f5-4bd1-8e5a-26df3460e427",
   "metadata": {},
   "outputs": [
    {
     "data": {
      "text/plain": [
       "array([[-0.05017852,  5.57279299,  0.15616591, ...,  0.26367197,\n",
       "        -0.12718829,  9.55921401],\n",
       "       [-0.03419613,  5.75028089,  0.12165164, ...,  0.26657549,\n",
       "        -0.12936777,  8.75441357],\n",
       "       [-0.06667226,  5.45172061,  0.1728878 , ...,  0.26661517,\n",
       "        -0.12773386,  9.5000718 ],\n",
       "       ...,\n",
       "       [-0.09651571,  5.35481047,  0.21191788, ...,  0.27467257,\n",
       "        -0.12683254,  9.38193261],\n",
       "       [-0.05927727,  5.5515632 ,  0.15036527, ...,  0.27516739,\n",
       "        -0.12504536, 10.16263003],\n",
       "       [-0.0768264 ,  5.69650931,  0.1859611 , ...,  0.26961861,\n",
       "        -0.12606389,  9.06683514]])"
      ]
     },
     "execution_count": 1,
     "metadata": {},
     "output_type": "execute_result"
    }
   ],
   "source": [
    "import numpy as np\n",
    "MVN = np.load('MVN_1000.npy')\n",
    "MVN"
   ]
  },
  {
   "cell_type": "code",
   "execution_count": 2,
   "id": "a50d7843-67d9-40a2-9b62-0fdaac571d4c",
   "metadata": {},
   "outputs": [
    {
     "name": "stdout",
     "output_type": "stream",
     "text": [
      "/home/ali/Desktop/Pulled_Github_Repositories/NNPDF_Uncertainty/make_MVN_directories\n"
     ]
    }
   ],
   "source": [
    "!pwd"
   ]
  },
  {
   "cell_type": "code",
   "execution_count": 3,
   "id": "27fe5fb2-90d3-49f3-bad8-fee84307db29",
   "metadata": {},
   "outputs": [
    {
     "data": {
      "text/plain": [
       "9.559214009450637"
      ]
     },
     "execution_count": 3,
     "metadata": {},
     "output_type": "execute_result"
    }
   ],
   "source": [
    "MVN[:,13][0]"
   ]
  },
  {
   "cell_type": "code",
   "execution_count": 4,
   "id": "fda4b759-b296-46b2-bf45-713f2ff834c6",
   "metadata": {},
   "outputs": [
    {
     "data": {
      "text/plain": [
       "(1000, 14)"
      ]
     },
     "execution_count": 4,
     "metadata": {},
     "output_type": "execute_result"
    }
   ],
   "source": [
    "MVN.shape"
   ]
  },
  {
   "cell_type": "code",
   "execution_count": 5,
   "id": "cc7878ab-7ca7-4841-b8e4-93d962d21dd3",
   "metadata": {},
   "outputs": [
    {
     "name": "stdout",
     "output_type": "stream",
     "text": [
      "-0.05017851620525688\n",
      "5.572792986743907\n",
      "0.15616590924587528\n",
      "-0.38366701550323024\n",
      "0.818069541207529\n",
      "4.835379591751817\n",
      "9.790130249200198\n",
      "1.0230524854971554\n",
      "4.911940708361538\n",
      "7.280558891842833\n",
      "1.5728035689365478\n",
      "0.26367197329024783\n",
      "-0.12718829288538994\n"
     ]
    }
   ],
   "source": [
    "for i in range(13):\n",
    "    print(MVN[:,i][0])"
   ]
  },
  {
   "cell_type": "code",
   "execution_count": 6,
   "id": "ccc32042-db61-4d95-b58b-6be7c379f0dc",
   "metadata": {},
   "outputs": [],
   "source": [
    "import os\n",
    "os.chdir('/home/ali/Desktop/Pulled_Github_Repositories/NNPDF_Uncertainty/make_MVN_directories')"
   ]
  },
  {
   "cell_type": "markdown",
   "id": "0a4c0614-1c53-4da5-b8ac-e9d91a4bc26d",
   "metadata": {},
   "source": [
    "## Make run directories and fill them with input files"
   ]
  },
  {
   "cell_type": "code",
   "execution_count": null,
   "id": "8b571dd8-192a-41bf-9366-f6459315ac1c",
   "metadata": {},
   "outputs": [
    {
     "name": "stdout",
     "output_type": "stream",
     "text": [
      "/home/ali/Desktop/Pulled_Github_Repositories/NNPDF_Uncertainty/make_MVN_directories/run_79\n",
      "/home/ali/Desktop/Pulled_Github_Repositories/NNPDF_Uncertainty/make_MVN_directories/run_80\n",
      "/home/ali/Desktop/Pulled_Github_Repositories/NNPDF_Uncertainty/make_MVN_directories/run_81\n",
      "/home/ali/Desktop/Pulled_Github_Repositories/NNPDF_Uncertainty/make_MVN_directories/run_82\n",
      "/home/ali/Desktop/Pulled_Github_Repositories/NNPDF_Uncertainty/make_MVN_directories/run_83\n",
      "/home/ali/Desktop/Pulled_Github_Repositories/NNPDF_Uncertainty/make_MVN_directories/run_84\n",
      "/home/ali/Desktop/Pulled_Github_Repositories/NNPDF_Uncertainty/make_MVN_directories/run_85\n",
      "/home/ali/Desktop/Pulled_Github_Repositories/NNPDF_Uncertainty/make_MVN_directories/run_86\n",
      "/home/ali/Desktop/Pulled_Github_Repositories/NNPDF_Uncertainty/make_MVN_directories/run_87\n",
      "/home/ali/Desktop/Pulled_Github_Repositories/NNPDF_Uncertainty/make_MVN_directories/run_88\n",
      "/home/ali/Desktop/Pulled_Github_Repositories/NNPDF_Uncertainty/make_MVN_directories/run_89\n",
      "/home/ali/Desktop/Pulled_Github_Repositories/NNPDF_Uncertainty/make_MVN_directories/run_90\n",
      "/home/ali/Desktop/Pulled_Github_Repositories/NNPDF_Uncertainty/make_MVN_directories/run_91\n",
      "/home/ali/Desktop/Pulled_Github_Repositories/NNPDF_Uncertainty/make_MVN_directories/run_92\n",
      "/home/ali/Desktop/Pulled_Github_Repositories/NNPDF_Uncertainty/make_MVN_directories/run_93\n",
      "/home/ali/Desktop/Pulled_Github_Repositories/NNPDF_Uncertainty/make_MVN_directories/run_94\n",
      "/home/ali/Desktop/Pulled_Github_Repositories/NNPDF_Uncertainty/make_MVN_directories/run_95\n",
      "/home/ali/Desktop/Pulled_Github_Repositories/NNPDF_Uncertainty/make_MVN_directories/run_96\n",
      "/home/ali/Desktop/Pulled_Github_Repositories/NNPDF_Uncertainty/make_MVN_directories/run_97\n",
      "/home/ali/Desktop/Pulled_Github_Repositories/NNPDF_Uncertainty/make_MVN_directories/run_98\n",
      "/home/ali/Desktop/Pulled_Github_Repositories/NNPDF_Uncertainty/make_MVN_directories/run_99\n",
      "/home/ali/Desktop/Pulled_Github_Repositories/NNPDF_Uncertainty/make_MVN_directories/run_100\n",
      "/home/ali/Desktop/Pulled_Github_Repositories/NNPDF_Uncertainty/make_MVN_directories/run_101\n",
      "/home/ali/Desktop/Pulled_Github_Repositories/NNPDF_Uncertainty/make_MVN_directories/run_102\n",
      "/home/ali/Desktop/Pulled_Github_Repositories/NNPDF_Uncertainty/make_MVN_directories/run_103\n",
      "/home/ali/Desktop/Pulled_Github_Repositories/NNPDF_Uncertainty/make_MVN_directories/run_104\n",
      "/home/ali/Desktop/Pulled_Github_Repositories/NNPDF_Uncertainty/make_MVN_directories/run_105\n",
      "/home/ali/Desktop/Pulled_Github_Repositories/NNPDF_Uncertainty/make_MVN_directories/run_106\n",
      "/home/ali/Desktop/Pulled_Github_Repositories/NNPDF_Uncertainty/make_MVN_directories/run_107\n",
      "/home/ali/Desktop/Pulled_Github_Repositories/NNPDF_Uncertainty/make_MVN_directories/run_108\n",
      "/home/ali/Desktop/Pulled_Github_Repositories/NNPDF_Uncertainty/make_MVN_directories/run_109\n",
      "/home/ali/Desktop/Pulled_Github_Repositories/NNPDF_Uncertainty/make_MVN_directories/run_110\n",
      "/home/ali/Desktop/Pulled_Github_Repositories/NNPDF_Uncertainty/make_MVN_directories/run_111\n",
      "/home/ali/Desktop/Pulled_Github_Repositories/NNPDF_Uncertainty/make_MVN_directories/run_112\n",
      "/home/ali/Desktop/Pulled_Github_Repositories/NNPDF_Uncertainty/make_MVN_directories/run_113\n",
      "/home/ali/Desktop/Pulled_Github_Repositories/NNPDF_Uncertainty/make_MVN_directories/run_114\n",
      "/home/ali/Desktop/Pulled_Github_Repositories/NNPDF_Uncertainty/make_MVN_directories/run_115\n",
      "/home/ali/Desktop/Pulled_Github_Repositories/NNPDF_Uncertainty/make_MVN_directories/run_116\n",
      "/home/ali/Desktop/Pulled_Github_Repositories/NNPDF_Uncertainty/make_MVN_directories/run_117\n",
      "/home/ali/Desktop/Pulled_Github_Repositories/NNPDF_Uncertainty/make_MVN_directories/run_118\n",
      "/home/ali/Desktop/Pulled_Github_Repositories/NNPDF_Uncertainty/make_MVN_directories/run_119\n",
      "/home/ali/Desktop/Pulled_Github_Repositories/NNPDF_Uncertainty/make_MVN_directories/run_120\n",
      "/home/ali/Desktop/Pulled_Github_Repositories/NNPDF_Uncertainty/make_MVN_directories/run_121\n",
      "/home/ali/Desktop/Pulled_Github_Repositories/NNPDF_Uncertainty/make_MVN_directories/run_122\n",
      "/home/ali/Desktop/Pulled_Github_Repositories/NNPDF_Uncertainty/make_MVN_directories/run_123\n",
      "/home/ali/Desktop/Pulled_Github_Repositories/NNPDF_Uncertainty/make_MVN_directories/run_124\n",
      "/home/ali/Desktop/Pulled_Github_Repositories/NNPDF_Uncertainty/make_MVN_directories/run_125\n",
      "/home/ali/Desktop/Pulled_Github_Repositories/NNPDF_Uncertainty/make_MVN_directories/run_126\n",
      "/home/ali/Desktop/Pulled_Github_Repositories/NNPDF_Uncertainty/make_MVN_directories/run_127\n",
      "/home/ali/Desktop/Pulled_Github_Repositories/NNPDF_Uncertainty/make_MVN_directories/run_128\n",
      "/home/ali/Desktop/Pulled_Github_Repositories/NNPDF_Uncertainty/make_MVN_directories/run_129\n",
      "/home/ali/Desktop/Pulled_Github_Repositories/NNPDF_Uncertainty/make_MVN_directories/run_130\n",
      "/home/ali/Desktop/Pulled_Github_Repositories/NNPDF_Uncertainty/make_MVN_directories/run_131\n",
      "/home/ali/Desktop/Pulled_Github_Repositories/NNPDF_Uncertainty/make_MVN_directories/run_132\n",
      "/home/ali/Desktop/Pulled_Github_Repositories/NNPDF_Uncertainty/make_MVN_directories/run_133\n",
      "/home/ali/Desktop/Pulled_Github_Repositories/NNPDF_Uncertainty/make_MVN_directories/run_134\n",
      "/home/ali/Desktop/Pulled_Github_Repositories/NNPDF_Uncertainty/make_MVN_directories/run_135\n",
      "/home/ali/Desktop/Pulled_Github_Repositories/NNPDF_Uncertainty/make_MVN_directories/run_136\n",
      "/home/ali/Desktop/Pulled_Github_Repositories/NNPDF_Uncertainty/make_MVN_directories/run_137\n",
      "/home/ali/Desktop/Pulled_Github_Repositories/NNPDF_Uncertainty/make_MVN_directories/run_138\n",
      "/home/ali/Desktop/Pulled_Github_Repositories/NNPDF_Uncertainty/make_MVN_directories/run_139\n",
      "/home/ali/Desktop/Pulled_Github_Repositories/NNPDF_Uncertainty/make_MVN_directories/run_140\n",
      "/home/ali/Desktop/Pulled_Github_Repositories/NNPDF_Uncertainty/make_MVN_directories/run_141\n",
      "/home/ali/Desktop/Pulled_Github_Repositories/NNPDF_Uncertainty/make_MVN_directories/run_142\n",
      "/home/ali/Desktop/Pulled_Github_Repositories/NNPDF_Uncertainty/make_MVN_directories/run_143\n",
      "/home/ali/Desktop/Pulled_Github_Repositories/NNPDF_Uncertainty/make_MVN_directories/run_144\n",
      "/home/ali/Desktop/Pulled_Github_Repositories/NNPDF_Uncertainty/make_MVN_directories/run_145\n",
      "/home/ali/Desktop/Pulled_Github_Repositories/NNPDF_Uncertainty/make_MVN_directories/run_146\n",
      "/home/ali/Desktop/Pulled_Github_Repositories/NNPDF_Uncertainty/make_MVN_directories/run_147\n",
      "/home/ali/Desktop/Pulled_Github_Repositories/NNPDF_Uncertainty/make_MVN_directories/run_148\n",
      "/home/ali/Desktop/Pulled_Github_Repositories/NNPDF_Uncertainty/make_MVN_directories/run_149\n",
      "/home/ali/Desktop/Pulled_Github_Repositories/NNPDF_Uncertainty/make_MVN_directories/run_150\n",
      "/home/ali/Desktop/Pulled_Github_Repositories/NNPDF_Uncertainty/make_MVN_directories/run_151\n",
      "/home/ali/Desktop/Pulled_Github_Repositories/NNPDF_Uncertainty/make_MVN_directories/run_152\n",
      "/home/ali/Desktop/Pulled_Github_Repositories/NNPDF_Uncertainty/make_MVN_directories/run_153\n",
      "/home/ali/Desktop/Pulled_Github_Repositories/NNPDF_Uncertainty/make_MVN_directories/run_154\n",
      "/home/ali/Desktop/Pulled_Github_Repositories/NNPDF_Uncertainty/make_MVN_directories/run_155\n",
      "/home/ali/Desktop/Pulled_Github_Repositories/NNPDF_Uncertainty/make_MVN_directories/run_156\n",
      "/home/ali/Desktop/Pulled_Github_Repositories/NNPDF_Uncertainty/make_MVN_directories/run_157\n",
      "/home/ali/Desktop/Pulled_Github_Repositories/NNPDF_Uncertainty/make_MVN_directories/run_158\n",
      "/home/ali/Desktop/Pulled_Github_Repositories/NNPDF_Uncertainty/make_MVN_directories/run_159\n",
      "/home/ali/Desktop/Pulled_Github_Repositories/NNPDF_Uncertainty/make_MVN_directories/run_160\n",
      "/home/ali/Desktop/Pulled_Github_Repositories/NNPDF_Uncertainty/make_MVN_directories/run_161\n",
      "/home/ali/Desktop/Pulled_Github_Repositories/NNPDF_Uncertainty/make_MVN_directories/run_162\n",
      "/home/ali/Desktop/Pulled_Github_Repositories/NNPDF_Uncertainty/make_MVN_directories/run_163\n",
      "/home/ali/Desktop/Pulled_Github_Repositories/NNPDF_Uncertainty/make_MVN_directories/run_164\n",
      "/home/ali/Desktop/Pulled_Github_Repositories/NNPDF_Uncertainty/make_MVN_directories/run_165\n",
      "/home/ali/Desktop/Pulled_Github_Repositories/NNPDF_Uncertainty/make_MVN_directories/run_166\n",
      "/home/ali/Desktop/Pulled_Github_Repositories/NNPDF_Uncertainty/make_MVN_directories/run_167\n",
      "/home/ali/Desktop/Pulled_Github_Repositories/NNPDF_Uncertainty/make_MVN_directories/run_168\n",
      "/home/ali/Desktop/Pulled_Github_Repositories/NNPDF_Uncertainty/make_MVN_directories/run_169\n",
      "/home/ali/Desktop/Pulled_Github_Repositories/NNPDF_Uncertainty/make_MVN_directories/run_170\n",
      "/home/ali/Desktop/Pulled_Github_Repositories/NNPDF_Uncertainty/make_MVN_directories/run_171\n",
      "/home/ali/Desktop/Pulled_Github_Repositories/NNPDF_Uncertainty/make_MVN_directories/run_172\n",
      "/home/ali/Desktop/Pulled_Github_Repositories/NNPDF_Uncertainty/make_MVN_directories/run_173\n",
      "/home/ali/Desktop/Pulled_Github_Repositories/NNPDF_Uncertainty/make_MVN_directories/run_174\n",
      "/home/ali/Desktop/Pulled_Github_Repositories/NNPDF_Uncertainty/make_MVN_directories/run_175\n",
      "/home/ali/Desktop/Pulled_Github_Repositories/NNPDF_Uncertainty/make_MVN_directories/run_176\n",
      "/home/ali/Desktop/Pulled_Github_Repositories/NNPDF_Uncertainty/make_MVN_directories/run_177\n",
      "/home/ali/Desktop/Pulled_Github_Repositories/NNPDF_Uncertainty/make_MVN_directories/run_178\n",
      "/home/ali/Desktop/Pulled_Github_Repositories/NNPDF_Uncertainty/make_MVN_directories/run_179\n",
      "/home/ali/Desktop/Pulled_Github_Repositories/NNPDF_Uncertainty/make_MVN_directories/run_180\n",
      "/home/ali/Desktop/Pulled_Github_Repositories/NNPDF_Uncertainty/make_MVN_directories/run_181\n",
      "/home/ali/Desktop/Pulled_Github_Repositories/NNPDF_Uncertainty/make_MVN_directories/run_182\n",
      "/home/ali/Desktop/Pulled_Github_Repositories/NNPDF_Uncertainty/make_MVN_directories/run_183\n",
      "/home/ali/Desktop/Pulled_Github_Repositories/NNPDF_Uncertainty/make_MVN_directories/run_184\n",
      "/home/ali/Desktop/Pulled_Github_Repositories/NNPDF_Uncertainty/make_MVN_directories/run_185\n",
      "/home/ali/Desktop/Pulled_Github_Repositories/NNPDF_Uncertainty/make_MVN_directories/run_186\n",
      "/home/ali/Desktop/Pulled_Github_Repositories/NNPDF_Uncertainty/make_MVN_directories/run_187\n",
      "/home/ali/Desktop/Pulled_Github_Repositories/NNPDF_Uncertainty/make_MVN_directories/run_188\n",
      "/home/ali/Desktop/Pulled_Github_Repositories/NNPDF_Uncertainty/make_MVN_directories/run_189\n",
      "/home/ali/Desktop/Pulled_Github_Repositories/NNPDF_Uncertainty/make_MVN_directories/run_190\n",
      "/home/ali/Desktop/Pulled_Github_Repositories/NNPDF_Uncertainty/make_MVN_directories/run_191\n",
      "/home/ali/Desktop/Pulled_Github_Repositories/NNPDF_Uncertainty/make_MVN_directories/run_192\n",
      "/home/ali/Desktop/Pulled_Github_Repositories/NNPDF_Uncertainty/make_MVN_directories/run_193\n",
      "/home/ali/Desktop/Pulled_Github_Repositories/NNPDF_Uncertainty/make_MVN_directories/run_194\n",
      "/home/ali/Desktop/Pulled_Github_Repositories/NNPDF_Uncertainty/make_MVN_directories/run_195\n",
      "/home/ali/Desktop/Pulled_Github_Repositories/NNPDF_Uncertainty/make_MVN_directories/run_196\n",
      "/home/ali/Desktop/Pulled_Github_Repositories/NNPDF_Uncertainty/make_MVN_directories/run_197\n",
      "/home/ali/Desktop/Pulled_Github_Repositories/NNPDF_Uncertainty/make_MVN_directories/run_198\n",
      "/home/ali/Desktop/Pulled_Github_Repositories/NNPDF_Uncertainty/make_MVN_directories/run_199\n",
      "/home/ali/Desktop/Pulled_Github_Repositories/NNPDF_Uncertainty/make_MVN_directories/run_200\n",
      "/home/ali/Desktop/Pulled_Github_Repositories/NNPDF_Uncertainty/make_MVN_directories/run_201\n",
      "/home/ali/Desktop/Pulled_Github_Repositories/NNPDF_Uncertainty/make_MVN_directories/run_202\n",
      "/home/ali/Desktop/Pulled_Github_Repositories/NNPDF_Uncertainty/make_MVN_directories/run_203\n",
      "/home/ali/Desktop/Pulled_Github_Repositories/NNPDF_Uncertainty/make_MVN_directories/run_204\n",
      "/home/ali/Desktop/Pulled_Github_Repositories/NNPDF_Uncertainty/make_MVN_directories/run_205\n",
      "/home/ali/Desktop/Pulled_Github_Repositories/NNPDF_Uncertainty/make_MVN_directories/run_206\n",
      "/home/ali/Desktop/Pulled_Github_Repositories/NNPDF_Uncertainty/make_MVN_directories/run_207\n",
      "/home/ali/Desktop/Pulled_Github_Repositories/NNPDF_Uncertainty/make_MVN_directories/run_208\n",
      "/home/ali/Desktop/Pulled_Github_Repositories/NNPDF_Uncertainty/make_MVN_directories/run_209\n",
      "/home/ali/Desktop/Pulled_Github_Repositories/NNPDF_Uncertainty/make_MVN_directories/run_210\n",
      "/home/ali/Desktop/Pulled_Github_Repositories/NNPDF_Uncertainty/make_MVN_directories/run_211\n",
      "/home/ali/Desktop/Pulled_Github_Repositories/NNPDF_Uncertainty/make_MVN_directories/run_212\n",
      "/home/ali/Desktop/Pulled_Github_Repositories/NNPDF_Uncertainty/make_MVN_directories/run_213\n",
      "/home/ali/Desktop/Pulled_Github_Repositories/NNPDF_Uncertainty/make_MVN_directories/run_214\n",
      "/home/ali/Desktop/Pulled_Github_Repositories/NNPDF_Uncertainty/make_MVN_directories/run_215\n",
      "/home/ali/Desktop/Pulled_Github_Repositories/NNPDF_Uncertainty/make_MVN_directories/run_216\n",
      "/home/ali/Desktop/Pulled_Github_Repositories/NNPDF_Uncertainty/make_MVN_directories/run_217\n",
      "/home/ali/Desktop/Pulled_Github_Repositories/NNPDF_Uncertainty/make_MVN_directories/run_218\n",
      "/home/ali/Desktop/Pulled_Github_Repositories/NNPDF_Uncertainty/make_MVN_directories/run_219\n",
      "/home/ali/Desktop/Pulled_Github_Repositories/NNPDF_Uncertainty/make_MVN_directories/run_220\n",
      "/home/ali/Desktop/Pulled_Github_Repositories/NNPDF_Uncertainty/make_MVN_directories/run_221\n",
      "/home/ali/Desktop/Pulled_Github_Repositories/NNPDF_Uncertainty/make_MVN_directories/run_222\n",
      "/home/ali/Desktop/Pulled_Github_Repositories/NNPDF_Uncertainty/make_MVN_directories/run_223\n",
      "/home/ali/Desktop/Pulled_Github_Repositories/NNPDF_Uncertainty/make_MVN_directories/run_224\n",
      "/home/ali/Desktop/Pulled_Github_Repositories/NNPDF_Uncertainty/make_MVN_directories/run_225\n",
      "/home/ali/Desktop/Pulled_Github_Repositories/NNPDF_Uncertainty/make_MVN_directories/run_226\n",
      "/home/ali/Desktop/Pulled_Github_Repositories/NNPDF_Uncertainty/make_MVN_directories/run_227\n",
      "/home/ali/Desktop/Pulled_Github_Repositories/NNPDF_Uncertainty/make_MVN_directories/run_228\n",
      "/home/ali/Desktop/Pulled_Github_Repositories/NNPDF_Uncertainty/make_MVN_directories/run_229\n",
      "/home/ali/Desktop/Pulled_Github_Repositories/NNPDF_Uncertainty/make_MVN_directories/run_230\n",
      "/home/ali/Desktop/Pulled_Github_Repositories/NNPDF_Uncertainty/make_MVN_directories/run_231\n",
      "/home/ali/Desktop/Pulled_Github_Repositories/NNPDF_Uncertainty/make_MVN_directories/run_232\n",
      "/home/ali/Desktop/Pulled_Github_Repositories/NNPDF_Uncertainty/make_MVN_directories/run_233\n",
      "/home/ali/Desktop/Pulled_Github_Repositories/NNPDF_Uncertainty/make_MVN_directories/run_234\n",
      "/home/ali/Desktop/Pulled_Github_Repositories/NNPDF_Uncertainty/make_MVN_directories/run_235\n",
      "/home/ali/Desktop/Pulled_Github_Repositories/NNPDF_Uncertainty/make_MVN_directories/run_236\n",
      "/home/ali/Desktop/Pulled_Github_Repositories/NNPDF_Uncertainty/make_MVN_directories/run_237\n",
      "/home/ali/Desktop/Pulled_Github_Repositories/NNPDF_Uncertainty/make_MVN_directories/run_238\n",
      "/home/ali/Desktop/Pulled_Github_Repositories/NNPDF_Uncertainty/make_MVN_directories/run_239\n",
      "/home/ali/Desktop/Pulled_Github_Repositories/NNPDF_Uncertainty/make_MVN_directories/run_240\n",
      "/home/ali/Desktop/Pulled_Github_Repositories/NNPDF_Uncertainty/make_MVN_directories/run_241\n",
      "/home/ali/Desktop/Pulled_Github_Repositories/NNPDF_Uncertainty/make_MVN_directories/run_242\n",
      "/home/ali/Desktop/Pulled_Github_Repositories/NNPDF_Uncertainty/make_MVN_directories/run_243\n",
      "/home/ali/Desktop/Pulled_Github_Repositories/NNPDF_Uncertainty/make_MVN_directories/run_244\n",
      "/home/ali/Desktop/Pulled_Github_Repositories/NNPDF_Uncertainty/make_MVN_directories/run_245\n",
      "/home/ali/Desktop/Pulled_Github_Repositories/NNPDF_Uncertainty/make_MVN_directories/run_246\n",
      "/home/ali/Desktop/Pulled_Github_Repositories/NNPDF_Uncertainty/make_MVN_directories/run_247\n"
     ]
    }
   ],
   "source": [
    "\n",
    "\n",
    "import os; import subprocess as sp;from shutil import copyfile\n",
    "dirs=[]\n",
    "for i in range(1000):\n",
    "    dirs.append('run_{}'.format(i))\n",
    "#dirs\n",
    "\n",
    "os.chdir('/home/ali/Desktop/Pulled_Github_Repositories/NNPDF_Uncertainty/make_MVN_directories')\n",
    "steering = 'steering.txt'\n",
    "for run_ind, run in enumerate(dirs):\n",
    "    os.makedirs(run, exist_ok=True)\n",
    "    print(os.path.abspath(run))\n",
    "    path=os.path.abspath(run)\n",
    "    copyfile('ewparam.txt', os.path.join(path, 'ewparam.txt'))\n",
    "    copyfile('steering.txt', os.path.join(path, 'steering.txt'))\n",
    "    minuit_in_path = os.path.join(path, 'minuit.in.txt')\n",
    "    with open(minuit_in_path, 'w') as second:\n",
    "        #second = os.path.abspath(second)\n",
    "        second.write('set title\\n')\n",
    "        second.write('new  14p HERAPDF\\n')\n",
    "        second.write('parameters\\n')\n",
    "        #lets put 0 for the fourth column, meaning that this parameter is fixed\n",
    "        second.write('    '+ '2'+ '    ' + \"'Bg'\"+'    '+str(MVN[:,0][run_ind])+ '    '+'0.\\n')\n",
    "        second.write('    '+ '3'+ '    ' + \"'Cg'\"+'    '+str(MVN[:,1][run_ind])+ '    '+'0.\\n')\n",
    "        second.write('    '+ '7'+ '    ' + \"'Aprig'\"+'    '+str(MVN[:,2][run_ind])+ '    '+'0.\\n')\n",
    "        second.write('    '+ '8'+ '    ' + \"'Bprig'\"+'    '+str(MVN[:,3][run_ind])+ '    '+'0.\\n')\n",
    "        second.write('    '+ '9'+ '    ' + \"'Cprig'\"+'    '+str(25.000)+ '    '+'0.\\n')\n",
    "        #note that Cprig is a constant, not a parameter value!\n",
    "        second.write('    '+ '12'+ '    ' + \"'Buv'\"+'    '+str(MVN[:,4][run_ind])+ '    '+'0.\\n')\n",
    "        second.write('    '+ '13'+ '    ' + \"'Cuv'\"+'    '+str(MVN[:,5][run_ind])+ '    '+'0.\\n')\n",
    "        second.write('    '+ '15'+ '    ' + \"'Euv'\"+'    '+str(MVN[:,6][run_ind])+ '    '+'0.\\n')\n",
    "        second.write('    '+ '22'+ '    ' + \"'Bdv'\"+'    '+str(MVN[:,7][run_ind])+ '    '+'0.\\n')\n",
    "        second.write('    '+ '23'+ '    ' + \"'Cdv'\"+'    '+str(MVN[:,8][run_ind])+ '    '+'0.\\n')\n",
    "        second.write('    '+ '33'+ '    ' + \"'CUbar'\"+'    '+str(MVN[:,9][run_ind])+ '    '+'0.\\n')\n",
    "        second.write('    '+ '34'+ '    ' + \"'DUbar'\"+'    '+str(MVN[:,10][run_ind])+ '    '+'0.\\n')\n",
    "        second.write('    '+ '41'+ '    ' + \"'ADbar'\"+'    '+str(MVN[:,11][run_ind])+ '    '+'0.\\n')\n",
    "        second.write('    '+ '42'+ '    ' + \"'BDbar'\"+'    '+str(MVN[:,12][run_ind])+ '    '+'0.\\n')\n",
    "        second.write('    '+ '43'+ '    ' + \"'CDbar'\"+'    '+str(MVN[:,13][run_ind])+ '    '+'0.\\n')\n",
    "        second.write('\\n\\n\\n')\n",
    "        #for complete fit, do\n",
    "#         second.write('migrad 200000\\n')\n",
    "#         second.write('hesse\\n')\n",
    "#         second.write('set print 3\\n\\n')\n",
    "        #to run only 3 iterations, do \n",
    "        second.write('call fcn 2\\n')\n",
    "        second.write('*migrad 200000\\n')\n",
    "        second.write('*hesse\\n')\n",
    "        second.write('set print 3\\n\\n')\n",
    "        second.write('return')\n",
    "    os.chdir(path)\n",
    "    sp.run('ln -s /home/ali/Desktop/Research/xfitter/xfitter-2.0.1/datafiles', shell=True)\n",
    "    sp.run('xfitter', shell=True)\n",
    "    os.chdir('/home/ali/Desktop/Pulled_Github_Repositories/NNPDF_Uncertainty/make_MVN_directories')\n",
    "\n",
    "    #sp.run('cp ./ewparam.txt run', shell=True)"
   ]
  },
  {
   "cell_type": "code",
   "execution_count": null,
   "id": "9d85aee7-00e9-4291-9989-6f79d859a7e5",
   "metadata": {},
   "outputs": [],
   "source": [
    "\n",
    "\n",
    "import os; import subprocess as sp;from shutil import copyfile\n",
    "dirs=[]\n",
    "for i in range(1000):\n",
    "    dirs.append('run_{}'.format(i))\n",
    "#dirs\n",
    "\n",
    "os.chdir('/home/ali/Desktop/Pulled_Github_Repositories/NNPDF_Uncertainty/make_MVN_directories')\n",
    "steering = 'steering.txt'\n",
    "for run_ind, run in enumerate(dirs):\n",
    "    os.makedirs(run, exist_ok=True)\n",
    "    print(os.path.abspath(run))\n",
    "    path=os.path.abspath(run)\n",
    "    copyfile('ewparam.txt', os.path.join(path, 'ewparam.txt'))\n",
    "    copyfile('steering.txt', os.path.join(path, 'steering.txt'))\n",
    "    minuit_in_path = os.path.join(path, 'minuit.in.txt')\n",
    "    with open(minuit_in_path, 'w') as second:\n",
    "        #second = os.path.abspath(second)\n",
    "        second.write('set title\\n')\n",
    "        second.write('new  14p HERAPDF\\n')\n",
    "        second.write('parameters\\n')\n",
    "        #lets put 0 for the fourth column, meaning that this parameter is fixed\n",
    "        second.write('    '+ '2'+ '    ' + \"'Bg'\"+'    '+str(MVN[:,0][run_ind])+ '    '+'0.\\n')\n",
    "        second.write('    '+ '3'+ '    ' + \"'Cg'\"+'    '+str(MVN[:,1][run_ind])+ '    '+'0.\\n')\n",
    "        second.write('    '+ '7'+ '    ' + \"'Aprig'\"+'    '+str(MVN[:,2][run_ind])+ '    '+'0.\\n')\n",
    "        second.write('    '+ '8'+ '    ' + \"'Bprig'\"+'    '+str(MVN[:,3][run_ind])+ '    '+'0.\\n')\n",
    "        second.write('    '+ '9'+ '    ' + \"'Cprig'\"+'    '+str(25.000)+ '    '+'0.\\n')\n",
    "        #note that Cprig is a constant, not a parameter value!\n",
    "        second.write('    '+ '12'+ '    ' + \"'Buv'\"+'    '+str(MVN[:,4][run_ind])+ '    '+'0.\\n')\n",
    "        second.write('    '+ '13'+ '    ' + \"'Cuv'\"+'    '+str(MVN[:,5][run_ind])+ '    '+'0.\\n')\n",
    "        second.write('    '+ '15'+ '    ' + \"'Euv'\"+'    '+str(MVN[:,6][run_ind])+ '    '+'0.\\n')\n",
    "        second.write('    '+ '22'+ '    ' + \"'Bdv'\"+'    '+str(MVN[:,7][run_ind])+ '    '+'0.\\n')\n",
    "        second.write('    '+ '23'+ '    ' + \"'Cdv'\"+'    '+str(MVN[:,8][run_ind])+ '    '+'0.\\n')\n",
    "        second.write('    '+ '33'+ '    ' + \"'CUbar'\"+'    '+str(MVN[:,9][run_ind])+ '    '+'0.\\n')\n",
    "        second.write('    '+ '34'+ '    ' + \"'DUbar'\"+'    '+str(MVN[:,10][run_ind])+ '    '+'0.\\n')\n",
    "        second.write('    '+ '41'+ '    ' + \"'ADbar'\"+'    '+str(MVN[:,11][run_ind])+ '    '+'0.\\n')\n",
    "        second.write('    '+ '42'+ '    ' + \"'BDbar'\"+'    '+str(MVN[:,12][run_ind])+ '    '+'0.\\n')\n",
    "        second.write('    '+ '43'+ '    ' + \"'CDbar'\"+'    '+str(MVN[:,13][run_ind])+ '    '+'0.\\n')\n",
    "        second.write('\\n\\n\\n')\n",
    "        #for complete fit, do\n",
    "#         second.write('migrad 200000\\n')\n",
    "#         second.write('hesse\\n')\n",
    "#         second.write('set print 3\\n\\n')\n",
    "        #to run only 3 iterations, do \n",
    "        second.write('call fcn 3\\n')\n",
    "        second.write('*migrad 200000\\n')\n",
    "        second.write('*hesse\\n')\n",
    "        second.write('set print 3\\n\\n')\n",
    "        second.write('return')\n",
    "\n",
    "    \n",
    "for run_ind, run in enumerate(dirs):\n",
    "    os.chdir('/home/ali/Desktop/Pulled_Github_Repositories/NNPDF_Uncertainty/make_MVN_directories')\n",
    "    path=os.path.abspath(run)\n",
    "    os.chdir(path)\n",
    "    sp.run('ln -s /home/ali/Desktop/Research/xfitter/xfitter-2.0.1/datafiles', shell=True)\n",
    "    sp.run('xfitter', shell=True)\n",
    "    #sp.run('cp ./ewparam.txt run', shell=True)"
   ]
  },
  {
   "cell_type": "code",
   "execution_count": null,
   "id": "885f154c-d91f-4e96-82e7-27f9857c9408",
   "metadata": {},
   "outputs": [],
   "source": []
  },
  {
   "cell_type": "code",
   "execution_count": null,
   "id": "dad495c3-2b66-4048-b43c-746a9d2471ff",
   "metadata": {},
   "outputs": [],
   "source": [
    "\n",
    "\n",
    "# import os; import subprocess as sp;from shutil import copyfile\n",
    "# steering = 'steering.txt'\n",
    "# for run in dirs:\n",
    "#     os.makedirs(run, exist_ok=True)\n",
    "#     print(os.path.abspath(run))\n",
    "#     path=os.path.abspath(run)\n",
    "#     copyfile('ewparam.txt', os.path.join(path, 'ewparam.txt'))\n",
    "#     copyfile('steering.txt', os.path.join(path, 'steering.txt'))\n",
    "#     minuit_in_path = os.path.join(path, 'minuit.in.txt')\n",
    "#     with open(minuit_in_path, 'w') as second:\n",
    "#         #second = os.path.abspath(second)\n",
    "#         second.write('set title\\n')\n",
    "#         second.write('new  14p HERAPDF\\n')\n",
    "#         second.write('parameters\\n')\n",
    "#         #lets put 0 for the fourth column, meaning that this parameter is fixed\n",
    "#         second.write('    '+ '2'+ '    ' + \"'Bg'\"+'    '+str(generated_params[0])+ '    '+'0.\\n')\n",
    "#         second.write('    '+ '3'+ '    ' + \"'Cg'\"+'    '+str(generated_params[1])+ '    '+'0.\\n')\n",
    "#         second.write('    '+ '7'+ '    ' + \"'Aprig'\"+'    '+str(generated_params[2])+ '    '+'0.\\n')\n",
    "#         second.write('    '+ '8'+ '    ' + \"'Bprig'\"+'    '+str(generated_params[3])+ '    '+'0.\\n')\n",
    "#         second.write('    '+ '9'+ '    ' + \"'Cprig'\"+'    '+str(generated_params[4])+ '    '+'0.\\n')\n",
    "#         second.write('    '+ '12'+ '    ' + \"'Buv'\"+'    '+str(generated_params[5])+ '    '+'0.\\n')\n",
    "#         second.write('    '+ '13'+ '    ' + \"'Cuv'\"+'    '+str(generated_params[6])+ '    '+'0.\\n')\n",
    "#         second.write('    '+ '15'+ '    ' + \"'Euv'\"+'    '+str(generated_params[7])+ '    '+'0.\\n')\n",
    "#         second.write('    '+ '22'+ '    ' + \"'Bdv'\"+'    '+str(generated_params[8])+ '    '+'0.\\n')\n",
    "#         second.write('    '+ '23'+ '    ' + \"'Cdv'\"+'    '+str(generated_params[9])+ '    '+'0.\\n')\n",
    "#         second.write('    '+ '33'+ '    ' + \"'CUbar'\"+'    '+str(generated_params[10])+ '    '+'0.\\n')\n",
    "#         second.write('    '+ '34'+ '    ' + \"'DUbar'\"+'    '+str(generated_params[11])+ '    '+'0.\\n')\n",
    "#         second.write('    '+ '41'+ '    ' + \"'ADbar'\"+'    '+str(generated_params[12])+ '    '+'0.\\n')\n",
    "#         second.write('    '+ '42'+ '    ' + \"'BDbar'\"+'    '+str(generated_params[13])+ '    '+'0.\\n')\n",
    "#         second.write('    '+ '43'+ '    ' + \"'CDbar'\"+'    '+str(generated_params[14])+ '    '+'0.\\n')\n",
    "#         second.write('\\n\\n\\n')\n",
    "#         second.write('migrad 200000\\n')\n",
    "#         second.write('hesse\\n')\n",
    "#         second.write('set print 3\\n\\n')\n",
    "#         second.write('return')\n",
    "\n",
    "#     #sp.run('cp ./ewparam.txt run', shell=True)"
   ]
  },
  {
   "cell_type": "code",
   "execution_count": 16,
   "id": "2d1c28bf-1307-400e-8d08-43b9f275bc4f",
   "metadata": {},
   "outputs": [],
   "source": [
    "weights=[]\n",
    "dirs=[]\n",
    "for i in range(79):\n",
    "    dirs.append('run_{}'.format(i))\n",
    "    \n",
    "os.chdir('/home/ali/Desktop/Pulled_Github_Repositories/NNPDF_Uncertainty/make_MVN_directories')\n",
    "for run_ind, run in enumerate(dirs):\n",
    "    run_path = os.path.abspath(run)\n",
    "    output_path = os.path.join(run_path, 'output')\n",
    "    os.chdir(output_path)\n",
    "    #print(os.getcwd())\n",
    "    with open('Results.txt', 'r') as f:\n",
    "        lines = f.readlines()\n",
    "        chi2_line = lines[12]\n",
    "        chi2 = chi2_line.split()[2]\n",
    "        weights.append(float(chi2))\n",
    "    os.chdir('/home/ali/Desktop/Pulled_Github_Repositories/NNPDF_Uncertainty/make_MVN_directories')\n"
   ]
  },
  {
   "cell_type": "code",
   "execution_count": 17,
   "id": "db76f8c9-be37-432e-a6f0-caac7a7bf0bf",
   "metadata": {},
   "outputs": [
    {
     "data": {
      "text/plain": [
       "[95.10829739595722,\n",
       " 88.36649887317249,\n",
       " 96.71190550627526,\n",
       " 94.29873991950457,\n",
       " 97.30897292853665,\n",
       " 98.00961382324405,\n",
       " 87.79403102245416,\n",
       " 95.18634946646027,\n",
       " 89.1430027297724,\n",
       " 94.2223279840484,\n",
       " 97.18946256331023,\n",
       " 93.68440111788513,\n",
       " 92.21127961841158,\n",
       " 92.22609220492049,\n",
       " 88.48653515538105,\n",
       " 93.05803080549978,\n",
       " 92.77680785180716,\n",
       " 95.18733339751395,\n",
       " 92.46822793332824,\n",
       " 94.01126134209781,\n",
       " 95.37221644694118,\n",
       " 92.52672267594309,\n",
       " 93.1121993950845,\n",
       " 94.71741463092883,\n",
       " 97.73333186392142,\n",
       " 90.24200240284131,\n",
       " 93.39200574893023,\n",
       " 101.35528801491415,\n",
       " 94.1637985628659,\n",
       " 96.40345918676425,\n",
       " 96.60212691610842,\n",
       " 87.29616758562926,\n",
       " 92.3041604800532,\n",
       " 87.05099899181785,\n",
       " 94.84110078588785,\n",
       " 98.04375021712615,\n",
       " 93.59687817106449,\n",
       " 102.70374423805787,\n",
       " 94.05293727105322,\n",
       " 91.32532673634705,\n",
       " 93.81666177844268,\n",
       " 102.25308943741742,\n",
       " 88.13647885567501,\n",
       " 97.52967761950764,\n",
       " 90.42110878612696,\n",
       " 93.12336415491664,\n",
       " 92.76762053232957,\n",
       " 96.40188345130727,\n",
       " 86.49435931060609,\n",
       " 88.39070098733848,\n",
       " 104.49324175594543,\n",
       " 92.35178208706193,\n",
       " 95.30765801099002,\n",
       " 97.11808165043554,\n",
       " 90.85633696700094,\n",
       " 92.88464267984082,\n",
       " 90.15650057167795,\n",
       " 88.13091403039353,\n",
       " 93.68996086936237,\n",
       " 94.53473924043195,\n",
       " 93.03093586050608,\n",
       " 100.94102742853345,\n",
       " 102.38327289833975,\n",
       " 91.40319937903001,\n",
       " 91.49722908354978,\n",
       " 95.93295788620239,\n",
       " 90.13277033899631,\n",
       " 92.33125364210832,\n",
       " 96.04329644984327,\n",
       " 94.22768660073451,\n",
       " 92.29318860304099,\n",
       " 88.8828521081564,\n",
       " 92.09586437470871,\n",
       " 96.38768423396537,\n",
       " 89.62235998716554,\n",
       " 96.1270830618116,\n",
       " 99.08743193507051,\n",
       " 93.15231011546369,\n",
       " 98.66280804346857]"
      ]
     },
     "execution_count": 17,
     "metadata": {},
     "output_type": "execute_result"
    }
   ],
   "source": [
    "weights"
   ]
  },
  {
   "cell_type": "code",
   "execution_count": 10,
   "id": "1ba78a0c-01b9-486f-956f-b7474276fc68",
   "metadata": {},
   "outputs": [
    {
     "name": "stdout",
     "output_type": "stream",
     "text": [
      "the first fit parameter values are:  [-0.05017852  5.57279299  0.15616591 -0.38366702  0.81806954  4.83537959\n",
      "  9.79013025  1.02305249  4.91194071  7.28055889  1.57280357  0.26367197\n",
      " -0.12718829] \n",
      "the associated weight for this fit is 95.10829739595722\n",
      "hence the number of fits has to be the same as the number of weights\n"
     ]
    }
   ],
   "source": [
    "first_fit=MVN[:,0:13][0]; first_weight=weights[0]\n",
    "print('the first fit parameter values are: ', first_fit, '\\nthe associated weight for this fit is', first_weight)\n",
    "print('hence the number of fits has to be the same as the number of weights')"
   ]
  },
  {
   "cell_type": "code",
   "execution_count": 19,
   "id": "caac51d8-65c7-418e-b707-142ff2c041d9",
   "metadata": {},
   "outputs": [
    {
     "data": {
      "text/plain": [
       "(array([ 295.15506406,  877.54816561,  759.81012724, 1399.17966387,\n",
       "        1754.30736478,  836.94265302,  367.64911619,  649.51282951,\n",
       "          96.40345919,  380.8703733 ]),\n",
       " array([-0.11555205, -0.10364354, -0.09173504, -0.07982653, -0.06791803,\n",
       "        -0.05600952, -0.04410101, -0.03219251, -0.020284  , -0.0083755 ,\n",
       "         0.00353301]),\n",
       " <BarContainer object of 10 artists>)"
      ]
     },
     "execution_count": 19,
     "metadata": {},
     "output_type": "execute_result"
    },
    {
     "data": {
      "image/png": "[encoded data removed]",
      "text/plain": [
       "<Figure size 432x288 with 1 Axes>"
      ]
     },
     "metadata": {
      "needs_background": "light"
     },
     "output_type": "display_data"
    }
   ],
   "source": [
    "import matplotlib.pyplot as plt\n",
    "Bg = first_fit=MVN[:,0][0:79]\n",
    "plt.hist(Bg, bins=10, weights=weights)"
   ]
  },
  {
   "cell_type": "markdown",
   "id": "9c9a95d6-4b98-4a87-b8fc-87a082358cf1",
   "metadata": {},
   "source": [
    "the number of weights is the same as the number of fits: for each fit there is a different weight:\n",
    "\n",
    "First fit: MVN[:,1:13][]"
   ]
  },
  {
   "cell_type": "code",
   "execution_count": 24,
   "id": "2175bf28-faa4-44e4-9283-d17a20033eaa",
   "metadata": {},
   "outputs": [
    {
     "name": "stdout",
     "output_type": "stream",
     "text": [
      "86.734185754044333\n"
     ]
    }
   ],
   "source": [
    "import re\n",
    "\n",
    "os.chdir('/home/ali/Desktop/Pulled_Github_Repositories/NNPDF_Uncertainty/make_MVN_directories/run_1/output')\n",
    "pattern  = re.compile(r'Correlated Chi2')\n",
    "#we can use re to find the ch^2, or we can see that the correlated chi2 is lways on the 13th line!\n",
    "with open('Results.txt', 'r') as f:\n",
    "    lines = f.readlines()\n",
    "    chi2_line = lines[12]\n",
    "    chi2 = chi2_line.split()[2]\n",
    "    #lines = f.read()\n",
    "\n",
    "    #matches = pattern.finditer(lines)\n",
    "        \n",
    "    print(chi2)"
   ]
  },
  {
   "cell_type": "code",
   "execution_count": 21,
   "id": "a5a8afdd-d592-45e6-9765-a72e20f764d7",
   "metadata": {},
   "outputs": [
    {
     "data": {
      "image/png": "[encoded data removed]",
      "text/plain": [
       "<Figure size 720x1080 with 16 Axes>"
      ]
     },
     "metadata": {
      "needs_background": "light"
     },
     "output_type": "display_data"
    }
   ],
   "source": [
    "import seaborn as sns\n",
    "colors=sns.color_palette(\"rocket\",3)\n",
    "# sns.set_style(\"white\")\n",
    "\n",
    "# sns.set_context(\"poster\")\n",
    "plt.style.use('seaborn-paper')\n",
    "\n",
    "fig, axes = plt.subplots(nrows=4, ncols=4,figsize=(10,15))\n",
    "axes[0,0].hist(MVN[:,0][0:79],bins=15, label='Bg',weights=weights)\n",
    "#axes[0,0].set(title='Bg', xlabel='value')\n",
    "axes[0,1].hist(MVN[:,1][0:79],bins=15, label='Cg',weights=weights)\n",
    "axes[0,2].hist(MVN[:,2][0:79],bins=15,label='Aprig',weights=weights)\n",
    "axes[0,3].hist(MVN[:,3][0:79],bins=15, label='Buv',weights=weights)\n",
    "axes[1,0].hist(MVN[:,4][0:79],bins=15, label='Cuv',weights=weights)\n",
    "axes[1,1].hist(MVN[:,5][0:79],bins=15,label='Euv',weights=weights)\n",
    "axes[1,2].hist(MVN[:,6][0:79],bins=15, label='Bdv',weights=weights)\n",
    "axes[1,3].hist(MVN[:,7][0:79],bins=15, label='Cdv',weights=weights)\n",
    "axes[2,0].hist(MVN[:,8][0:79],bins=15, label='CUbar',weights=weights)\n",
    "axes[2,1].hist(MVN[:,9][0:79],bins=15,label='DUbar',weights=weights)\n",
    "axes[2,2].hist(MVN[:,10][0:79],bins=15,label='ADbar',weights=weights)\n",
    "axes[2,3].hist(MVN[:,11][0:79],bins=15,label='BDbar',weights=weights)\n",
    "axes[3,0].hist(MVN[:,12][0:79],bins=15,label='CDbar',weights=weights)\n",
    "axes[3,1].hist(MVN[:,13][0:79],bins=15,label='CDbar',weights=weights)\n",
    "axes[3,2].hist(MVN[:,13][0:79],bins=15,label='CDbar',weights=weights)\n",
    "axes[3,3].hist(MVN[:,13][0:79],bins=15,label='CDbar',weights=weights)\n",
    "plt.tight_layout(); plt.suptitle('HERAPDF Weighted Parameters')\n",
    "titles = ['Bg','Cg','Aprig','Bprig','Buv','Cuv','Euv','Bdv','Cdv','CUbar','DUbar','ADbar','BDbar','CDbar','CDbar','CDbar','CDbar']\n",
    "for i, ax in enumerate(axes.flatten()):\n",
    "    ax.set(title=titles[i], xlabel='value')\n",
    "    ax.legend()\n",
    "# plt.minorticks_on()\n",
    "# plt.tick_params(direction='in',right=True, top=True)\n",
    "# plt.tick_params(labelsize=14)\n",
    "# plt.tick_params(labelbottom=True, labeltop=False, labelright=False, labelleft=True)\n",
    "plt.subplots_adjust(left=0.125, bottom=0.1, right=0.9 , top=0.9, wspace=0.2, hspace=0.4)\n",
    "#plt.savefig('HERAPDF_params_MVN.png', dpi=300, bbox_inches='tight')\n",
    "plt.show()"
   ]
  },
  {
   "cell_type": "code",
   "execution_count": 9,
   "id": "b85f830d-b055-4aa6-89d8-5c885f2ed5a1",
   "metadata": {},
   "outputs": [
    {
     "name": "stdout",
     "output_type": "stream",
     "text": [
      "/home/ali/Desktop/Pulled_Github_Repositories/NNPDF_Uncertainty/make_MVN_directories\n"
     ]
    }
   ],
   "source": [
    "!pwd"
   ]
  },
  {
   "cell_type": "code",
   "execution_count": null,
   "id": "068657a3-7151-4397-a925-3db20c012818",
   "metadata": {},
   "outputs": [],
   "source": [
    "chi2 = []\n",
    "# for run_ind, run in enumerate(dirs):\n",
    "    "
   ]
  },
  {
   "cell_type": "code",
   "execution_count": 3,
   "id": "54b43ee2-28bc-454e-a25e-d563427e1989",
   "metadata": {},
   "outputs": [
    {
     "data": {
      "text/plain": [
       "array([[ 2.43015610e-03,  5.56822546e+00,  9.00654391e-02, ...,\n",
       "         2.66762789e-01, -1.29259871e-01,  9.41650924e+00],\n",
       "       [-3.96051836e-02,  5.57877192e+00,  1.37545153e-01, ...,\n",
       "         2.69146806e-01, -1.28752170e-01,  9.44747927e+00],\n",
       "       [-8.93053616e-02,  5.55656587e+00,  2.14202311e-01, ...,\n",
       "         2.70642861e-01, -1.27310272e-01,  8.94872670e+00],\n",
       "       ...,\n",
       "       [-1.50939824e-02,  5.62641018e+00,  1.02490604e-01, ...,\n",
       "         2.66648891e-01, -1.27935839e-01,  1.08484684e+01],\n",
       "       [-6.35174434e-02,  5.52292829e+00,  1.67342741e-01, ...,\n",
       "         2.74442476e-01, -1.25928761e-01,  9.39112684e+00],\n",
       "       [-8.53485849e-02,  5.50832597e+00,  1.87047270e-01, ...,\n",
       "         2.72113907e-01, -1.25944135e-01,  8.53153735e+00]])"
      ]
     },
     "execution_count": 3,
     "metadata": {},
     "output_type": "execute_result"
    }
   ],
   "source": []
  },
  {
   "cell_type": "code",
   "execution_count": 7,
   "id": "c01e55ae-46fd-4884-8293-bd357886b97c",
   "metadata": {},
   "outputs": [
    {
     "data": {
      "text/plain": [
       "array([5.56822546, 5.57877192, 5.55656587, 5.64965481, 5.48059062,\n",
       "       5.64275738, 5.56557129, 5.46895071, 5.61394339, 5.4657113 ,\n",
       "       5.72088688, 5.57641395, 5.56217723, 5.64325095, 5.4506212 ,\n",
       "       5.57072277, 5.48765337, 5.2999343 , 5.41644669, 5.45007045,\n",
       "       5.52433301, 5.625124  , 5.28529794, 5.53746131, 5.58942532,\n",
       "       5.61354713, 5.66152563, 5.57045129, 5.43533739, 5.54771925,\n",
       "       5.72290497, 5.53627576, 5.55022118, 5.56557226, 5.6837191 ,\n",
       "       5.56455524, 5.37425429, 5.41968953, 5.61463865, 5.66449122,\n",
       "       5.42896395, 5.45677686, 5.45959513, 5.6067189 , 5.54636472,\n",
       "       5.58823497, 5.48854313, 5.56780162, 5.48206066, 5.4159433 ,\n",
       "       5.49442731, 5.36963307, 5.47375765, 5.45208464, 5.4744593 ,\n",
       "       5.54865134, 5.50027027, 5.53333648, 5.66551205, 5.47395595,\n",
       "       5.63966067, 5.65798635, 5.58830714, 5.48873627, 5.48372282,\n",
       "       5.55773126, 5.51402777, 5.68084724, 5.64940076, 5.52670864,\n",
       "       5.71806488, 5.47480521, 5.3690443 , 5.58317509, 5.52672742,\n",
       "       5.52080457, 5.62757297, 5.44403168, 5.45174027, 5.72390603,\n",
       "       5.68954139, 5.5318099 , 5.36105199, 5.60467561, 5.50927369,\n",
       "       5.53436399, 5.70955366, 5.58974385, 5.48213211, 5.58234409,\n",
       "       5.43059399, 5.48714876, 5.61820076, 5.42226894, 5.38576993,\n",
       "       5.58393191, 5.72451193, 5.62641018, 5.52292829, 5.50832597])"
      ]
     },
     "execution_count": 7,
     "metadata": {},
     "output_type": "execute_result"
    }
   ],
   "source": [
    "Cg = MVN[:,1]\n",
    "Cg"
   ]
  },
  {
   "cell_type": "code",
   "execution_count": 6,
   "id": "8e6da6f4-249c-411f-8fa4-d27e43fbfdbc",
   "metadata": {},
   "outputs": [
    {
     "data": {
      "text/plain": [
       "5.568225463930329"
      ]
     },
     "execution_count": 6,
     "metadata": {},
     "output_type": "execute_result"
    }
   ],
   "source": [
    "Cg = MVN[:,1][0]\n",
    "Cg"
   ]
  },
  {
   "cell_type": "code",
   "execution_count": 8,
   "id": "7d27ff0a-0680-446e-89fa-5a3fb2868a49",
   "metadata": {},
   "outputs": [
    {
     "name": "stdout",
     "output_type": "stream",
     "text": [
      "5.568225463930329\n",
      "5.578771923312726\n",
      "5.556565868962572\n",
      "5.64965480846681\n",
      "5.480590620228213\n",
      "5.642757377251726\n",
      "5.565571287593934\n",
      "5.468950708263371\n",
      "5.613943385752011\n",
      "5.465711304176831\n",
      "5.7208868823944075\n",
      "5.576413950148389\n",
      "5.562177227560204\n",
      "5.643250950288712\n",
      "5.45062119947961\n",
      "5.570722767934913\n",
      "5.487653370310577\n",
      "5.299934296491756\n",
      "5.41644669459526\n",
      "5.450070445902924\n",
      "5.524333010658778\n",
      "5.625123995471032\n",
      "5.285297936811091\n",
      "5.5374613084425075\n",
      "5.5894253161148635\n",
      "5.613547132122217\n",
      "5.661525633946969\n",
      "5.570451288100365\n",
      "5.435337392529686\n",
      "5.547719250093941\n",
      "5.722904972867617\n",
      "5.5362757619653\n",
      "5.55022118210261\n",
      "5.565572256525665\n",
      "5.683719097384859\n",
      "5.564555237401832\n",
      "5.374254292310081\n",
      "5.419689527890126\n",
      "5.614638650596581\n",
      "5.66449122365353\n",
      "5.42896395158287\n",
      "5.456776855578474\n",
      "5.459595125571036\n",
      "5.606718900091075\n",
      "5.54636472431205\n",
      "5.588234965208083\n",
      "5.488543134786431\n",
      "5.567801621564193\n",
      "5.482060661451395\n",
      "5.415943302504665\n",
      "5.494427311330088\n",
      "5.36963307302666\n",
      "5.473757649080778\n",
      "5.452084641779995\n",
      "5.474459296698992\n",
      "5.548651337178909\n",
      "5.500270267741528\n",
      "5.533336479759375\n",
      "5.6655120496719436\n",
      "5.473955951658069\n",
      "5.6396606689403335\n",
      "5.657986353069633\n",
      "5.588307138211023\n",
      "5.48873627016041\n",
      "5.483722824643601\n",
      "5.5577312621527915\n",
      "5.5140277690693\n",
      "5.680847238355216\n",
      "5.649400755555628\n",
      "5.52670863728128\n",
      "5.71806488158287\n",
      "5.474805211936256\n",
      "5.369044300759801\n",
      "5.583175087212497\n",
      "5.526727421267452\n",
      "5.520804571762803\n",
      "5.627572967114763\n",
      "5.444031681398335\n",
      "5.4517402742247265\n",
      "5.7239060281535705\n",
      "5.689541385394259\n",
      "5.5318098980349975\n",
      "5.361051989059453\n",
      "5.60467560878549\n",
      "5.509273688356295\n",
      "5.534363985294583\n",
      "5.70955366113458\n",
      "5.589743847447236\n",
      "5.482132106281162\n",
      "5.582344085373503\n",
      "5.430593985421105\n",
      "5.487148758067113\n",
      "5.618200764201794\n",
      "5.422268938709682\n",
      "5.385769934567903\n",
      "5.583931905610368\n",
      "5.724511934726096\n",
      "5.626410178017247\n",
      "5.522928294178512\n",
      "5.508325972667549\n"
     ]
    }
   ],
   "source": [
    "for c in Cg:\n",
    "    print(c)"
   ]
  },
  {
   "cell_type": "code",
   "execution_count": null,
   "id": "b409dc1d-1427-4136-b08a-d8a063ba728d",
   "metadata": {},
   "outputs": [],
   "source": []
  }
 ],
 "metadata": {
  "kernelspec": {
   "display_name": "Python 3",
   "language": "python",
   "name": "python3"
  },
  "language_info": {
   "codemirror_mode": {
    "name": "ipython",
    "version": 3
   },
   "file_extension": ".py",
   "mimetype": "text/x-python",
   "name": "python",
   "nbconvert_exporter": "python",
   "pygments_lexer": "ipython3",
   "version": "3.7.7"
  }
 },
 "nbformat": 4,
 "nbformat_minor": 5
}
