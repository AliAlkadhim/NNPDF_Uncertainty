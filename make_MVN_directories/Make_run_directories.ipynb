{
 "cells": [
  {
   "cell_type": "code",
   "execution_count": 1,
   "id": "7d686362-13eb-40c6-ad2d-d0a901b685e4",
   "metadata": {},
   "outputs": [
    {
     "data": {
      "text/plain": [
       "['run_0',\n",
       " 'run_1',\n",
       " 'run_2',\n",
       " 'run_3',\n",
       " 'run_4',\n",
       " 'run_5',\n",
       " 'run_6',\n",
       " 'run_7',\n",
       " 'run_8',\n",
       " 'run_9']"
      ]
     },
     "execution_count": 1,
     "metadata": {},
     "output_type": "execute_result"
    }
   ],
   "source": [
    "dirs=[]\n",
    "for i in range(10):\n",
    "    dirs.append('run_{}'.format(i))\n",
    "dirs"
   ]
  },
  {
   "cell_type": "code",
   "execution_count": null,
   "id": "068657a3-7151-4397-a925-3db20c012818",
   "metadata": {},
   "outputs": [],
   "source": [
    "import os; import subprocess as sp\n",
    "for run_dir in dirs:\n",
    "    sp.run('cp ')"
   ]
  }
 ],
 "metadata": {
  "kernelspec": {
   "display_name": "Python 3",
   "language": "python",
   "name": "python3"
  },
  "language_info": {
   "codemirror_mode": {
    "name": "ipython",
    "version": 3
   },
   "file_extension": ".py",
   "mimetype": "text/x-python",
   "name": "python",
   "nbconvert_exporter": "python",
   "pygments_lexer": "ipython3",
   "version": "3.7.7"
  }
 },
 "nbformat": 4,
 "nbformat_minor": 5
}
