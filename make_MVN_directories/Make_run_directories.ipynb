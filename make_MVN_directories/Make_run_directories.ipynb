{
 "cells": [
  {
   "cell_type": "code",
   "execution_count": 41,
   "id": "7d686362-13eb-40c6-ad2d-d0a901b685e4",
   "metadata": {},
   "outputs": [],
   "source": [
    "dirs=[]\n",
    "for i in range(999):\n",
    "    dirs.append('run_{}'.format(i))\n",
    "#dirs"
   ]
  },
  {
   "cell_type": "code",
   "execution_count": 32,
   "id": "8962075c-3ba1-46e2-a426-710e29dd4853",
   "metadata": {},
   "outputs": [
    {
     "name": "stdout",
     "output_type": "stream",
     "text": [
      "[-0.061856  5.5593    0.16618  -0.383    25.        0.81056   4.8239\n",
      "  9.9226    1.0301    4.8456    7.0603    1.5439    0.26877  -0.12732\n",
      "  9.581   ] [-0.0846654823887331, 5.506102562191948, 0.18445281340257422, -0.37959415401681723, 25.0, 0.8058024866748879, 4.795739345212018, 10.070465988706875, 1.0129295052202743, 4.963277872290885, 7.159330122217122, 1.2746922906004954, 0.26591411371510476, -0.12568898077743426, 10.04014174081303] \n",
      "\n",
      " 15 15\n"
     ]
    }
   ],
   "source": [
    "import os\n",
    "import re; import pandas as pd\n",
    "params=[]\n",
    "generated_params = []\n",
    "error_list=[]\n",
    "filename = 'minuit.out.txt'\n",
    "infile = open(filename, 'r')\n",
    "lines = infile.readlines()\n",
    "#print(lines[104])\n",
    "# for line in lines[106:109, 111:120]:\n",
    "from itertools import *\n",
    "#make a chain iterator of our wanted lines from the output file, we want to exclude\n",
    "#those lines that have \"constant\" for the error, since these are not the PDF parameters and we can't use them\n",
    "chain = chain(islice(lines, 106, 111), islice(lines, 111, 121))\n",
    "#for line in lines[106:121]:\n",
    "for line in chain:\n",
    "    #print(line)\n",
    "    #words = line.strip().split('\\s+')#the delimeter is 6 spaces to separate the columns\n",
    "    words = line.strip().split()\n",
    "    \n",
    "    #words = re.split(r\"(?: '\\s*)\\s*\", line.strip())\n",
    "    #df = pd.read_table(words)\n",
    "    #use re noncapture group, defined as (?:...)since we dont want the separators in our \n",
    "    #result.\n",
    "    #print(words[2])\n",
    "    values= words[2]\n",
    "    errors=words[3]\n",
    "    #print(errors)\n",
    "    for value in values.split():\n",
    "#         #print(i)\n",
    "         params.append(float(value))\n",
    "    for error in errors.split():\n",
    "        if error =='constant':\n",
    "            error_list.append(0.0)\n",
    "        else:\n",
    "            error_list.append(float(error))\n",
    "    \n",
    "#         sampled_param = np.random.uniform(low = j-error, high=j+error)\n",
    "# means=np.array(means).astype(float)\n",
    "        \n",
    "#print(means)\n",
    "    #print(values)\n",
    "    #print(words[2].split())\n",
    "    #values= words[2].split()[0]\n",
    "    #print(values)4\n",
    "    #for ind, word in enumerate(split_line):\n",
    "    #print(split_line)\n",
    "        #print(word)\n",
    "#     with open('minuit.oin.txt', 'r') as second:\n",
    "#         split_line\n",
    "#         second.write()\n",
    "    \n",
    "    \n",
    "infile.close()\n",
    "params = np.asarray(params); error_list =np.asarray(error_list)\n",
    "\n",
    "#############GENERATE PARAMETERS\n",
    "generated_params=[]\n",
    "for i in range(len(params)):\n",
    "    param, error = params[i], error_list[i]\n",
    "    generated_param = np.random.uniform(low = param-error, high=param+error)\n",
    "    generated_params.append(generated_param)\n",
    "\n",
    "\n",
    "\n",
    "    \n",
    "    \n",
    "    \n",
    "print( params, generated_params, '\\n\\n', len(params), len(generated_params))"
   ]
  },
  {
   "cell_type": "code",
   "execution_count": 42,
   "id": "4e89866c-69f5-4bd1-8e5a-26df3460e427",
   "metadata": {},
   "outputs": [
    {
     "data": {
      "text/plain": [
       "array([[-0.05017852,  5.57279299,  0.15616591, ...,  0.26367197,\n",
       "        -0.12718829,  9.55921401],\n",
       "       [-0.03419613,  5.75028089,  0.12165164, ...,  0.26657549,\n",
       "        -0.12936777,  8.75441357],\n",
       "       [-0.06667226,  5.45172061,  0.1728878 , ...,  0.26661517,\n",
       "        -0.12773386,  9.5000718 ],\n",
       "       ...,\n",
       "       [-0.09651571,  5.35481047,  0.21191788, ...,  0.27467257,\n",
       "        -0.12683254,  9.38193261],\n",
       "       [-0.05927727,  5.5515632 ,  0.15036527, ...,  0.27516739,\n",
       "        -0.12504536, 10.16263003],\n",
       "       [-0.0768264 ,  5.69650931,  0.1859611 , ...,  0.26961861,\n",
       "        -0.12606389,  9.06683514]])"
      ]
     },
     "execution_count": 42,
     "metadata": {},
     "output_type": "execute_result"
    }
   ],
   "source": [
    "import numpy as np\n",
    "MVN = np.load('MVN_1000.npy')\n",
    "MVN"
   ]
  },
  {
   "cell_type": "code",
   "execution_count": 43,
   "id": "a50d7843-67d9-40a2-9b62-0fdaac571d4c",
   "metadata": {},
   "outputs": [
    {
     "name": "stdout",
     "output_type": "stream",
     "text": [
      "/home/ali/Desktop/Pulled_Github_Repositories/NNPDF_Uncertainty/make_MVN_directories\n"
     ]
    }
   ],
   "source": [
    "!pwd"
   ]
  },
  {
   "cell_type": "code",
   "execution_count": 44,
   "id": "27fe5fb2-90d3-49f3-bad8-fee84307db29",
   "metadata": {},
   "outputs": [
    {
     "data": {
      "text/plain": [
       "9.559214009450637"
      ]
     },
     "execution_count": 44,
     "metadata": {},
     "output_type": "execute_result"
    }
   ],
   "source": [
    "MVN[:,13][0]"
   ]
  },
  {
   "cell_type": "code",
   "execution_count": 41,
   "id": "fda4b759-b296-46b2-bf45-713f2ff834c6",
   "metadata": {},
   "outputs": [
    {
     "data": {
      "text/plain": [
       "(100, 14)"
      ]
     },
     "execution_count": 41,
     "metadata": {},
     "output_type": "execute_result"
    }
   ],
   "source": [
    "MVN.shape"
   ]
  },
  {
   "cell_type": "code",
   "execution_count": 3,
   "id": "cc7878ab-7ca7-4841-b8e4-93d962d21dd3",
   "metadata": {},
   "outputs": [
    {
     "name": "stdout",
     "output_type": "stream",
     "text": [
      "0.002430156101633295\n",
      "5.568225463930329\n",
      "0.09006543908923817\n",
      "-0.387111832884269\n",
      "0.8209301013491278\n",
      "4.810626001685895\n",
      "9.746392727495348\n",
      "1.0343614995193382\n",
      "5.000401006562128\n",
      "7.368971801196695\n",
      "1.0627266358036906\n",
      "0.2667627885651221\n",
      "-0.12925987147752582\n"
     ]
    }
   ],
   "source": [
    "for i in range(13):\n",
    "    print(MVN[:,i][0])"
   ]
  },
  {
   "cell_type": "code",
   "execution_count": 5,
   "id": "ccc32042-db61-4d95-b58b-6be7c379f0dc",
   "metadata": {},
   "outputs": [],
   "source": [
    "import os\n",
    "os.chdir('/home/ali/Desktop/Pulled_Github_Repositories/NNPDF_Uncertainty/make_MVN_directories')"
   ]
  },
  {
   "cell_type": "markdown",
   "id": "0a4c0614-1c53-4da5-b8ac-e9d91a4bc26d",
   "metadata": {},
   "source": [
    "## Make run directories and fill them with input files"
   ]
  },
  {
   "cell_type": "code",
   "execution_count": 45,
   "id": "8b571dd8-192a-41bf-9366-f6459315ac1c",
   "metadata": {},
   "outputs": [
    {
     "name": "stdout",
     "output_type": "stream",
     "text": [
      "/home/ali/Desktop/Pulled_Github_Repositories/NNPDF_Uncertainty/make_MVN_directories/run_0\n",
      "/home/ali/Desktop/Pulled_Github_Repositories/NNPDF_Uncertainty/make_MVN_directories/run_1\n",
      "/home/ali/Desktop/Pulled_Github_Repositories/NNPDF_Uncertainty/make_MVN_directories/run_2\n",
      "/home/ali/Desktop/Pulled_Github_Repositories/NNPDF_Uncertainty/make_MVN_directories/run_3\n"
     ]
    },
    {
     "ename": "KeyboardInterrupt",
     "evalue": "",
     "output_type": "error",
     "traceback": [
      "\u001b[0;31m---------------------------------------------------------------------------\u001b[0m",
      "\u001b[0;31mKeyboardInterrupt\u001b[0m                         Traceback (most recent call last)",
      "\u001b[0;32m<ipython-input-45-a900ecf9aa84>\u001b[0m in \u001b[0;36m<module>\u001b[0;34m\u001b[0m\n\u001b[1;32m     49\u001b[0m     \u001b[0mos\u001b[0m\u001b[0;34m.\u001b[0m\u001b[0mchdir\u001b[0m\u001b[0;34m(\u001b[0m\u001b[0mpath\u001b[0m\u001b[0;34m)\u001b[0m\u001b[0;34m\u001b[0m\u001b[0;34m\u001b[0m\u001b[0m\n\u001b[1;32m     50\u001b[0m     \u001b[0msp\u001b[0m\u001b[0;34m.\u001b[0m\u001b[0mrun\u001b[0m\u001b[0;34m(\u001b[0m\u001b[0;34m'ln -s /home/ali/Desktop/Research/xfitter/xfitter-2.0.1/datafiles'\u001b[0m\u001b[0;34m,\u001b[0m \u001b[0mshell\u001b[0m\u001b[0;34m=\u001b[0m\u001b[0;32mTrue\u001b[0m\u001b[0;34m)\u001b[0m\u001b[0;34m\u001b[0m\u001b[0;34m\u001b[0m\u001b[0m\n\u001b[0;32m---> 51\u001b[0;31m     \u001b[0msp\u001b[0m\u001b[0;34m.\u001b[0m\u001b[0mrun\u001b[0m\u001b[0;34m(\u001b[0m\u001b[0;34m'xfitter'\u001b[0m\u001b[0;34m,\u001b[0m \u001b[0mshell\u001b[0m\u001b[0;34m=\u001b[0m\u001b[0;32mTrue\u001b[0m\u001b[0;34m)\u001b[0m\u001b[0;34m\u001b[0m\u001b[0;34m\u001b[0m\u001b[0m\n\u001b[0m\u001b[1;32m     52\u001b[0m     \u001b[0mos\u001b[0m\u001b[0;34m.\u001b[0m\u001b[0mchdir\u001b[0m\u001b[0;34m(\u001b[0m\u001b[0;34m'/home/ali/Desktop/Pulled_Github_Repositories/NNPDF_Uncertainty/make_MVN_directories'\u001b[0m\u001b[0;34m)\u001b[0m\u001b[0;34m\u001b[0m\u001b[0;34m\u001b[0m\u001b[0m\n\u001b[1;32m     53\u001b[0m \u001b[0;34m\u001b[0m\u001b[0m\n",
      "\u001b[0;32m~/anaconda3/lib/python3.7/subprocess.py\u001b[0m in \u001b[0;36mrun\u001b[0;34m(input, capture_output, timeout, check, *popenargs, **kwargs)\u001b[0m\n\u001b[1;32m    488\u001b[0m     \u001b[0;32mwith\u001b[0m \u001b[0mPopen\u001b[0m\u001b[0;34m(\u001b[0m\u001b[0;34m*\u001b[0m\u001b[0mpopenargs\u001b[0m\u001b[0;34m,\u001b[0m \u001b[0;34m**\u001b[0m\u001b[0mkwargs\u001b[0m\u001b[0;34m)\u001b[0m \u001b[0;32mas\u001b[0m \u001b[0mprocess\u001b[0m\u001b[0;34m:\u001b[0m\u001b[0;34m\u001b[0m\u001b[0;34m\u001b[0m\u001b[0m\n\u001b[1;32m    489\u001b[0m         \u001b[0;32mtry\u001b[0m\u001b[0;34m:\u001b[0m\u001b[0;34m\u001b[0m\u001b[0;34m\u001b[0m\u001b[0m\n\u001b[0;32m--> 490\u001b[0;31m             \u001b[0mstdout\u001b[0m\u001b[0;34m,\u001b[0m \u001b[0mstderr\u001b[0m \u001b[0;34m=\u001b[0m \u001b[0mprocess\u001b[0m\u001b[0;34m.\u001b[0m\u001b[0mcommunicate\u001b[0m\u001b[0;34m(\u001b[0m\u001b[0minput\u001b[0m\u001b[0;34m,\u001b[0m \u001b[0mtimeout\u001b[0m\u001b[0;34m=\u001b[0m\u001b[0mtimeout\u001b[0m\u001b[0;34m)\u001b[0m\u001b[0;34m\u001b[0m\u001b[0;34m\u001b[0m\u001b[0m\n\u001b[0m\u001b[1;32m    491\u001b[0m         \u001b[0;32mexcept\u001b[0m \u001b[0mTimeoutExpired\u001b[0m \u001b[0;32mas\u001b[0m \u001b[0mexc\u001b[0m\u001b[0;34m:\u001b[0m\u001b[0;34m\u001b[0m\u001b[0;34m\u001b[0m\u001b[0m\n\u001b[1;32m    492\u001b[0m             \u001b[0mprocess\u001b[0m\u001b[0;34m.\u001b[0m\u001b[0mkill\u001b[0m\u001b[0;34m(\u001b[0m\u001b[0;34m)\u001b[0m\u001b[0;34m\u001b[0m\u001b[0;34m\u001b[0m\u001b[0m\n",
      "\u001b[0;32m~/anaconda3/lib/python3.7/subprocess.py\u001b[0m in \u001b[0;36mcommunicate\u001b[0;34m(self, input, timeout)\u001b[0m\n\u001b[1;32m    954\u001b[0m                 \u001b[0mstderr\u001b[0m \u001b[0;34m=\u001b[0m \u001b[0mself\u001b[0m\u001b[0;34m.\u001b[0m\u001b[0mstderr\u001b[0m\u001b[0;34m.\u001b[0m\u001b[0mread\u001b[0m\u001b[0;34m(\u001b[0m\u001b[0;34m)\u001b[0m\u001b[0;34m\u001b[0m\u001b[0;34m\u001b[0m\u001b[0m\n\u001b[1;32m    955\u001b[0m                 \u001b[0mself\u001b[0m\u001b[0;34m.\u001b[0m\u001b[0mstderr\u001b[0m\u001b[0;34m.\u001b[0m\u001b[0mclose\u001b[0m\u001b[0;34m(\u001b[0m\u001b[0;34m)\u001b[0m\u001b[0;34m\u001b[0m\u001b[0;34m\u001b[0m\u001b[0m\n\u001b[0;32m--> 956\u001b[0;31m             \u001b[0mself\u001b[0m\u001b[0;34m.\u001b[0m\u001b[0mwait\u001b[0m\u001b[0;34m(\u001b[0m\u001b[0;34m)\u001b[0m\u001b[0;34m\u001b[0m\u001b[0;34m\u001b[0m\u001b[0m\n\u001b[0m\u001b[1;32m    957\u001b[0m         \u001b[0;32melse\u001b[0m\u001b[0;34m:\u001b[0m\u001b[0;34m\u001b[0m\u001b[0;34m\u001b[0m\u001b[0m\n\u001b[1;32m    958\u001b[0m             \u001b[0;32mif\u001b[0m \u001b[0mtimeout\u001b[0m \u001b[0;32mis\u001b[0m \u001b[0;32mnot\u001b[0m \u001b[0;32mNone\u001b[0m\u001b[0;34m:\u001b[0m\u001b[0;34m\u001b[0m\u001b[0;34m\u001b[0m\u001b[0m\n",
      "\u001b[0;32m~/anaconda3/lib/python3.7/subprocess.py\u001b[0m in \u001b[0;36mwait\u001b[0;34m(self, timeout)\u001b[0m\n\u001b[1;32m   1017\u001b[0m             \u001b[0mendtime\u001b[0m \u001b[0;34m=\u001b[0m \u001b[0m_time\u001b[0m\u001b[0;34m(\u001b[0m\u001b[0;34m)\u001b[0m \u001b[0;34m+\u001b[0m \u001b[0mtimeout\u001b[0m\u001b[0;34m\u001b[0m\u001b[0;34m\u001b[0m\u001b[0m\n\u001b[1;32m   1018\u001b[0m         \u001b[0;32mtry\u001b[0m\u001b[0;34m:\u001b[0m\u001b[0;34m\u001b[0m\u001b[0;34m\u001b[0m\u001b[0m\n\u001b[0;32m-> 1019\u001b[0;31m             \u001b[0;32mreturn\u001b[0m \u001b[0mself\u001b[0m\u001b[0;34m.\u001b[0m\u001b[0m_wait\u001b[0m\u001b[0;34m(\u001b[0m\u001b[0mtimeout\u001b[0m\u001b[0;34m=\u001b[0m\u001b[0mtimeout\u001b[0m\u001b[0;34m)\u001b[0m\u001b[0;34m\u001b[0m\u001b[0;34m\u001b[0m\u001b[0m\n\u001b[0m\u001b[1;32m   1020\u001b[0m         \u001b[0;32mexcept\u001b[0m \u001b[0mKeyboardInterrupt\u001b[0m\u001b[0;34m:\u001b[0m\u001b[0;34m\u001b[0m\u001b[0;34m\u001b[0m\u001b[0m\n\u001b[1;32m   1021\u001b[0m             \u001b[0;31m# https://bugs.python.org/issue25942\u001b[0m\u001b[0;34m\u001b[0m\u001b[0;34m\u001b[0m\u001b[0;34m\u001b[0m\u001b[0m\n",
      "\u001b[0;32m~/anaconda3/lib/python3.7/subprocess.py\u001b[0m in \u001b[0;36m_wait\u001b[0;34m(self, timeout)\u001b[0m\n\u001b[1;32m   1651\u001b[0m                         \u001b[0;32mif\u001b[0m \u001b[0mself\u001b[0m\u001b[0;34m.\u001b[0m\u001b[0mreturncode\u001b[0m \u001b[0;32mis\u001b[0m \u001b[0;32mnot\u001b[0m \u001b[0;32mNone\u001b[0m\u001b[0;34m:\u001b[0m\u001b[0;34m\u001b[0m\u001b[0;34m\u001b[0m\u001b[0m\n\u001b[1;32m   1652\u001b[0m                             \u001b[0;32mbreak\u001b[0m  \u001b[0;31m# Another thread waited.\u001b[0m\u001b[0;34m\u001b[0m\u001b[0;34m\u001b[0m\u001b[0m\n\u001b[0;32m-> 1653\u001b[0;31m                         \u001b[0;34m(\u001b[0m\u001b[0mpid\u001b[0m\u001b[0;34m,\u001b[0m \u001b[0msts\u001b[0m\u001b[0;34m)\u001b[0m \u001b[0;34m=\u001b[0m \u001b[0mself\u001b[0m\u001b[0;34m.\u001b[0m\u001b[0m_try_wait\u001b[0m\u001b[0;34m(\u001b[0m\u001b[0;36m0\u001b[0m\u001b[0;34m)\u001b[0m\u001b[0;34m\u001b[0m\u001b[0;34m\u001b[0m\u001b[0m\n\u001b[0m\u001b[1;32m   1654\u001b[0m                         \u001b[0;31m# Check the pid and loop as waitpid has been known to\u001b[0m\u001b[0;34m\u001b[0m\u001b[0;34m\u001b[0m\u001b[0;34m\u001b[0m\u001b[0m\n\u001b[1;32m   1655\u001b[0m                         \u001b[0;31m# return 0 even without WNOHANG in odd situations.\u001b[0m\u001b[0;34m\u001b[0m\u001b[0;34m\u001b[0m\u001b[0;34m\u001b[0m\u001b[0m\n",
      "\u001b[0;32m~/anaconda3/lib/python3.7/subprocess.py\u001b[0m in \u001b[0;36m_try_wait\u001b[0;34m(self, wait_flags)\u001b[0m\n\u001b[1;32m   1609\u001b[0m             \u001b[0;34m\"\"\"All callers to this function MUST hold self._waitpid_lock.\"\"\"\u001b[0m\u001b[0;34m\u001b[0m\u001b[0;34m\u001b[0m\u001b[0m\n\u001b[1;32m   1610\u001b[0m             \u001b[0;32mtry\u001b[0m\u001b[0;34m:\u001b[0m\u001b[0;34m\u001b[0m\u001b[0;34m\u001b[0m\u001b[0m\n\u001b[0;32m-> 1611\u001b[0;31m                 \u001b[0;34m(\u001b[0m\u001b[0mpid\u001b[0m\u001b[0;34m,\u001b[0m \u001b[0msts\u001b[0m\u001b[0;34m)\u001b[0m \u001b[0;34m=\u001b[0m \u001b[0mos\u001b[0m\u001b[0;34m.\u001b[0m\u001b[0mwaitpid\u001b[0m\u001b[0;34m(\u001b[0m\u001b[0mself\u001b[0m\u001b[0;34m.\u001b[0m\u001b[0mpid\u001b[0m\u001b[0;34m,\u001b[0m \u001b[0mwait_flags\u001b[0m\u001b[0;34m)\u001b[0m\u001b[0;34m\u001b[0m\u001b[0;34m\u001b[0m\u001b[0m\n\u001b[0m\u001b[1;32m   1612\u001b[0m             \u001b[0;32mexcept\u001b[0m \u001b[0mChildProcessError\u001b[0m\u001b[0;34m:\u001b[0m\u001b[0;34m\u001b[0m\u001b[0;34m\u001b[0m\u001b[0m\n\u001b[1;32m   1613\u001b[0m                 \u001b[0;31m# This happens if SIGCLD is set to be ignored or waiting\u001b[0m\u001b[0;34m\u001b[0m\u001b[0;34m\u001b[0m\u001b[0;34m\u001b[0m\u001b[0m\n",
      "\u001b[0;31mKeyboardInterrupt\u001b[0m: "
     ]
    }
   ],
   "source": [
    "\n",
    "\n",
    "import os; import subprocess as sp;from shutil import copyfile\n",
    "dirs=[]\n",
    "for i in range(999):\n",
    "    dirs.append('run_{}'.format(i))\n",
    "#dirs\n",
    "\n",
    "os.chdir('/home/ali/Desktop/Pulled_Github_Repositories/NNPDF_Uncertainty/make_MVN_directories')\n",
    "steering = 'steering.txt'\n",
    "for run_ind, run in enumerate(dirs):\n",
    "    os.makedirs(run, exist_ok=True)\n",
    "    print(os.path.abspath(run))\n",
    "    path=os.path.abspath(run)\n",
    "    copyfile('ewparam.txt', os.path.join(path, 'ewparam.txt'))\n",
    "    copyfile('steering.txt', os.path.join(path, 'steering.txt'))\n",
    "    minuit_in_path = os.path.join(path, 'minuit.in.txt')\n",
    "    with open(minuit_in_path, 'w') as second:\n",
    "        #second = os.path.abspath(second)\n",
    "        second.write('set title\\n')\n",
    "        second.write('new  14p HERAPDF\\n')\n",
    "        second.write('parameters\\n')\n",
    "        #lets put 0 for the fourth column, meaning that this parameter is fixed\n",
    "        second.write('    '+ '2'+ '    ' + \"'Bg'\"+'    '+str(MVN[:,0][run_ind])+ '    '+'0.\\n')\n",
    "        second.write('    '+ '3'+ '    ' + \"'Cg'\"+'    '+str(MVN[:,1][run_ind])+ '    '+'0.\\n')\n",
    "        second.write('    '+ '7'+ '    ' + \"'Aprig'\"+'    '+str(MVN[:,2][run_ind])+ '    '+'0.\\n')\n",
    "        second.write('    '+ '8'+ '    ' + \"'Bprig'\"+'    '+str(MVN[:,3][run_ind])+ '    '+'0.\\n')\n",
    "        second.write('    '+ '9'+ '    ' + \"'Cprig'\"+'    '+str(25.000)+ '    '+'0.\\n')\n",
    "        #note that Cprig is a constant, not a parameter value!\n",
    "        second.write('    '+ '12'+ '    ' + \"'Buv'\"+'    '+str(MVN[:,4][run_ind])+ '    '+'0.\\n')\n",
    "        second.write('    '+ '13'+ '    ' + \"'Cuv'\"+'    '+str(MVN[:,5][run_ind])+ '    '+'0.\\n')\n",
    "        second.write('    '+ '15'+ '    ' + \"'Euv'\"+'    '+str(MVN[:,6][run_ind])+ '    '+'0.\\n')\n",
    "        second.write('    '+ '22'+ '    ' + \"'Bdv'\"+'    '+str(MVN[:,7][run_ind])+ '    '+'0.\\n')\n",
    "        second.write('    '+ '23'+ '    ' + \"'Cdv'\"+'    '+str(MVN[:,8][run_ind])+ '    '+'0.\\n')\n",
    "        second.write('    '+ '33'+ '    ' + \"'CUbar'\"+'    '+str(MVN[:,9][run_ind])+ '    '+'0.\\n')\n",
    "        second.write('    '+ '34'+ '    ' + \"'DUbar'\"+'    '+str(MVN[:,10][run_ind])+ '    '+'0.\\n')\n",
    "        second.write('    '+ '41'+ '    ' + \"'ADbar'\"+'    '+str(MVN[:,11][run_ind])+ '    '+'0.\\n')\n",
    "        second.write('    '+ '42'+ '    ' + \"'BDbar'\"+'    '+str(MVN[:,12][run_ind])+ '    '+'0.\\n')\n",
    "        second.write('    '+ '43'+ '    ' + \"'CDbar'\"+'    '+str(MVN[:,13][run_ind])+ '    '+'0.\\n')\n",
    "        second.write('\\n\\n\\n')\n",
    "        #for complete fit, do\n",
    "#         second.write('migrad 200000\\n')\n",
    "#         second.write('hesse\\n')\n",
    "#         second.write('set print 3\\n\\n')\n",
    "        #to run only 3 iterations, do \n",
    "        second.write('call fcn3\\n')\n",
    "        second.write('*migrad 200000\\n')\n",
    "        second.write('*hesse\\n')\n",
    "        second.write('set print 3\\n\\n')\n",
    "        second.write('return')\n",
    "    os.chdir(path)\n",
    "    sp.run('ln -s /home/ali/Desktop/Research/xfitter/xfitter-2.0.1/datafiles', shell=True)\n",
    "    sp.run('xfitter', shell=True)\n",
    "    os.chdir('/home/ali/Desktop/Pulled_Github_Repositories/NNPDF_Uncertainty/make_MVN_directories')\n",
    "\n",
    "    #sp.run('cp ./ewparam.txt run', shell=True)"
   ]
  },
  {
   "cell_type": "code",
   "execution_count": null,
   "id": "885f154c-d91f-4e96-82e7-27f9857c9408",
   "metadata": {},
   "outputs": [],
   "source": []
  },
  {
   "cell_type": "code",
   "execution_count": null,
   "id": "dad495c3-2b66-4048-b43c-746a9d2471ff",
   "metadata": {},
   "outputs": [],
   "source": [
    "\n",
    "\n",
    "# import os; import subprocess as sp;from shutil import copyfile\n",
    "# steering = 'steering.txt'\n",
    "# for run in dirs:\n",
    "#     os.makedirs(run, exist_ok=True)\n",
    "#     print(os.path.abspath(run))\n",
    "#     path=os.path.abspath(run)\n",
    "#     copyfile('ewparam.txt', os.path.join(path, 'ewparam.txt'))\n",
    "#     copyfile('steering.txt', os.path.join(path, 'steering.txt'))\n",
    "#     minuit_in_path = os.path.join(path, 'minuit.in.txt')\n",
    "#     with open(minuit_in_path, 'w') as second:\n",
    "#         #second = os.path.abspath(second)\n",
    "#         second.write('set title\\n')\n",
    "#         second.write('new  14p HERAPDF\\n')\n",
    "#         second.write('parameters\\n')\n",
    "#         #lets put 0 for the fourth column, meaning that this parameter is fixed\n",
    "#         second.write('    '+ '2'+ '    ' + \"'Bg'\"+'    '+str(generated_params[0])+ '    '+'0.\\n')\n",
    "#         second.write('    '+ '3'+ '    ' + \"'Cg'\"+'    '+str(generated_params[1])+ '    '+'0.\\n')\n",
    "#         second.write('    '+ '7'+ '    ' + \"'Aprig'\"+'    '+str(generated_params[2])+ '    '+'0.\\n')\n",
    "#         second.write('    '+ '8'+ '    ' + \"'Bprig'\"+'    '+str(generated_params[3])+ '    '+'0.\\n')\n",
    "#         second.write('    '+ '9'+ '    ' + \"'Cprig'\"+'    '+str(generated_params[4])+ '    '+'0.\\n')\n",
    "#         second.write('    '+ '12'+ '    ' + \"'Buv'\"+'    '+str(generated_params[5])+ '    '+'0.\\n')\n",
    "#         second.write('    '+ '13'+ '    ' + \"'Cuv'\"+'    '+str(generated_params[6])+ '    '+'0.\\n')\n",
    "#         second.write('    '+ '15'+ '    ' + \"'Euv'\"+'    '+str(generated_params[7])+ '    '+'0.\\n')\n",
    "#         second.write('    '+ '22'+ '    ' + \"'Bdv'\"+'    '+str(generated_params[8])+ '    '+'0.\\n')\n",
    "#         second.write('    '+ '23'+ '    ' + \"'Cdv'\"+'    '+str(generated_params[9])+ '    '+'0.\\n')\n",
    "#         second.write('    '+ '33'+ '    ' + \"'CUbar'\"+'    '+str(generated_params[10])+ '    '+'0.\\n')\n",
    "#         second.write('    '+ '34'+ '    ' + \"'DUbar'\"+'    '+str(generated_params[11])+ '    '+'0.\\n')\n",
    "#         second.write('    '+ '41'+ '    ' + \"'ADbar'\"+'    '+str(generated_params[12])+ '    '+'0.\\n')\n",
    "#         second.write('    '+ '42'+ '    ' + \"'BDbar'\"+'    '+str(generated_params[13])+ '    '+'0.\\n')\n",
    "#         second.write('    '+ '43'+ '    ' + \"'CDbar'\"+'    '+str(generated_params[14])+ '    '+'0.\\n')\n",
    "#         second.write('\\n\\n\\n')\n",
    "#         second.write('migrad 200000\\n')\n",
    "#         second.write('hesse\\n')\n",
    "#         second.write('set print 3\\n\\n')\n",
    "#         second.write('return')\n",
    "\n",
    "#     #sp.run('cp ./ewparam.txt run', shell=True)"
   ]
  },
  {
   "cell_type": "code",
   "execution_count": 31,
   "id": "2d1c28bf-1307-400e-8d08-43b9f275bc4f",
   "metadata": {},
   "outputs": [],
   "source": [
    "weights=[]\n",
    "os.chdir('/home/ali/Desktop/Pulled_Github_Repositories/NNPDF_Uncertainty/make_MVN_directories')\n",
    "for run_ind, run in enumerate(dirs):\n",
    "    run_path = os.path.abspath(run)\n",
    "    output_path = os.path.join(run_path, 'output')\n",
    "    os.chdir(output_path)\n",
    "    #print(os.getcwd())\n",
    "    with open('Results.txt', 'r') as f:\n",
    "        lines = f.readlines()\n",
    "        chi2_line = lines[12]\n",
    "        chi2 = chi2_line.split()[2]\n",
    "        weights.append(float(chi2))\n",
    "    os.chdir('/home/ali/Desktop/Pulled_Github_Repositories/NNPDF_Uncertainty/make_MVN_directories')\n"
   ]
  },
  {
   "cell_type": "code",
   "execution_count": 32,
   "id": "db76f8c9-be37-432e-a6f0-caac7a7bf0bf",
   "metadata": {},
   "outputs": [
    {
     "data": {
      "text/plain": [
       "[93.190873272638,\n",
       " 86.73418575404433,\n",
       " 95.2439088366658,\n",
       " 92.69107968526004,\n",
       " 96.79348950684911,\n",
       " 94.74257099725672,\n",
       " 94.16062259507615,\n",
       " 88.40440359036083,\n",
       " 93.04640465611956,\n",
       " 98.45781948595396]"
      ]
     },
     "execution_count": 32,
     "metadata": {},
     "output_type": "execute_result"
    }
   ],
   "source": [
    "weights"
   ]
  },
  {
   "cell_type": "code",
   "execution_count": 39,
   "id": "1ba78a0c-01b9-486f-956f-b7474276fc68",
   "metadata": {},
   "outputs": [
    {
     "name": "stdout",
     "output_type": "stream",
     "text": [
      "the first fit parameter values are:  [ 2.43015610e-03  5.56822546e+00  9.00654391e-02 -3.87111833e-01\n",
      "  8.20930101e-01  4.81062600e+00  9.74639273e+00  1.03436150e+00\n",
      "  5.00040101e+00  7.36897180e+00  1.06272664e+00  2.66762789e-01\n",
      " -1.29259871e-01] \n",
      "the associated weight for this fit is 93.190873272638\n",
      "hence the number of fits has to be the same as the number of weights\n"
     ]
    }
   ],
   "source": [
    "first_fit=MVN[:,0:13][0]; first_weight=weights[0]\n",
    "print('the first fit parameter values are: ', first_fit, '\\nthe associated weight for this fit is', first_weight)\n",
    "print('hence the number of fits has to be the same as the number of weights')"
   ]
  },
  {
   "cell_type": "markdown",
   "id": "9c9a95d6-4b98-4a87-b8fc-87a082358cf1",
   "metadata": {},
   "source": [
    "the number of weights is the same as the number of fits: for each fit there is a different weight:\n",
    "\n",
    "First fit: MVN[:,1:13][]"
   ]
  },
  {
   "cell_type": "code",
   "execution_count": 24,
   "id": "2175bf28-faa4-44e4-9283-d17a20033eaa",
   "metadata": {},
   "outputs": [
    {
     "name": "stdout",
     "output_type": "stream",
     "text": [
      "86.734185754044333\n"
     ]
    }
   ],
   "source": [
    "import re\n",
    "os.chdir('/home/ali/Desktop/Pulled_Github_Repositories/NNPDF_Uncertainty/make_MVN_directories/run_1/output')\n",
    "pattern  = re.compile(r'Correlated Chi2')\n",
    "#we can use re to find the ch^2, or we can see that the correlated chi2 is lways on the 13th line!\n",
    "with open('Results.txt', 'r') as f:\n",
    "    lines = f.readlines()\n",
    "    chi2_line = lines[12]\n",
    "    chi2 = chi2_line.split()[2]\n",
    "    #lines = f.read()\n",
    "\n",
    "    #matches = pattern.finditer(lines)\n",
    "        \n",
    "    print(chi2)"
   ]
  },
  {
   "cell_type": "code",
   "execution_count": 9,
   "id": "b85f830d-b055-4aa6-89d8-5c885f2ed5a1",
   "metadata": {},
   "outputs": [
    {
     "name": "stdout",
     "output_type": "stream",
     "text": [
      "/home/ali/Desktop/Pulled_Github_Repositories/NNPDF_Uncertainty/make_MVN_directories\n"
     ]
    }
   ],
   "source": [
    "!pwd"
   ]
  },
  {
   "cell_type": "code",
   "execution_count": null,
   "id": "068657a3-7151-4397-a925-3db20c012818",
   "metadata": {},
   "outputs": [],
   "source": [
    "chi2 = []\n",
    "# for run_ind, run in enumerate(dirs):\n",
    "    "
   ]
  },
  {
   "cell_type": "code",
   "execution_count": 3,
   "id": "54b43ee2-28bc-454e-a25e-d563427e1989",
   "metadata": {},
   "outputs": [
    {
     "data": {
      "text/plain": [
       "array([[ 2.43015610e-03,  5.56822546e+00,  9.00654391e-02, ...,\n",
       "         2.66762789e-01, -1.29259871e-01,  9.41650924e+00],\n",
       "       [-3.96051836e-02,  5.57877192e+00,  1.37545153e-01, ...,\n",
       "         2.69146806e-01, -1.28752170e-01,  9.44747927e+00],\n",
       "       [-8.93053616e-02,  5.55656587e+00,  2.14202311e-01, ...,\n",
       "         2.70642861e-01, -1.27310272e-01,  8.94872670e+00],\n",
       "       ...,\n",
       "       [-1.50939824e-02,  5.62641018e+00,  1.02490604e-01, ...,\n",
       "         2.66648891e-01, -1.27935839e-01,  1.08484684e+01],\n",
       "       [-6.35174434e-02,  5.52292829e+00,  1.67342741e-01, ...,\n",
       "         2.74442476e-01, -1.25928761e-01,  9.39112684e+00],\n",
       "       [-8.53485849e-02,  5.50832597e+00,  1.87047270e-01, ...,\n",
       "         2.72113907e-01, -1.25944135e-01,  8.53153735e+00]])"
      ]
     },
     "execution_count": 3,
     "metadata": {},
     "output_type": "execute_result"
    }
   ],
   "source": []
  },
  {
   "cell_type": "code",
   "execution_count": 7,
   "id": "c01e55ae-46fd-4884-8293-bd357886b97c",
   "metadata": {},
   "outputs": [
    {
     "data": {
      "text/plain": [
       "array([5.56822546, 5.57877192, 5.55656587, 5.64965481, 5.48059062,\n",
       "       5.64275738, 5.56557129, 5.46895071, 5.61394339, 5.4657113 ,\n",
       "       5.72088688, 5.57641395, 5.56217723, 5.64325095, 5.4506212 ,\n",
       "       5.57072277, 5.48765337, 5.2999343 , 5.41644669, 5.45007045,\n",
       "       5.52433301, 5.625124  , 5.28529794, 5.53746131, 5.58942532,\n",
       "       5.61354713, 5.66152563, 5.57045129, 5.43533739, 5.54771925,\n",
       "       5.72290497, 5.53627576, 5.55022118, 5.56557226, 5.6837191 ,\n",
       "       5.56455524, 5.37425429, 5.41968953, 5.61463865, 5.66449122,\n",
       "       5.42896395, 5.45677686, 5.45959513, 5.6067189 , 5.54636472,\n",
       "       5.58823497, 5.48854313, 5.56780162, 5.48206066, 5.4159433 ,\n",
       "       5.49442731, 5.36963307, 5.47375765, 5.45208464, 5.4744593 ,\n",
       "       5.54865134, 5.50027027, 5.53333648, 5.66551205, 5.47395595,\n",
       "       5.63966067, 5.65798635, 5.58830714, 5.48873627, 5.48372282,\n",
       "       5.55773126, 5.51402777, 5.68084724, 5.64940076, 5.52670864,\n",
       "       5.71806488, 5.47480521, 5.3690443 , 5.58317509, 5.52672742,\n",
       "       5.52080457, 5.62757297, 5.44403168, 5.45174027, 5.72390603,\n",
       "       5.68954139, 5.5318099 , 5.36105199, 5.60467561, 5.50927369,\n",
       "       5.53436399, 5.70955366, 5.58974385, 5.48213211, 5.58234409,\n",
       "       5.43059399, 5.48714876, 5.61820076, 5.42226894, 5.38576993,\n",
       "       5.58393191, 5.72451193, 5.62641018, 5.52292829, 5.50832597])"
      ]
     },
     "execution_count": 7,
     "metadata": {},
     "output_type": "execute_result"
    }
   ],
   "source": [
    "Cg = MVN[:,1]\n",
    "Cg"
   ]
  },
  {
   "cell_type": "code",
   "execution_count": 6,
   "id": "8e6da6f4-249c-411f-8fa4-d27e43fbfdbc",
   "metadata": {},
   "outputs": [
    {
     "data": {
      "text/plain": [
       "5.568225463930329"
      ]
     },
     "execution_count": 6,
     "metadata": {},
     "output_type": "execute_result"
    }
   ],
   "source": [
    "Cg = MVN[:,1][0]\n",
    "Cg"
   ]
  },
  {
   "cell_type": "code",
   "execution_count": 8,
   "id": "7d27ff0a-0680-446e-89fa-5a3fb2868a49",
   "metadata": {},
   "outputs": [
    {
     "name": "stdout",
     "output_type": "stream",
     "text": [
      "5.568225463930329\n",
      "5.578771923312726\n",
      "5.556565868962572\n",
      "5.64965480846681\n",
      "5.480590620228213\n",
      "5.642757377251726\n",
      "5.565571287593934\n",
      "5.468950708263371\n",
      "5.613943385752011\n",
      "5.465711304176831\n",
      "5.7208868823944075\n",
      "5.576413950148389\n",
      "5.562177227560204\n",
      "5.643250950288712\n",
      "5.45062119947961\n",
      "5.570722767934913\n",
      "5.487653370310577\n",
      "5.299934296491756\n",
      "5.41644669459526\n",
      "5.450070445902924\n",
      "5.524333010658778\n",
      "5.625123995471032\n",
      "5.285297936811091\n",
      "5.5374613084425075\n",
      "5.5894253161148635\n",
      "5.613547132122217\n",
      "5.661525633946969\n",
      "5.570451288100365\n",
      "5.435337392529686\n",
      "5.547719250093941\n",
      "5.722904972867617\n",
      "5.5362757619653\n",
      "5.55022118210261\n",
      "5.565572256525665\n",
      "5.683719097384859\n",
      "5.564555237401832\n",
      "5.374254292310081\n",
      "5.419689527890126\n",
      "5.614638650596581\n",
      "5.66449122365353\n",
      "5.42896395158287\n",
      "5.456776855578474\n",
      "5.459595125571036\n",
      "5.606718900091075\n",
      "5.54636472431205\n",
      "5.588234965208083\n",
      "5.488543134786431\n",
      "5.567801621564193\n",
      "5.482060661451395\n",
      "5.415943302504665\n",
      "5.494427311330088\n",
      "5.36963307302666\n",
      "5.473757649080778\n",
      "5.452084641779995\n",
      "5.474459296698992\n",
      "5.548651337178909\n",
      "5.500270267741528\n",
      "5.533336479759375\n",
      "5.6655120496719436\n",
      "5.473955951658069\n",
      "5.6396606689403335\n",
      "5.657986353069633\n",
      "5.588307138211023\n",
      "5.48873627016041\n",
      "5.483722824643601\n",
      "5.5577312621527915\n",
      "5.5140277690693\n",
      "5.680847238355216\n",
      "5.649400755555628\n",
      "5.52670863728128\n",
      "5.71806488158287\n",
      "5.474805211936256\n",
      "5.369044300759801\n",
      "5.583175087212497\n",
      "5.526727421267452\n",
      "5.520804571762803\n",
      "5.627572967114763\n",
      "5.444031681398335\n",
      "5.4517402742247265\n",
      "5.7239060281535705\n",
      "5.689541385394259\n",
      "5.5318098980349975\n",
      "5.361051989059453\n",
      "5.60467560878549\n",
      "5.509273688356295\n",
      "5.534363985294583\n",
      "5.70955366113458\n",
      "5.589743847447236\n",
      "5.482132106281162\n",
      "5.582344085373503\n",
      "5.430593985421105\n",
      "5.487148758067113\n",
      "5.618200764201794\n",
      "5.422268938709682\n",
      "5.385769934567903\n",
      "5.583931905610368\n",
      "5.724511934726096\n",
      "5.626410178017247\n",
      "5.522928294178512\n",
      "5.508325972667549\n"
     ]
    }
   ],
   "source": [
    "for c in Cg:\n",
    "    print(c)"
   ]
  },
  {
   "cell_type": "code",
   "execution_count": null,
   "id": "b409dc1d-1427-4136-b08a-d8a063ba728d",
   "metadata": {},
   "outputs": [],
   "source": []
  }
 ],
 "metadata": {
  "kernelspec": {
   "display_name": "Python 3",
   "language": "python",
   "name": "python3"
  },
  "language_info": {
   "codemirror_mode": {
    "name": "ipython",
    "version": 3
   },
   "file_extension": ".py",
   "mimetype": "text/x-python",
   "name": "python",
   "nbconvert_exporter": "python",
   "pygments_lexer": "ipython3",
   "version": "3.7.7"
  }
 },
 "nbformat": 4,
 "nbformat_minor": 5
}
