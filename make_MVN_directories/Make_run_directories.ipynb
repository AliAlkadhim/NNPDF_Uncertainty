{
 "cells": [
  {
   "cell_type": "code",
   "execution_count": 10,
   "id": "7d686362-13eb-40c6-ad2d-d0a901b685e4",
   "metadata": {},
   "outputs": [
    {
     "data": {
      "text/plain": [
       "['run_0',\n",
       " 'run_1',\n",
       " 'run_2',\n",
       " 'run_3',\n",
       " 'run_4',\n",
       " 'run_5',\n",
       " 'run_6',\n",
       " 'run_7',\n",
       " 'run_8',\n",
       " 'run_9']"
      ]
     },
     "execution_count": 10,
     "metadata": {},
     "output_type": "execute_result"
    }
   ],
   "source": [
    "dirs=[]\n",
    "for i in range(10):\n",
    "    dirs.append('run_{}'.format(i))\n",
    "dirs"
   ]
  },
  {
   "cell_type": "code",
   "execution_count": 32,
   "id": "8962075c-3ba1-46e2-a426-710e29dd4853",
   "metadata": {},
   "outputs": [
    {
     "name": "stdout",
     "output_type": "stream",
     "text": [
      "[-0.061856  5.5593    0.16618  -0.383    25.        0.81056   4.8239\n",
      "  9.9226    1.0301    4.8456    7.0603    1.5439    0.26877  -0.12732\n",
      "  9.581   ] [-0.0846654823887331, 5.506102562191948, 0.18445281340257422, -0.37959415401681723, 25.0, 0.8058024866748879, 4.795739345212018, 10.070465988706875, 1.0129295052202743, 4.963277872290885, 7.159330122217122, 1.2746922906004954, 0.26591411371510476, -0.12568898077743426, 10.04014174081303] \n",
      "\n",
      " 15 15\n"
     ]
    }
   ],
   "source": [
    "import os\n",
    "import re; import pandas as pd\n",
    "params=[]\n",
    "generated_params = []\n",
    "error_list=[]\n",
    "filename = 'minuit.out.txt'\n",
    "infile = open(filename, 'r')\n",
    "lines = infile.readlines()\n",
    "#print(lines[104])\n",
    "# for line in lines[106:109, 111:120]:\n",
    "from itertools import *\n",
    "#make a chain iterator of our wanted lines from the output file, we want to exclude\n",
    "#those lines that have \"constant\" for the error, since these are not the PDF parameters and we can't use them\n",
    "chain = chain(islice(lines, 106, 111), islice(lines, 111, 121))\n",
    "#for line in lines[106:121]:\n",
    "for line in chain:\n",
    "    #print(line)\n",
    "    #words = line.strip().split('\\s+')#the delimeter is 6 spaces to separate the columns\n",
    "    words = line.strip().split()\n",
    "    \n",
    "    #words = re.split(r\"(?: '\\s*)\\s*\", line.strip())\n",
    "    #df = pd.read_table(words)\n",
    "    #use re noncapture group, defined as (?:...)since we dont want the separators in our \n",
    "    #result.\n",
    "    #print(words[2])\n",
    "    values= words[2]\n",
    "    errors=words[3]\n",
    "    #print(errors)\n",
    "    for value in values.split():\n",
    "#         #print(i)\n",
    "         params.append(float(value))\n",
    "    for error in errors.split():\n",
    "        if error =='constant':\n",
    "            error_list.append(0.0)\n",
    "        else:\n",
    "            error_list.append(float(error))\n",
    "    \n",
    "#         sampled_param = np.random.uniform(low = j-error, high=j+error)\n",
    "# means=np.array(means).astype(float)\n",
    "        \n",
    "#print(means)\n",
    "    #print(values)\n",
    "    #print(words[2].split())\n",
    "    #values= words[2].split()[0]\n",
    "    #print(values)4\n",
    "    #for ind, word in enumerate(split_line):\n",
    "    #print(split_line)\n",
    "        #print(word)\n",
    "#     with open('minuit.oin.txt', 'r') as second:\n",
    "#         split_line\n",
    "#         second.write()\n",
    "    \n",
    "    \n",
    "infile.close()\n",
    "params = np.asarray(params); error_list =np.asarray(error_list)\n",
    "\n",
    "#############GENERATE PARAMETERS\n",
    "generated_params=[]\n",
    "for i in range(len(params)):\n",
    "    param, error = params[i], error_list[i]\n",
    "    generated_param = np.random.uniform(low = param-error, high=param+error)\n",
    "    generated_params.append(generated_param)\n",
    "\n",
    "\n",
    "\n",
    "    \n",
    "    \n",
    "    \n",
    "print( params, generated_params, '\\n\\n', len(params), len(generated_params))"
   ]
  },
  {
   "cell_type": "code",
   "execution_count": 31,
   "id": "a50d7843-67d9-40a2-9b62-0fdaac571d4c",
   "metadata": {},
   "outputs": [
    {
     "name": "stdout",
     "output_type": "stream",
     "text": [
      "/home/ali/Desktop/Pulled_Github_Repositories/NNPDF_Uncertainty/make_MVN_directories\n"
     ]
    }
   ],
   "source": [
    "!pwd"
   ]
  },
  {
   "cell_type": "code",
   "execution_count": 38,
   "id": "ab6da6aa-083c-4f6e-95b6-143460a34b5d",
   "metadata": {},
   "outputs": [
    {
     "name": "stdout",
     "output_type": "stream",
     "text": [
      "/home/ali/Desktop/Pulled_Github_Repositories/NNPDF_Uncertainty/make_MVN_directories/run_0\n",
      "/home/ali/Desktop/Pulled_Github_Repositories/NNPDF_Uncertainty/make_MVN_directories/run_1\n",
      "/home/ali/Desktop/Pulled_Github_Repositories/NNPDF_Uncertainty/make_MVN_directories/run_2\n",
      "/home/ali/Desktop/Pulled_Github_Repositories/NNPDF_Uncertainty/make_MVN_directories/run_3\n",
      "/home/ali/Desktop/Pulled_Github_Repositories/NNPDF_Uncertainty/make_MVN_directories/run_4\n",
      "/home/ali/Desktop/Pulled_Github_Repositories/NNPDF_Uncertainty/make_MVN_directories/run_5\n",
      "/home/ali/Desktop/Pulled_Github_Repositories/NNPDF_Uncertainty/make_MVN_directories/run_6\n",
      "/home/ali/Desktop/Pulled_Github_Repositories/NNPDF_Uncertainty/make_MVN_directories/run_7\n",
      "/home/ali/Desktop/Pulled_Github_Repositories/NNPDF_Uncertainty/make_MVN_directories/run_8\n",
      "/home/ali/Desktop/Pulled_Github_Repositories/NNPDF_Uncertainty/make_MVN_directories/run_9\n"
     ]
    }
   ],
   "source": [
    "import os; import subprocess as sp;from shutil import copyfile\n",
    "steering = 'steering.txt'\n",
    "for run in dirs:\n",
    "    os.makedirs(run, exist_ok=True)\n",
    "    print(os.path.abspath(run))\n",
    "    path=os.path.abspath(run)\n",
    "    copyfile('ewparam.txt', os.path.join(path, 'ewparam.txt'))\n",
    "    copyfile('steering.txt', os.path.join(path, 'steering.txt'))\n",
    "    minuit_in_path = os.path.join(path, 'minuit.in.txt')\n",
    "    with open(minuit_in_path, 'w') as second:\n",
    "        #second = os.path.abspath(second)\n",
    "        second.write('set title\\n')\n",
    "        second.write('new  14p HERAPDF\\n')\n",
    "        second.write('parameters\\n')\n",
    "        #lets put 0 for the fourth column, meaning that this parameter is fixed\n",
    "        second.write('    '+ '2'+ '    ' + \"'Bg'\"+'    '+str(generated_params[0])+ '    '+'0.\\n')\n",
    "        second.write('    '+ '3'+ '    ' + \"'Cg'\"+'    '+str(generated_params[1])+ '    '+'0.\\n')\n",
    "        second.write('    '+ '7'+ '    ' + \"'Aprig'\"+'    '+str(generated_params[2])+ '    '+'0.\\n')\n",
    "        second.write('    '+ '8'+ '    ' + \"'Bprig'\"+'    '+str(generated_params[3])+ '    '+'0.\\n')\n",
    "        second.write('    '+ '9'+ '    ' + \"'Cprig'\"+'    '+str(generated_params[4])+ '    '+'0.\\n')\n",
    "        second.write('    '+ '12'+ '    ' + \"'Buv'\"+'    '+str(generated_params[5])+ '    '+'0.\\n')\n",
    "        second.write('    '+ '13'+ '    ' + \"'Cuv'\"+'    '+str(generated_params[6])+ '    '+'0.\\n')\n",
    "        second.write('    '+ '15'+ '    ' + \"'Euv'\"+'    '+str(generated_params[7])+ '    '+'0.\\n')\n",
    "        second.write('    '+ '22'+ '    ' + \"'Bdv'\"+'    '+str(generated_params[8])+ '    '+'0.\\n')\n",
    "        second.write('    '+ '23'+ '    ' + \"'Cdv'\"+'    '+str(generated_params[9])+ '    '+'0.\\n')\n",
    "        second.write('    '+ '33'+ '    ' + \"'CUbar'\"+'    '+str(generated_params[10])+ '    '+'0.\\n')\n",
    "        second.write('    '+ '34'+ '    ' + \"'DUbar'\"+'    '+str(generated_params[11])+ '    '+'0.\\n')\n",
    "        second.write('    '+ '41'+ '    ' + \"'ADbar'\"+'    '+str(generated_params[12])+ '    '+'0.\\n')\n",
    "        second.write('    '+ '42'+ '    ' + \"'BDbar'\"+'    '+str(generated_params[13])+ '    '+'0.\\n')\n",
    "        second.write('    '+ '43'+ '    ' + \"'CDbar'\"+'    '+str(generated_params[14])+ '    '+'0.\\n')\n",
    "        second.write('\\n\\n\\n')\n",
    "        second.write('migrad 200000\\n')\n",
    "        second.write('hesse\\n')\n",
    "        second.write('hesse\\n')\n",
    "        second.write('set print 3\\n\\n')\n",
    "        second.write('return')\n",
    "\n",
    "    #sp.run('cp ./ewparam.txt run', shell=True)"
   ]
  },
  {
   "cell_type": "code",
   "execution_count": null,
   "id": "2175bf28-faa4-44e4-9283-d17a20033eaa",
   "metadata": {},
   "outputs": [],
   "source": []
  },
  {
   "cell_type": "code",
   "execution_count": 9,
   "id": "b85f830d-b055-4aa6-89d8-5c885f2ed5a1",
   "metadata": {},
   "outputs": [
    {
     "name": "stdout",
     "output_type": "stream",
     "text": [
      "/home/ali/Desktop/Pulled_Github_Repositories/NNPDF_Uncertainty/make_MVN_directories\n"
     ]
    }
   ],
   "source": [
    "!pwd"
   ]
  },
  {
   "cell_type": "code",
   "execution_count": null,
   "id": "068657a3-7151-4397-a925-3db20c012818",
   "metadata": {},
   "outputs": [],
   "source": [
    "import os; import subprocess as sp\n",
    "for run_dir in dirs:\n",
    "    sp.run('cp ')"
   ]
  },
  {
   "cell_type": "code",
   "execution_count": 3,
   "id": "54b43ee2-28bc-454e-a25e-d563427e1989",
   "metadata": {},
   "outputs": [
    {
     "data": {
      "text/plain": [
       "array([[ 2.43015610e-03,  5.56822546e+00,  9.00654391e-02, ...,\n",
       "         2.66762789e-01, -1.29259871e-01,  9.41650924e+00],\n",
       "       [-3.96051836e-02,  5.57877192e+00,  1.37545153e-01, ...,\n",
       "         2.69146806e-01, -1.28752170e-01,  9.44747927e+00],\n",
       "       [-8.93053616e-02,  5.55656587e+00,  2.14202311e-01, ...,\n",
       "         2.70642861e-01, -1.27310272e-01,  8.94872670e+00],\n",
       "       ...,\n",
       "       [-1.50939824e-02,  5.62641018e+00,  1.02490604e-01, ...,\n",
       "         2.66648891e-01, -1.27935839e-01,  1.08484684e+01],\n",
       "       [-6.35174434e-02,  5.52292829e+00,  1.67342741e-01, ...,\n",
       "         2.74442476e-01, -1.25928761e-01,  9.39112684e+00],\n",
       "       [-8.53485849e-02,  5.50832597e+00,  1.87047270e-01, ...,\n",
       "         2.72113907e-01, -1.25944135e-01,  8.53153735e+00]])"
      ]
     },
     "execution_count": 3,
     "metadata": {},
     "output_type": "execute_result"
    }
   ],
   "source": [
    "import numpy as np\n",
    "MVN = np.load('MVN.npy')\n",
    "MVN"
   ]
  },
  {
   "cell_type": "code",
   "execution_count": 7,
   "id": "c01e55ae-46fd-4884-8293-bd357886b97c",
   "metadata": {},
   "outputs": [
    {
     "data": {
      "text/plain": [
       "array([5.56822546, 5.57877192, 5.55656587, 5.64965481, 5.48059062,\n",
       "       5.64275738, 5.56557129, 5.46895071, 5.61394339, 5.4657113 ,\n",
       "       5.72088688, 5.57641395, 5.56217723, 5.64325095, 5.4506212 ,\n",
       "       5.57072277, 5.48765337, 5.2999343 , 5.41644669, 5.45007045,\n",
       "       5.52433301, 5.625124  , 5.28529794, 5.53746131, 5.58942532,\n",
       "       5.61354713, 5.66152563, 5.57045129, 5.43533739, 5.54771925,\n",
       "       5.72290497, 5.53627576, 5.55022118, 5.56557226, 5.6837191 ,\n",
       "       5.56455524, 5.37425429, 5.41968953, 5.61463865, 5.66449122,\n",
       "       5.42896395, 5.45677686, 5.45959513, 5.6067189 , 5.54636472,\n",
       "       5.58823497, 5.48854313, 5.56780162, 5.48206066, 5.4159433 ,\n",
       "       5.49442731, 5.36963307, 5.47375765, 5.45208464, 5.4744593 ,\n",
       "       5.54865134, 5.50027027, 5.53333648, 5.66551205, 5.47395595,\n",
       "       5.63966067, 5.65798635, 5.58830714, 5.48873627, 5.48372282,\n",
       "       5.55773126, 5.51402777, 5.68084724, 5.64940076, 5.52670864,\n",
       "       5.71806488, 5.47480521, 5.3690443 , 5.58317509, 5.52672742,\n",
       "       5.52080457, 5.62757297, 5.44403168, 5.45174027, 5.72390603,\n",
       "       5.68954139, 5.5318099 , 5.36105199, 5.60467561, 5.50927369,\n",
       "       5.53436399, 5.70955366, 5.58974385, 5.48213211, 5.58234409,\n",
       "       5.43059399, 5.48714876, 5.61820076, 5.42226894, 5.38576993,\n",
       "       5.58393191, 5.72451193, 5.62641018, 5.52292829, 5.50832597])"
      ]
     },
     "execution_count": 7,
     "metadata": {},
     "output_type": "execute_result"
    }
   ],
   "source": [
    "Cg = MVN[:,1]\n",
    "Cg"
   ]
  },
  {
   "cell_type": "code",
   "execution_count": 6,
   "id": "8e6da6f4-249c-411f-8fa4-d27e43fbfdbc",
   "metadata": {},
   "outputs": [
    {
     "data": {
      "text/plain": [
       "5.568225463930329"
      ]
     },
     "execution_count": 6,
     "metadata": {},
     "output_type": "execute_result"
    }
   ],
   "source": [
    "Cg = MVN[:,1][0]\n",
    "Cg"
   ]
  },
  {
   "cell_type": "code",
   "execution_count": 8,
   "id": "7d27ff0a-0680-446e-89fa-5a3fb2868a49",
   "metadata": {},
   "outputs": [
    {
     "name": "stdout",
     "output_type": "stream",
     "text": [
      "5.568225463930329\n",
      "5.578771923312726\n",
      "5.556565868962572\n",
      "5.64965480846681\n",
      "5.480590620228213\n",
      "5.642757377251726\n",
      "5.565571287593934\n",
      "5.468950708263371\n",
      "5.613943385752011\n",
      "5.465711304176831\n",
      "5.7208868823944075\n",
      "5.576413950148389\n",
      "5.562177227560204\n",
      "5.643250950288712\n",
      "5.45062119947961\n",
      "5.570722767934913\n",
      "5.487653370310577\n",
      "5.299934296491756\n",
      "5.41644669459526\n",
      "5.450070445902924\n",
      "5.524333010658778\n",
      "5.625123995471032\n",
      "5.285297936811091\n",
      "5.5374613084425075\n",
      "5.5894253161148635\n",
      "5.613547132122217\n",
      "5.661525633946969\n",
      "5.570451288100365\n",
      "5.435337392529686\n",
      "5.547719250093941\n",
      "5.722904972867617\n",
      "5.5362757619653\n",
      "5.55022118210261\n",
      "5.565572256525665\n",
      "5.683719097384859\n",
      "5.564555237401832\n",
      "5.374254292310081\n",
      "5.419689527890126\n",
      "5.614638650596581\n",
      "5.66449122365353\n",
      "5.42896395158287\n",
      "5.456776855578474\n",
      "5.459595125571036\n",
      "5.606718900091075\n",
      "5.54636472431205\n",
      "5.588234965208083\n",
      "5.488543134786431\n",
      "5.567801621564193\n",
      "5.482060661451395\n",
      "5.415943302504665\n",
      "5.494427311330088\n",
      "5.36963307302666\n",
      "5.473757649080778\n",
      "5.452084641779995\n",
      "5.474459296698992\n",
      "5.548651337178909\n",
      "5.500270267741528\n",
      "5.533336479759375\n",
      "5.6655120496719436\n",
      "5.473955951658069\n",
      "5.6396606689403335\n",
      "5.657986353069633\n",
      "5.588307138211023\n",
      "5.48873627016041\n",
      "5.483722824643601\n",
      "5.5577312621527915\n",
      "5.5140277690693\n",
      "5.680847238355216\n",
      "5.649400755555628\n",
      "5.52670863728128\n",
      "5.71806488158287\n",
      "5.474805211936256\n",
      "5.369044300759801\n",
      "5.583175087212497\n",
      "5.526727421267452\n",
      "5.520804571762803\n",
      "5.627572967114763\n",
      "5.444031681398335\n",
      "5.4517402742247265\n",
      "5.7239060281535705\n",
      "5.689541385394259\n",
      "5.5318098980349975\n",
      "5.361051989059453\n",
      "5.60467560878549\n",
      "5.509273688356295\n",
      "5.534363985294583\n",
      "5.70955366113458\n",
      "5.589743847447236\n",
      "5.482132106281162\n",
      "5.582344085373503\n",
      "5.430593985421105\n",
      "5.487148758067113\n",
      "5.618200764201794\n",
      "5.422268938709682\n",
      "5.385769934567903\n",
      "5.583931905610368\n",
      "5.724511934726096\n",
      "5.626410178017247\n",
      "5.522928294178512\n",
      "5.508325972667549\n"
     ]
    }
   ],
   "source": [
    "for c in Cg:\n",
    "    print(c)"
   ]
  },
  {
   "cell_type": "code",
   "execution_count": null,
   "id": "b409dc1d-1427-4136-b08a-d8a063ba728d",
   "metadata": {},
   "outputs": [],
   "source": []
  }
 ],
 "metadata": {
  "kernelspec": {
   "display_name": "Python 3",
   "language": "python",
   "name": "python3"
  },
  "language_info": {
   "codemirror_mode": {
    "name": "ipython",
    "version": 3
   },
   "file_extension": ".py",
   "mimetype": "text/x-python",
   "name": "python",
   "nbconvert_exporter": "python",
   "pygments_lexer": "ipython3",
   "version": "3.7.7"
  }
 },
 "nbformat": 4,
 "nbformat_minor": 5
}
